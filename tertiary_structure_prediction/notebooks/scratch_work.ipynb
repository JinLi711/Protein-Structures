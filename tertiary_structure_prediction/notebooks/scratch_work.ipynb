{
 "cells": [
  {
   "cell_type": "code",
   "execution_count": 262,
   "metadata": {
    "collapsed": true
   },
   "outputs": [],
   "source": [
    "import pandas as pd\n",
    "import Bio.PDB\n",
    "# from Bio.PDB.DSSP import DSSP\n",
    "import numpy as np\n",
    "\n",
    "import sys\n",
    "import importlib\n",
    "sys.path.insert(0, '../preprocess')\n",
    "import get_contact_maps as gcm\n",
    "importlib.reload(gcm)\n",
    "from Bio.PDB.PDBParser import PDBParser"
   ]
  },
  {
   "cell_type": "code",
   "execution_count": 2,
   "metadata": {
    "collapsed": true
   },
   "outputs": [],
   "source": [
    "parser = PDBParser(PERMISSIVE=1)\n",
    "\n",
    "# pdb_ids\n",
    "path = \"../data/cull%i/\" % 1\n",
    "pdb_file = \"12as.pdb\"\n",
    "# structure_id = pdb_file.split('.')[0]\n",
    "# filename = path + \"pdb_files/\" + pdb_file\n",
    "# structure = parser.get_structure(structure_id, filename)"
   ]
  },
  {
   "cell_type": "code",
   "execution_count": 3,
   "metadata": {
    "collapsed": true
   },
   "outputs": [],
   "source": [
    "# keywords = structure.header[\"resolution\"]\n",
    "# keywords\n",
    "mypath = path + 'pdb_files/'\n",
    "# from os import listdir\n",
    "# from os.path import isfile, join\n",
    "# pdb_files = [f for f in listdir(mypath) if isfile(join(mypath, f))]"
   ]
  },
  {
   "cell_type": "code",
   "execution_count": 276,
   "metadata": {},
   "outputs": [],
   "source": [
    "# c_maps = gcm.get_contact_maps(path)"
   ]
  },
  {
   "cell_type": "code",
   "execution_count": 275,
   "metadata": {},
   "outputs": [],
   "source": [
    "# # c_maps\n",
    "# from Bio import SeqIO\n",
    "\n",
    "# for seq_record in SeqIO.parse(path + \"amino_acids.fasta\", \"fasta\"):\n",
    "#     x = seq_record\n",
    "#     print((x))\n",
    "#     break\n",
    "# x = SeqIO.parse(path + \"amino_acids.fasta\", \"fasta\")\n",
    "\n",
    "# np.save(path + 'contact_map_matrices.npy', c_maps)\n",
    "# c_maps['1a1x.pdb'].shape"
   ]
  },
  {
   "cell_type": "code",
   "execution_count": 274,
   "metadata": {},
   "outputs": [],
   "source": [
    "# fasta_sequences = SeqIO.to_dict(SeqIO.parse(path + \"wanted_aa.fasta\", \"fasta\"))\n",
    "# print(fasta_sequences.keys())\n",
    "# c_maps2 = np.load(path + 'contact_map_matrices.npy')[()]\n",
    "# c_maps2#[()][\"1a1x.pdb\"]"
   ]
  },
  {
   "cell_type": "code",
   "execution_count": 244,
   "metadata": {
    "collapsed": true
   },
   "outputs": [],
   "source": [
    "from Bio.PDB.Polypeptide import PPBuilder \n",
    "ppb=PPBuilder() \n",
    "file_name = \"1i24.pdb\"\n",
    "file_id = file_name.split('.')[0]\n",
    "\"\"\"\n",
    "1efd.pdb missing\n",
    "REMARK 465     ALA N    31                                                      \n",
    "REMARK 465     GLY N   294                                                      \n",
    "REMARK 465     LYS N   295                                                      \n",
    "REMARK 465     ALA N   296\n",
    "\n",
    "\"\"\"\n",
    "# get_contact_map(\"1ae9.pdb\", path, 12.0)\n",
    "\n",
    "structure_id = file_name.split('.')[0]\n",
    "filename = path + \"pdb_files/\" + file_name\n",
    "structure = parser.get_structure(structure_id, filename)\n",
    "model = structure[0]\n",
    "chain = list(model)[0]\n",
    "residues = list (chain)"
   ]
  },
  {
   "cell_type": "code",
   "execution_count": 225,
   "metadata": {},
   "outputs": [
    {
     "name": "stderr",
     "output_type": "stream",
     "text": [
      "/Users/jinli/anaconda3/lib/python3.6/site-packages/Bio/PDB/Atom.py:189: PDBConstructionWarning: Used element 'C' for Atom (name=CA) with given element None\n",
      "  warnings.warn(msg, PDBConstructionWarning)\n"
     ]
    }
   ],
   "source": [
    "from Bio.PDB.Atom import Atom\n",
    "from Bio.PDB.Residue import Residue\n",
    "new_residue = Residue((' ', -1, ' '), \"GLY\", '    ')\n",
    "new_atom = Atom(\n",
    "    name=\"CA\",\n",
    "    coord=np.array([15, 15, 15]),\n",
    "    bfactor=0,\n",
    "    occupancy=0,\n",
    "    altloc=' ',\n",
    "    fullname=\" CA \",\n",
    "    serial_number=0\n",
    ")\n",
    "# new_atom.name\n",
    "new_residue.add(new_atom)\n",
    "chain.add(new_residue)"
   ]
  },
  {
   "cell_type": "code",
   "execution_count": 266,
   "metadata": {},
   "outputs": [],
   "source": [
    "residues = list(chain)\n",
    "residues.sort()\n",
    "# residues"
   ]
  },
  {
   "cell_type": "code",
   "execution_count": 102,
   "metadata": {},
   "outputs": [],
   "source": [
    "from Bio import Align\n",
    "aligner = Align.PairwiseAligner()\n",
    "aligner.mode = \"global\"\n",
    "pdb_seq = ppb.build_peptides(structure)[0].get_sequence()\n",
    "fasta_seq = fasta_sequences[file_id].seq"
   ]
  },
  {
   "cell_type": "code",
   "execution_count": 81,
   "metadata": {},
   "outputs": [
    {
     "data": {
      "text/plain": [
       "Seq('GSRVMVIGGDGYCGWATALHLSKKNYEVCIVDNLVRRLFDHQLGLESLTPIASI...SMT', ProteinAlphabet())"
      ]
     },
     "execution_count": 81,
     "metadata": {},
     "output_type": "execute_result"
    }
   ],
   "source": [
    "pdb_seq#.alphabet#()"
   ]
  },
  {
   "cell_type": "code",
   "execution_count": 267,
   "metadata": {},
   "outputs": [],
   "source": [
    "# alignments = aligner.align(fasta_seq, pdb_seq)\n",
    "\n",
    "# for alignment in sorted(alignments):\n",
    "#      print(\"Score = %.1f:\" % alignment.score)\n",
    "#      print(alignment)\n",
    "    "
   ]
  },
  {
   "cell_type": "code",
   "execution_count": 121,
   "metadata": {},
   "outputs": [],
   "source": [
    "# # fasta_seq#.seq\n",
    "# # list(model)[0]\n",
    "# # list(structure)#.header\n",
    "# # sorted (alignments)#.paths\n",
    "\n",
    "# from Bio import pairwise2\n",
    "# from Bio.pairwise2 import format_alignment\n",
    "\n",
    "# alignments = pairwise2.align.localxx(fasta_seq, pdb_seq)\n",
    "# for alignment in alignments:\n",
    "#     print(format_alignment(*alignment))"
   ]
  },
  {
   "cell_type": "code",
   "execution_count": 19,
   "metadata": {},
   "outputs": [
    {
     "data": {
      "text/plain": [
       "393"
      ]
     },
     "execution_count": 19,
     "metadata": {},
     "output_type": "execute_result"
    }
   ],
   "source": [
    "# model = structure[0]\n",
    "residues_a = list(model)[0]\n",
    "only_aa = gcm.get_only_residues( list(model)[0])\n",
    "# residues_b = list(model[\"B\"])\n",
    "# len (residues)\n",
    "# residues\n",
    "# gcm.get_only_residues(model[\"A\"])\n",
    "\n",
    "len (gcm.get_only_residues(list(model)[0])) #+  len (gcm.get_only_residues(model[\"B\"]))"
   ]
  },
  {
   "cell_type": "code",
   "execution_count": 40,
   "metadata": {},
   "outputs": [
    {
     "name": "stdout",
     "output_type": "stream",
     "text": [
      "NO CA\n"
     ]
    }
   ],
   "source": [
    "# len (list(model['A']))\n",
    "# list(model['A'])[378].hetfield\n",
    "\n",
    "# list(model)\n",
    "# list(model[\"A\"])\n",
    "for i, res in enumerate (only_aa):\n",
    "    try: \n",
    "#         print (res[\"CA\"])\n",
    "        res[\"CA\"]\n",
    "#         res[\"N\"]\n",
    "    except KeyError:\n",
    "        print(\"NO CA\")\n",
    "        res[\"N\"]\n",
    "    except KeyError:\n",
    "#         print(res['N'])\n",
    "        print (i)"
   ]
  }
 ],
 "metadata": {
  "kernelspec": {
   "display_name": "Python 3",
   "language": "python",
   "name": "python3"
  },
  "language_info": {
   "codemirror_mode": {
    "name": "ipython",
    "version": 3
   },
   "file_extension": ".py",
   "mimetype": "text/x-python",
   "name": "python",
   "nbconvert_exporter": "python",
   "pygments_lexer": "ipython3",
   "version": "3.6.3"
  },
  "toc": {
   "base_numbering": 1,
   "nav_menu": {},
   "number_sections": true,
   "sideBar": true,
   "skip_h1_title": false,
   "title_cell": "Table of Contents",
   "title_sidebar": "Contents",
   "toc_cell": false,
   "toc_position": {},
   "toc_section_display": true,
   "toc_window_display": false
  }
 },
 "nbformat": 4,
 "nbformat_minor": 2
}
