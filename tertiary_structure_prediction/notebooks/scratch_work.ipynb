{
 "cells": [
  {
   "cell_type": "code",
   "execution_count": 71,
   "metadata": {
    "collapsed": true
   },
   "outputs": [],
   "source": [
    "import pandas as pd\n",
    "import Bio.PDB\n",
    "# from Bio.PDB.DSSP import DSSP\n",
    "import numpy as np\n",
    "\n",
    "import sys\n",
    "import importlib\n",
    "sys.path.insert(0, '../preprocess')\n",
    "import get_contact_maps as gcm\n",
    "importlib.reload(gcm)\n",
    "from Bio.PDB.PDBParser import PDBParser"
   ]
  },
  {
   "cell_type": "code",
   "execution_count": 2,
   "metadata": {
    "collapsed": true
   },
   "outputs": [],
   "source": [
    "parser = PDBParser(PERMISSIVE=1)\n",
    "\n",
    "# pdb_ids\n",
    "path = \"../data/cull%i/\" % 1\n",
    "pdb_file = \"12as.pdb\"\n",
    "# structure_id = pdb_file.split('.')[0]\n",
    "# filename = path + \"pdb_files/\" + pdb_file\n",
    "# structure = parser.get_structure(structure_id, filename)"
   ]
  },
  {
   "cell_type": "code",
   "execution_count": 18,
   "metadata": {
    "collapsed": true
   },
   "outputs": [],
   "source": [
    "# keywords = structure.header[\"resolution\"]\n",
    "# keywords\n",
    "mypath = path + 'pdb_files/'\n",
    "# from os import listdir\n",
    "# from os.path import isfile, join\n",
    "# pdb_files = [f for f in listdir(mypath) if isfile(join(mypath, f))]"
   ]
  },
  {
   "cell_type": "code",
   "execution_count": 19,
   "metadata": {},
   "outputs": [
    {
     "data": {
      "text/plain": [
       "['12as.pdb',\n",
       " '16vp.pdb',\n",
       " '1a0i.pdb',\n",
       " '1a12.pdb',\n",
       " '1a1x.pdb',\n",
       " '1a41.pdb',\n",
       " '1a5t.pdb',\n",
       " '1a62.pdb',\n",
       " '1a73.pdb',\n",
       " '1a7j.pdb',\n",
       " '1a8l.pdb',\n",
       " '1a92.pdb',\n",
       " '1a9n.pdb',\n",
       " '1a9x.pdb',\n",
       " '1ae9.pdb',\n",
       " '1aep.pdb',\n",
       " '1ah7.pdb',\n",
       " '1aho.pdb',\n",
       " '1ahs.pdb',\n",
       " '1ais.pdb',\n",
       " '1alu.pdb',\n",
       " '1aly.pdb',\n",
       " '1am7.pdb',\n",
       " '1aoc.pdb',\n",
       " '1aol.pdb',\n",
       " '1aqz.pdb',\n",
       " '1aro.pdb',\n",
       " '1atg.pdb',\n",
       " '1atz.pdb',\n",
       " '1avg.pdb',\n",
       " '1avo.pdb',\n",
       " '1ax8.pdb',\n",
       " '1ayo.pdb',\n",
       " '1azo.pdb',\n",
       " '1b0b.pdb',\n",
       " '1b25.pdb',\n",
       " '1b33.pdb',\n",
       " '1b35.pdb',\n",
       " '1b3u.pdb',\n",
       " '1b5e.pdb',\n",
       " '1b5q.pdb',\n",
       " '1b63.pdb',\n",
       " '1b77.pdb',\n",
       " '1b8k.pdb',\n",
       " '1b9l.pdb',\n",
       " '1b9w.pdb',\n",
       " '1bco.pdb',\n",
       " '1bcp.pdb',\n",
       " '1bcs.pdb',\n",
       " '1bdf.pdb',\n",
       " '1bea.pdb',\n",
       " '1bf2.pdb',\n",
       " '1bg6.pdb',\n",
       " '1bgf.pdb',\n",
       " '1bh9.pdb',\n",
       " '1bhe.pdb',\n",
       " '1bja.pdb',\n",
       " '1bkr.pdb',\n",
       " '1bl0.pdb',\n",
       " '1bm8.pdb',\n",
       " '1bm9.pdb',\n",
       " '1boo.pdb',\n",
       " '1bqu.pdb',\n",
       " '1brt.pdb',\n",
       " '1bte.pdb',\n",
       " '1btk.pdb',\n",
       " '1bu8.pdb',\n",
       " '1bvy.pdb',\n",
       " '1bx7.pdb',\n",
       " '1bxy.pdb',\n",
       " '1byi.pdb',\n",
       " '1byr.pdb',\n",
       " '1c0p.pdb',\n",
       " '1c1d.pdb',\n",
       " '1c1k.pdb',\n",
       " '1c1y.pdb',\n",
       " '1c3c.pdb',\n",
       " '1c3p.pdb',\n",
       " '1c4o.pdb',\n",
       " '1c4q.pdb',\n",
       " '1c5e.pdb',\n",
       " '1c7k.pdb',\n",
       " '1c8n.pdb',\n",
       " '1c8u.pdb',\n",
       " '1c9k.pdb',\n",
       " '1cb8.pdb',\n",
       " '1cc8.pdb',\n",
       " '1ccw.pdb',\n",
       " '1ccz.pdb',\n",
       " '1cf7.pdb',\n",
       " '1cfb.pdb',\n",
       " '1cfr.pdb',\n",
       " '1cfz.pdb',\n",
       " '1cg2.pdb',\n",
       " '1chd.pdb',\n",
       " '1chm.pdb',\n",
       " '1ci0.pdb',\n",
       " '1ci4.pdb',\n",
       " '1cid.pdb',\n",
       " '1cja.pdb',\n",
       " '1cjw.pdb',\n",
       " '1ckm.pdb',\n",
       " '1cl8.pdb',\n",
       " '1cnt.pdb',\n",
       " '1col.pdb',\n",
       " '1cq3.pdb',\n",
       " '1cr1.pdb',\n",
       " '1cr5.pdb',\n",
       " '1cs0.pdb',\n",
       " '1csh.pdb',\n",
       " '1ctf.pdb',\n",
       " '1cuk.pdb',\n",
       " '1cv8.pdb',\n",
       " '1cwv.pdb',\n",
       " '1cxq.pdb',\n",
       " '1cxz.pdb',\n",
       " '1cy5.pdb',\n",
       " '1cyw.pdb',\n",
       " '1d02.pdb',\n",
       " '1d0d.pdb',\n",
       " '1d0q.pdb',\n",
       " '1d2n.pdb',\n",
       " '1d2o.pdb',\n",
       " '1d2s.pdb',\n",
       " '1d2t.pdb',\n",
       " '1d2z.pdb',\n",
       " '1d3b.pdb',\n",
       " '1d3y.pdb',\n",
       " '1d4a.pdb',\n",
       " '1d4o.pdb',\n",
       " '1d5t.pdb',\n",
       " '1d8h.pdb',\n",
       " '1d8w.pdb',\n",
       " '1d9c.pdb',\n",
       " '1dab.pdb',\n",
       " '1dbh.pdb',\n",
       " '1dbw.pdb',\n",
       " '1dc1.pdb',\n",
       " '1dcs.pdb',\n",
       " '1dd4.pdb',\n",
       " '1dd9.pdb',\n",
       " '1ddl.pdb',\n",
       " '1dek.pdb',\n",
       " '1dev.pdb',\n",
       " '1dfm.pdb',\n",
       " '1dfu.pdb',\n",
       " '1dg6.pdb',\n",
       " '1di0.pdb',\n",
       " '1dj0.pdb',\n",
       " '1dj7.pdb',\n",
       " '1dj8.pdb',\n",
       " '1dkg.pdb',\n",
       " '1dle.pdb',\n",
       " '1dm9.pdb',\n",
       " '1dmg.pdb',\n",
       " '1dml.pdb',\n",
       " '1dmu.pdb',\n",
       " '1dov.pdb',\n",
       " '1dp4.pdb',\n",
       " '1dp5.pdb',\n",
       " '1dp7.pdb',\n",
       " '1dqg.pdb',\n",
       " '1dqp.pdb',\n",
       " '1ds1.pdb',\n",
       " '1dtd.pdb',\n",
       " '1dun.pdb',\n",
       " '1dvk.pdb',\n",
       " '1dvo.pdb',\n",
       " '1dwk.pdb',\n",
       " '1dyn.pdb',\n",
       " '1dyp.pdb',\n",
       " '1dzf.pdb',\n",
       " '1dzk.pdb',\n",
       " '1e0b.pdb',\n",
       " '1e0c.pdb',\n",
       " '1e2k.pdb',\n",
       " '1e2w.pdb',\n",
       " '1e30.pdb',\n",
       " '1e44.pdb',\n",
       " '1e58.pdb',\n",
       " '1e5k.pdb',\n",
       " '1e6u.pdb',\n",
       " '1e7l.pdb',\n",
       " '1e94.pdb',\n",
       " '1e9r.pdb',\n",
       " '1eaj.pdb',\n",
       " '1eaq.pdb',\n",
       " '1eay.pdb',\n",
       " '1eaz.pdb',\n",
       " '1eb6.pdb',\n",
       " '1edz.pdb',\n",
       " '1eej.pdb',\n",
       " '1eer.pdb',\n",
       " '1ef1.pdb',\n",
       " '1efd.pdb',\n",
       " '1eg3.pdb',\n",
       " '1egw.pdb',\n",
       " '1ei5.pdb',\n",
       " '1ei7.pdb',\n",
       " '1ei9.pdb',\n",
       " '1ej8.pdb',\n",
       " '1ejf.pdb',\n",
       " '1ek9.pdb',\n",
       " '1ekq.pdb',\n",
       " '1el6.pdb',\n",
       " '1elk.pdb',\n",
       " '1elu.pdb',\n",
       " '1em9.pdb',\n",
       " '1eok.pdb',\n",
       " '1epf.pdb',\n",
       " '1epu.pdb',\n",
       " '1eq2.pdb',\n",
       " '1es5.pdb',\n",
       " '1es9.pdb',\n",
       " '1esc.pdb',\n",
       " '1ete.pdb',\n",
       " '1eu1.pdb',\n",
       " '1euw.pdb',\n",
       " '1ev7.pdb',\n",
       " '1evl.pdb',\n",
       " '1evs.pdb',\n",
       " '1ew4.pdb',\n",
       " '1ewf.pdb',\n",
       " '1ez3.pdb',\n",
       " '1ezg.pdb',\n",
       " '1ezj.pdb',\n",
       " '1f00.pdb',\n",
       " '1f0k.pdb',\n",
       " '1f0l.pdb',\n",
       " '1f0x.pdb',\n",
       " '1f1e.pdb',\n",
       " '1f1m.pdb',\n",
       " '1f2l.pdb',\n",
       " '1f2t.pdb',\n",
       " '1f32.pdb',\n",
       " '1f35.pdb',\n",
       " '1f3m.pdb',\n",
       " '1f3u.pdb',\n",
       " '1f3v.pdb',\n",
       " '1f45.pdb',\n",
       " '1f46.pdb',\n",
       " '1f5n.pdb',\n",
       " '1f5q.pdb',\n",
       " '1f5v.pdb',\n",
       " '1f86.pdb',\n",
       " '1f9v.pdb',\n",
       " '1fc3.pdb',\n",
       " '1fc6.pdb',\n",
       " '1fcq.pdb',\n",
       " '1fcy.pdb',\n",
       " '1fd3.pdb',\n",
       " '1feu.pdb',\n",
       " '1ffy.pdb',\n",
       " '1fg7.pdb',\n",
       " '1fiu.pdb',\n",
       " '1fjh.pdb',\n",
       " '1fjr.pdb',\n",
       " '1fkm.pdb',\n",
       " '1flo.pdb',\n",
       " '1flt.pdb',\n",
       " '1fm0.pdb',\n",
       " '1fm2.pdb',\n",
       " '1fn9.pdb',\n",
       " '1fnn.pdb',\n",
       " '1fo0.pdb',\n",
       " '1fo8.pdb',\n",
       " '1fp2.pdb',\n",
       " '1fpo.pdb',\n",
       " '1fpz.pdb',\n",
       " '1fqj.pdb',\n",
       " '1fs0.pdb',\n",
       " '1fs7.pdb',\n",
       " '1fsg.pdb',\n",
       " '1ft5.pdb',\n",
       " '1ftr.pdb',\n",
       " '1fvi.pdb',\n",
       " '1fxk.pdb',\n",
       " '1fye.pdb',\n",
       " '1g12.pdb',\n",
       " '1g2r.pdb',\n",
       " '1g31.pdb',\n",
       " '1g3j.pdb',\n",
       " '1g3k.pdb',\n",
       " '1g3p.pdb',\n",
       " '1g5a.pdb',\n",
       " '1g5h.pdb',\n",
       " '1g5t.pdb',\n",
       " '1g60.pdb',\n",
       " '1g61.pdb',\n",
       " '1g66.pdb',\n",
       " '1g6g.pdb',\n",
       " '1g6x.pdb',\n",
       " '1g8a.pdb',\n",
       " '1g8e.pdb',\n",
       " '1g8k.pdb',\n",
       " '1g8m.pdb',\n",
       " '1g8p.pdb',\n",
       " '1ga6.pdb',\n",
       " '1gak.pdb',\n",
       " '1gci.pdb',\n",
       " '1gcq.pdb',\n",
       " '1ghe.pdb',\n",
       " '1gjw.pdb',\n",
       " '1gk6.pdb',\n",
       " '1gk9.pdb',\n",
       " '1gkm.pdb',\n",
       " '1gl4.pdb',\n",
       " '1gmi.pdb',\n",
       " '1gml.pdb',\n",
       " '1gmu.pdb',\n",
       " '1gmx.pdb',\n",
       " '1gnl.pdb',\n",
       " '1gny.pdb',\n",
       " '1go3.pdb',\n",
       " '1gp0.pdb',\n",
       " '1gp6.pdb',\n",
       " '1gpj.pdb',\n",
       " '1gpp.pdb',\n",
       " '1gpr.pdb',\n",
       " '1gqe.pdb',\n",
       " '1gqi.pdb',\n",
       " '1gs5.pdb',\n",
       " '1gs9.pdb',\n",
       " '1gsa.pdb',\n",
       " '1gsm.pdb',\n",
       " '1gtt.pdb',\n",
       " '1gu2.pdb',\n",
       " '1gu3.pdb',\n",
       " '1gu7.pdb',\n",
       " '1gu9.pdb',\n",
       " '1gui.pdb',\n",
       " '1gut.pdb',\n",
       " '1gv9.pdb',\n",
       " '1gve.pdb',\n",
       " '1gvn.pdb',\n",
       " '1gvp.pdb',\n",
       " '1gwe.pdb',\n",
       " '1gwm.pdb',\n",
       " '1gxc.pdb',\n",
       " '1gxm.pdb',\n",
       " '1gxr.pdb',\n",
       " '1gxy.pdb',\n",
       " '1gy7.pdb',\n",
       " '1gyx.pdb',\n",
       " '1gzs.pdb',\n",
       " '1h0h.pdb',\n",
       " '1h12.pdb',\n",
       " '1h16.pdb',\n",
       " '1h21.pdb',\n",
       " '1h2b.pdb',\n",
       " '1h2c.pdb',\n",
       " '1h2k.pdb',\n",
       " '1h30.pdb',\n",
       " '1h32.pdb',\n",
       " '1h3o.pdb',\n",
       " '1h4a.pdb',\n",
       " '1h4x.pdb',\n",
       " '1h5w.pdb',\n",
       " '1h6d.pdb',\n",
       " '1h6f.pdb',\n",
       " '1h6g.pdb',\n",
       " '1h6h.pdb',\n",
       " '1h6k.pdb',\n",
       " '1h6y.pdb',\n",
       " '1h72.pdb',\n",
       " '1h80.pdb',\n",
       " '1h8p.pdb',\n",
       " '1h97.pdb',\n",
       " '1h99.pdb',\n",
       " '1hcu.pdb',\n",
       " '1hdh.pdb',\n",
       " '1hdo.pdb',\n",
       " '1he1.pdb',\n",
       " '1hek.pdb',\n",
       " '1hf2.pdb',\n",
       " '1hfe.pdb',\n",
       " '1hh8.pdb',\n",
       " '1hi9.pdb',\n",
       " '1hj6.pdb',\n",
       " '1hk8.pdb',\n",
       " '1hkq.pdb',\n",
       " '1hlb.pdb',\n",
       " '1hlv.pdb',\n",
       " '1hn0.pdb',\n",
       " '1ho8.pdb',\n",
       " '1hp1.pdb',\n",
       " '1hq0.pdb',\n",
       " '1hq1.pdb',\n",
       " '1hqz.pdb',\n",
       " '1hr6.pdb',\n",
       " '1hru.pdb',\n",
       " '1htr.pdb',\n",
       " '1htw.pdb',\n",
       " '1hul.pdb',\n",
       " '1huw.pdb',\n",
       " '1hw7.pdb',\n",
       " '1hx6.pdb',\n",
       " '1hx8.pdb',\n",
       " '1hxi.pdb',\n",
       " '1hxn.pdb',\n",
       " '1hxr.pdb',\n",
       " '1hyh.pdb',\n",
       " '1hyn.pdb',\n",
       " '1hyo.pdb',\n",
       " '1hz4.pdb',\n",
       " '1hz6.pdb',\n",
       " '1hzt.pdb',\n",
       " '1i0r.pdb',\n",
       " '1i12.pdb',\n",
       " '1i1q.pdb',\n",
       " '1i1r.pdb',\n",
       " '1i1w.pdb',\n",
       " '1i24.pdb',\n",
       " '1i27.pdb',\n",
       " '1i2k.pdb',\n",
       " '1i2t.pdb',\n",
       " '1i36.pdb',\n",
       " '1i3j.pdb',\n",
       " '1i4d.pdb',\n",
       " '1i4j.pdb',\n",
       " '1i4u.pdb',\n",
       " '1i4w.pdb',\n",
       " '1i58.pdb',\n",
       " '1i5p.pdb',\n",
       " '1i60.pdb',\n",
       " '1i71.pdb',\n",
       " '1i7d.pdb',\n",
       " '1i7w.pdb',\n",
       " '1i8a.pdb',\n",
       " '1i8n.pdb',\n",
       " '1iap.pdb',\n",
       " '1iar.pdb',\n",
       " '1id0.pdb',\n",
       " '1id1.pdb',\n",
       " '1idp.pdb',\n",
       " '1ifr.pdb',\n",
       " '1igq.pdb',\n",
       " '1ii5.pdb',\n",
       " '1iib.pdb',\n",
       " '1ij5.pdb',\n",
       " '1ikt.pdb',\n",
       " '1im3.pdb',\n",
       " '1in4.pdb',\n",
       " '1inl.pdb',\n",
       " '1io0.pdb',\n",
       " '1iom.pdb',\n",
       " '1iq4.pdb',\n",
       " '1iqz.pdb',\n",
       " '1irq.pdb',\n",
       " '1irx.pdb',\n",
       " '1is3.pdb',\n",
       " '1isu.pdb',\n",
       " '1it2.pdb',\n",
       " '1itb.pdb',\n",
       " '1ith.pdb',\n",
       " '1iuj.pdb',\n",
       " '1iuq.pdb',\n",
       " '1ix9.pdb',\n",
       " '1ixh.pdb',\n",
       " '1ixl.pdb',\n",
       " '1ixm.pdb',\n",
       " '1izc.pdb',\n",
       " '1izm.pdb',\n",
       " '1j0p.pdb',\n",
       " '1j1t.pdb',\n",
       " '1j24.pdb',\n",
       " '1j27.pdb',\n",
       " '1j2j.pdb',\n",
       " '1j34.pdb',\n",
       " '1j3a.pdb',\n",
       " '1j3w.pdb',\n",
       " '1j5u.pdb',\n",
       " '1j5w.pdb',\n",
       " '1j5y.pdb',\n",
       " '1j6r.pdb',\n",
       " '1j77.pdb',\n",
       " '1j7d.pdb',\n",
       " '1j7x.pdb',\n",
       " '1j83.pdb',\n",
       " '1j8b.pdb',\n",
       " '1j98.pdb',\n",
       " '1jad.pdb',\n",
       " '1jay.pdb',\n",
       " '1jb0.pdb',\n",
       " '1jb3.pdb',\n",
       " '1jb7.pdb',\n",
       " '1jbe.pdb',\n",
       " '1jcd.pdb',\n",
       " '1jdc.pdb']"
      ]
     },
     "execution_count": 19,
     "metadata": {},
     "output_type": "execute_result"
    }
   ],
   "source": [
    "pdb_files"
   ]
  },
  {
   "cell_type": "code",
   "execution_count": 82,
   "metadata": {
    "collapsed": true
   },
   "outputs": [],
   "source": [
    "# def get_contact_map(file_name, path, cutoff):\n",
    "#     \"\"\"\n",
    "#     Parse a PDB file and \n",
    "#     get the contact map\n",
    "\n",
    "#     :param file_name: name of the pdb file\n",
    "#     :type  file_name: str\n",
    "#     :param path: path to the pdb files\n",
    "#     :type  path: str\n",
    "#     :param cutoff: cutoff for contact distance\n",
    "#     :type  cutoff: float\n",
    "#     \"\"\"\n",
    "\n",
    "# #     structure_id = file_name.split('.')[0]\n",
    "# #     filename = path + \"pdb_files/\" + file_name\n",
    "# #     structure = parser.get_structure(structure_id, filename)\n",
    "# #     model = structure[0]\n",
    "\n",
    "#     # Note that we are only getting the A chain\n",
    "#     # We will only get training data for proteins with\n",
    "#     # a single chain.\n",
    "#     dist_matrix = gcm.calc_dist_matrix(\n",
    "#         gcm.get_only_residues(model[\"A\"]),\n",
    "#         gcm.get_only_residues(model[\"A\"])\n",
    "#     )\n",
    "\n",
    "#     contact_map = dist_matrix < cutoff\n",
    "#     return contact_map\n",
    "\n",
    "\n",
    "def get_contact_map(model, cutoff):\n",
    "    \"\"\"\n",
    "    Parse a PDB file and \n",
    "    get the contact map\n",
    "\n",
    "    :param file_name: name of the pdb file\n",
    "    :type  file_name: str\n",
    "    :param path: path to the pdb files\n",
    "    :type  path: str\n",
    "    :param model:\n",
    "    :type  model: \n",
    "    :param cutoff: cutoff for contact distance\n",
    "    :type  cutoff: float\n",
    "    \"\"\"\n",
    "\n",
    "    # Note that we are only getting the first chain\n",
    "    # We will only get training data for proteins with\n",
    "    # a single chain.\n",
    "    dist_matrix = gcm.calc_dist_matrix(\n",
    "        gcm.get_only_residues(list(model)[0]),\n",
    "        gcm.get_only_residues(list(model)[0])\n",
    "    )\n",
    "\n",
    "    contact_map = dist_matrix < cutoff\n",
    "    return contact_map\n",
    "\n",
    "\n",
    "# get_contact_map(pdb_file, path, cutoff=12)"
   ]
  },
  {
   "cell_type": "code",
   "execution_count": 83,
   "metadata": {},
   "outputs": [
    {
     "name": "stdout",
     "output_type": "stream",
     "text": [
      "PDB File:  12as.pdb\n",
      "\tThis protein has more than 1 chain.\n",
      "PDB File:  16vp.pdb\n"
     ]
    },
    {
     "name": "stderr",
     "output_type": "stream",
     "text": [
      "/Users/jinli/anaconda3/lib/python3.6/site-packages/Bio/PDB/StructureBuilder.py:91: PDBConstructionWarning: WARNING: Chain A is discontinuous at line 5676.\n",
      "  PDBConstructionWarning)\n",
      "/Users/jinli/anaconda3/lib/python3.6/site-packages/Bio/PDB/StructureBuilder.py:91: PDBConstructionWarning: WARNING: Chain B is discontinuous at line 5708.\n",
      "  PDBConstructionWarning)\n",
      "/Users/jinli/anaconda3/lib/python3.6/site-packages/Bio/PDB/StructureBuilder.py:91: PDBConstructionWarning: WARNING: Chain A is discontinuous at line 5740.\n",
      "  PDBConstructionWarning)\n",
      "/Users/jinli/anaconda3/lib/python3.6/site-packages/Bio/PDB/StructureBuilder.py:91: PDBConstructionWarning: WARNING: Chain B is discontinuous at line 5842.\n",
      "  PDBConstructionWarning)\n"
     ]
    },
    {
     "name": "stdout",
     "output_type": "stream",
     "text": [
      "PDB File:  1a0i.pdb\n",
      "PDB File:  1a12.pdb\n"
     ]
    },
    {
     "name": "stderr",
     "output_type": "stream",
     "text": [
      "/Users/jinli/anaconda3/lib/python3.6/site-packages/Bio/PDB/StructureBuilder.py:91: PDBConstructionWarning: WARNING: Chain A is discontinuous at line 9632.\n",
      "  PDBConstructionWarning)\n",
      "/Users/jinli/anaconda3/lib/python3.6/site-packages/Bio/PDB/StructureBuilder.py:91: PDBConstructionWarning: WARNING: Chain B is discontinuous at line 9928.\n",
      "  PDBConstructionWarning)\n",
      "/Users/jinli/anaconda3/lib/python3.6/site-packages/Bio/PDB/StructureBuilder.py:91: PDBConstructionWarning: WARNING: Chain C is discontinuous at line 10237.\n",
      "  PDBConstructionWarning)\n"
     ]
    },
    {
     "name": "stdout",
     "output_type": "stream",
     "text": [
      "\tThis protein has more than 1 chain.\n",
      "PDB File:  1a1x.pdb\n",
      "PDB File:  1a41.pdb\n",
      "PDB File:  1a5t.pdb\n",
      "PDB File:  1a62.pdb\n",
      "PDB File:  1a73.pdb\n"
     ]
    },
    {
     "name": "stderr",
     "output_type": "stream",
     "text": [
      "/Users/jinli/anaconda3/lib/python3.6/site-packages/Bio/PDB/StructureBuilder.py:91: PDBConstructionWarning: WARNING: Chain E is discontinuous at line 3911.\n",
      "  PDBConstructionWarning)\n",
      "/Users/jinli/anaconda3/lib/python3.6/site-packages/Bio/PDB/StructureBuilder.py:91: PDBConstructionWarning: WARNING: Chain A is discontinuous at line 3912.\n",
      "  PDBConstructionWarning)\n",
      "/Users/jinli/anaconda3/lib/python3.6/site-packages/Bio/PDB/StructureBuilder.py:91: PDBConstructionWarning: WARNING: Chain B is discontinuous at line 3914.\n",
      "  PDBConstructionWarning)\n",
      "/Users/jinli/anaconda3/lib/python3.6/site-packages/Bio/PDB/StructureBuilder.py:91: PDBConstructionWarning: WARNING: Chain C is discontinuous at line 3917.\n",
      "  PDBConstructionWarning)\n",
      "/Users/jinli/anaconda3/lib/python3.6/site-packages/Bio/PDB/StructureBuilder.py:91: PDBConstructionWarning: WARNING: Chain D is discontinuous at line 3946.\n",
      "  PDBConstructionWarning)\n",
      "/Users/jinli/anaconda3/lib/python3.6/site-packages/Bio/PDB/StructureBuilder.py:91: PDBConstructionWarning: WARNING: Chain E is discontinuous at line 3960.\n",
      "  PDBConstructionWarning)\n",
      "/Users/jinli/anaconda3/lib/python3.6/site-packages/Bio/PDB/StructureBuilder.py:91: PDBConstructionWarning: WARNING: Chain F is discontinuous at line 3993.\n",
      "  PDBConstructionWarning)\n",
      "/Users/jinli/anaconda3/lib/python3.6/site-packages/Bio/PDB/StructureBuilder.py:91: PDBConstructionWarning: WARNING: Chain A is discontinuous at line 4014.\n",
      "  PDBConstructionWarning)\n",
      "/Users/jinli/anaconda3/lib/python3.6/site-packages/Bio/PDB/StructureBuilder.py:91: PDBConstructionWarning: WARNING: Chain B is discontinuous at line 4148.\n",
      "  PDBConstructionWarning)\n"
     ]
    },
    {
     "name": "stdout",
     "output_type": "stream",
     "text": [
      "\tThis protein has more than 1 chain.\n",
      "PDB File:  1a7j.pdb\n",
      "PDB File:  1a8l.pdb\n",
      "PDB File:  1a92.pdb\n",
      "\tThis protein has more than 1 chain.\n",
      "PDB File:  1a9n.pdb\n"
     ]
    },
    {
     "name": "stderr",
     "output_type": "stream",
     "text": [
      "/Users/jinli/anaconda3/lib/python3.6/site-packages/Bio/PDB/StructureBuilder.py:91: PDBConstructionWarning: WARNING: Chain A is discontinuous at line 2007.\n",
      "  PDBConstructionWarning)\n",
      "/Users/jinli/anaconda3/lib/python3.6/site-packages/Bio/PDB/StructureBuilder.py:91: PDBConstructionWarning: WARNING: Chain B is discontinuous at line 2045.\n",
      "  PDBConstructionWarning)\n",
      "/Users/jinli/anaconda3/lib/python3.6/site-packages/Bio/PDB/StructureBuilder.py:91: PDBConstructionWarning: WARNING: Chain C is discontinuous at line 2072.\n",
      "  PDBConstructionWarning)\n",
      "/Users/jinli/anaconda3/lib/python3.6/site-packages/Bio/PDB/StructureBuilder.py:91: PDBConstructionWarning: WARNING: Chain D is discontinuous at line 2101.\n",
      "  PDBConstructionWarning)\n"
     ]
    },
    {
     "name": "stdout",
     "output_type": "stream",
     "text": [
      "\tThis protein has more than 1 chain.\n",
      "PDB File:  1a9x.pdb\n"
     ]
    },
    {
     "name": "stderr",
     "output_type": "stream",
     "text": [
      "/Users/jinli/anaconda3/lib/python3.6/site-packages/Bio/PDB/StructureBuilder.py:91: PDBConstructionWarning: WARNING: Chain A is discontinuous at line 47537.\n",
      "  PDBConstructionWarning)\n",
      "/Users/jinli/anaconda3/lib/python3.6/site-packages/Bio/PDB/StructureBuilder.py:91: PDBConstructionWarning: WARNING: Chain B is discontinuous at line 47645.\n",
      "  PDBConstructionWarning)\n",
      "/Users/jinli/anaconda3/lib/python3.6/site-packages/Bio/PDB/StructureBuilder.py:91: PDBConstructionWarning: WARNING: Chain C is discontinuous at line 47647.\n",
      "  PDBConstructionWarning)\n",
      "/Users/jinli/anaconda3/lib/python3.6/site-packages/Bio/PDB/StructureBuilder.py:91: PDBConstructionWarning: WARNING: Chain D is discontinuous at line 47755.\n",
      "  PDBConstructionWarning)\n",
      "/Users/jinli/anaconda3/lib/python3.6/site-packages/Bio/PDB/StructureBuilder.py:91: PDBConstructionWarning: WARNING: Chain E is discontinuous at line 47757.\n",
      "  PDBConstructionWarning)\n",
      "/Users/jinli/anaconda3/lib/python3.6/site-packages/Bio/PDB/StructureBuilder.py:91: PDBConstructionWarning: WARNING: Chain F is discontinuous at line 47860.\n",
      "  PDBConstructionWarning)\n",
      "/Users/jinli/anaconda3/lib/python3.6/site-packages/Bio/PDB/StructureBuilder.py:91: PDBConstructionWarning: WARNING: Chain G is discontinuous at line 47862.\n",
      "  PDBConstructionWarning)\n",
      "/Users/jinli/anaconda3/lib/python3.6/site-packages/Bio/PDB/StructureBuilder.py:91: PDBConstructionWarning: WARNING: Chain H is discontinuous at line 47970.\n",
      "  PDBConstructionWarning)\n",
      "/Users/jinli/anaconda3/lib/python3.6/site-packages/Bio/PDB/StructureBuilder.py:91: PDBConstructionWarning: WARNING: Chain A is discontinuous at line 47972.\n",
      "  PDBConstructionWarning)\n",
      "/Users/jinli/anaconda3/lib/python3.6/site-packages/Bio/PDB/StructureBuilder.py:91: PDBConstructionWarning: WARNING: Chain B is discontinuous at line 48876.\n",
      "  PDBConstructionWarning)\n",
      "/Users/jinli/anaconda3/lib/python3.6/site-packages/Bio/PDB/StructureBuilder.py:91: PDBConstructionWarning: WARNING: Chain C is discontinuous at line 49132.\n",
      "  PDBConstructionWarning)\n",
      "/Users/jinli/anaconda3/lib/python3.6/site-packages/Bio/PDB/StructureBuilder.py:91: PDBConstructionWarning: WARNING: Chain D is discontinuous at line 50029.\n",
      "  PDBConstructionWarning)\n",
      "/Users/jinli/anaconda3/lib/python3.6/site-packages/Bio/PDB/StructureBuilder.py:91: PDBConstructionWarning: WARNING: Chain E is discontinuous at line 50359.\n",
      "  PDBConstructionWarning)\n",
      "/Users/jinli/anaconda3/lib/python3.6/site-packages/Bio/PDB/StructureBuilder.py:91: PDBConstructionWarning: WARNING: Chain F is discontinuous at line 51259.\n",
      "  PDBConstructionWarning)\n",
      "/Users/jinli/anaconda3/lib/python3.6/site-packages/Bio/PDB/StructureBuilder.py:91: PDBConstructionWarning: WARNING: Chain G is discontinuous at line 51535.\n",
      "  PDBConstructionWarning)\n",
      "/Users/jinli/anaconda3/lib/python3.6/site-packages/Bio/PDB/StructureBuilder.py:91: PDBConstructionWarning: WARNING: Chain H is discontinuous at line 52268.\n",
      "  PDBConstructionWarning)\n",
      "/Users/jinli/anaconda3/lib/python3.6/site-packages/Bio/PDB/StructureBuilder.py:91: PDBConstructionWarning: WARNING: Chain A is discontinuous at line 3018.\n",
      "  PDBConstructionWarning)\n",
      "/Users/jinli/anaconda3/lib/python3.6/site-packages/Bio/PDB/StructureBuilder.py:91: PDBConstructionWarning: WARNING: Chain B is discontinuous at line 3115.\n",
      "  PDBConstructionWarning)\n"
     ]
    },
    {
     "name": "stdout",
     "output_type": "stream",
     "text": [
      "\tThis protein has more than 1 chain.\n",
      "PDB File:  1ae9.pdb\n",
      "\tThis protein has more than 1 chain.\n",
      "PDB File:  1aep.pdb\n",
      "PDB File:  1ah7.pdb\n",
      "PDB File:  1aho.pdb\n",
      "PDB File:  1ahs.pdb\n",
      "\tThis protein has more than 1 chain.\n",
      "PDB File:  1ais.pdb\n"
     ]
    },
    {
     "name": "stderr",
     "output_type": "stream",
     "text": [
      "/Users/jinli/anaconda3/lib/python3.6/site-packages/Bio/PDB/StructureBuilder.py:91: PDBConstructionWarning: WARNING: Chain A is discontinuous at line 3295.\n",
      "  PDBConstructionWarning)\n",
      "/Users/jinli/anaconda3/lib/python3.6/site-packages/Bio/PDB/StructureBuilder.py:91: PDBConstructionWarning: WARNING: Chain B is discontinuous at line 3313.\n",
      "  PDBConstructionWarning)\n",
      "/Users/jinli/anaconda3/lib/python3.6/site-packages/Bio/PDB/StructureBuilder.py:91: PDBConstructionWarning: WARNING: Chain C is discontinuous at line 3342.\n",
      "  PDBConstructionWarning)\n",
      "/Users/jinli/anaconda3/lib/python3.6/site-packages/Bio/PDB/StructureBuilder.py:91: PDBConstructionWarning: WARNING: Chain C is discontinuous at line 4097.\n",
      "  PDBConstructionWarning)\n",
      "/Users/jinli/anaconda3/lib/python3.6/site-packages/Bio/PDB/StructureBuilder.py:91: PDBConstructionWarning: WARNING: Chain E is discontinuous at line 4133.\n",
      "  PDBConstructionWarning)\n",
      "/Users/jinli/anaconda3/lib/python3.6/site-packages/Bio/PDB/StructureBuilder.py:91: PDBConstructionWarning: WARNING: Chain A is discontinuous at line 4178.\n",
      "  PDBConstructionWarning)\n",
      "/Users/jinli/anaconda3/lib/python3.6/site-packages/Bio/PDB/StructureBuilder.py:91: PDBConstructionWarning: WARNING: Chain B is discontinuous at line 4324.\n",
      "  PDBConstructionWarning)\n"
     ]
    },
    {
     "name": "stdout",
     "output_type": "stream",
     "text": [
      "\tThis protein has more than 1 chain.\n",
      "PDB File:  1alu.pdb\n",
      "PDB File:  1aly.pdb\n",
      "PDB File:  1am7.pdb\n"
     ]
    },
    {
     "name": "stderr",
     "output_type": "stream",
     "text": [
      "/Users/jinli/anaconda3/lib/python3.6/site-packages/Bio/PDB/StructureBuilder.py:91: PDBConstructionWarning: WARNING: Chain A is discontinuous at line 4223.\n",
      "  PDBConstructionWarning)\n",
      "/Users/jinli/anaconda3/lib/python3.6/site-packages/Bio/PDB/StructureBuilder.py:91: PDBConstructionWarning: WARNING: Chain B is discontinuous at line 4227.\n",
      "  PDBConstructionWarning)\n",
      "/Users/jinli/anaconda3/lib/python3.6/site-packages/Bio/PDB/StructureBuilder.py:91: PDBConstructionWarning: WARNING: Chain C is discontinuous at line 4231.\n",
      "  PDBConstructionWarning)\n",
      "/Users/jinli/anaconda3/lib/python3.6/site-packages/Bio/PDB/StructureBuilder.py:91: PDBConstructionWarning: WARNING: Chain A is discontinuous at line 4235.\n",
      "  PDBConstructionWarning)\n",
      "/Users/jinli/anaconda3/lib/python3.6/site-packages/Bio/PDB/StructureBuilder.py:91: PDBConstructionWarning: WARNING: Chain B is discontinuous at line 4266.\n",
      "  PDBConstructionWarning)\n",
      "/Users/jinli/anaconda3/lib/python3.6/site-packages/Bio/PDB/StructureBuilder.py:91: PDBConstructionWarning: WARNING: Chain C is discontinuous at line 4315.\n",
      "  PDBConstructionWarning)\n",
      "/Users/jinli/anaconda3/lib/python3.6/site-packages/Bio/PDB/StructureBuilder.py:91: PDBConstructionWarning: WARNING: Chain A is discontinuous at line 3277.\n",
      "  PDBConstructionWarning)\n",
      "/Users/jinli/anaconda3/lib/python3.6/site-packages/Bio/PDB/StructureBuilder.py:91: PDBConstructionWarning: WARNING: Chain B is discontinuous at line 3360.\n",
      "  PDBConstructionWarning)\n"
     ]
    },
    {
     "name": "stdout",
     "output_type": "stream",
     "text": [
      "\tThis protein has more than 1 chain.\n",
      "PDB File:  1aoc.pdb\n",
      "\tThis protein has more than 1 chain.\n",
      "PDB File:  1aol.pdb\n",
      "PDB File:  1aqz.pdb\n",
      "\tThis protein has more than 1 chain.\n",
      "PDB File:  1aro.pdb\n"
     ]
    },
    {
     "name": "stderr",
     "output_type": "stream",
     "text": [
      "/Users/jinli/anaconda3/lib/python3.6/site-packages/Bio/PDB/StructureBuilder.py:91: PDBConstructionWarning: WARNING: Chain A is discontinuous at line 2703.\n",
      "  PDBConstructionWarning)\n",
      "/Users/jinli/anaconda3/lib/python3.6/site-packages/Bio/PDB/StructureBuilder.py:91: PDBConstructionWarning: WARNING: Chain B is discontinuous at line 2713.\n",
      "  PDBConstructionWarning)\n",
      "/Users/jinli/anaconda3/lib/python3.6/site-packages/Bio/PDB/StructureBuilder.py:91: PDBConstructionWarning: WARNING: Chain A is discontinuous at line 2718.\n",
      "  PDBConstructionWarning)\n",
      "/Users/jinli/anaconda3/lib/python3.6/site-packages/Bio/PDB/StructureBuilder.py:91: PDBConstructionWarning: WARNING: Chain B is discontinuous at line 2822.\n",
      "  PDBConstructionWarning)\n",
      "/Users/jinli/anaconda3/lib/python3.6/site-packages/Bio/PDB/StructureBuilder.py:91: PDBConstructionWarning: WARNING: Chain P is discontinuous at line 8008.\n",
      "  PDBConstructionWarning)\n"
     ]
    },
    {
     "name": "stdout",
     "output_type": "stream",
     "text": [
      "\tThis protein has more than 1 chain.\n",
      "PDB File:  1atg.pdb\n",
      "PDB File:  1atz.pdb\n",
      "\tThis protein has more than 1 chain.\n",
      "PDB File:  1avg.pdb\n",
      "\tThis protein has more than 1 chain.\n",
      "PDB File:  1avo.pdb\n"
     ]
    },
    {
     "name": "stderr",
     "output_type": "stream",
     "text": [
      "/Users/jinli/anaconda3/lib/python3.6/site-packages/Bio/PDB/StructureBuilder.py:91: PDBConstructionWarning: WARNING: Chain A is discontinuous at line 3136.\n",
      "  PDBConstructionWarning)\n",
      "/Users/jinli/anaconda3/lib/python3.6/site-packages/Bio/PDB/StructureBuilder.py:91: PDBConstructionWarning: WARNING: Chain B is discontinuous at line 3315.\n",
      "  PDBConstructionWarning)\n",
      "/Users/jinli/anaconda3/lib/python3.6/site-packages/Bio/PDB/StructureBuilder.py:91: PDBConstructionWarning: WARNING: Chain L is discontinuous at line 4106.\n",
      "  PDBConstructionWarning)\n",
      "/Users/jinli/anaconda3/lib/python3.6/site-packages/Bio/PDB/StructureBuilder.py:91: PDBConstructionWarning: WARNING: Chain H is discontinuous at line 4127.\n",
      "  PDBConstructionWarning)\n",
      "/Users/jinli/anaconda3/lib/python3.6/site-packages/Bio/PDB/StructureBuilder.py:91: PDBConstructionWarning: WARNING: Chain I is discontinuous at line 4235.\n",
      "  PDBConstructionWarning)\n"
     ]
    },
    {
     "name": "stdout",
     "output_type": "stream",
     "text": [
      "\tThis protein has more than 1 chain.\n",
      "PDB File:  1ax8.pdb\n",
      "PDB File:  1ayo.pdb\n"
     ]
    },
    {
     "name": "stderr",
     "output_type": "stream",
     "text": [
      "/Users/jinli/anaconda3/lib/python3.6/site-packages/Bio/PDB/StructureBuilder.py:91: PDBConstructionWarning: WARNING: Chain A is discontinuous at line 2468.\n",
      "  PDBConstructionWarning)\n",
      "/Users/jinli/anaconda3/lib/python3.6/site-packages/Bio/PDB/StructureBuilder.py:91: PDBConstructionWarning: WARNING: Chain B is discontinuous at line 2601.\n",
      "  PDBConstructionWarning)\n"
     ]
    },
    {
     "name": "stdout",
     "output_type": "stream",
     "text": [
      "\tThis protein has more than 1 chain.\n",
      "PDB File:  1azo.pdb\n",
      "PDB File:  1b0b.pdb\n",
      "PDB File:  1b25.pdb\n"
     ]
    },
    {
     "name": "stderr",
     "output_type": "stream",
     "text": [
      "/Users/jinli/anaconda3/lib/python3.6/site-packages/Bio/PDB/StructureBuilder.py:91: PDBConstructionWarning: WARNING: Chain A is discontinuous at line 20286.\n",
      "  PDBConstructionWarning)\n",
      "/Users/jinli/anaconda3/lib/python3.6/site-packages/Bio/PDB/StructureBuilder.py:91: PDBConstructionWarning: WARNING: Chain B is discontinuous at line 20346.\n",
      "  PDBConstructionWarning)\n",
      "/Users/jinli/anaconda3/lib/python3.6/site-packages/Bio/PDB/StructureBuilder.py:91: PDBConstructionWarning: WARNING: Chain C is discontinuous at line 20406.\n",
      "  PDBConstructionWarning)\n",
      "/Users/jinli/anaconda3/lib/python3.6/site-packages/Bio/PDB/StructureBuilder.py:91: PDBConstructionWarning: WARNING: Chain D is discontinuous at line 20466.\n",
      "  PDBConstructionWarning)\n",
      "/Users/jinli/anaconda3/lib/python3.6/site-packages/Bio/PDB/StructureBuilder.py:91: PDBConstructionWarning: WARNING: Chain A is discontinuous at line 20526.\n",
      "  PDBConstructionWarning)\n",
      "/Users/jinli/anaconda3/lib/python3.6/site-packages/Bio/PDB/StructureBuilder.py:91: PDBConstructionWarning: WARNING: Chain B is discontinuous at line 20811.\n",
      "  PDBConstructionWarning)\n",
      "/Users/jinli/anaconda3/lib/python3.6/site-packages/Bio/PDB/StructureBuilder.py:91: PDBConstructionWarning: WARNING: Chain C is discontinuous at line 21129.\n",
      "  PDBConstructionWarning)\n",
      "/Users/jinli/anaconda3/lib/python3.6/site-packages/Bio/PDB/StructureBuilder.py:91: PDBConstructionWarning: WARNING: Chain D is discontinuous at line 21522.\n",
      "  PDBConstructionWarning)\n"
     ]
    },
    {
     "name": "stdout",
     "output_type": "stream",
     "text": [
      "\tThis protein has more than 1 chain.\n",
      "PDB File:  1b33.pdb\n"
     ]
    },
    {
     "name": "stderr",
     "output_type": "stream",
     "text": [
      "/Users/jinli/anaconda3/lib/python3.6/site-packages/Bio/PDB/StructureBuilder.py:91: PDBConstructionWarning: WARNING: Chain A is discontinuous at line 16579.\n",
      "  PDBConstructionWarning)\n",
      "/Users/jinli/anaconda3/lib/python3.6/site-packages/Bio/PDB/StructureBuilder.py:91: PDBConstructionWarning: WARNING: Chain B is discontinuous at line 16622.\n",
      "  PDBConstructionWarning)\n",
      "/Users/jinli/anaconda3/lib/python3.6/site-packages/Bio/PDB/StructureBuilder.py:91: PDBConstructionWarning: WARNING: Chain C is discontinuous at line 16665.\n",
      "  PDBConstructionWarning)\n",
      "/Users/jinli/anaconda3/lib/python3.6/site-packages/Bio/PDB/StructureBuilder.py:91: PDBConstructionWarning: WARNING: Chain D is discontinuous at line 16713.\n",
      "  PDBConstructionWarning)\n",
      "/Users/jinli/anaconda3/lib/python3.6/site-packages/Bio/PDB/StructureBuilder.py:91: PDBConstructionWarning: WARNING: Chain E is discontinuous at line 16756.\n",
      "  PDBConstructionWarning)\n",
      "/Users/jinli/anaconda3/lib/python3.6/site-packages/Bio/PDB/StructureBuilder.py:91: PDBConstructionWarning: WARNING: Chain F is discontinuous at line 16804.\n",
      "  PDBConstructionWarning)\n",
      "/Users/jinli/anaconda3/lib/python3.6/site-packages/Bio/PDB/StructureBuilder.py:91: PDBConstructionWarning: WARNING: Chain H is discontinuous at line 16847.\n",
      "  PDBConstructionWarning)\n",
      "/Users/jinli/anaconda3/lib/python3.6/site-packages/Bio/PDB/StructureBuilder.py:91: PDBConstructionWarning: WARNING: Chain I is discontinuous at line 16890.\n",
      "  PDBConstructionWarning)\n",
      "/Users/jinli/anaconda3/lib/python3.6/site-packages/Bio/PDB/StructureBuilder.py:91: PDBConstructionWarning: WARNING: Chain J is discontinuous at line 16933.\n",
      "  PDBConstructionWarning)\n",
      "/Users/jinli/anaconda3/lib/python3.6/site-packages/Bio/PDB/StructureBuilder.py:91: PDBConstructionWarning: WARNING: Chain K is discontinuous at line 16981.\n",
      "  PDBConstructionWarning)\n",
      "/Users/jinli/anaconda3/lib/python3.6/site-packages/Bio/PDB/StructureBuilder.py:91: PDBConstructionWarning: WARNING: Chain L is discontinuous at line 17024.\n",
      "  PDBConstructionWarning)\n",
      "/Users/jinli/anaconda3/lib/python3.6/site-packages/Bio/PDB/StructureBuilder.py:91: PDBConstructionWarning: WARNING: Chain M is discontinuous at line 17072.\n",
      "  PDBConstructionWarning)\n",
      "/Users/jinli/anaconda3/lib/python3.6/site-packages/Bio/PDB/StructureBuilder.py:91: PDBConstructionWarning: WARNING: Chain A is discontinuous at line 17115.\n",
      "  PDBConstructionWarning)\n",
      "/Users/jinli/anaconda3/lib/python3.6/site-packages/Bio/PDB/StructureBuilder.py:91: PDBConstructionWarning: WARNING: Chain B is discontinuous at line 17177.\n",
      "  PDBConstructionWarning)\n",
      "/Users/jinli/anaconda3/lib/python3.6/site-packages/Bio/PDB/StructureBuilder.py:91: PDBConstructionWarning: WARNING: Chain C is discontinuous at line 17258.\n",
      "  PDBConstructionWarning)\n",
      "/Users/jinli/anaconda3/lib/python3.6/site-packages/Bio/PDB/StructureBuilder.py:91: PDBConstructionWarning: WARNING: Chain D is discontinuous at line 17340.\n",
      "  PDBConstructionWarning)\n",
      "/Users/jinli/anaconda3/lib/python3.6/site-packages/Bio/PDB/StructureBuilder.py:91: PDBConstructionWarning: WARNING: Chain E is discontinuous at line 17485.\n",
      "  PDBConstructionWarning)\n",
      "/Users/jinli/anaconda3/lib/python3.6/site-packages/Bio/PDB/StructureBuilder.py:91: PDBConstructionWarning: WARNING: Chain F is discontinuous at line 17586.\n",
      "  PDBConstructionWarning)\n",
      "/Users/jinli/anaconda3/lib/python3.6/site-packages/Bio/PDB/StructureBuilder.py:91: PDBConstructionWarning: WARNING: Chain N is discontinuous at line 17713.\n",
      "  PDBConstructionWarning)\n",
      "/Users/jinli/anaconda3/lib/python3.6/site-packages/Bio/PDB/StructureBuilder.py:91: PDBConstructionWarning: WARNING: Chain H is discontinuous at line 17744.\n",
      "  PDBConstructionWarning)\n",
      "/Users/jinli/anaconda3/lib/python3.6/site-packages/Bio/PDB/StructureBuilder.py:91: PDBConstructionWarning: WARNING: Chain I is discontinuous at line 17843.\n",
      "  PDBConstructionWarning)\n",
      "/Users/jinli/anaconda3/lib/python3.6/site-packages/Bio/PDB/StructureBuilder.py:91: PDBConstructionWarning: WARNING: Chain J is discontinuous at line 17956.\n",
      "  PDBConstructionWarning)\n",
      "/Users/jinli/anaconda3/lib/python3.6/site-packages/Bio/PDB/StructureBuilder.py:91: PDBConstructionWarning: WARNING: Chain K is discontinuous at line 18065.\n",
      "  PDBConstructionWarning)\n",
      "/Users/jinli/anaconda3/lib/python3.6/site-packages/Bio/PDB/StructureBuilder.py:91: PDBConstructionWarning: WARNING: Chain L is discontinuous at line 18182.\n",
      "  PDBConstructionWarning)\n",
      "/Users/jinli/anaconda3/lib/python3.6/site-packages/Bio/PDB/StructureBuilder.py:91: PDBConstructionWarning: WARNING: Chain M is discontinuous at line 18308.\n",
      "  PDBConstructionWarning)\n",
      "/Users/jinli/anaconda3/lib/python3.6/site-packages/Bio/PDB/StructureBuilder.py:91: PDBConstructionWarning: WARNING: Chain O is discontinuous at line 18444.\n",
      "  PDBConstructionWarning)\n"
     ]
    },
    {
     "name": "stdout",
     "output_type": "stream",
     "text": [
      "\tThis protein has more than 1 chain.\n",
      "PDB File:  1b35.pdb\n"
     ]
    },
    {
     "name": "stderr",
     "output_type": "stream",
     "text": [
      "/Users/jinli/anaconda3/lib/python3.6/site-packages/Bio/PDB/StructureBuilder.py:91: PDBConstructionWarning: WARNING: Chain A is discontinuous at line 7465.\n",
      "  PDBConstructionWarning)\n",
      "/Users/jinli/anaconda3/lib/python3.6/site-packages/Bio/PDB/StructureBuilder.py:91: PDBConstructionWarning: WARNING: Chain B is discontinuous at line 7535.\n",
      "  PDBConstructionWarning)\n",
      "/Users/jinli/anaconda3/lib/python3.6/site-packages/Bio/PDB/StructureBuilder.py:91: PDBConstructionWarning: WARNING: Chain C is discontinuous at line 7586.\n",
      "  PDBConstructionWarning)\n",
      "/Users/jinli/anaconda3/lib/python3.6/site-packages/Bio/PDB/StructureBuilder.py:91: PDBConstructionWarning: WARNING: Chain D is discontinuous at line 7642.\n",
      "  PDBConstructionWarning)\n",
      "/Users/jinli/anaconda3/lib/python3.6/site-packages/Bio/PDB/StructureBuilder.py:91: PDBConstructionWarning: WARNING: Chain A is discontinuous at line 9653.\n",
      "  PDBConstructionWarning)\n",
      "/Users/jinli/anaconda3/lib/python3.6/site-packages/Bio/PDB/StructureBuilder.py:91: PDBConstructionWarning: WARNING: Chain B is discontinuous at line 10074.\n",
      "  PDBConstructionWarning)\n"
     ]
    },
    {
     "name": "stdout",
     "output_type": "stream",
     "text": [
      "\tThis protein has more than 1 chain.\n",
      "PDB File:  1b3u.pdb\n",
      "\tThis protein has more than 1 chain.\n",
      "PDB File:  1b5e.pdb\n"
     ]
    },
    {
     "name": "stderr",
     "output_type": "stream",
     "text": [
      "/Users/jinli/anaconda3/lib/python3.6/site-packages/Bio/PDB/StructureBuilder.py:91: PDBConstructionWarning: WARNING: Chain A is discontinuous at line 4358.\n",
      "  PDBConstructionWarning)\n",
      "/Users/jinli/anaconda3/lib/python3.6/site-packages/Bio/PDB/StructureBuilder.py:91: PDBConstructionWarning: WARNING: Chain B is discontinuous at line 4378.\n",
      "  PDBConstructionWarning)\n",
      "/Users/jinli/anaconda3/lib/python3.6/site-packages/Bio/PDB/StructureBuilder.py:91: PDBConstructionWarning: WARNING: Chain A is discontinuous at line 4398.\n",
      "  PDBConstructionWarning)\n",
      "/Users/jinli/anaconda3/lib/python3.6/site-packages/Bio/PDB/StructureBuilder.py:91: PDBConstructionWarning: WARNING: Chain B is discontinuous at line 4478.\n",
      "  PDBConstructionWarning)\n"
     ]
    },
    {
     "name": "stdout",
     "output_type": "stream",
     "text": [
      "\tThis protein has more than 1 chain.\n",
      "PDB File:  1b5q.pdb\n"
     ]
    },
    {
     "name": "stderr",
     "output_type": "stream",
     "text": [
      "/Users/jinli/anaconda3/lib/python3.6/site-packages/Bio/PDB/StructureBuilder.py:91: PDBConstructionWarning: WARNING: Chain A is discontinuous at line 12049.\n",
      "  PDBConstructionWarning)\n",
      "/Users/jinli/anaconda3/lib/python3.6/site-packages/Bio/PDB/StructureBuilder.py:91: PDBConstructionWarning: WARNING: Chain B is discontinuous at line 12144.\n",
      "  PDBConstructionWarning)\n",
      "/Users/jinli/anaconda3/lib/python3.6/site-packages/Bio/PDB/StructureBuilder.py:91: PDBConstructionWarning: WARNING: Chain C is discontinuous at line 12239.\n",
      "  PDBConstructionWarning)\n",
      "/Users/jinli/anaconda3/lib/python3.6/site-packages/Bio/PDB/StructureBuilder.py:91: PDBConstructionWarning: WARNING: Chain A is discontinuous at line 12366.\n",
      "  PDBConstructionWarning)\n",
      "/Users/jinli/anaconda3/lib/python3.6/site-packages/Bio/PDB/StructureBuilder.py:91: PDBConstructionWarning: WARNING: Chain B is discontinuous at line 12561.\n",
      "  PDBConstructionWarning)\n",
      "/Users/jinli/anaconda3/lib/python3.6/site-packages/Bio/PDB/StructureBuilder.py:91: PDBConstructionWarning: WARNING: Chain C is discontinuous at line 12768.\n",
      "  PDBConstructionWarning)\n"
     ]
    },
    {
     "name": "stdout",
     "output_type": "stream",
     "text": [
      "\tThis protein has more than 1 chain.\n",
      "PDB File:  1b63.pdb\n",
      "PDB File:  1b77.pdb\n",
      "\tThis protein has more than 1 chain.\n",
      "PDB File:  1b8k.pdb\n"
     ]
    },
    {
     "name": "stderr",
     "output_type": "stream",
     "text": [
      "/Users/jinli/anaconda3/lib/python3.6/site-packages/Bio/PDB/StructureBuilder.py:91: PDBConstructionWarning: WARNING: Chain A is discontinuous at line 5743.\n",
      "  PDBConstructionWarning)\n",
      "/Users/jinli/anaconda3/lib/python3.6/site-packages/Bio/PDB/StructureBuilder.py:91: PDBConstructionWarning: WARNING: Chain B is discontinuous at line 5957.\n",
      "  PDBConstructionWarning)\n",
      "/Users/jinli/anaconda3/lib/python3.6/site-packages/Bio/PDB/StructureBuilder.py:91: PDBConstructionWarning: WARNING: Chain C is discontinuous at line 6214.\n",
      "  PDBConstructionWarning)\n"
     ]
    },
    {
     "name": "stdout",
     "output_type": "stream",
     "text": [
      "PDB File:  1b9l.pdb\n",
      "\tThis protein has more than 1 chain.\n",
      "PDB File:  1b9w.pdb\n",
      "PDB File:  1bco.pdb\n",
      "PDB File:  1bcp.pdb\n"
     ]
    },
    {
     "name": "stderr",
     "output_type": "stream",
     "text": [
      "/Users/jinli/anaconda3/lib/python3.6/site-packages/Bio/PDB/StructureBuilder.py:91: PDBConstructionWarning: WARNING: Chain E is discontinuous at line 15537.\n",
      "  PDBConstructionWarning)\n",
      "/Users/jinli/anaconda3/lib/python3.6/site-packages/Bio/PDB/StructureBuilder.py:91: PDBConstructionWarning: WARNING: Chain K is discontinuous at line 15568.\n",
      "  PDBConstructionWarning)\n",
      "/Users/jinli/anaconda3/lib/python3.6/site-packages/Bio/PDB/StructureBuilder.py:91: PDBConstructionWarning: WARNING: Chain A is discontinuous at line 15599.\n",
      "  PDBConstructionWarning)\n",
      "/Users/jinli/anaconda3/lib/python3.6/site-packages/Bio/PDB/StructureBuilder.py:91: PDBConstructionWarning: WARNING: Chain B is discontinuous at line 15609.\n",
      "  PDBConstructionWarning)\n",
      "/Users/jinli/anaconda3/lib/python3.6/site-packages/Bio/PDB/StructureBuilder.py:91: PDBConstructionWarning: WARNING: Chain C is discontinuous at line 15613.\n",
      "  PDBConstructionWarning)\n",
      "/Users/jinli/anaconda3/lib/python3.6/site-packages/Bio/PDB/StructureBuilder.py:91: PDBConstructionWarning: WARNING: Chain E is discontinuous at line 15619.\n",
      "  PDBConstructionWarning)\n",
      "/Users/jinli/anaconda3/lib/python3.6/site-packages/Bio/PDB/StructureBuilder.py:91: PDBConstructionWarning: WARNING: Chain G is discontinuous at line 15624.\n",
      "  PDBConstructionWarning)\n",
      "/Users/jinli/anaconda3/lib/python3.6/site-packages/Bio/PDB/StructureBuilder.py:91: PDBConstructionWarning: WARNING: Chain H is discontinuous at line 15625.\n",
      "  PDBConstructionWarning)\n",
      "/Users/jinli/anaconda3/lib/python3.6/site-packages/Bio/PDB/StructureBuilder.py:91: PDBConstructionWarning: WARNING: Chain I is discontinuous at line 15628.\n",
      "  PDBConstructionWarning)\n",
      "/Users/jinli/anaconda3/lib/python3.6/site-packages/Bio/PDB/StructureBuilder.py:91: PDBConstructionWarning: WARNING: Chain J is discontinuous at line 15632.\n",
      "  PDBConstructionWarning)\n",
      "/Users/jinli/anaconda3/lib/python3.6/site-packages/Bio/PDB/StructureBuilder.py:91: PDBConstructionWarning: WARNING: Chain K is discontinuous at line 15635.\n",
      "  PDBConstructionWarning)\n",
      "/Users/jinli/anaconda3/lib/python3.6/site-packages/Bio/PDB/StructureBuilder.py:91: PDBConstructionWarning: WARNING: Chain L is discontinuous at line 15639.\n",
      "  PDBConstructionWarning)\n",
      "/Users/jinli/anaconda3/lib/python3.6/site-packages/Bio/PDB/StructureBuilder.py:91: PDBConstructionWarning: WARNING: Chain A is discontinuous at line 3882.\n",
      "  PDBConstructionWarning)\n",
      "/Users/jinli/anaconda3/lib/python3.6/site-packages/Bio/PDB/StructureBuilder.py:91: PDBConstructionWarning: WARNING: Chain B is discontinuous at line 3946.\n",
      "  PDBConstructionWarning)\n",
      "/Users/jinli/anaconda3/lib/python3.6/site-packages/Bio/PDB/StructureBuilder.py:91: PDBConstructionWarning: WARNING: Chain A is discontinuous at line 3978.\n",
      "  PDBConstructionWarning)\n",
      "/Users/jinli/anaconda3/lib/python3.6/site-packages/Bio/PDB/StructureBuilder.py:91: PDBConstructionWarning: WARNING: Chain B is discontinuous at line 4210.\n",
      "  PDBConstructionWarning)\n",
      "/Users/jinli/anaconda3/lib/python3.6/site-packages/Bio/PDB/StructureBuilder.py:91: PDBConstructionWarning: WARNING: Chain C is discontinuous at line 4367.\n",
      "  PDBConstructionWarning)\n"
     ]
    },
    {
     "name": "stdout",
     "output_type": "stream",
     "text": [
      "\tThis protein has more than 1 chain.\n",
      "PDB File:  1bcs.pdb\n",
      "\tThis protein has more than 1 chain.\n",
      "PDB File:  1bdf.pdb\n",
      "\tThis protein has more than 1 chain.\n",
      "PDB File:  1bea.pdb\n",
      "PDB File:  1bf2.pdb\n",
      "PDB File:  1bg6.pdb\n",
      "PDB File:  1bgf.pdb\n",
      "PDB File:  "
     ]
    },
    {
     "name": "stderr",
     "output_type": "stream",
     "text": [
      "/Users/jinli/anaconda3/lib/python3.6/site-packages/Bio/PDB/StructureBuilder.py:91: PDBConstructionWarning: WARNING: Chain A is discontinuous at line 7659.\n",
      "  PDBConstructionWarning)\n",
      "/Users/jinli/anaconda3/lib/python3.6/site-packages/Bio/PDB/StructureBuilder.py:91: PDBConstructionWarning: WARNING: Chain B is discontinuous at line 7722.\n",
      "  PDBConstructionWarning)\n",
      "/Users/jinli/anaconda3/lib/python3.6/site-packages/Bio/PDB/StructureBuilder.py:91: PDBConstructionWarning: WARNING: Chain C is discontinuous at line 7783.\n",
      "  PDBConstructionWarning)\n",
      "/Users/jinli/anaconda3/lib/python3.6/site-packages/Bio/PDB/StructureBuilder.py:91: PDBConstructionWarning: WARNING: Chain D is discontinuous at line 7832.\n",
      "  PDBConstructionWarning)\n",
      "/Users/jinli/anaconda3/lib/python3.6/site-packages/Bio/PDB/StructureBuilder.py:91: PDBConstructionWarning: WARNING: Chain A is discontinuous at line 1435.\n",
      "  PDBConstructionWarning)\n",
      "/Users/jinli/anaconda3/lib/python3.6/site-packages/Bio/PDB/StructureBuilder.py:91: PDBConstructionWarning: WARNING: Chain B is discontinuous at line 1450.\n",
      "  PDBConstructionWarning)\n"
     ]
    },
    {
     "name": "stdout",
     "output_type": "stream",
     "text": [
      "1bh9.pdb\n",
      "\tThis protein has more than 1 chain.\n",
      "PDB File:  1bhe.pdb\n",
      "PDB File:  1bja.pdb\n",
      "\tThis protein has more than 1 chain.\n",
      "PDB File:  1bkr.pdb\n",
      "PDB File:  1bl0.pdb\n"
     ]
    },
    {
     "name": "stderr",
     "output_type": "stream",
     "text": [
      "/Users/jinli/anaconda3/lib/python3.6/site-packages/Bio/PDB/StructureBuilder.py:91: PDBConstructionWarning: WARNING: Chain A is discontinuous at line 1751.\n",
      "  PDBConstructionWarning)\n",
      "/Users/jinli/anaconda3/lib/python3.6/site-packages/Bio/PDB/StructureBuilder.py:91: PDBConstructionWarning: WARNING: Chain B is discontinuous at line 1794.\n",
      "  PDBConstructionWarning)\n",
      "/Users/jinli/anaconda3/lib/python3.6/site-packages/Bio/PDB/StructureBuilder.py:91: PDBConstructionWarning: WARNING: Chain B is discontinuous at line 2384.\n",
      "  PDBConstructionWarning)\n",
      "/Users/jinli/anaconda3/lib/python3.6/site-packages/Bio/PDB/StructureBuilder.py:91: PDBConstructionWarning: WARNING: Chain C is discontinuous at line 2412.\n",
      "  PDBConstructionWarning)\n",
      "/Users/jinli/anaconda3/lib/python3.6/site-packages/Bio/PDB/StructureBuilder.py:91: PDBConstructionWarning: WARNING: Chain A is discontinuous at line 2448.\n",
      "  PDBConstructionWarning)\n"
     ]
    },
    {
     "name": "stdout",
     "output_type": "stream",
     "text": [
      "\tThis protein has more than 1 chain.\n",
      "PDB File:  1bm8.pdb\n",
      "PDB File:  1bm9.pdb\n",
      "\tThis protein has more than 1 chain.\n",
      "PDB File:  1boo.pdb\n"
     ]
    },
    {
     "name": "stderr",
     "output_type": "stream",
     "text": [
      "/Users/jinli/anaconda3/lib/python3.6/site-packages/Bio/PDB/StructureBuilder.py:91: PDBConstructionWarning: WARNING: Chain A is discontinuous at line 2946.\n",
      "  PDBConstructionWarning)\n",
      "/Users/jinli/anaconda3/lib/python3.6/site-packages/Bio/PDB/StructureBuilder.py:91: PDBConstructionWarning: WARNING: Chain B is discontinuous at line 3039.\n",
      "  PDBConstructionWarning)\n"
     ]
    },
    {
     "name": "stdout",
     "output_type": "stream",
     "text": [
      "PDB File:  1bqu.pdb\n",
      "\tThis protein has more than 1 chain.\n",
      "PDB File:  1brt.pdb\n"
     ]
    },
    {
     "name": "stderr",
     "output_type": "stream",
     "text": [
      "/Users/jinli/anaconda3/lib/python3.6/site-packages/Bio/PDB/StructureBuilder.py:91: PDBConstructionWarning: WARNING: Chain A is discontinuous at line 3864.\n",
      "  PDBConstructionWarning)\n",
      "/Users/jinli/anaconda3/lib/python3.6/site-packages/Bio/PDB/StructureBuilder.py:91: PDBConstructionWarning: WARNING: Chain B is discontinuous at line 3891.\n",
      "  PDBConstructionWarning)\n",
      "/Users/jinli/anaconda3/lib/python3.6/site-packages/Bio/PDB/StructureBuilder.py:91: PDBConstructionWarning: WARNING: Chain A is discontinuous at line 3924.\n",
      "  PDBConstructionWarning)\n",
      "/Users/jinli/anaconda3/lib/python3.6/site-packages/Bio/PDB/StructureBuilder.py:91: PDBConstructionWarning: WARNING: Chain B is discontinuous at line 4054.\n",
      "  PDBConstructionWarning)\n"
     ]
    },
    {
     "name": "stdout",
     "output_type": "stream",
     "text": [
      "PDB File:  1bte.pdb\n",
      "\tThis protein has more than 1 chain.\n",
      "PDB File:  1btk.pdb\n",
      "\tThis protein has more than 1 chain.\n",
      "PDB File:  1bu8.pdb\n"
     ]
    },
    {
     "name": "stderr",
     "output_type": "stream",
     "text": [
      "/Users/jinli/anaconda3/lib/python3.6/site-packages/Bio/PDB/StructureBuilder.py:91: PDBConstructionWarning: WARNING: Chain A is discontinuous at line 1942.\n",
      "  PDBConstructionWarning)\n",
      "/Users/jinli/anaconda3/lib/python3.6/site-packages/Bio/PDB/StructureBuilder.py:91: PDBConstructionWarning: WARNING: Chain B is discontinuous at line 1971.\n",
      "  PDBConstructionWarning)\n",
      "/Users/jinli/anaconda3/lib/python3.6/site-packages/Bio/PDB/StructureBuilder.py:91: PDBConstructionWarning: WARNING: Chain A is discontinuous at line 2000.\n",
      "  PDBConstructionWarning)\n",
      "/Users/jinli/anaconda3/lib/python3.6/site-packages/Bio/PDB/StructureBuilder.py:91: PDBConstructionWarning: WARNING: Chain B is discontinuous at line 2116.\n",
      "  PDBConstructionWarning)\n",
      "/Users/jinli/anaconda3/lib/python3.6/site-packages/Bio/PDB/StructureBuilder.py:91: PDBConstructionWarning: WARNING: Chain A is discontinuous at line 3187.\n",
      "  PDBConstructionWarning)\n",
      "/Users/jinli/anaconda3/lib/python3.6/site-packages/Bio/PDB/StructureBuilder.py:91: PDBConstructionWarning: WARNING: Chain B is discontinuous at line 3189.\n",
      "  PDBConstructionWarning)\n",
      "/Users/jinli/anaconda3/lib/python3.6/site-packages/Bio/PDB/StructureBuilder.py:91: PDBConstructionWarning: WARNING: Chain A is discontinuous at line 3191.\n",
      "  PDBConstructionWarning)\n",
      "/Users/jinli/anaconda3/lib/python3.6/site-packages/Bio/PDB/StructureBuilder.py:91: PDBConstructionWarning: WARNING: Chain B is discontinuous at line 3334.\n",
      "  PDBConstructionWarning)\n"
     ]
    },
    {
     "name": "stdout",
     "output_type": "stream",
     "text": [
      "PDB File:  1bvy.pdb\n"
     ]
    },
    {
     "name": "stderr",
     "output_type": "stream",
     "text": [
      "/Users/jinli/anaconda3/lib/python3.6/site-packages/Bio/PDB/StructureBuilder.py:91: PDBConstructionWarning: WARNING: Chain A is discontinuous at line 8956.\n",
      "  PDBConstructionWarning)\n",
      "/Users/jinli/anaconda3/lib/python3.6/site-packages/Bio/PDB/StructureBuilder.py:91: PDBConstructionWarning: WARNING: Chain F is discontinuous at line 9007.\n",
      "  PDBConstructionWarning)\n",
      "/Users/jinli/anaconda3/lib/python3.6/site-packages/Bio/PDB/StructureBuilder.py:91: PDBConstructionWarning: WARNING: Chain B is discontinuous at line 9038.\n",
      "  PDBConstructionWarning)\n",
      "/Users/jinli/anaconda3/lib/python3.6/site-packages/Bio/PDB/StructureBuilder.py:91: PDBConstructionWarning: WARNING: Chain A is discontinuous at line 9093.\n",
      "  PDBConstructionWarning)\n",
      "/Users/jinli/anaconda3/lib/python3.6/site-packages/Bio/PDB/StructureBuilder.py:91: PDBConstructionWarning: WARNING: Chain F is discontinuous at line 9553.\n",
      "  PDBConstructionWarning)\n",
      "/Users/jinli/anaconda3/lib/python3.6/site-packages/Bio/PDB/StructureBuilder.py:91: PDBConstructionWarning: WARNING: Chain B is discontinuous at line 9633.\n",
      "  PDBConstructionWarning)\n",
      "/Users/jinli/anaconda3/lib/python3.6/site-packages/Bio/PDB/StructureBuilder.py:91: PDBConstructionWarning: WARNING: Chain A is discontinuous at line 1306.\n",
      "  PDBConstructionWarning)\n",
      "/Users/jinli/anaconda3/lib/python3.6/site-packages/Bio/PDB/StructureBuilder.py:91: PDBConstructionWarning: WARNING: Chain B is discontinuous at line 1346.\n",
      "  PDBConstructionWarning)\n"
     ]
    },
    {
     "name": "stdout",
     "output_type": "stream",
     "text": [
      "\tThis protein has more than 1 chain.\n",
      "PDB File:  1bx7.pdb\n",
      "PDB File:  1bxy.pdb\n",
      "\tThis protein has more than 1 chain.\n",
      "PDB File:  1byi.pdb\n",
      "PDB File:  1byr.pdb\n",
      "PDB File:  1c0p.pdb\n",
      "PDB File:  1c1d.pdb\n",
      "\tThis protein has more than 1 chain.\n",
      "PDB File:  1c1k.pdb\n"
     ]
    },
    {
     "name": "stderr",
     "output_type": "stream",
     "text": [
      "/Users/jinli/anaconda3/lib/python3.6/site-packages/Bio/PDB/StructureBuilder.py:91: PDBConstructionWarning: WARNING: Chain A is discontinuous at line 5832.\n",
      "  PDBConstructionWarning)\n",
      "/Users/jinli/anaconda3/lib/python3.6/site-packages/Bio/PDB/StructureBuilder.py:91: PDBConstructionWarning: WARNING: Chain B is discontinuous at line 5890.\n",
      "  PDBConstructionWarning)\n",
      "/Users/jinli/anaconda3/lib/python3.6/site-packages/Bio/PDB/StructureBuilder.py:91: PDBConstructionWarning: WARNING: Chain A is discontinuous at line 5959.\n",
      "  PDBConstructionWarning)\n",
      "/Users/jinli/anaconda3/lib/python3.6/site-packages/Bio/PDB/StructureBuilder.py:91: PDBConstructionWarning: WARNING: Chain B is discontinuous at line 6407.\n",
      "  PDBConstructionWarning)\n"
     ]
    },
    {
     "name": "stdout",
     "output_type": "stream",
     "text": [
      "PDB File:  1c1y.pdb\n",
      "\tThis protein has more than 1 chain.\n",
      "PDB File:  1c3c.pdb\n"
     ]
    },
    {
     "name": "stderr",
     "output_type": "stream",
     "text": [
      "/Users/jinli/anaconda3/lib/python3.6/site-packages/Bio/PDB/StructureBuilder.py:91: PDBConstructionWarning: WARNING: Chain A is discontinuous at line 2511.\n",
      "  PDBConstructionWarning)\n",
      "/Users/jinli/anaconda3/lib/python3.6/site-packages/Bio/PDB/StructureBuilder.py:91: PDBConstructionWarning: WARNING: Chain B is discontinuous at line 2544.\n",
      "  PDBConstructionWarning)\n",
      "/Users/jinli/anaconda3/lib/python3.6/site-packages/Bio/PDB/StructureBuilder.py:91: PDBConstructionWarning: WARNING: Chain A is discontinuous at line 2545.\n",
      "  PDBConstructionWarning)\n",
      "/Users/jinli/anaconda3/lib/python3.6/site-packages/Bio/PDB/StructureBuilder.py:91: PDBConstructionWarning: WARNING: Chain B is discontinuous at line 2592.\n",
      "  PDBConstructionWarning)\n",
      "/Users/jinli/anaconda3/lib/python3.6/site-packages/Bio/PDB/StructureBuilder.py:91: PDBConstructionWarning: WARNING: Chain A is discontinuous at line 14097.\n",
      "  PDBConstructionWarning)\n",
      "/Users/jinli/anaconda3/lib/python3.6/site-packages/Bio/PDB/StructureBuilder.py:91: PDBConstructionWarning: WARNING: Chain B is discontinuous at line 14791.\n",
      "  PDBConstructionWarning)\n"
     ]
    },
    {
     "name": "stdout",
     "output_type": "stream",
     "text": [
      "\tThis protein has more than 1 chain.\n",
      "PDB File:  1c3p.pdb\n",
      "PDB File:  1c4o.pdb\n",
      "PDB File:  1c4q.pdb\n",
      "\tThis protein has more than 1 chain.\n",
      "PDB File:  1c5e.pdb\n"
     ]
    },
    {
     "name": "stderr",
     "output_type": "stream",
     "text": [
      "/Users/jinli/anaconda3/lib/python3.6/site-packages/Bio/PDB/StructureBuilder.py:91: PDBConstructionWarning: WARNING: Chain A is discontinuous at line 3184.\n",
      "  PDBConstructionWarning)\n",
      "/Users/jinli/anaconda3/lib/python3.6/site-packages/Bio/PDB/StructureBuilder.py:91: PDBConstructionWarning: WARNING: Chain B is discontinuous at line 3218.\n",
      "  PDBConstructionWarning)\n",
      "/Users/jinli/anaconda3/lib/python3.6/site-packages/Bio/PDB/StructureBuilder.py:91: PDBConstructionWarning: WARNING: Chain C is discontinuous at line 3252.\n",
      "  PDBConstructionWarning)\n",
      "/Users/jinli/anaconda3/lib/python3.6/site-packages/Bio/PDB/StructureBuilder.py:91: PDBConstructionWarning: WARNING: Chain D is discontinuous at line 3286.\n",
      "  PDBConstructionWarning)\n",
      "/Users/jinli/anaconda3/lib/python3.6/site-packages/Bio/PDB/StructureBuilder.py:91: PDBConstructionWarning: WARNING: Chain E is discontinuous at line 3320.\n",
      "  PDBConstructionWarning)\n",
      "/Users/jinli/anaconda3/lib/python3.6/site-packages/Bio/PDB/StructureBuilder.py:91: PDBConstructionWarning: WARNING: Chain A is discontinuous at line 3354.\n",
      "  PDBConstructionWarning)\n",
      "/Users/jinli/anaconda3/lib/python3.6/site-packages/Bio/PDB/StructureBuilder.py:91: PDBConstructionWarning: WARNING: Chain B is discontinuous at line 3431.\n",
      "  PDBConstructionWarning)\n",
      "/Users/jinli/anaconda3/lib/python3.6/site-packages/Bio/PDB/StructureBuilder.py:91: PDBConstructionWarning: WARNING: Chain C is discontinuous at line 3514.\n",
      "  PDBConstructionWarning)\n",
      "/Users/jinli/anaconda3/lib/python3.6/site-packages/Bio/PDB/StructureBuilder.py:91: PDBConstructionWarning: WARNING: Chain D is discontinuous at line 3587.\n",
      "  PDBConstructionWarning)\n",
      "/Users/jinli/anaconda3/lib/python3.6/site-packages/Bio/PDB/StructureBuilder.py:91: PDBConstructionWarning: WARNING: Chain E is discontinuous at line 3668.\n",
      "  PDBConstructionWarning)\n",
      "/Users/jinli/anaconda3/lib/python3.6/site-packages/Bio/PDB/StructureBuilder.py:91: PDBConstructionWarning: WARNING: Chain A is discontinuous at line 4508.\n",
      "  PDBConstructionWarning)\n",
      "/Users/jinli/anaconda3/lib/python3.6/site-packages/Bio/PDB/StructureBuilder.py:91: PDBConstructionWarning: WARNING: Chain C is discontinuous at line 4520.\n",
      "  PDBConstructionWarning)\n",
      "/Users/jinli/anaconda3/lib/python3.6/site-packages/Bio/PDB/StructureBuilder.py:91: PDBConstructionWarning: WARNING: Chain A is discontinuous at line 4532.\n",
      "  PDBConstructionWarning)\n",
      "/Users/jinli/anaconda3/lib/python3.6/site-packages/Bio/PDB/StructureBuilder.py:91: PDBConstructionWarning: WARNING: Chain B is discontinuous at line 4772.\n",
      "  PDBConstructionWarning)\n",
      "/Users/jinli/anaconda3/lib/python3.6/site-packages/Bio/PDB/StructureBuilder.py:91: PDBConstructionWarning: WARNING: Chain C is discontinuous at line 4948.\n",
      "  PDBConstructionWarning)\n"
     ]
    },
    {
     "name": "stdout",
     "output_type": "stream",
     "text": [
      "\tThis protein has more than 1 chain.\n",
      "PDB File:  1c7k.pdb\n",
      "PDB File:  1c8n.pdb\n"
     ]
    },
    {
     "name": "stderr",
     "output_type": "stream",
     "text": [
      "/Users/jinli/anaconda3/lib/python3.6/site-packages/Bio/PDB/StructureBuilder.py:91: PDBConstructionWarning: WARNING: Chain A is discontinuous at line 5595.\n",
      "  PDBConstructionWarning)\n",
      "/Users/jinli/anaconda3/lib/python3.6/site-packages/Bio/PDB/StructureBuilder.py:91: PDBConstructionWarning: WARNING: Chain B is discontinuous at line 5597.\n",
      "  PDBConstructionWarning)\n",
      "/Users/jinli/anaconda3/lib/python3.6/site-packages/Bio/PDB/StructureBuilder.py:91: PDBConstructionWarning: WARNING: Chain C is discontinuous at line 5599.\n",
      "  PDBConstructionWarning)\n",
      "/Users/jinli/anaconda3/lib/python3.6/site-packages/Bio/PDB/StructureBuilder.py:91: PDBConstructionWarning: WARNING: Chain A is discontinuous at line 5600.\n",
      "  PDBConstructionWarning)\n",
      "/Users/jinli/anaconda3/lib/python3.6/site-packages/Bio/PDB/StructureBuilder.py:91: PDBConstructionWarning: WARNING: Chain B is discontinuous at line 5652.\n",
      "  PDBConstructionWarning)\n",
      "/Users/jinli/anaconda3/lib/python3.6/site-packages/Bio/PDB/StructureBuilder.py:91: PDBConstructionWarning: WARNING: Chain C is discontinuous at line 5714.\n",
      "  PDBConstructionWarning)\n",
      "/Users/jinli/anaconda3/lib/python3.6/site-packages/Bio/PDB/StructureBuilder.py:91: PDBConstructionWarning: WARNING: Chain A is discontinuous at line 5070.\n",
      "  PDBConstructionWarning)\n",
      "/Users/jinli/anaconda3/lib/python3.6/site-packages/Bio/PDB/StructureBuilder.py:91: PDBConstructionWarning: WARNING: Chain B is discontinuous at line 5086.\n",
      "  PDBConstructionWarning)\n",
      "/Users/jinli/anaconda3/lib/python3.6/site-packages/Bio/PDB/StructureBuilder.py:91: PDBConstructionWarning: WARNING: Chain A is discontinuous at line 5102.\n",
      "  PDBConstructionWarning)\n",
      "/Users/jinli/anaconda3/lib/python3.6/site-packages/Bio/PDB/StructureBuilder.py:91: PDBConstructionWarning: WARNING: Chain B is discontinuous at line 5376.\n",
      "  PDBConstructionWarning)\n"
     ]
    },
    {
     "name": "stdout",
     "output_type": "stream",
     "text": [
      "\tThis protein has more than 1 chain.\n",
      "PDB File:  1c8u.pdb\n",
      "\tThis protein has more than 1 chain.\n",
      "PDB File:  1c9k.pdb\n"
     ]
    },
    {
     "name": "stderr",
     "output_type": "stream",
     "text": [
      "/Users/jinli/anaconda3/lib/python3.6/site-packages/Bio/PDB/StructureBuilder.py:91: PDBConstructionWarning: WARNING: Chain A is discontinuous at line 4428.\n",
      "  PDBConstructionWarning)\n",
      "/Users/jinli/anaconda3/lib/python3.6/site-packages/Bio/PDB/StructureBuilder.py:91: PDBConstructionWarning: WARNING: Chain B is discontinuous at line 4457.\n",
      "  PDBConstructionWarning)\n",
      "/Users/jinli/anaconda3/lib/python3.6/site-packages/Bio/PDB/StructureBuilder.py:91: PDBConstructionWarning: WARNING: Chain C is discontinuous at line 4486.\n",
      "  PDBConstructionWarning)\n",
      "/Users/jinli/anaconda3/lib/python3.6/site-packages/Bio/PDB/StructureBuilder.py:91: PDBConstructionWarning: WARNING: Chain A is discontinuous at line 4516.\n",
      "  PDBConstructionWarning)\n",
      "/Users/jinli/anaconda3/lib/python3.6/site-packages/Bio/PDB/StructureBuilder.py:91: PDBConstructionWarning: WARNING: Chain B is discontinuous at line 4650.\n",
      "  PDBConstructionWarning)\n",
      "/Users/jinli/anaconda3/lib/python3.6/site-packages/Bio/PDB/StructureBuilder.py:91: PDBConstructionWarning: WARNING: Chain C is discontinuous at line 4766.\n",
      "  PDBConstructionWarning)\n"
     ]
    },
    {
     "name": "stdout",
     "output_type": "stream",
     "text": [
      "\tThis protein has more than 1 chain.\n",
      "PDB File:  1cb8.pdb\n",
      "PDB File:  1cc8.pdb\n",
      "PDB File:  1ccw.pdb\n"
     ]
    },
    {
     "name": "stderr",
     "output_type": "stream",
     "text": [
      "/Users/jinli/anaconda3/lib/python3.6/site-packages/Bio/PDB/StructureBuilder.py:91: PDBConstructionWarning: WARNING: Chain A is discontinuous at line 10355.\n",
      "  PDBConstructionWarning)\n",
      "/Users/jinli/anaconda3/lib/python3.6/site-packages/Bio/PDB/StructureBuilder.py:91: PDBConstructionWarning: WARNING: Chain B is discontinuous at line 10448.\n",
      "  PDBConstructionWarning)\n",
      "/Users/jinli/anaconda3/lib/python3.6/site-packages/Bio/PDB/StructureBuilder.py:91: PDBConstructionWarning: WARNING: Chain C is discontinuous at line 10458.\n",
      "  PDBConstructionWarning)\n",
      "/Users/jinli/anaconda3/lib/python3.6/site-packages/Bio/PDB/StructureBuilder.py:91: PDBConstructionWarning: WARNING: Chain D is discontinuous at line 10551.\n",
      "  PDBConstructionWarning)\n",
      "/Users/jinli/anaconda3/lib/python3.6/site-packages/Bio/PDB/StructureBuilder.py:91: PDBConstructionWarning: WARNING: Chain A is discontinuous at line 10561.\n",
      "  PDBConstructionWarning)\n",
      "/Users/jinli/anaconda3/lib/python3.6/site-packages/Bio/PDB/StructureBuilder.py:91: PDBConstructionWarning: WARNING: Chain B is discontinuous at line 10754.\n",
      "  PDBConstructionWarning)\n",
      "/Users/jinli/anaconda3/lib/python3.6/site-packages/Bio/PDB/StructureBuilder.py:91: PDBConstructionWarning: WARNING: Chain C is discontinuous at line 11492.\n",
      "  PDBConstructionWarning)\n",
      "/Users/jinli/anaconda3/lib/python3.6/site-packages/Bio/PDB/StructureBuilder.py:91: PDBConstructionWarning: WARNING: Chain D is discontinuous at line 11690.\n",
      "  PDBConstructionWarning)\n"
     ]
    },
    {
     "name": "stdout",
     "output_type": "stream",
     "text": [
      "\tThis protein has more than 1 chain.\n",
      "PDB File:  1ccz.pdb\n",
      "PDB File:  1cf7.pdb\n",
      "\tThis protein has more than 1 chain.\n",
      "PDB File:  1cfb.pdb\n"
     ]
    },
    {
     "name": "stderr",
     "output_type": "stream",
     "text": [
      "/Users/jinli/anaconda3/lib/python3.6/site-packages/Bio/PDB/StructureBuilder.py:91: PDBConstructionWarning: WARNING: Chain C is discontinuous at line 2234.\n",
      "  PDBConstructionWarning)\n",
      "/Users/jinli/anaconda3/lib/python3.6/site-packages/Bio/PDB/StructureBuilder.py:91: PDBConstructionWarning: WARNING: Chain D is discontinuous at line 2256.\n",
      "  PDBConstructionWarning)\n",
      "/Users/jinli/anaconda3/lib/python3.6/site-packages/Bio/PDB/StructureBuilder.py:91: PDBConstructionWarning: WARNING: Chain A is discontinuous at line 2270.\n",
      "  PDBConstructionWarning)\n",
      "/Users/jinli/anaconda3/lib/python3.6/site-packages/Bio/PDB/StructureBuilder.py:91: PDBConstructionWarning: WARNING: Chain B is discontinuous at line 2280.\n",
      "  PDBConstructionWarning)\n"
     ]
    },
    {
     "name": "stdout",
     "output_type": "stream",
     "text": [
      "PDB File:  1cfr.pdb\n",
      "PDB File:  1cfz.pdb\n",
      "\tThis protein has more than 1 chain.\n",
      "PDB File:  1cg2.pdb\n"
     ]
    },
    {
     "name": "stderr",
     "output_type": "stream",
     "text": [
      "/Users/jinli/anaconda3/lib/python3.6/site-packages/Bio/PDB/StructureBuilder.py:91: PDBConstructionWarning: WARNING: Chain A is discontinuous at line 8092.\n",
      "  PDBConstructionWarning)\n",
      "/Users/jinli/anaconda3/lib/python3.6/site-packages/Bio/PDB/StructureBuilder.py:91: PDBConstructionWarning: WARNING: Chain B is discontinuous at line 8093.\n",
      "  PDBConstructionWarning)\n",
      "/Users/jinli/anaconda3/lib/python3.6/site-packages/Bio/PDB/StructureBuilder.py:91: PDBConstructionWarning: WARNING: Chain C is discontinuous at line 8094.\n",
      "  PDBConstructionWarning)\n",
      "/Users/jinli/anaconda3/lib/python3.6/site-packages/Bio/PDB/StructureBuilder.py:91: PDBConstructionWarning: WARNING: Chain D is discontinuous at line 8095.\n",
      "  PDBConstructionWarning)\n",
      "/Users/jinli/anaconda3/lib/python3.6/site-packages/Bio/PDB/StructureBuilder.py:91: PDBConstructionWarning: WARNING: Chain E is discontinuous at line 8096.\n",
      "  PDBConstructionWarning)\n",
      "/Users/jinli/anaconda3/lib/python3.6/site-packages/Bio/PDB/StructureBuilder.py:91: PDBConstructionWarning: WARNING: Chain F is discontinuous at line 8097.\n",
      "  PDBConstructionWarning)\n",
      "/Users/jinli/anaconda3/lib/python3.6/site-packages/Bio/PDB/StructureBuilder.py:91: PDBConstructionWarning: WARNING: Chain A is discontinuous at line 8098.\n",
      "  PDBConstructionWarning)\n",
      "/Users/jinli/anaconda3/lib/python3.6/site-packages/Bio/PDB/StructureBuilder.py:91: PDBConstructionWarning: WARNING: Chain B is discontinuous at line 8145.\n",
      "  PDBConstructionWarning)\n",
      "/Users/jinli/anaconda3/lib/python3.6/site-packages/Bio/PDB/StructureBuilder.py:91: PDBConstructionWarning: WARNING: Chain C is discontinuous at line 8213.\n",
      "  PDBConstructionWarning)\n",
      "/Users/jinli/anaconda3/lib/python3.6/site-packages/Bio/PDB/StructureBuilder.py:91: PDBConstructionWarning: WARNING: Chain D is discontinuous at line 8259.\n",
      "  PDBConstructionWarning)\n",
      "/Users/jinli/anaconda3/lib/python3.6/site-packages/Bio/PDB/StructureBuilder.py:91: PDBConstructionWarning: WARNING: Chain E is discontinuous at line 8297.\n",
      "  PDBConstructionWarning)\n",
      "/Users/jinli/anaconda3/lib/python3.6/site-packages/Bio/PDB/StructureBuilder.py:91: PDBConstructionWarning: WARNING: Chain F is discontinuous at line 8337.\n",
      "  PDBConstructionWarning)\n",
      "/Users/jinli/anaconda3/lib/python3.6/site-packages/Bio/PDB/StructureBuilder.py:91: PDBConstructionWarning: WARNING: Chain A is discontinuous at line 12097.\n",
      "  PDBConstructionWarning)\n",
      "/Users/jinli/anaconda3/lib/python3.6/site-packages/Bio/PDB/StructureBuilder.py:91: PDBConstructionWarning: WARNING: Chain B is discontinuous at line 12101.\n",
      "  PDBConstructionWarning)\n",
      "/Users/jinli/anaconda3/lib/python3.6/site-packages/Bio/PDB/StructureBuilder.py:91: PDBConstructionWarning: WARNING: Chain C is discontinuous at line 12104.\n",
      "  PDBConstructionWarning)\n",
      "/Users/jinli/anaconda3/lib/python3.6/site-packages/Bio/PDB/StructureBuilder.py:91: PDBConstructionWarning: WARNING: Chain D is discontinuous at line 12107.\n",
      "  PDBConstructionWarning)\n",
      "/Users/jinli/anaconda3/lib/python3.6/site-packages/Bio/PDB/StructureBuilder.py:91: PDBConstructionWarning: WARNING: Chain A is discontinuous at line 12110.\n",
      "  PDBConstructionWarning)\n",
      "/Users/jinli/anaconda3/lib/python3.6/site-packages/Bio/PDB/StructureBuilder.py:91: PDBConstructionWarning: WARNING: Chain B is discontinuous at line 12202.\n",
      "  PDBConstructionWarning)\n",
      "/Users/jinli/anaconda3/lib/python3.6/site-packages/Bio/PDB/StructureBuilder.py:91: PDBConstructionWarning: WARNING: Chain C is discontinuous at line 12290.\n",
      "  PDBConstructionWarning)\n",
      "/Users/jinli/anaconda3/lib/python3.6/site-packages/Bio/PDB/StructureBuilder.py:91: PDBConstructionWarning: WARNING: Chain D is discontinuous at line 12366.\n",
      "  PDBConstructionWarning)\n"
     ]
    },
    {
     "name": "stdout",
     "output_type": "stream",
     "text": [
      "\tThis protein has more than 1 chain.\n",
      "PDB File:  1chd.pdb\n",
      "PDB File:  1chm.pdb\n"
     ]
    },
    {
     "name": "stderr",
     "output_type": "stream",
     "text": [
      "/Users/jinli/anaconda3/lib/python3.6/site-packages/Bio/PDB/StructureBuilder.py:91: PDBConstructionWarning: WARNING: Chain A is discontinuous at line 7195.\n",
      "  PDBConstructionWarning)\n",
      "/Users/jinli/anaconda3/lib/python3.6/site-packages/Bio/PDB/StructureBuilder.py:91: PDBConstructionWarning: WARNING: Chain B is discontinuous at line 7204.\n",
      "  PDBConstructionWarning)\n",
      "/Users/jinli/anaconda3/lib/python3.6/site-packages/Bio/PDB/StructureBuilder.py:91: PDBConstructionWarning: WARNING: Chain A is discontinuous at line 7213.\n",
      "  PDBConstructionWarning)\n",
      "/Users/jinli/anaconda3/lib/python3.6/site-packages/Bio/PDB/StructureBuilder.py:91: PDBConstructionWarning: WARNING: Chain B is discontinuous at line 7411.\n",
      "  PDBConstructionWarning)\n",
      "/Users/jinli/anaconda3/lib/python3.6/site-packages/Bio/PDB/StructureBuilder.py:91: PDBConstructionWarning: WARNING: Chain A is discontinuous at line 3820.\n",
      "  PDBConstructionWarning)\n",
      "/Users/jinli/anaconda3/lib/python3.6/site-packages/Bio/PDB/StructureBuilder.py:91: PDBConstructionWarning: WARNING: Chain B is discontinuous at line 3851.\n",
      "  PDBConstructionWarning)\n",
      "/Users/jinli/anaconda3/lib/python3.6/site-packages/Bio/PDB/StructureBuilder.py:91: PDBConstructionWarning: WARNING: Chain A is discontinuous at line 3882.\n",
      "  PDBConstructionWarning)\n",
      "/Users/jinli/anaconda3/lib/python3.6/site-packages/Bio/PDB/StructureBuilder.py:91: PDBConstructionWarning: WARNING: Chain B is discontinuous at line 3901.\n",
      "  PDBConstructionWarning)\n",
      "/Users/jinli/anaconda3/lib/python3.6/site-packages/Bio/PDB/StructureBuilder.py:91: PDBConstructionWarning: WARNING: Chain A is discontinuous at line 1791.\n",
      "  PDBConstructionWarning)\n",
      "/Users/jinli/anaconda3/lib/python3.6/site-packages/Bio/PDB/StructureBuilder.py:91: PDBConstructionWarning: WARNING: Chain B is discontinuous at line 1902.\n",
      "  PDBConstructionWarning)\n"
     ]
    },
    {
     "name": "stdout",
     "output_type": "stream",
     "text": [
      "\tThis protein has more than 1 chain.\n",
      "PDB File:  1ci0.pdb\n",
      "\tThis protein has more than 1 chain.\n",
      "PDB File:  1ci4.pdb\n",
      "\tThis protein has more than 1 chain.\n",
      "PDB File:  1cid.pdb\n",
      "PDB File:  1cja.pdb\n",
      "\tThis protein has more than 1 chain.\n",
      "PDB File:  1cjw.pdb\n"
     ]
    },
    {
     "name": "stderr",
     "output_type": "stream",
     "text": [
      "/Users/jinli/anaconda3/lib/python3.6/site-packages/Bio/PDB/StructureBuilder.py:91: PDBConstructionWarning: WARNING: Chain A is discontinuous at line 6708.\n",
      "  PDBConstructionWarning)\n",
      "/Users/jinli/anaconda3/lib/python3.6/site-packages/Bio/PDB/StructureBuilder.py:91: PDBConstructionWarning: WARNING: Chain B is discontinuous at line 6731.\n",
      "  PDBConstructionWarning)\n"
     ]
    },
    {
     "name": "stdout",
     "output_type": "stream",
     "text": [
      "PDB File:  1ckm.pdb\n",
      "\tThis protein has more than 1 chain.\n",
      "PDB File:  1cl8.pdb\n",
      "\tThis protein has more than 1 chain.\n",
      "PDB File:  1cnt.pdb\n"
     ]
    },
    {
     "name": "stderr",
     "output_type": "stream",
     "text": [
      "/Users/jinli/anaconda3/lib/python3.6/site-packages/Bio/PDB/StructureBuilder.py:91: PDBConstructionWarning: WARNING: Chain A is discontinuous at line 5756.\n",
      "  PDBConstructionWarning)\n",
      "/Users/jinli/anaconda3/lib/python3.6/site-packages/Bio/PDB/StructureBuilder.py:91: PDBConstructionWarning: WARNING: Chain B is discontinuous at line 5788.\n",
      "  PDBConstructionWarning)\n",
      "/Users/jinli/anaconda3/lib/python3.6/site-packages/Bio/PDB/StructureBuilder.py:91: PDBConstructionWarning: WARNING: Chain A is discontinuous at line 5820.\n",
      "  PDBConstructionWarning)\n",
      "/Users/jinli/anaconda3/lib/python3.6/site-packages/Bio/PDB/StructureBuilder.py:91: PDBConstructionWarning: WARNING: Chain B is discontinuous at line 5984.\n",
      "  PDBConstructionWarning)\n",
      "/Users/jinli/anaconda3/lib/python3.6/site-packages/Bio/PDB/StructureBuilder.py:91: PDBConstructionWarning: WARNING: Chain B is discontinuous at line 2702.\n",
      "  PDBConstructionWarning)\n",
      "/Users/jinli/anaconda3/lib/python3.6/site-packages/Bio/PDB/StructureBuilder.py:91: PDBConstructionWarning: WARNING: Chain A is discontinuous at line 2727.\n",
      "  PDBConstructionWarning)\n",
      "/Users/jinli/anaconda3/lib/python3.6/site-packages/Bio/PDB/StructureBuilder.py:91: PDBConstructionWarning: WARNING: Chain 1 is discontinuous at line 5236.\n",
      "  PDBConstructionWarning)\n",
      "/Users/jinli/anaconda3/lib/python3.6/site-packages/Bio/PDB/StructureBuilder.py:91: PDBConstructionWarning: WARNING: Chain 3 is discontinuous at line 5246.\n",
      "  PDBConstructionWarning)\n",
      "/Users/jinli/anaconda3/lib/python3.6/site-packages/Bio/PDB/StructureBuilder.py:91: PDBConstructionWarning: WARNING: Chain 1 is discontinuous at line 5257.\n",
      "  PDBConstructionWarning)\n",
      "/Users/jinli/anaconda3/lib/python3.6/site-packages/Bio/PDB/StructureBuilder.py:91: PDBConstructionWarning: WARNING: Chain 2 is discontinuous at line 5306.\n",
      "  PDBConstructionWarning)\n",
      "/Users/jinli/anaconda3/lib/python3.6/site-packages/Bio/PDB/StructureBuilder.py:91: PDBConstructionWarning: WARNING: Chain 3 is discontinuous at line 5334.\n",
      "  PDBConstructionWarning)\n",
      "/Users/jinli/anaconda3/lib/python3.6/site-packages/Bio/PDB/StructureBuilder.py:91: PDBConstructionWarning: WARNING: Chain 4 is discontinuous at line 5374.\n",
      "  PDBConstructionWarning)\n",
      "/Users/jinli/anaconda3/lib/python3.6/site-packages/Bio/PDB/StructureBuilder.py:91: PDBConstructionWarning: WARNING: Chain A is discontinuous at line 3448.\n",
      "  PDBConstructionWarning)\n",
      "/Users/jinli/anaconda3/lib/python3.6/site-packages/Bio/PDB/StructureBuilder.py:91: PDBConstructionWarning: WARNING: Chain B is discontinuous at line 3489.\n",
      "  PDBConstructionWarning)\n",
      "/Users/jinli/anaconda3/lib/python3.6/site-packages/Bio/PDB/StructureBuilder.py:91: PDBConstructionWarning: WARNING: Chain A is discontinuous at line 3828.\n",
      "  PDBConstructionWarning)\n",
      "/Users/jinli/anaconda3/lib/python3.6/site-packages/Bio/PDB/StructureBuilder.py:91: PDBConstructionWarning: WARNING: Chain B is discontinuous at line 4072.\n",
      "  PDBConstructionWarning)\n"
     ]
    },
    {
     "name": "stdout",
     "output_type": "stream",
     "text": [
      "\tThis protein has more than 1 chain.\n",
      "PDB File:  1col.pdb\n",
      "\tThis protein has more than 1 chain.\n",
      "PDB File:  1cq3.pdb\n",
      "\tThis protein has more than 1 chain.\n",
      "PDB File:  1cr1.pdb\n",
      "PDB File:  1cr5.pdb\n",
      "\tThis protein has more than 1 chain.\n",
      "PDB File:  1cs0.pdb\n"
     ]
    },
    {
     "name": "stderr",
     "output_type": "stream",
     "text": [
      "/Users/jinli/anaconda3/lib/python3.6/site-packages/Bio/PDB/StructureBuilder.py:91: PDBConstructionWarning: WARNING: Chain A is discontinuous at line 4758.\n",
      "  PDBConstructionWarning)\n",
      "/Users/jinli/anaconda3/lib/python3.6/site-packages/Bio/PDB/StructureBuilder.py:91: PDBConstructionWarning: WARNING: Chain B is discontinuous at line 4776.\n",
      "  PDBConstructionWarning)\n",
      "/Users/jinli/anaconda3/lib/python3.6/site-packages/Bio/PDB/StructureBuilder.py:91: PDBConstructionWarning: WARNING: Chain C is discontinuous at line 4794.\n",
      "  PDBConstructionWarning)\n",
      "/Users/jinli/anaconda3/lib/python3.6/site-packages/Bio/PDB/StructureBuilder.py:91: PDBConstructionWarning: WARNING: Chain A is discontinuous at line 4812.\n",
      "  PDBConstructionWarning)\n",
      "/Users/jinli/anaconda3/lib/python3.6/site-packages/Bio/PDB/StructureBuilder.py:91: PDBConstructionWarning: WARNING: Chain B is discontinuous at line 4931.\n",
      "  PDBConstructionWarning)\n",
      "/Users/jinli/anaconda3/lib/python3.6/site-packages/Bio/PDB/StructureBuilder.py:91: PDBConstructionWarning: WARNING: Chain C is discontinuous at line 5009.\n",
      "  PDBConstructionWarning)\n",
      "/Users/jinli/anaconda3/lib/python3.6/site-packages/Bio/PDB/StructureBuilder.py:91: PDBConstructionWarning: WARNING: Chain A is discontinuous at line 47542.\n",
      "  PDBConstructionWarning)\n",
      "/Users/jinli/anaconda3/lib/python3.6/site-packages/Bio/PDB/StructureBuilder.py:91: PDBConstructionWarning: WARNING: Chain B is discontinuous at line 47635.\n",
      "  PDBConstructionWarning)\n",
      "/Users/jinli/anaconda3/lib/python3.6/site-packages/Bio/PDB/StructureBuilder.py:91: PDBConstructionWarning: WARNING: Chain C is discontinuous at line 47638.\n",
      "  PDBConstructionWarning)\n",
      "/Users/jinli/anaconda3/lib/python3.6/site-packages/Bio/PDB/StructureBuilder.py:91: PDBConstructionWarning: WARNING: Chain D is discontinuous at line 47730.\n",
      "  PDBConstructionWarning)\n",
      "/Users/jinli/anaconda3/lib/python3.6/site-packages/Bio/PDB/StructureBuilder.py:91: PDBConstructionWarning: WARNING: Chain E is discontinuous at line 47733.\n",
      "  PDBConstructionWarning)\n",
      "/Users/jinli/anaconda3/lib/python3.6/site-packages/Bio/PDB/StructureBuilder.py:91: PDBConstructionWarning: WARNING: Chain F is discontinuous at line 47831.\n",
      "  PDBConstructionWarning)\n",
      "/Users/jinli/anaconda3/lib/python3.6/site-packages/Bio/PDB/StructureBuilder.py:91: PDBConstructionWarning: WARNING: Chain G is discontinuous at line 47834.\n",
      "  PDBConstructionWarning)\n",
      "/Users/jinli/anaconda3/lib/python3.6/site-packages/Bio/PDB/StructureBuilder.py:91: PDBConstructionWarning: WARNING: Chain H is discontinuous at line 47926.\n",
      "  PDBConstructionWarning)\n",
      "/Users/jinli/anaconda3/lib/python3.6/site-packages/Bio/PDB/StructureBuilder.py:91: PDBConstructionWarning: WARNING: Chain A is discontinuous at line 47929.\n",
      "  PDBConstructionWarning)\n",
      "/Users/jinli/anaconda3/lib/python3.6/site-packages/Bio/PDB/StructureBuilder.py:91: PDBConstructionWarning: WARNING: Chain B is discontinuous at line 48798.\n",
      "  PDBConstructionWarning)\n",
      "/Users/jinli/anaconda3/lib/python3.6/site-packages/Bio/PDB/StructureBuilder.py:91: PDBConstructionWarning: WARNING: Chain C is discontinuous at line 49011.\n",
      "  PDBConstructionWarning)\n",
      "/Users/jinli/anaconda3/lib/python3.6/site-packages/Bio/PDB/StructureBuilder.py:91: PDBConstructionWarning: WARNING: Chain D is discontinuous at line 49795.\n",
      "  PDBConstructionWarning)\n",
      "/Users/jinli/anaconda3/lib/python3.6/site-packages/Bio/PDB/StructureBuilder.py:91: PDBConstructionWarning: WARNING: Chain E is discontinuous at line 50070.\n",
      "  PDBConstructionWarning)\n",
      "/Users/jinli/anaconda3/lib/python3.6/site-packages/Bio/PDB/StructureBuilder.py:91: PDBConstructionWarning: WARNING: Chain F is discontinuous at line 50934.\n",
      "  PDBConstructionWarning)\n",
      "/Users/jinli/anaconda3/lib/python3.6/site-packages/Bio/PDB/StructureBuilder.py:91: PDBConstructionWarning: WARNING: Chain G is discontinuous at line 51169.\n",
      "  PDBConstructionWarning)\n",
      "/Users/jinli/anaconda3/lib/python3.6/site-packages/Bio/PDB/StructureBuilder.py:91: PDBConstructionWarning: WARNING: Chain H is discontinuous at line 51912.\n",
      "  PDBConstructionWarning)\n"
     ]
    },
    {
     "name": "stdout",
     "output_type": "stream",
     "text": [
      "\tThis protein has more than 1 chain.\n",
      "PDB File:  1csh.pdb\n",
      "PDB File:  1ctf.pdb\n",
      "PDB File:  1cuk.pdb\n",
      "PDB File:  1cv8.pdb\n",
      "PDB File:  1cwv.pdb\n",
      "PDB File:  1cxq.pdb\n",
      "PDB File:  1cxz.pdb\n",
      "\tThis protein has more than 1 chain.\n",
      "PDB File:  1cy5.pdb\n"
     ]
    },
    {
     "name": "stderr",
     "output_type": "stream",
     "text": [
      "/Users/jinli/anaconda3/lib/python3.6/site-packages/Bio/PDB/StructureBuilder.py:91: PDBConstructionWarning: WARNING: Chain A is discontinuous at line 2534.\n",
      "  PDBConstructionWarning)\n",
      "/Users/jinli/anaconda3/lib/python3.6/site-packages/Bio/PDB/StructureBuilder.py:91: PDBConstructionWarning: WARNING: Chain B is discontinuous at line 2665.\n",
      "  PDBConstructionWarning)\n"
     ]
    },
    {
     "name": "stdout",
     "output_type": "stream",
     "text": [
      "PDB File:  1cyw.pdb\n",
      "PDB File:  1d02.pdb\n",
      "\tThis protein has more than 1 chain.\n",
      "PDB File:  1d0d.pdb\n",
      "\tThis protein has more than 1 chain.\n",
      "PDB File:  1d0q.pdb\n",
      "\tThis protein has more than 1 chain.\n",
      "PDB File:  1d2n.pdb\n"
     ]
    },
    {
     "name": "stderr",
     "output_type": "stream",
     "text": [
      "/Users/jinli/anaconda3/lib/python3.6/site-packages/Bio/PDB/StructureBuilder.py:91: PDBConstructionWarning: WARNING: Chain C is discontinuous at line 4089.\n",
      "  PDBConstructionWarning)\n",
      "/Users/jinli/anaconda3/lib/python3.6/site-packages/Bio/PDB/StructureBuilder.py:91: PDBConstructionWarning: WARNING: Chain D is discontinuous at line 4157.\n",
      "  PDBConstructionWarning)\n",
      "/Users/jinli/anaconda3/lib/python3.6/site-packages/Bio/PDB/StructureBuilder.py:91: PDBConstructionWarning: WARNING: Chain A is discontinuous at line 4199.\n",
      "  PDBConstructionWarning)\n",
      "/Users/jinli/anaconda3/lib/python3.6/site-packages/Bio/PDB/StructureBuilder.py:91: PDBConstructionWarning: WARNING: Chain B is discontinuous at line 4424.\n",
      "  PDBConstructionWarning)\n",
      "/Users/jinli/anaconda3/lib/python3.6/site-packages/Bio/PDB/StructureBuilder.py:91: PDBConstructionWarning: WARNING: Chain A is discontinuous at line 1283.\n",
      "  PDBConstructionWarning)\n",
      "/Users/jinli/anaconda3/lib/python3.6/site-packages/Bio/PDB/StructureBuilder.py:91: PDBConstructionWarning: WARNING: Chain B is discontinuous at line 1357.\n",
      "  PDBConstructionWarning)\n",
      "/Users/jinli/anaconda3/lib/python3.6/site-packages/Bio/PDB/StructureBuilder.py:91: PDBConstructionWarning: WARNING: Chain A is discontinuous at line 1991.\n",
      "  PDBConstructionWarning)\n",
      "/Users/jinli/anaconda3/lib/python3.6/site-packages/Bio/PDB/StructureBuilder.py:91: PDBConstructionWarning: WARNING: Chain B is discontinuous at line 1992.\n",
      "  PDBConstructionWarning)\n",
      "/Users/jinli/anaconda3/lib/python3.6/site-packages/Bio/PDB/StructureBuilder.py:91: PDBConstructionWarning: WARNING: Chain A is discontinuous at line 1993.\n",
      "  PDBConstructionWarning)\n",
      "/Users/jinli/anaconda3/lib/python3.6/site-packages/Bio/PDB/StructureBuilder.py:91: PDBConstructionWarning: WARNING: Chain B is discontinuous at line 2080.\n",
      "  PDBConstructionWarning)\n"
     ]
    },
    {
     "name": "stdout",
     "output_type": "stream",
     "text": [
      "PDB File:  1d2o.pdb\n",
      "\tThis protein has more than 1 chain.\n",
      "PDB File:  1d2s.pdb\n"
     ]
    },
    {
     "name": "stderr",
     "output_type": "stream",
     "text": [
      "/Users/jinli/anaconda3/lib/python3.6/site-packages/Bio/PDB/StructureBuilder.py:91: PDBConstructionWarning: WARNING: Chain A is discontinuous at line 3383.\n",
      "  PDBConstructionWarning)\n",
      "/Users/jinli/anaconda3/lib/python3.6/site-packages/Bio/PDB/StructureBuilder.py:91: PDBConstructionWarning: WARNING: Chain B is discontinuous at line 3421.\n",
      "  PDBConstructionWarning)\n"
     ]
    },
    {
     "name": "stdout",
     "output_type": "stream",
     "text": [
      "PDB File:  1d2t.pdb\n",
      "PDB File:  1d2z.pdb\n",
      "\tThis protein has more than 1 chain.\n",
      "PDB File:  1d3b.pdb\n"
     ]
    },
    {
     "name": "stderr",
     "output_type": "stream",
     "text": [
      "/Users/jinli/anaconda3/lib/python3.6/site-packages/Bio/PDB/StructureBuilder.py:91: PDBConstructionWarning: WARNING: Chain C is discontinuous at line 4523.\n",
      "  PDBConstructionWarning)\n",
      "/Users/jinli/anaconda3/lib/python3.6/site-packages/Bio/PDB/StructureBuilder.py:91: PDBConstructionWarning: WARNING: Chain A is discontinuous at line 4538.\n",
      "  PDBConstructionWarning)\n",
      "/Users/jinli/anaconda3/lib/python3.6/site-packages/Bio/PDB/StructureBuilder.py:91: PDBConstructionWarning: WARNING: Chain B is discontinuous at line 4595.\n",
      "  PDBConstructionWarning)\n",
      "/Users/jinli/anaconda3/lib/python3.6/site-packages/Bio/PDB/StructureBuilder.py:91: PDBConstructionWarning: WARNING: Chain C is discontinuous at line 4668.\n",
      "  PDBConstructionWarning)\n",
      "/Users/jinli/anaconda3/lib/python3.6/site-packages/Bio/PDB/StructureBuilder.py:91: PDBConstructionWarning: WARNING: Chain D is discontinuous at line 4717.\n",
      "  PDBConstructionWarning)\n",
      "/Users/jinli/anaconda3/lib/python3.6/site-packages/Bio/PDB/StructureBuilder.py:91: PDBConstructionWarning: WARNING: Chain A is discontinuous at line 8425.\n",
      "  PDBConstructionWarning)\n",
      "/Users/jinli/anaconda3/lib/python3.6/site-packages/Bio/PDB/StructureBuilder.py:91: PDBConstructionWarning: WARNING: Chain B is discontinuous at line 8437.\n",
      "  PDBConstructionWarning)\n",
      "/Users/jinli/anaconda3/lib/python3.6/site-packages/Bio/PDB/StructureBuilder.py:91: PDBConstructionWarning: WARNING: Chain C is discontinuous at line 8462.\n",
      "  PDBConstructionWarning)\n",
      "/Users/jinli/anaconda3/lib/python3.6/site-packages/Bio/PDB/StructureBuilder.py:91: PDBConstructionWarning: WARNING: Chain D is discontinuous at line 8468.\n",
      "  PDBConstructionWarning)\n",
      "/Users/jinli/anaconda3/lib/python3.6/site-packages/Bio/PDB/StructureBuilder.py:91: PDBConstructionWarning: WARNING: Chain E is discontinuous at line 8474.\n",
      "  PDBConstructionWarning)\n",
      "/Users/jinli/anaconda3/lib/python3.6/site-packages/Bio/PDB/StructureBuilder.py:91: PDBConstructionWarning: WARNING: Chain F is discontinuous at line 8480.\n",
      "  PDBConstructionWarning)\n",
      "/Users/jinli/anaconda3/lib/python3.6/site-packages/Bio/PDB/StructureBuilder.py:91: PDBConstructionWarning: WARNING: Chain G is discontinuous at line 8498.\n",
      "  PDBConstructionWarning)\n",
      "/Users/jinli/anaconda3/lib/python3.6/site-packages/Bio/PDB/StructureBuilder.py:91: PDBConstructionWarning: WARNING: Chain H is discontinuous at line 8517.\n",
      "  PDBConstructionWarning)\n",
      "/Users/jinli/anaconda3/lib/python3.6/site-packages/Bio/PDB/StructureBuilder.py:91: PDBConstructionWarning: WARNING: Chain I is discontinuous at line 8523.\n",
      "  PDBConstructionWarning)\n",
      "/Users/jinli/anaconda3/lib/python3.6/site-packages/Bio/PDB/StructureBuilder.py:91: PDBConstructionWarning: WARNING: Chain L is discontinuous at line 8542.\n",
      "  PDBConstructionWarning)\n",
      "/Users/jinli/anaconda3/lib/python3.6/site-packages/Bio/PDB/StructureBuilder.py:91: PDBConstructionWarning: WARNING: Chain A is discontinuous at line 8548.\n",
      "  PDBConstructionWarning)\n",
      "/Users/jinli/anaconda3/lib/python3.6/site-packages/Bio/PDB/StructureBuilder.py:91: PDBConstructionWarning: WARNING: Chain B is discontinuous at line 8574.\n",
      "  PDBConstructionWarning)\n",
      "/Users/jinli/anaconda3/lib/python3.6/site-packages/Bio/PDB/StructureBuilder.py:91: PDBConstructionWarning: WARNING: Chain C is discontinuous at line 8628.\n",
      "  PDBConstructionWarning)\n",
      "/Users/jinli/anaconda3/lib/python3.6/site-packages/Bio/PDB/StructureBuilder.py:91: PDBConstructionWarning: WARNING: Chain D is discontinuous at line 8663.\n",
      "  PDBConstructionWarning)\n",
      "/Users/jinli/anaconda3/lib/python3.6/site-packages/Bio/PDB/StructureBuilder.py:91: PDBConstructionWarning: WARNING: Chain E is discontinuous at line 8709.\n",
      "  PDBConstructionWarning)\n",
      "/Users/jinli/anaconda3/lib/python3.6/site-packages/Bio/PDB/StructureBuilder.py:91: PDBConstructionWarning: WARNING: Chain F is discontinuous at line 8768.\n",
      "  PDBConstructionWarning)\n",
      "/Users/jinli/anaconda3/lib/python3.6/site-packages/Bio/PDB/StructureBuilder.py:91: PDBConstructionWarning: WARNING: Chain G is discontinuous at line 8819.\n",
      "  PDBConstructionWarning)\n",
      "/Users/jinli/anaconda3/lib/python3.6/site-packages/Bio/PDB/StructureBuilder.py:91: PDBConstructionWarning: WARNING: Chain H is discontinuous at line 8874.\n",
      "  PDBConstructionWarning)\n",
      "/Users/jinli/anaconda3/lib/python3.6/site-packages/Bio/PDB/StructureBuilder.py:91: PDBConstructionWarning: WARNING: Chain I is discontinuous at line 8932.\n",
      "  PDBConstructionWarning)\n",
      "/Users/jinli/anaconda3/lib/python3.6/site-packages/Bio/PDB/StructureBuilder.py:91: PDBConstructionWarning: WARNING: Chain J is discontinuous at line 8974.\n",
      "  PDBConstructionWarning)\n",
      "/Users/jinli/anaconda3/lib/python3.6/site-packages/Bio/PDB/StructureBuilder.py:91: PDBConstructionWarning: WARNING: Chain K is discontinuous at line 9018.\n",
      "  PDBConstructionWarning)\n",
      "/Users/jinli/anaconda3/lib/python3.6/site-packages/Bio/PDB/StructureBuilder.py:91: PDBConstructionWarning: WARNING: Chain L is discontinuous at line 9052.\n",
      "  PDBConstructionWarning)\n",
      "/Users/jinli/anaconda3/lib/python3.6/site-packages/Bio/PDB/StructureBuilder.py:91: PDBConstructionWarning: WARNING: Chain A is discontinuous at line 5129.\n",
      "  PDBConstructionWarning)\n",
      "/Users/jinli/anaconda3/lib/python3.6/site-packages/Bio/PDB/StructureBuilder.py:91: PDBConstructionWarning: WARNING: Chain B is discontinuous at line 5132.\n",
      "  PDBConstructionWarning)\n",
      "/Users/jinli/anaconda3/lib/python3.6/site-packages/Bio/PDB/StructureBuilder.py:91: PDBConstructionWarning: WARNING: Chain A is discontinuous at line 5134.\n",
      "  PDBConstructionWarning)\n",
      "/Users/jinli/anaconda3/lib/python3.6/site-packages/Bio/PDB/StructureBuilder.py:91: PDBConstructionWarning: WARNING: Chain B is discontinuous at line 5280.\n",
      "  PDBConstructionWarning)\n"
     ]
    },
    {
     "name": "stdout",
     "output_type": "stream",
     "text": [
      "\tThis protein has more than 1 chain.\n",
      "PDB File:  1d3y.pdb\n",
      "\tThis protein has more than 1 chain.\n",
      "PDB File:  1d4a.pdb\n"
     ]
    },
    {
     "name": "stderr",
     "output_type": "stream",
     "text": [
      "/Users/jinli/anaconda3/lib/python3.6/site-packages/Bio/PDB/StructureBuilder.py:91: PDBConstructionWarning: WARNING: Chain A is discontinuous at line 9277.\n",
      "  PDBConstructionWarning)\n",
      "/Users/jinli/anaconda3/lib/python3.6/site-packages/Bio/PDB/StructureBuilder.py:91: PDBConstructionWarning: WARNING: Chain B is discontinuous at line 9330.\n",
      "  PDBConstructionWarning)\n",
      "/Users/jinli/anaconda3/lib/python3.6/site-packages/Bio/PDB/StructureBuilder.py:91: PDBConstructionWarning: WARNING: Chain C is discontinuous at line 9383.\n",
      "  PDBConstructionWarning)\n",
      "/Users/jinli/anaconda3/lib/python3.6/site-packages/Bio/PDB/StructureBuilder.py:91: PDBConstructionWarning: WARNING: Chain D is discontinuous at line 9436.\n",
      "  PDBConstructionWarning)\n",
      "/Users/jinli/anaconda3/lib/python3.6/site-packages/Bio/PDB/StructureBuilder.py:91: PDBConstructionWarning: WARNING: Chain A is discontinuous at line 9489.\n",
      "  PDBConstructionWarning)\n",
      "/Users/jinli/anaconda3/lib/python3.6/site-packages/Bio/PDB/StructureBuilder.py:91: PDBConstructionWarning: WARNING: Chain B is discontinuous at line 9634.\n",
      "  PDBConstructionWarning)\n",
      "/Users/jinli/anaconda3/lib/python3.6/site-packages/Bio/PDB/StructureBuilder.py:91: PDBConstructionWarning: WARNING: Chain C is discontinuous at line 9804.\n",
      "  PDBConstructionWarning)\n",
      "/Users/jinli/anaconda3/lib/python3.6/site-packages/Bio/PDB/StructureBuilder.py:91: PDBConstructionWarning: WARNING: Chain D is discontinuous at line 9937.\n",
      "  PDBConstructionWarning)\n"
     ]
    },
    {
     "name": "stdout",
     "output_type": "stream",
     "text": [
      "\tThis protein has more than 1 chain.\n",
      "PDB File:  1d4o.pdb\n",
      "PDB File:  1d5t.pdb\n",
      "PDB File:  1d8h.pdb\n"
     ]
    },
    {
     "name": "stderr",
     "output_type": "stream",
     "text": [
      "/Users/jinli/anaconda3/lib/python3.6/site-packages/Bio/PDB/StructureBuilder.py:91: PDBConstructionWarning: WARNING: Chain A is discontinuous at line 7940.\n",
      "  PDBConstructionWarning)\n",
      "/Users/jinli/anaconda3/lib/python3.6/site-packages/Bio/PDB/StructureBuilder.py:91: PDBConstructionWarning: WARNING: Chain B is discontinuous at line 7946.\n",
      "  PDBConstructionWarning)\n",
      "/Users/jinli/anaconda3/lib/python3.6/site-packages/Bio/PDB/StructureBuilder.py:91: PDBConstructionWarning: WARNING: Chain C is discontinuous at line 7952.\n",
      "  PDBConstructionWarning)\n",
      "/Users/jinli/anaconda3/lib/python3.6/site-packages/Bio/PDB/StructureBuilder.py:91: PDBConstructionWarning: WARNING: Chain A is discontinuous at line 7958.\n",
      "  PDBConstructionWarning)\n",
      "/Users/jinli/anaconda3/lib/python3.6/site-packages/Bio/PDB/StructureBuilder.py:91: PDBConstructionWarning: WARNING: Chain B is discontinuous at line 8180.\n",
      "  PDBConstructionWarning)\n",
      "/Users/jinli/anaconda3/lib/python3.6/site-packages/Bio/PDB/StructureBuilder.py:91: PDBConstructionWarning: WARNING: Chain C is discontinuous at line 8406.\n",
      "  PDBConstructionWarning)\n"
     ]
    },
    {
     "name": "stdout",
     "output_type": "stream",
     "text": [
      "\tThis protein has more than 1 chain.\n",
      "PDB File:  1d8w.pdb\n"
     ]
    },
    {
     "name": "stderr",
     "output_type": "stream",
     "text": [
      "/Users/jinli/anaconda3/lib/python3.6/site-packages/Bio/PDB/StructureBuilder.py:91: PDBConstructionWarning: WARNING: Chain A is discontinuous at line 13962.\n",
      "  PDBConstructionWarning)\n",
      "/Users/jinli/anaconda3/lib/python3.6/site-packages/Bio/PDB/StructureBuilder.py:91: PDBConstructionWarning: WARNING: Chain B is discontinuous at line 13963.\n",
      "  PDBConstructionWarning)\n",
      "/Users/jinli/anaconda3/lib/python3.6/site-packages/Bio/PDB/StructureBuilder.py:91: PDBConstructionWarning: WARNING: Chain C is discontinuous at line 13964.\n",
      "  PDBConstructionWarning)\n",
      "/Users/jinli/anaconda3/lib/python3.6/site-packages/Bio/PDB/StructureBuilder.py:91: PDBConstructionWarning: WARNING: Chain D is discontinuous at line 13965.\n",
      "  PDBConstructionWarning)\n",
      "/Users/jinli/anaconda3/lib/python3.6/site-packages/Bio/PDB/StructureBuilder.py:91: PDBConstructionWarning: WARNING: Chain A is discontinuous at line 13966.\n",
      "  PDBConstructionWarning)\n",
      "/Users/jinli/anaconda3/lib/python3.6/site-packages/Bio/PDB/StructureBuilder.py:91: PDBConstructionWarning: WARNING: Chain B is discontinuous at line 14390.\n",
      "  PDBConstructionWarning)\n",
      "/Users/jinli/anaconda3/lib/python3.6/site-packages/Bio/PDB/StructureBuilder.py:91: PDBConstructionWarning: WARNING: Chain C is discontinuous at line 14908.\n",
      "  PDBConstructionWarning)\n",
      "/Users/jinli/anaconda3/lib/python3.6/site-packages/Bio/PDB/StructureBuilder.py:91: PDBConstructionWarning: WARNING: Chain D is discontinuous at line 15383.\n",
      "  PDBConstructionWarning)\n",
      "/Users/jinli/anaconda3/lib/python3.6/site-packages/Bio/PDB/StructureBuilder.py:91: PDBConstructionWarning: WARNING: Chain A is discontinuous at line 2316.\n",
      "  PDBConstructionWarning)\n",
      "/Users/jinli/anaconda3/lib/python3.6/site-packages/Bio/PDB/StructureBuilder.py:91: PDBConstructionWarning: WARNING: Chain B is discontinuous at line 2368.\n",
      "  PDBConstructionWarning)\n"
     ]
    },
    {
     "name": "stdout",
     "output_type": "stream",
     "text": [
      "\tThis protein has more than 1 chain.\n",
      "PDB File:  1d9c.pdb\n",
      "\tThis protein has more than 1 chain.\n",
      "PDB File:  1dab.pdb\n",
      "PDB File:  1dbh.pdb\n",
      "PDB File:  1dbw.pdb\n",
      "\tThis protein has more than 1 chain.\n",
      "PDB File:  1dc1.pdb\n",
      "\tThis protein has more than 1 chain.\n",
      "PDB File:  1dcs.pdb\n"
     ]
    },
    {
     "name": "stderr",
     "output_type": "stream",
     "text": [
      "/Users/jinli/anaconda3/lib/python3.6/site-packages/Bio/PDB/StructureBuilder.py:91: PDBConstructionWarning: WARNING: Chain A is discontinuous at line 2296.\n",
      "  PDBConstructionWarning)\n",
      "/Users/jinli/anaconda3/lib/python3.6/site-packages/Bio/PDB/StructureBuilder.py:91: PDBConstructionWarning: WARNING: Chain B is discontinuous at line 2391.\n",
      "  PDBConstructionWarning)\n",
      "/Users/jinli/anaconda3/lib/python3.6/site-packages/Bio/PDB/StructureBuilder.py:91: PDBConstructionWarning: WARNING: Chain A is discontinuous at line 6059.\n",
      "  PDBConstructionWarning)\n",
      "/Users/jinli/anaconda3/lib/python3.6/site-packages/Bio/PDB/StructureBuilder.py:91: PDBConstructionWarning: WARNING: Chain B is discontinuous at line 6089.\n",
      "  PDBConstructionWarning)\n",
      "/Users/jinli/anaconda3/lib/python3.6/site-packages/Bio/PDB/StructureBuilder.py:91: PDBConstructionWarning: WARNING: Chain W is discontinuous at line 6119.\n",
      "  PDBConstructionWarning)\n",
      "/Users/jinli/anaconda3/lib/python3.6/site-packages/Bio/PDB/StructureBuilder.py:91: PDBConstructionWarning: WARNING: Chain C is discontinuous at line 6147.\n",
      "  PDBConstructionWarning)\n",
      "/Users/jinli/anaconda3/lib/python3.6/site-packages/Bio/PDB/StructureBuilder.py:91: PDBConstructionWarning: WARNING: Chain A is discontinuous at line 6186.\n",
      "  PDBConstructionWarning)\n",
      "/Users/jinli/anaconda3/lib/python3.6/site-packages/Bio/PDB/StructureBuilder.py:91: PDBConstructionWarning: WARNING: Chain B is discontinuous at line 6395.\n",
      "  PDBConstructionWarning)\n"
     ]
    },
    {
     "name": "stdout",
     "output_type": "stream",
     "text": [
      "PDB File:  1dd4.pdb\n",
      "\tThis protein has more than 1 chain.\n",
      "PDB File:  1dd9.pdb\n"
     ]
    },
    {
     "name": "stderr",
     "output_type": "stream",
     "text": [
      "/Users/jinli/anaconda3/lib/python3.6/site-packages/Bio/PDB/StructureBuilder.py:91: PDBConstructionWarning: WARNING: Chain A is discontinuous at line 3050.\n",
      "  PDBConstructionWarning)\n",
      "/Users/jinli/anaconda3/lib/python3.6/site-packages/Bio/PDB/StructureBuilder.py:91: PDBConstructionWarning: WARNING: Chain B is discontinuous at line 3200.\n",
      "  PDBConstructionWarning)\n",
      "/Users/jinli/anaconda3/lib/python3.6/site-packages/Bio/PDB/StructureBuilder.py:91: PDBConstructionWarning: WARNING: Chain C is discontinuous at line 3316.\n",
      "  PDBConstructionWarning)\n",
      "/Users/jinli/anaconda3/lib/python3.6/site-packages/Bio/PDB/StructureBuilder.py:91: PDBConstructionWarning: WARNING: Chain D is discontinuous at line 3344.\n",
      "  PDBConstructionWarning)\n"
     ]
    },
    {
     "name": "stdout",
     "output_type": "stream",
     "text": [
      "PDB File:  1ddl.pdb\n",
      "\tThis protein has more than 1 chain.\n",
      "PDB File:  1dek.pdb\n"
     ]
    },
    {
     "name": "stderr",
     "output_type": "stream",
     "text": [
      "/Users/jinli/anaconda3/lib/python3.6/site-packages/Bio/PDB/StructureBuilder.py:91: PDBConstructionWarning: WARNING: Chain E is discontinuous at line 5161.\n",
      "  PDBConstructionWarning)\n",
      "/Users/jinli/anaconda3/lib/python3.6/site-packages/Bio/PDB/StructureBuilder.py:91: PDBConstructionWarning: WARNING: Chain A is discontinuous at line 5162.\n",
      "  PDBConstructionWarning)\n",
      "/Users/jinli/anaconda3/lib/python3.6/site-packages/Bio/PDB/StructureBuilder.py:91: PDBConstructionWarning: WARNING: Chain B is discontinuous at line 5268.\n",
      "  PDBConstructionWarning)\n",
      "/Users/jinli/anaconda3/lib/python3.6/site-packages/Bio/PDB/StructureBuilder.py:91: PDBConstructionWarning: WARNING: Chain C is discontinuous at line 5361.\n",
      "  PDBConstructionWarning)\n",
      "/Users/jinli/anaconda3/lib/python3.6/site-packages/Bio/PDB/StructureBuilder.py:91: PDBConstructionWarning: WARNING: Chain A is discontinuous at line 4288.\n",
      "  PDBConstructionWarning)\n",
      "/Users/jinli/anaconda3/lib/python3.6/site-packages/Bio/PDB/StructureBuilder.py:91: PDBConstructionWarning: WARNING: Chain B is discontinuous at line 4312.\n",
      "  PDBConstructionWarning)\n",
      "/Users/jinli/anaconda3/lib/python3.6/site-packages/Bio/PDB/StructureBuilder.py:91: PDBConstructionWarning: WARNING: Chain A is discontinuous at line 4336.\n",
      "  PDBConstructionWarning)\n",
      "/Users/jinli/anaconda3/lib/python3.6/site-packages/Bio/PDB/StructureBuilder.py:91: PDBConstructionWarning: WARNING: Chain B is discontinuous at line 4504.\n",
      "  PDBConstructionWarning)\n"
     ]
    },
    {
     "name": "stdout",
     "output_type": "stream",
     "text": [
      "\tThis protein has more than 1 chain.\n",
      "PDB File:  1dev.pdb\n",
      "\tThis protein has more than 1 chain.\n",
      "PDB File:  1dfm.pdb\n",
      "\tThis protein has more than 1 chain.\n",
      "PDB File:  1dfu.pdb\n",
      "\tThis protein has more than 1 chain.\n",
      "PDB File:  1dg6.pdb\n"
     ]
    },
    {
     "name": "stderr",
     "output_type": "stream",
     "text": [
      "/Users/jinli/anaconda3/lib/python3.6/site-packages/Bio/PDB/StructureBuilder.py:91: PDBConstructionWarning: WARNING: Chain A is discontinuous at line 4810.\n",
      "  PDBConstructionWarning)\n",
      "/Users/jinli/anaconda3/lib/python3.6/site-packages/Bio/PDB/StructureBuilder.py:91: PDBConstructionWarning: WARNING: Chain B is discontinuous at line 4811.\n",
      "  PDBConstructionWarning)\n",
      "/Users/jinli/anaconda3/lib/python3.6/site-packages/Bio/PDB/StructureBuilder.py:91: PDBConstructionWarning: WARNING: Chain C is discontinuous at line 4812.\n",
      "  PDBConstructionWarning)\n",
      "/Users/jinli/anaconda3/lib/python3.6/site-packages/Bio/PDB/StructureBuilder.py:91: PDBConstructionWarning: WARNING: Chain D is discontinuous at line 4870.\n",
      "  PDBConstructionWarning)\n",
      "/Users/jinli/anaconda3/lib/python3.6/site-packages/Bio/PDB/StructureBuilder.py:91: PDBConstructionWarning: WARNING: Chain A is discontinuous at line 4912.\n",
      "  PDBConstructionWarning)\n",
      "/Users/jinli/anaconda3/lib/python3.6/site-packages/Bio/PDB/StructureBuilder.py:91: PDBConstructionWarning: WARNING: Chain B is discontinuous at line 5123.\n",
      "  PDBConstructionWarning)\n",
      "/Users/jinli/anaconda3/lib/python3.6/site-packages/Bio/PDB/StructureBuilder.py:91: PDBConstructionWarning: WARNING: Chain M is discontinuous at line 2071.\n",
      "  PDBConstructionWarning)\n",
      "/Users/jinli/anaconda3/lib/python3.6/site-packages/Bio/PDB/StructureBuilder.py:91: PDBConstructionWarning: WARNING: Chain N is discontinuous at line 2075.\n",
      "  PDBConstructionWarning)\n",
      "/Users/jinli/anaconda3/lib/python3.6/site-packages/Bio/PDB/StructureBuilder.py:91: PDBConstructionWarning: WARNING: Chain M is discontinuous at line 2076.\n",
      "  PDBConstructionWarning)\n",
      "/Users/jinli/anaconda3/lib/python3.6/site-packages/Bio/PDB/StructureBuilder.py:91: PDBConstructionWarning: WARNING: Chain N is discontinuous at line 2163.\n",
      "  PDBConstructionWarning)\n",
      "/Users/jinli/anaconda3/lib/python3.6/site-packages/Bio/PDB/StructureBuilder.py:91: PDBConstructionWarning: WARNING: Chain P is discontinuous at line 2238.\n",
      "  PDBConstructionWarning)\n"
     ]
    },
    {
     "name": "stdout",
     "output_type": "stream",
     "text": [
      "PDB File:  1di0.pdb\n",
      "\tThis protein has more than 1 chain.\n",
      "PDB File:  1dj0.pdb\n"
     ]
    },
    {
     "name": "stderr",
     "output_type": "stream",
     "text": [
      "/Users/jinli/anaconda3/lib/python3.6/site-packages/Bio/PDB/StructureBuilder.py:91: PDBConstructionWarning: WARNING: Chain A is discontinuous at line 6444.\n",
      "  PDBConstructionWarning)\n",
      "/Users/jinli/anaconda3/lib/python3.6/site-packages/Bio/PDB/StructureBuilder.py:91: PDBConstructionWarning: WARNING: Chain B is discontinuous at line 6459.\n",
      "  PDBConstructionWarning)\n",
      "/Users/jinli/anaconda3/lib/python3.6/site-packages/Bio/PDB/StructureBuilder.py:91: PDBConstructionWarning: WARNING: Chain C is discontinuous at line 6474.\n",
      "  PDBConstructionWarning)\n",
      "/Users/jinli/anaconda3/lib/python3.6/site-packages/Bio/PDB/StructureBuilder.py:91: PDBConstructionWarning: WARNING: Chain D is discontinuous at line 6484.\n",
      "  PDBConstructionWarning)\n",
      "/Users/jinli/anaconda3/lib/python3.6/site-packages/Bio/PDB/StructureBuilder.py:91: PDBConstructionWarning: WARNING: Chain E is discontinuous at line 6494.\n",
      "  PDBConstructionWarning)\n",
      "/Users/jinli/anaconda3/lib/python3.6/site-packages/Bio/PDB/StructureBuilder.py:91: PDBConstructionWarning: WARNING: Chain A is discontinuous at line 6509.\n",
      "  PDBConstructionWarning)\n",
      "/Users/jinli/anaconda3/lib/python3.6/site-packages/Bio/PDB/StructureBuilder.py:91: PDBConstructionWarning: WARNING: Chain B is discontinuous at line 6519.\n",
      "  PDBConstructionWarning)\n",
      "/Users/jinli/anaconda3/lib/python3.6/site-packages/Bio/PDB/StructureBuilder.py:91: PDBConstructionWarning: WARNING: Chain C is discontinuous at line 6527.\n",
      "  PDBConstructionWarning)\n",
      "/Users/jinli/anaconda3/lib/python3.6/site-packages/Bio/PDB/StructureBuilder.py:91: PDBConstructionWarning: WARNING: Chain D is discontinuous at line 6539.\n",
      "  PDBConstructionWarning)\n",
      "/Users/jinli/anaconda3/lib/python3.6/site-packages/Bio/PDB/StructureBuilder.py:91: PDBConstructionWarning: WARNING: Chain E is discontinuous at line 6546.\n",
      "  PDBConstructionWarning)\n",
      "/Users/jinli/anaconda3/lib/python3.6/site-packages/Bio/PDB/StructureBuilder.py:91: PDBConstructionWarning: WARNING: Chain A is discontinuous at line 8828.\n",
      "  PDBConstructionWarning)\n",
      "/Users/jinli/anaconda3/lib/python3.6/site-packages/Bio/PDB/StructureBuilder.py:91: PDBConstructionWarning: WARNING: Chain B is discontinuous at line 8830.\n",
      "  PDBConstructionWarning)\n",
      "/Users/jinli/anaconda3/lib/python3.6/site-packages/Bio/PDB/StructureBuilder.py:91: PDBConstructionWarning: WARNING: Chain A is discontinuous at line 8832.\n",
      "  PDBConstructionWarning)\n",
      "/Users/jinli/anaconda3/lib/python3.6/site-packages/Bio/PDB/StructureBuilder.py:91: PDBConstructionWarning: WARNING: Chain B is discontinuous at line 9342.\n",
      "  PDBConstructionWarning)\n",
      "/Users/jinli/anaconda3/lib/python3.6/site-packages/Bio/PDB/StructureBuilder.py:91: PDBConstructionWarning: WARNING: Chain A is discontinuous at line 1860.\n",
      "  PDBConstructionWarning)\n",
      "/Users/jinli/anaconda3/lib/python3.6/site-packages/Bio/PDB/StructureBuilder.py:91: PDBConstructionWarning: WARNING: Chain B is discontinuous at line 1868.\n",
      "  PDBConstructionWarning)\n",
      "/Users/jinli/anaconda3/lib/python3.6/site-packages/Bio/PDB/StructureBuilder.py:91: PDBConstructionWarning: WARNING: Chain A is discontinuous at line 1873.\n",
      "  PDBConstructionWarning)\n",
      "/Users/jinli/anaconda3/lib/python3.6/site-packages/Bio/PDB/StructureBuilder.py:91: PDBConstructionWarning: WARNING: Chain B is discontinuous at line 1948.\n",
      "  PDBConstructionWarning)\n"
     ]
    },
    {
     "name": "stdout",
     "output_type": "stream",
     "text": [
      "\tThis protein has more than 1 chain.\n",
      "PDB File:  1dj7.pdb\n",
      "\tThis protein has more than 1 chain.\n",
      "PDB File:  1dj8.pdb\n",
      "\tThis protein has more than 1 chain.\n",
      "PDB File:  1dkg.pdb\n"
     ]
    },
    {
     "name": "stderr",
     "output_type": "stream",
     "text": [
      "/Users/jinli/anaconda3/lib/python3.6/site-packages/Bio/PDB/StructureBuilder.py:91: PDBConstructionWarning: WARNING: Chain A is discontinuous at line 4248.\n",
      "  PDBConstructionWarning)\n",
      "/Users/jinli/anaconda3/lib/python3.6/site-packages/Bio/PDB/StructureBuilder.py:91: PDBConstructionWarning: WARNING: Chain B is discontinuous at line 4300.\n",
      "  PDBConstructionWarning)\n",
      "/Users/jinli/anaconda3/lib/python3.6/site-packages/Bio/PDB/StructureBuilder.py:91: PDBConstructionWarning: WARNING: Chain C is discontinuous at line 4374.\n",
      "  PDBConstructionWarning)\n",
      "/Users/jinli/anaconda3/lib/python3.6/site-packages/Bio/PDB/StructureBuilder.py:91: PDBConstructionWarning: WARNING: Chain D is discontinuous at line 4439.\n",
      "  PDBConstructionWarning)\n",
      "/Users/jinli/anaconda3/lib/python3.6/site-packages/Bio/PDB/StructureBuilder.py:91: PDBConstructionWarning: WARNING: Chain E is discontinuous at line 4481.\n",
      "  PDBConstructionWarning)\n",
      "/Users/jinli/anaconda3/lib/python3.6/site-packages/Bio/PDB/StructureBuilder.py:91: PDBConstructionWarning: WARNING: Chain F is discontinuous at line 4540.\n",
      "  PDBConstructionWarning)\n",
      "/Users/jinli/anaconda3/lib/python3.6/site-packages/Bio/PDB/StructureBuilder.py:91: PDBConstructionWarning: WARNING: Chain A is discontinuous at line 5828.\n",
      "  PDBConstructionWarning)\n",
      "/Users/jinli/anaconda3/lib/python3.6/site-packages/Bio/PDB/StructureBuilder.py:91: PDBConstructionWarning: WARNING: Chain B is discontinuous at line 5835.\n",
      "  PDBConstructionWarning)\n",
      "/Users/jinli/anaconda3/lib/python3.6/site-packages/Bio/PDB/StructureBuilder.py:91: PDBConstructionWarning: WARNING: Chain D is discontinuous at line 5839.\n",
      "  PDBConstructionWarning)\n",
      "/Users/jinli/anaconda3/lib/python3.6/site-packages/Bio/PDB/StructureBuilder.py:91: PDBConstructionWarning: WARNING: Chain A is discontinuous at line 4950.\n",
      "  PDBConstructionWarning)\n",
      "/Users/jinli/anaconda3/lib/python3.6/site-packages/Bio/PDB/StructureBuilder.py:91: PDBConstructionWarning: WARNING: Chain B is discontinuous at line 5171.\n",
      "  PDBConstructionWarning)\n"
     ]
    },
    {
     "name": "stdout",
     "output_type": "stream",
     "text": [
      "\tThis protein has more than 1 chain.\n",
      "PDB File:  1dle.pdb\n",
      "\tThis protein has more than 1 chain.\n",
      "PDB File:  1dm9.pdb\n",
      "\tThis protein has more than 1 chain.\n",
      "PDB File:  1dmg.pdb\n"
     ]
    },
    {
     "name": "stderr",
     "output_type": "stream",
     "text": [
      "/Users/jinli/anaconda3/lib/python3.6/site-packages/Bio/PDB/StructureBuilder.py:91: PDBConstructionWarning: WARNING: Chain A is discontinuous at line 2077.\n",
      "  PDBConstructionWarning)\n",
      "/Users/jinli/anaconda3/lib/python3.6/site-packages/Bio/PDB/StructureBuilder.py:91: PDBConstructionWarning: WARNING: Chain B is discontinuous at line 2082.\n",
      "  PDBConstructionWarning)\n",
      "/Users/jinli/anaconda3/lib/python3.6/site-packages/Bio/PDB/StructureBuilder.py:91: PDBConstructionWarning: WARNING: Chain A is discontinuous at line 2107.\n",
      "  PDBConstructionWarning)\n",
      "/Users/jinli/anaconda3/lib/python3.6/site-packages/Bio/PDB/StructureBuilder.py:91: PDBConstructionWarning: WARNING: Chain B is discontinuous at line 2176.\n",
      "  PDBConstructionWarning)\n"
     ]
    },
    {
     "name": "stdout",
     "output_type": "stream",
     "text": [
      "PDB File:  1dml.pdb\n",
      "\tThis protein has more than 1 chain.\n",
      "PDB File:  1dmu.pdb\n"
     ]
    },
    {
     "name": "stderr",
     "output_type": "stream",
     "text": [
      "/Users/jinli/anaconda3/lib/python3.6/site-packages/Bio/PDB/StructureBuilder.py:91: PDBConstructionWarning: WARNING: Chain F is discontinuous at line 3199.\n",
      "  PDBConstructionWarning)\n",
      "/Users/jinli/anaconda3/lib/python3.6/site-packages/Bio/PDB/StructureBuilder.py:91: PDBConstructionWarning: WARNING: Chain A is discontinuous at line 3200.\n",
      "  PDBConstructionWarning)\n",
      "/Users/jinli/anaconda3/lib/python3.6/site-packages/Bio/PDB/StructureBuilder.py:91: PDBConstructionWarning: WARNING: Chain F is discontinuous at line 3207.\n",
      "  PDBConstructionWarning)\n",
      "/Users/jinli/anaconda3/lib/python3.6/site-packages/Bio/PDB/StructureBuilder.py:91: PDBConstructionWarning: WARNING: Chain A is discontinuous at line 3239.\n",
      "  PDBConstructionWarning)\n"
     ]
    },
    {
     "name": "stdout",
     "output_type": "stream",
     "text": [
      "\tThis protein has more than 1 chain.\n",
      "PDB File:  1dov.pdb\n",
      "PDB File:  1dp4.pdb\n",
      "\tThis protein has more than 1 chain.\n",
      "PDB File:  1dp5.pdb\n",
      "\tThis protein has more than 1 chain.\n",
      "PDB File:  1dp7.pdb\n"
     ]
    },
    {
     "name": "stderr",
     "output_type": "stream",
     "text": [
      "/Users/jinli/anaconda3/lib/python3.6/site-packages/Bio/PDB/StructureBuilder.py:91: PDBConstructionWarning: WARNING: Chain A is discontinuous at line 7423.\n",
      "  PDBConstructionWarning)\n",
      "/Users/jinli/anaconda3/lib/python3.6/site-packages/Bio/PDB/StructureBuilder.py:91: PDBConstructionWarning: WARNING: Chain C is discontinuous at line 7500.\n",
      "  PDBConstructionWarning)\n",
      "/Users/jinli/anaconda3/lib/python3.6/site-packages/Bio/PDB/StructureBuilder.py:91: PDBConstructionWarning: WARNING: Chain A is discontinuous at line 7596.\n",
      "  PDBConstructionWarning)\n",
      "/Users/jinli/anaconda3/lib/python3.6/site-packages/Bio/PDB/StructureBuilder.py:91: PDBConstructionWarning: WARNING: Chain C is discontinuous at line 7865.\n",
      "  PDBConstructionWarning)\n",
      "/Users/jinli/anaconda3/lib/python3.6/site-packages/Bio/PDB/StructureBuilder.py:91: PDBConstructionWarning: WARNING: Chain A is discontinuous at line 3364.\n",
      "  PDBConstructionWarning)\n",
      "/Users/jinli/anaconda3/lib/python3.6/site-packages/Bio/PDB/StructureBuilder.py:91: PDBConstructionWarning: WARNING: Chain B is discontinuous at line 3829.\n",
      "  PDBConstructionWarning)\n",
      "/Users/jinli/anaconda3/lib/python3.6/site-packages/Bio/PDB/StructureBuilder.py:91: PDBConstructionWarning: WARNING: Chain D is discontinuous at line 1341.\n",
      "  PDBConstructionWarning)\n",
      "/Users/jinli/anaconda3/lib/python3.6/site-packages/Bio/PDB/StructureBuilder.py:91: PDBConstructionWarning: WARNING: Chain P is discontinuous at line 1390.\n",
      "  PDBConstructionWarning)\n"
     ]
    },
    {
     "name": "stdout",
     "output_type": "stream",
     "text": [
      "\tThis protein has more than 1 chain.\n",
      "PDB File:  1dqg.pdb\n",
      "PDB File:  1dqp.pdb\n"
     ]
    },
    {
     "name": "stderr",
     "output_type": "stream",
     "text": [
      "/Users/jinli/anaconda3/lib/python3.6/site-packages/Bio/PDB/StructureBuilder.py:91: PDBConstructionWarning: WARNING: Chain A is discontinuous at line 4139.\n",
      "  PDBConstructionWarning)\n",
      "/Users/jinli/anaconda3/lib/python3.6/site-packages/Bio/PDB/StructureBuilder.py:91: PDBConstructionWarning: WARNING: Chain B is discontinuous at line 4154.\n",
      "  PDBConstructionWarning)\n",
      "/Users/jinli/anaconda3/lib/python3.6/site-packages/Bio/PDB/StructureBuilder.py:91: PDBConstructionWarning: WARNING: Chain A is discontinuous at line 4169.\n",
      "  PDBConstructionWarning)\n",
      "/Users/jinli/anaconda3/lib/python3.6/site-packages/Bio/PDB/StructureBuilder.py:91: PDBConstructionWarning: WARNING: Chain B is discontinuous at line 4458.\n",
      "  PDBConstructionWarning)\n"
     ]
    },
    {
     "name": "stdout",
     "output_type": "stream",
     "text": [
      "\tThis protein has more than 1 chain.\n",
      "PDB File:  1ds1.pdb\n",
      "PDB File:  1dtd.pdb\n",
      "\tThis protein has more than 1 chain.\n",
      "PDB File:  1dun.pdb\n"
     ]
    },
    {
     "name": "stderr",
     "output_type": "stream",
     "text": [
      "/Users/jinli/anaconda3/lib/python3.6/site-packages/Bio/PDB/StructureBuilder.py:91: PDBConstructionWarning: WARNING: Chain A is discontinuous at line 3390.\n",
      "  PDBConstructionWarning)\n",
      "/Users/jinli/anaconda3/lib/python3.6/site-packages/Bio/PDB/StructureBuilder.py:91: PDBConstructionWarning: WARNING: Chain B is discontinuous at line 3577.\n",
      "  PDBConstructionWarning)\n"
     ]
    },
    {
     "name": "stdout",
     "output_type": "stream",
     "text": [
      "PDB File:  1dvk.pdb\n",
      "\tThis protein has more than 1 chain.\n",
      "PDB File:  1dvo.pdb\n"
     ]
    },
    {
     "name": "stderr",
     "output_type": "stream",
     "text": [
      "/Users/jinli/anaconda3/lib/python3.6/site-packages/Bio/PDB/StructureBuilder.py:91: PDBConstructionWarning: WARNING: Chain A is discontinuous at line 2830.\n",
      "  PDBConstructionWarning)\n",
      "/Users/jinli/anaconda3/lib/python3.6/site-packages/Bio/PDB/StructureBuilder.py:91: PDBConstructionWarning: WARNING: Chain B is discontinuous at line 2937.\n",
      "  PDBConstructionWarning)\n"
     ]
    },
    {
     "name": "stdout",
     "output_type": "stream",
     "text": [
      "PDB File:  1dwk.pdb\n"
     ]
    },
    {
     "name": "stderr",
     "output_type": "stream",
     "text": [
      "/Users/jinli/anaconda3/lib/python3.6/site-packages/Bio/PDB/StructureBuilder.py:91: PDBConstructionWarning: WARNING: Chain A is discontinuous at line 13276.\n",
      "  PDBConstructionWarning)\n",
      "/Users/jinli/anaconda3/lib/python3.6/site-packages/Bio/PDB/StructureBuilder.py:91: PDBConstructionWarning: WARNING: Chain B is discontinuous at line 13296.\n",
      "  PDBConstructionWarning)\n",
      "/Users/jinli/anaconda3/lib/python3.6/site-packages/Bio/PDB/StructureBuilder.py:91: PDBConstructionWarning: WARNING: Chain C is discontinuous at line 13312.\n",
      "  PDBConstructionWarning)\n",
      "/Users/jinli/anaconda3/lib/python3.6/site-packages/Bio/PDB/StructureBuilder.py:91: PDBConstructionWarning: WARNING: Chain D is discontinuous at line 13323.\n",
      "  PDBConstructionWarning)\n",
      "/Users/jinli/anaconda3/lib/python3.6/site-packages/Bio/PDB/StructureBuilder.py:91: PDBConstructionWarning: WARNING: Chain E is discontinuous at line 13338.\n",
      "  PDBConstructionWarning)\n",
      "/Users/jinli/anaconda3/lib/python3.6/site-packages/Bio/PDB/StructureBuilder.py:91: PDBConstructionWarning: WARNING: Chain F is discontinuous at line 13348.\n",
      "  PDBConstructionWarning)\n",
      "/Users/jinli/anaconda3/lib/python3.6/site-packages/Bio/PDB/StructureBuilder.py:91: PDBConstructionWarning: WARNING: Chain G is discontinuous at line 13369.\n",
      "  PDBConstructionWarning)\n",
      "/Users/jinli/anaconda3/lib/python3.6/site-packages/Bio/PDB/StructureBuilder.py:91: PDBConstructionWarning: WARNING: Chain H is discontinuous at line 13390.\n",
      "  PDBConstructionWarning)\n",
      "/Users/jinli/anaconda3/lib/python3.6/site-packages/Bio/PDB/StructureBuilder.py:91: PDBConstructionWarning: WARNING: Chain I is discontinuous at line 13400.\n",
      "  PDBConstructionWarning)\n",
      "/Users/jinli/anaconda3/lib/python3.6/site-packages/Bio/PDB/StructureBuilder.py:91: PDBConstructionWarning: WARNING: Chain J is discontinuous at line 13410.\n",
      "  PDBConstructionWarning)\n",
      "/Users/jinli/anaconda3/lib/python3.6/site-packages/Bio/PDB/StructureBuilder.py:91: PDBConstructionWarning: WARNING: Chain A is discontinuous at line 13426.\n",
      "  PDBConstructionWarning)\n",
      "/Users/jinli/anaconda3/lib/python3.6/site-packages/Bio/PDB/StructureBuilder.py:91: PDBConstructionWarning: WARNING: Chain B is discontinuous at line 13687.\n",
      "  PDBConstructionWarning)\n",
      "/Users/jinli/anaconda3/lib/python3.6/site-packages/Bio/PDB/StructureBuilder.py:91: PDBConstructionWarning: WARNING: Chain C is discontinuous at line 13953.\n",
      "  PDBConstructionWarning)\n",
      "/Users/jinli/anaconda3/lib/python3.6/site-packages/Bio/PDB/StructureBuilder.py:91: PDBConstructionWarning: WARNING: Chain D is discontinuous at line 14217.\n",
      "  PDBConstructionWarning)\n",
      "/Users/jinli/anaconda3/lib/python3.6/site-packages/Bio/PDB/StructureBuilder.py:91: PDBConstructionWarning: WARNING: Chain E is discontinuous at line 14462.\n",
      "  PDBConstructionWarning)\n",
      "/Users/jinli/anaconda3/lib/python3.6/site-packages/Bio/PDB/StructureBuilder.py:91: PDBConstructionWarning: WARNING: Chain F is discontinuous at line 14707.\n",
      "  PDBConstructionWarning)\n",
      "/Users/jinli/anaconda3/lib/python3.6/site-packages/Bio/PDB/StructureBuilder.py:91: PDBConstructionWarning: WARNING: Chain G is discontinuous at line 14945.\n",
      "  PDBConstructionWarning)\n",
      "/Users/jinli/anaconda3/lib/python3.6/site-packages/Bio/PDB/StructureBuilder.py:91: PDBConstructionWarning: WARNING: Chain H is discontinuous at line 15194.\n",
      "  PDBConstructionWarning)\n",
      "/Users/jinli/anaconda3/lib/python3.6/site-packages/Bio/PDB/StructureBuilder.py:91: PDBConstructionWarning: WARNING: Chain I is discontinuous at line 15414.\n",
      "  PDBConstructionWarning)\n",
      "/Users/jinli/anaconda3/lib/python3.6/site-packages/Bio/PDB/StructureBuilder.py:91: PDBConstructionWarning: WARNING: Chain J is discontinuous at line 15638.\n",
      "  PDBConstructionWarning)\n",
      "/Users/jinli/anaconda3/lib/python3.6/site-packages/Bio/PDB/StructureBuilder.py:91: PDBConstructionWarning: WARNING: Chain A is discontinuous at line 2328.\n",
      "  PDBConstructionWarning)\n",
      "/Users/jinli/anaconda3/lib/python3.6/site-packages/Bio/PDB/StructureBuilder.py:91: PDBConstructionWarning: WARNING: Chain B is discontinuous at line 2411.\n",
      "  PDBConstructionWarning)\n"
     ]
    },
    {
     "name": "stdout",
     "output_type": "stream",
     "text": [
      "\tThis protein has more than 1 chain.\n",
      "PDB File:  1dyn.pdb\n",
      "\tThis protein has more than 1 chain.\n",
      "PDB File:  1dyp.pdb\n",
      "PDB File:  1dzf.pdb\n",
      "PDB File:  1dzk.pdb\n",
      "\tThis protein has more than 1 chain.\n",
      "PDB File:  1e0b.pdb\n",
      "\tThis protein has more than 1 chain.\n",
      "PDB File:  1e0c.pdb\n"
     ]
    },
    {
     "name": "stderr",
     "output_type": "stream",
     "text": [
      "/Users/jinli/anaconda3/lib/python3.6/site-packages/Bio/PDB/StructureBuilder.py:91: PDBConstructionWarning: WARNING: Chain A is discontinuous at line 2883.\n",
      "  PDBConstructionWarning)\n",
      "/Users/jinli/anaconda3/lib/python3.6/site-packages/Bio/PDB/StructureBuilder.py:91: PDBConstructionWarning: WARNING: Chain B is discontinuous at line 2895.\n",
      "  PDBConstructionWarning)\n",
      "/Users/jinli/anaconda3/lib/python3.6/site-packages/Bio/PDB/StructureBuilder.py:91: PDBConstructionWarning: WARNING: Chain A is discontinuous at line 2907.\n",
      "  PDBConstructionWarning)\n",
      "/Users/jinli/anaconda3/lib/python3.6/site-packages/Bio/PDB/StructureBuilder.py:91: PDBConstructionWarning: WARNING: Chain B is discontinuous at line 3072.\n",
      "  PDBConstructionWarning)\n",
      "/Users/jinli/anaconda3/lib/python3.6/site-packages/Bio/PDB/StructureBuilder.py:91: PDBConstructionWarning: WARNING: Chain A is discontinuous at line 1376.\n",
      "  PDBConstructionWarning)\n",
      "/Users/jinli/anaconda3/lib/python3.6/site-packages/Bio/PDB/StructureBuilder.py:91: PDBConstructionWarning: WARNING: Chain B is discontinuous at line 1450.\n",
      "  PDBConstructionWarning)\n"
     ]
    },
    {
     "name": "stdout",
     "output_type": "stream",
     "text": [
      "PDB File:  1e2k.pdb\n",
      "\tThis protein has more than 1 chain.\n",
      "PDB File:  1e2w.pdb\n"
     ]
    },
    {
     "name": "stderr",
     "output_type": "stream",
     "text": [
      "/Users/jinli/anaconda3/lib/python3.6/site-packages/Bio/PDB/StructureBuilder.py:91: PDBConstructionWarning: WARNING: Chain A is discontinuous at line 5345.\n",
      "  PDBConstructionWarning)\n",
      "/Users/jinli/anaconda3/lib/python3.6/site-packages/Bio/PDB/StructureBuilder.py:91: PDBConstructionWarning: WARNING: Chain B is discontinuous at line 5368.\n",
      "  PDBConstructionWarning)\n",
      "/Users/jinli/anaconda3/lib/python3.6/site-packages/Bio/PDB/StructureBuilder.py:91: PDBConstructionWarning: WARNING: Chain A is discontinuous at line 5391.\n",
      "  PDBConstructionWarning)\n",
      "/Users/jinli/anaconda3/lib/python3.6/site-packages/Bio/PDB/StructureBuilder.py:91: PDBConstructionWarning: WARNING: Chain B is discontinuous at line 5571.\n",
      "  PDBConstructionWarning)\n",
      "/Users/jinli/anaconda3/lib/python3.6/site-packages/Bio/PDB/StructureBuilder.py:91: PDBConstructionWarning: WARNING: Chain A is discontinuous at line 4332.\n",
      "  PDBConstructionWarning)\n",
      "/Users/jinli/anaconda3/lib/python3.6/site-packages/Bio/PDB/StructureBuilder.py:91: PDBConstructionWarning: WARNING: Chain B is discontinuous at line 4375.\n",
      "  PDBConstructionWarning)\n",
      "/Users/jinli/anaconda3/lib/python3.6/site-packages/Bio/PDB/StructureBuilder.py:91: PDBConstructionWarning: WARNING: Chain A is discontinuous at line 4418.\n",
      "  PDBConstructionWarning)\n",
      "/Users/jinli/anaconda3/lib/python3.6/site-packages/Bio/PDB/StructureBuilder.py:91: PDBConstructionWarning: WARNING: Chain B is discontinuous at line 4819.\n",
      "  PDBConstructionWarning)\n",
      "/Users/jinli/anaconda3/lib/python3.6/site-packages/Bio/PDB/StructureBuilder.py:91: PDBConstructionWarning: WARNING: Chain A is discontinuous at line 2714.\n",
      "  PDBConstructionWarning)\n"
     ]
    },
    {
     "name": "stdout",
     "output_type": "stream",
     "text": [
      "\tThis protein has more than 1 chain.\n",
      "PDB File:  1e30.pdb\n",
      "\tThis protein has more than 1 chain.\n",
      "PDB File:  1e44.pdb\n",
      "\tThis protein has more than 1 chain.\n",
      "PDB File:  1e58.pdb\n"
     ]
    },
    {
     "name": "stderr",
     "output_type": "stream",
     "text": [
      "/Users/jinli/anaconda3/lib/python3.6/site-packages/Bio/PDB/StructureBuilder.py:91: PDBConstructionWarning: WARNING: Chain B is discontinuous at line 2715.\n",
      "  PDBConstructionWarning)\n",
      "/Users/jinli/anaconda3/lib/python3.6/site-packages/Bio/PDB/StructureBuilder.py:91: PDBConstructionWarning: WARNING: Chain A is discontinuous at line 2716.\n",
      "  PDBConstructionWarning)\n",
      "/Users/jinli/anaconda3/lib/python3.6/site-packages/Bio/PDB/StructureBuilder.py:91: PDBConstructionWarning: WARNING: Chain B is discontinuous at line 2810.\n",
      "  PDBConstructionWarning)\n",
      "/Users/jinli/anaconda3/lib/python3.6/site-packages/Bio/PDB/StructureBuilder.py:91: PDBConstructionWarning: WARNING: Chain A is discontinuous at line 1853.\n",
      "  PDBConstructionWarning)\n",
      "/Users/jinli/anaconda3/lib/python3.6/site-packages/Bio/PDB/StructureBuilder.py:91: PDBConstructionWarning: WARNING: Chain B is discontinuous at line 1936.\n",
      "  PDBConstructionWarning)\n"
     ]
    },
    {
     "name": "stdout",
     "output_type": "stream",
     "text": [
      "PDB File:  1e5k.pdb\n",
      "PDB File:  1e6u.pdb\n",
      "PDB File:  1e7l.pdb\n",
      "\tThis protein has more than 1 chain.\n",
      "PDB File:  1e94.pdb\n"
     ]
    },
    {
     "name": "stderr",
     "output_type": "stream",
     "text": [
      "/Users/jinli/anaconda3/lib/python3.6/site-packages/Bio/PDB/StructureBuilder.py:91: PDBConstructionWarning: WARNING: Chain A is discontinuous at line 6012.\n",
      "  PDBConstructionWarning)\n",
      "/Users/jinli/anaconda3/lib/python3.6/site-packages/Bio/PDB/StructureBuilder.py:91: PDBConstructionWarning: WARNING: Chain B is discontinuous at line 6094.\n",
      "  PDBConstructionWarning)\n",
      "/Users/jinli/anaconda3/lib/python3.6/site-packages/Bio/PDB/StructureBuilder.py:91: PDBConstructionWarning: WARNING: Chain A is discontinuous at line 6176.\n",
      "  PDBConstructionWarning)\n",
      "/Users/jinli/anaconda3/lib/python3.6/site-packages/Bio/PDB/StructureBuilder.py:91: PDBConstructionWarning: WARNING: Chain B is discontinuous at line 6562.\n",
      "  PDBConstructionWarning)\n",
      "/Users/jinli/anaconda3/lib/python3.6/site-packages/Bio/PDB/StructureBuilder.py:91: PDBConstructionWarning: WARNING: Chain E is discontinuous at line 12893.\n",
      "  PDBConstructionWarning)\n",
      "/Users/jinli/anaconda3/lib/python3.6/site-packages/Bio/PDB/StructureBuilder.py:91: PDBConstructionWarning: WARNING: Chain F is discontinuous at line 12924.\n",
      "  PDBConstructionWarning)\n",
      "/Users/jinli/anaconda3/lib/python3.6/site-packages/Bio/PDB/StructureBuilder.py:91: PDBConstructionWarning: WARNING: Chain A is discontinuous at line 12955.\n",
      "  PDBConstructionWarning)\n",
      "/Users/jinli/anaconda3/lib/python3.6/site-packages/Bio/PDB/StructureBuilder.py:91: PDBConstructionWarning: WARNING: Chain B is discontinuous at line 12986.\n",
      "  PDBConstructionWarning)\n",
      "/Users/jinli/anaconda3/lib/python3.6/site-packages/Bio/PDB/StructureBuilder.py:91: PDBConstructionWarning: WARNING: Chain C is discontinuous at line 13015.\n",
      "  PDBConstructionWarning)\n",
      "/Users/jinli/anaconda3/lib/python3.6/site-packages/Bio/PDB/StructureBuilder.py:91: PDBConstructionWarning: WARNING: Chain D is discontinuous at line 13048.\n",
      "  PDBConstructionWarning)\n",
      "/Users/jinli/anaconda3/lib/python3.6/site-packages/Bio/PDB/StructureBuilder.py:91: PDBConstructionWarning: WARNING: Chain E is discontinuous at line 13079.\n",
      "  PDBConstructionWarning)\n",
      "/Users/jinli/anaconda3/lib/python3.6/site-packages/Bio/PDB/StructureBuilder.py:91: PDBConstructionWarning: WARNING: Chain F is discontinuous at line 13173.\n",
      "  PDBConstructionWarning)\n"
     ]
    },
    {
     "name": "stdout",
     "output_type": "stream",
     "text": [
      "\tThis protein has more than 1 chain.\n",
      "PDB File:  1e9r.pdb\n"
     ]
    },
    {
     "name": "stderr",
     "output_type": "stream",
     "text": [
      "/Users/jinli/anaconda3/lib/python3.6/site-packages/Bio/PDB/StructureBuilder.py:91: PDBConstructionWarning: WARNING: Chain A is discontinuous at line 20705.\n",
      "  PDBConstructionWarning)\n",
      "/Users/jinli/anaconda3/lib/python3.6/site-packages/Bio/PDB/StructureBuilder.py:91: PDBConstructionWarning: WARNING: Chain B is discontinuous at line 20715.\n",
      "  PDBConstructionWarning)\n",
      "/Users/jinli/anaconda3/lib/python3.6/site-packages/Bio/PDB/StructureBuilder.py:91: PDBConstructionWarning: WARNING: Chain D is discontinuous at line 20725.\n",
      "  PDBConstructionWarning)\n",
      "/Users/jinli/anaconda3/lib/python3.6/site-packages/Bio/PDB/StructureBuilder.py:91: PDBConstructionWarning: WARNING: Chain E is discontinuous at line 20745.\n",
      "  PDBConstructionWarning)\n",
      "/Users/jinli/anaconda3/lib/python3.6/site-packages/Bio/PDB/StructureBuilder.py:91: PDBConstructionWarning: WARNING: Chain F is discontinuous at line 20755.\n",
      "  PDBConstructionWarning)\n",
      "/Users/jinli/anaconda3/lib/python3.6/site-packages/Bio/PDB/StructureBuilder.py:91: PDBConstructionWarning: WARNING: Chain G is discontinuous at line 20770.\n",
      "  PDBConstructionWarning)\n",
      "/Users/jinli/anaconda3/lib/python3.6/site-packages/Bio/PDB/StructureBuilder.py:91: PDBConstructionWarning: WARNING: Chain A is discontinuous at line 20780.\n",
      "  PDBConstructionWarning)\n",
      "/Users/jinli/anaconda3/lib/python3.6/site-packages/Bio/PDB/StructureBuilder.py:91: PDBConstructionWarning: WARNING: Chain B is discontinuous at line 20981.\n",
      "  PDBConstructionWarning)\n",
      "/Users/jinli/anaconda3/lib/python3.6/site-packages/Bio/PDB/StructureBuilder.py:91: PDBConstructionWarning: WARNING: Chain D is discontinuous at line 21155.\n",
      "  PDBConstructionWarning)\n",
      "/Users/jinli/anaconda3/lib/python3.6/site-packages/Bio/PDB/StructureBuilder.py:91: PDBConstructionWarning: WARNING: Chain E is discontinuous at line 21303.\n",
      "  PDBConstructionWarning)\n",
      "/Users/jinli/anaconda3/lib/python3.6/site-packages/Bio/PDB/StructureBuilder.py:91: PDBConstructionWarning: WARNING: Chain F is discontinuous at line 21425.\n",
      "  PDBConstructionWarning)\n",
      "/Users/jinli/anaconda3/lib/python3.6/site-packages/Bio/PDB/StructureBuilder.py:91: PDBConstructionWarning: WARNING: Chain G is discontinuous at line 21558.\n",
      "  PDBConstructionWarning)\n",
      "/Users/jinli/anaconda3/lib/python3.6/site-packages/Bio/PDB/StructureBuilder.py:91: PDBConstructionWarning: WARNING: Chain A is discontinuous at line 4338.\n",
      "  PDBConstructionWarning)\n",
      "/Users/jinli/anaconda3/lib/python3.6/site-packages/Bio/PDB/StructureBuilder.py:91: PDBConstructionWarning: WARNING: Chain B is discontinuous at line 4348.\n",
      "  PDBConstructionWarning)\n",
      "/Users/jinli/anaconda3/lib/python3.6/site-packages/Bio/PDB/StructureBuilder.py:91: PDBConstructionWarning: WARNING: Chain A is discontinuous at line 4358.\n",
      "  PDBConstructionWarning)\n",
      "/Users/jinli/anaconda3/lib/python3.6/site-packages/Bio/PDB/StructureBuilder.py:91: PDBConstructionWarning: WARNING: Chain B is discontinuous at line 4678.\n",
      "  PDBConstructionWarning)\n",
      "/Users/jinli/anaconda3/lib/python3.6/site-packages/Bio/PDB/StructureBuilder.py:91: PDBConstructionWarning: WARNING: Chain A is discontinuous at line 4444.\n",
      "  PDBConstructionWarning)\n",
      "/Users/jinli/anaconda3/lib/python3.6/site-packages/Bio/PDB/StructureBuilder.py:91: PDBConstructionWarning: WARNING: Chain B is discontinuous at line 4448.\n",
      "  PDBConstructionWarning)\n",
      "/Users/jinli/anaconda3/lib/python3.6/site-packages/Bio/PDB/StructureBuilder.py:91: PDBConstructionWarning: WARNING: Chain A is discontinuous at line 4452.\n",
      "  PDBConstructionWarning)\n",
      "/Users/jinli/anaconda3/lib/python3.6/site-packages/Bio/PDB/StructureBuilder.py:91: PDBConstructionWarning: WARNING: Chain B is discontinuous at line 4776.\n",
      "  PDBConstructionWarning)\n"
     ]
    },
    {
     "name": "stdout",
     "output_type": "stream",
     "text": [
      "\tThis protein has more than 1 chain.\n",
      "PDB File:  1eaj.pdb\n",
      "\tThis protein has more than 1 chain.\n",
      "PDB File:  1eaq.pdb\n",
      "\tThis protein has more than 1 chain.\n",
      "PDB File:  1eay.pdb\n"
     ]
    },
    {
     "name": "stderr",
     "output_type": "stream",
     "text": [
      "/Users/jinli/anaconda3/lib/python3.6/site-packages/Bio/PDB/StructureBuilder.py:91: PDBConstructionWarning: WARNING: Chain A is discontinuous at line 3401.\n",
      "  PDBConstructionWarning)\n",
      "/Users/jinli/anaconda3/lib/python3.6/site-packages/Bio/PDB/StructureBuilder.py:91: PDBConstructionWarning: WARNING: Chain B is discontinuous at line 3455.\n",
      "  PDBConstructionWarning)\n",
      "/Users/jinli/anaconda3/lib/python3.6/site-packages/Bio/PDB/StructureBuilder.py:91: PDBConstructionWarning: WARNING: Chain C is discontinuous at line 3487.\n",
      "  PDBConstructionWarning)\n",
      "/Users/jinli/anaconda3/lib/python3.6/site-packages/Bio/PDB/StructureBuilder.py:91: PDBConstructionWarning: WARNING: Chain D is discontinuous at line 3514.\n",
      "  PDBConstructionWarning)\n"
     ]
    },
    {
     "name": "stdout",
     "output_type": "stream",
     "text": [
      "\tThis protein has more than 1 chain.\n",
      "PDB File:  1eaz.pdb\n",
      "PDB File:  1eb6.pdb\n",
      "PDB File:  1edz.pdb\n",
      "PDB File:  1eej.pdb\n",
      "\tThis protein has more than 1 chain.\n",
      "PDB File:  1eer.pdb\n",
      "\tThis protein has more than 1 chain.\n",
      "PDB File:  1ef1.pdb\n"
     ]
    },
    {
     "name": "stderr",
     "output_type": "stream",
     "text": [
      "/Users/jinli/anaconda3/lib/python3.6/site-packages/Bio/PDB/StructureBuilder.py:91: PDBConstructionWarning: WARNING: Chain A is discontinuous at line 3714.\n",
      "  PDBConstructionWarning)\n",
      "/Users/jinli/anaconda3/lib/python3.6/site-packages/Bio/PDB/StructureBuilder.py:91: PDBConstructionWarning: WARNING: Chain B is discontinuous at line 3797.\n",
      "  PDBConstructionWarning)\n",
      "/Users/jinli/anaconda3/lib/python3.6/site-packages/Bio/PDB/StructureBuilder.py:91: PDBConstructionWarning: WARNING: Chain A is discontinuous at line 5123.\n",
      "  PDBConstructionWarning)\n",
      "/Users/jinli/anaconda3/lib/python3.6/site-packages/Bio/PDB/StructureBuilder.py:91: PDBConstructionWarning: WARNING: Chain B is discontinuous at line 5241.\n",
      "  PDBConstructionWarning)\n",
      "/Users/jinli/anaconda3/lib/python3.6/site-packages/Bio/PDB/StructureBuilder.py:91: PDBConstructionWarning: WARNING: Chain C is discontinuous at line 5315.\n",
      "  PDBConstructionWarning)\n",
      "/Users/jinli/anaconda3/lib/python3.6/site-packages/Bio/PDB/StructureBuilder.py:91: PDBConstructionWarning: WARNING: Chain A is discontinuous at line 6868.\n",
      "  PDBConstructionWarning)\n",
      "/Users/jinli/anaconda3/lib/python3.6/site-packages/Bio/PDB/StructureBuilder.py:91: PDBConstructionWarning: WARNING: Chain B is discontinuous at line 6873.\n",
      "  PDBConstructionWarning)\n",
      "/Users/jinli/anaconda3/lib/python3.6/site-packages/Bio/PDB/StructureBuilder.py:91: PDBConstructionWarning: WARNING: Chain A is discontinuous at line 6878.\n",
      "  PDBConstructionWarning)\n",
      "/Users/jinli/anaconda3/lib/python3.6/site-packages/Bio/PDB/StructureBuilder.py:91: PDBConstructionWarning: WARNING: Chain C is discontinuous at line 7023.\n",
      "  PDBConstructionWarning)\n",
      "/Users/jinli/anaconda3/lib/python3.6/site-packages/Bio/PDB/StructureBuilder.py:91: PDBConstructionWarning: WARNING: Chain B is discontinuous at line 7082.\n",
      "  PDBConstructionWarning)\n",
      "/Users/jinli/anaconda3/lib/python3.6/site-packages/Bio/PDB/StructureBuilder.py:91: PDBConstructionWarning: WARNING: Chain D is discontinuous at line 7227.\n",
      "  PDBConstructionWarning)\n"
     ]
    },
    {
     "name": "stdout",
     "output_type": "stream",
     "text": [
      "\tThis protein has more than 1 chain.\n",
      "PDB File:  1efd.pdb\n",
      "PDB File:  1eg3.pdb\n",
      "PDB File:  1egw.pdb\n",
      "\tThis protein has more than 1 chain.\n",
      "PDB File:  1ei5.pdb\n"
     ]
    },
    {
     "name": "stderr",
     "output_type": "stream",
     "text": [
      "/Users/jinli/anaconda3/lib/python3.6/site-packages/Bio/PDB/StructureBuilder.py:91: PDBConstructionWarning: WARNING: Chain E is discontinuous at line 5735.\n",
      "  PDBConstructionWarning)\n",
      "/Users/jinli/anaconda3/lib/python3.6/site-packages/Bio/PDB/StructureBuilder.py:91: PDBConstructionWarning: WARNING: Chain F is discontinuous at line 5810.\n",
      "  PDBConstructionWarning)\n",
      "/Users/jinli/anaconda3/lib/python3.6/site-packages/Bio/PDB/StructureBuilder.py:91: PDBConstructionWarning: WARNING: Chain G is discontinuous at line 5900.\n",
      "  PDBConstructionWarning)\n",
      "/Users/jinli/anaconda3/lib/python3.6/site-packages/Bio/PDB/StructureBuilder.py:91: PDBConstructionWarning: WARNING: Chain H is discontinuous at line 5988.\n",
      "  PDBConstructionWarning)\n",
      "/Users/jinli/anaconda3/lib/python3.6/site-packages/Bio/PDB/StructureBuilder.py:91: PDBConstructionWarning: WARNING: Chain A is discontinuous at line 6058.\n",
      "  PDBConstructionWarning)\n",
      "/Users/jinli/anaconda3/lib/python3.6/site-packages/Bio/PDB/StructureBuilder.py:91: PDBConstructionWarning: WARNING: Chain B is discontinuous at line 6145.\n",
      "  PDBConstructionWarning)\n",
      "/Users/jinli/anaconda3/lib/python3.6/site-packages/Bio/PDB/StructureBuilder.py:91: PDBConstructionWarning: WARNING: Chain C is discontinuous at line 6218.\n",
      "  PDBConstructionWarning)\n",
      "/Users/jinli/anaconda3/lib/python3.6/site-packages/Bio/PDB/StructureBuilder.py:91: PDBConstructionWarning: WARNING: Chain D is discontinuous at line 6298.\n",
      "  PDBConstructionWarning)\n"
     ]
    },
    {
     "name": "stdout",
     "output_type": "stream",
     "text": [
      "PDB File:  1ei7.pdb\n",
      "\tThis protein has more than 1 chain.\n",
      "PDB File:  1ei9.pdb\n"
     ]
    },
    {
     "name": "stderr",
     "output_type": "stream",
     "text": [
      "/Users/jinli/anaconda3/lib/python3.6/site-packages/Bio/PDB/StructureBuilder.py:91: PDBConstructionWarning: WARNING: Chain A is discontinuous at line 2953.\n",
      "  PDBConstructionWarning)\n",
      "/Users/jinli/anaconda3/lib/python3.6/site-packages/Bio/PDB/StructureBuilder.py:91: PDBConstructionWarning: WARNING: Chain B is discontinuous at line 3111.\n",
      "  PDBConstructionWarning)\n"
     ]
    },
    {
     "name": "stdout",
     "output_type": "stream",
     "text": [
      "PDB File:  1ej8.pdb\n",
      "PDB File:  1ejf.pdb\n"
     ]
    },
    {
     "name": "stderr",
     "output_type": "stream",
     "text": [
      "/Users/jinli/anaconda3/lib/python3.6/site-packages/Bio/PDB/StructureBuilder.py:91: PDBConstructionWarning: WARNING: Chain A is discontinuous at line 2270.\n",
      "  PDBConstructionWarning)\n",
      "/Users/jinli/anaconda3/lib/python3.6/site-packages/Bio/PDB/StructureBuilder.py:91: PDBConstructionWarning: WARNING: Chain B is discontinuous at line 2280.\n",
      "  PDBConstructionWarning)\n",
      "/Users/jinli/anaconda3/lib/python3.6/site-packages/Bio/PDB/StructureBuilder.py:91: PDBConstructionWarning: WARNING: Chain A is discontinuous at line 2285.\n",
      "  PDBConstructionWarning)\n",
      "/Users/jinli/anaconda3/lib/python3.6/site-packages/Bio/PDB/StructureBuilder.py:91: PDBConstructionWarning: WARNING: Chain B is discontinuous at line 2308.\n",
      "  PDBConstructionWarning)\n"
     ]
    },
    {
     "name": "stdout",
     "output_type": "stream",
     "text": [
      "\tThis protein has more than 1 chain.\n",
      "PDB File:  1ek9.pdb\n"
     ]
    },
    {
     "name": "stderr",
     "output_type": "stream",
     "text": [
      "/Users/jinli/anaconda3/lib/python3.6/site-packages/Bio/PDB/StructureBuilder.py:91: PDBConstructionWarning: WARNING: Chain A is discontinuous at line 10603.\n",
      "  PDBConstructionWarning)\n",
      "/Users/jinli/anaconda3/lib/python3.6/site-packages/Bio/PDB/StructureBuilder.py:91: PDBConstructionWarning: WARNING: Chain B is discontinuous at line 11045.\n",
      "  PDBConstructionWarning)\n",
      "/Users/jinli/anaconda3/lib/python3.6/site-packages/Bio/PDB/StructureBuilder.py:91: PDBConstructionWarning: WARNING: Chain C is discontinuous at line 11603.\n",
      "  PDBConstructionWarning)\n",
      "/Users/jinli/anaconda3/lib/python3.6/site-packages/Bio/PDB/StructureBuilder.py:91: PDBConstructionWarning: WARNING: Chain A is discontinuous at line 4192.\n",
      "  PDBConstructionWarning)\n",
      "/Users/jinli/anaconda3/lib/python3.6/site-packages/Bio/PDB/StructureBuilder.py:91: PDBConstructionWarning: WARNING: Chain B is discontinuous at line 4317.\n",
      "  PDBConstructionWarning)\n"
     ]
    },
    {
     "name": "stdout",
     "output_type": "stream",
     "text": [
      "\tThis protein has more than 1 chain.\n",
      "PDB File:  1ekq.pdb\n",
      "\tThis protein has more than 1 chain.\n",
      "PDB File:  1el6.pdb\n"
     ]
    },
    {
     "name": "stderr",
     "output_type": "stream",
     "text": [
      "/Users/jinli/anaconda3/lib/python3.6/site-packages/Bio/PDB/StructureBuilder.py:91: PDBConstructionWarning: WARNING: Chain A is discontinuous at line 5211.\n",
      "  PDBConstructionWarning)\n",
      "/Users/jinli/anaconda3/lib/python3.6/site-packages/Bio/PDB/StructureBuilder.py:91: PDBConstructionWarning: WARNING: Chain B is discontinuous at line 5369.\n",
      "  PDBConstructionWarning)\n",
      "/Users/jinli/anaconda3/lib/python3.6/site-packages/Bio/PDB/StructureBuilder.py:91: PDBConstructionWarning: WARNING: Chain C is discontinuous at line 5528.\n",
      "  PDBConstructionWarning)\n",
      "/Users/jinli/anaconda3/lib/python3.6/site-packages/Bio/PDB/StructureBuilder.py:91: PDBConstructionWarning: WARNING: Chain A is discontinuous at line 2804.\n",
      "  PDBConstructionWarning)\n",
      "/Users/jinli/anaconda3/lib/python3.6/site-packages/Bio/PDB/StructureBuilder.py:91: PDBConstructionWarning: WARNING: Chain B is discontinuous at line 3005.\n",
      "  PDBConstructionWarning)\n",
      "/Users/jinli/anaconda3/lib/python3.6/site-packages/Bio/PDB/StructureBuilder.py:91: PDBConstructionWarning: WARNING: Chain A is discontinuous at line 6502.\n",
      "  PDBConstructionWarning)\n",
      "/Users/jinli/anaconda3/lib/python3.6/site-packages/Bio/PDB/StructureBuilder.py:91: PDBConstructionWarning: WARNING: Chain B is discontinuous at line 6532.\n",
      "  PDBConstructionWarning)\n",
      "/Users/jinli/anaconda3/lib/python3.6/site-packages/Bio/PDB/StructureBuilder.py:91: PDBConstructionWarning: WARNING: Chain A is discontinuous at line 6554.\n",
      "  PDBConstructionWarning)\n"
     ]
    },
    {
     "name": "stdout",
     "output_type": "stream",
     "text": [
      "\tThis protein has more than 1 chain.\n",
      "PDB File:  1elk.pdb\n",
      "\tThis protein has more than 1 chain.\n",
      "PDB File:  1elu.pdb\n"
     ]
    },
    {
     "name": "stderr",
     "output_type": "stream",
     "text": [
      "/Users/jinli/anaconda3/lib/python3.6/site-packages/Bio/PDB/StructureBuilder.py:91: PDBConstructionWarning: WARNING: Chain B is discontinuous at line 6931.\n",
      "  PDBConstructionWarning)\n",
      "/Users/jinli/anaconda3/lib/python3.6/site-packages/Bio/PDB/StructureBuilder.py:91: PDBConstructionWarning: WARNING: Chain A is discontinuous at line 2576.\n",
      "  PDBConstructionWarning)\n",
      "/Users/jinli/anaconda3/lib/python3.6/site-packages/Bio/PDB/StructureBuilder.py:91: PDBConstructionWarning: WARNING: Chain B is discontinuous at line 2635.\n",
      "  PDBConstructionWarning)\n"
     ]
    },
    {
     "name": "stdout",
     "output_type": "stream",
     "text": [
      "\tThis protein has more than 1 chain.\n",
      "PDB File:  1em9.pdb\n",
      "\tThis protein has more than 1 chain.\n",
      "PDB File:  1eok.pdb\n",
      "PDB File:  1epf.pdb\n",
      "\tThis protein has more than 1 chain.\n",
      "PDB File:  1epu.pdb\n"
     ]
    },
    {
     "name": "stderr",
     "output_type": "stream",
     "text": [
      "/Users/jinli/anaconda3/lib/python3.6/site-packages/Bio/PDB/StructureBuilder.py:91: PDBConstructionWarning: WARNING: Chain C is discontinuous at line 6763.\n",
      "  PDBConstructionWarning)\n",
      "/Users/jinli/anaconda3/lib/python3.6/site-packages/Bio/PDB/StructureBuilder.py:91: PDBConstructionWarning: WARNING: Chain A is discontinuous at line 6764.\n",
      "  PDBConstructionWarning)\n",
      "/Users/jinli/anaconda3/lib/python3.6/site-packages/Bio/PDB/StructureBuilder.py:91: PDBConstructionWarning: WARNING: Chain B is discontinuous at line 7129.\n",
      "  PDBConstructionWarning)\n",
      "/Users/jinli/anaconda3/lib/python3.6/site-packages/Bio/PDB/StructureBuilder.py:91: PDBConstructionWarning: WARNING: Chain C is discontinuous at line 7476.\n",
      "  PDBConstructionWarning)\n",
      "/Users/jinli/anaconda3/lib/python3.6/site-packages/Bio/PDB/StructureBuilder.py:91: PDBConstructionWarning: WARNING: Chain D is discontinuous at line 7833.\n",
      "  PDBConstructionWarning)\n"
     ]
    },
    {
     "name": "stdout",
     "output_type": "stream",
     "text": [
      "PDB File:  1eq2.pdb\n"
     ]
    },
    {
     "name": "stderr",
     "output_type": "stream",
     "text": [
      "/Users/jinli/anaconda3/lib/python3.6/site-packages/Bio/PDB/StructureBuilder.py:91: PDBConstructionWarning: WARNING: Chain A is discontinuous at line 24919.\n",
      "  PDBConstructionWarning)\n",
      "/Users/jinli/anaconda3/lib/python3.6/site-packages/Bio/PDB/StructureBuilder.py:91: PDBConstructionWarning: WARNING: Chain B is discontinuous at line 24994.\n",
      "  PDBConstructionWarning)\n",
      "/Users/jinli/anaconda3/lib/python3.6/site-packages/Bio/PDB/StructureBuilder.py:91: PDBConstructionWarning: WARNING: Chain C is discontinuous at line 25080.\n",
      "  PDBConstructionWarning)\n",
      "/Users/jinli/anaconda3/lib/python3.6/site-packages/Bio/PDB/StructureBuilder.py:91: PDBConstructionWarning: WARNING: Chain D is discontinuous at line 25155.\n",
      "  PDBConstructionWarning)\n",
      "/Users/jinli/anaconda3/lib/python3.6/site-packages/Bio/PDB/StructureBuilder.py:91: PDBConstructionWarning: WARNING: Chain E is discontinuous at line 25241.\n",
      "  PDBConstructionWarning)\n",
      "/Users/jinli/anaconda3/lib/python3.6/site-packages/Bio/PDB/StructureBuilder.py:91: PDBConstructionWarning: WARNING: Chain F is discontinuous at line 25316.\n",
      "  PDBConstructionWarning)\n",
      "/Users/jinli/anaconda3/lib/python3.6/site-packages/Bio/PDB/StructureBuilder.py:91: PDBConstructionWarning: WARNING: Chain G is discontinuous at line 25402.\n",
      "  PDBConstructionWarning)\n",
      "/Users/jinli/anaconda3/lib/python3.6/site-packages/Bio/PDB/StructureBuilder.py:91: PDBConstructionWarning: WARNING: Chain H is discontinuous at line 25477.\n",
      "  PDBConstructionWarning)\n",
      "/Users/jinli/anaconda3/lib/python3.6/site-packages/Bio/PDB/StructureBuilder.py:91: PDBConstructionWarning: WARNING: Chain I is discontinuous at line 25552.\n",
      "  PDBConstructionWarning)\n",
      "/Users/jinli/anaconda3/lib/python3.6/site-packages/Bio/PDB/StructureBuilder.py:91: PDBConstructionWarning: WARNING: Chain J is discontinuous at line 25627.\n",
      "  PDBConstructionWarning)\n",
      "/Users/jinli/anaconda3/lib/python3.6/site-packages/Bio/PDB/StructureBuilder.py:91: PDBConstructionWarning: WARNING: Chain A is discontinuous at line 25702.\n",
      "  PDBConstructionWarning)\n",
      "/Users/jinli/anaconda3/lib/python3.6/site-packages/Bio/PDB/StructureBuilder.py:91: PDBConstructionWarning: WARNING: Chain B is discontinuous at line 25772.\n",
      "  PDBConstructionWarning)\n",
      "/Users/jinli/anaconda3/lib/python3.6/site-packages/Bio/PDB/StructureBuilder.py:91: PDBConstructionWarning: WARNING: Chain C is discontinuous at line 25891.\n",
      "  PDBConstructionWarning)\n",
      "/Users/jinli/anaconda3/lib/python3.6/site-packages/Bio/PDB/StructureBuilder.py:91: PDBConstructionWarning: WARNING: Chain D is discontinuous at line 25973.\n",
      "  PDBConstructionWarning)\n",
      "/Users/jinli/anaconda3/lib/python3.6/site-packages/Bio/PDB/StructureBuilder.py:91: PDBConstructionWarning: WARNING: Chain E is discontinuous at line 26091.\n",
      "  PDBConstructionWarning)\n",
      "/Users/jinli/anaconda3/lib/python3.6/site-packages/Bio/PDB/StructureBuilder.py:91: PDBConstructionWarning: WARNING: Chain F is discontinuous at line 26196.\n",
      "  PDBConstructionWarning)\n",
      "/Users/jinli/anaconda3/lib/python3.6/site-packages/Bio/PDB/StructureBuilder.py:91: PDBConstructionWarning: WARNING: Chain G is discontinuous at line 26302.\n",
      "  PDBConstructionWarning)\n",
      "/Users/jinli/anaconda3/lib/python3.6/site-packages/Bio/PDB/StructureBuilder.py:91: PDBConstructionWarning: WARNING: Chain H is discontinuous at line 26420.\n",
      "  PDBConstructionWarning)\n",
      "/Users/jinli/anaconda3/lib/python3.6/site-packages/Bio/PDB/StructureBuilder.py:91: PDBConstructionWarning: WARNING: Chain I is discontinuous at line 26534.\n",
      "  PDBConstructionWarning)\n",
      "/Users/jinli/anaconda3/lib/python3.6/site-packages/Bio/PDB/StructureBuilder.py:91: PDBConstructionWarning: WARNING: Chain J is discontinuous at line 26657.\n",
      "  PDBConstructionWarning)\n"
     ]
    },
    {
     "name": "stdout",
     "output_type": "stream",
     "text": [
      "\tThis protein has more than 1 chain.\n",
      "PDB File:  1es5.pdb\n",
      "PDB File:  1es9.pdb\n",
      "PDB File:  1esc.pdb\n",
      "PDB File:  1ete.pdb\n",
      "\tThis protein has more than 1 chain.\n",
      "PDB File:  1eu1.pdb\n"
     ]
    },
    {
     "name": "stderr",
     "output_type": "stream",
     "text": [
      "/Users/jinli/anaconda3/lib/python3.6/site-packages/Bio/PDB/StructureBuilder.py:91: PDBConstructionWarning: WARNING: Chain A is discontinuous at line 4848.\n",
      "  PDBConstructionWarning)\n",
      "/Users/jinli/anaconda3/lib/python3.6/site-packages/Bio/PDB/StructureBuilder.py:91: PDBConstructionWarning: WARNING: Chain B is discontinuous at line 4851.\n",
      "  PDBConstructionWarning)\n",
      "/Users/jinli/anaconda3/lib/python3.6/site-packages/Bio/PDB/StructureBuilder.py:91: PDBConstructionWarning: WARNING: Chain C is discontinuous at line 4854.\n",
      "  PDBConstructionWarning)\n",
      "/Users/jinli/anaconda3/lib/python3.6/site-packages/Bio/PDB/StructureBuilder.py:91: PDBConstructionWarning: WARNING: Chain D is discontinuous at line 4856.\n",
      "  PDBConstructionWarning)\n",
      "/Users/jinli/anaconda3/lib/python3.6/site-packages/Bio/PDB/StructureBuilder.py:91: PDBConstructionWarning: WARNING: Chain A is discontinuous at line 4857.\n",
      "  PDBConstructionWarning)\n",
      "/Users/jinli/anaconda3/lib/python3.6/site-packages/Bio/PDB/StructureBuilder.py:91: PDBConstructionWarning: WARNING: Chain B is discontinuous at line 4942.\n",
      "  PDBConstructionWarning)\n",
      "/Users/jinli/anaconda3/lib/python3.6/site-packages/Bio/PDB/StructureBuilder.py:91: PDBConstructionWarning: WARNING: Chain C is discontinuous at line 5023.\n",
      "  PDBConstructionWarning)\n",
      "/Users/jinli/anaconda3/lib/python3.6/site-packages/Bio/PDB/StructureBuilder.py:91: PDBConstructionWarning: WARNING: Chain D is discontinuous at line 5067.\n",
      "  PDBConstructionWarning)\n"
     ]
    },
    {
     "name": "stdout",
     "output_type": "stream",
     "text": [
      "PDB File:  1euw.pdb\n",
      "PDB File:  1ev7.pdb\n",
      "\tThis protein has more than 1 chain.\n",
      "PDB File:  1evl.pdb\n"
     ]
    },
    {
     "name": "stderr",
     "output_type": "stream",
     "text": [
      "/Users/jinli/anaconda3/lib/python3.6/site-packages/Bio/PDB/StructureBuilder.py:91: PDBConstructionWarning: WARNING: Chain A is discontinuous at line 5084.\n",
      "  PDBConstructionWarning)\n",
      "/Users/jinli/anaconda3/lib/python3.6/site-packages/Bio/PDB/StructureBuilder.py:91: PDBConstructionWarning: WARNING: Chain B is discontinuous at line 5110.\n",
      "  PDBConstructionWarning)\n",
      "/Users/jinli/anaconda3/lib/python3.6/site-packages/Bio/PDB/StructureBuilder.py:91: PDBConstructionWarning: WARNING: Chain A is discontinuous at line 13842.\n",
      "  PDBConstructionWarning)\n",
      "/Users/jinli/anaconda3/lib/python3.6/site-packages/Bio/PDB/StructureBuilder.py:91: PDBConstructionWarning: WARNING: Chain B is discontinuous at line 13873.\n",
      "  PDBConstructionWarning)\n",
      "/Users/jinli/anaconda3/lib/python3.6/site-packages/Bio/PDB/StructureBuilder.py:91: PDBConstructionWarning: WARNING: Chain C is discontinuous at line 13904.\n",
      "  PDBConstructionWarning)\n",
      "/Users/jinli/anaconda3/lib/python3.6/site-packages/Bio/PDB/StructureBuilder.py:91: PDBConstructionWarning: WARNING: Chain D is discontinuous at line 13935.\n",
      "  PDBConstructionWarning)\n",
      "/Users/jinli/anaconda3/lib/python3.6/site-packages/Bio/PDB/StructureBuilder.py:91: PDBConstructionWarning: WARNING: Chain A is discontinuous at line 13966.\n",
      "  PDBConstructionWarning)\n",
      "/Users/jinli/anaconda3/lib/python3.6/site-packages/Bio/PDB/StructureBuilder.py:91: PDBConstructionWarning: WARNING: Chain B is discontinuous at line 14361.\n",
      "  PDBConstructionWarning)\n",
      "/Users/jinli/anaconda3/lib/python3.6/site-packages/Bio/PDB/StructureBuilder.py:91: PDBConstructionWarning: WARNING: Chain C is discontinuous at line 14751.\n",
      "  PDBConstructionWarning)\n",
      "/Users/jinli/anaconda3/lib/python3.6/site-packages/Bio/PDB/StructureBuilder.py:91: PDBConstructionWarning: WARNING: Chain D is discontinuous at line 15148.\n",
      "  PDBConstructionWarning)\n"
     ]
    },
    {
     "name": "stdout",
     "output_type": "stream",
     "text": [
      "\tThis protein has more than 1 chain.\n",
      "PDB File:  1evs.pdb\n",
      "PDB File:  1ew4.pdb\n",
      "PDB File:  1ewf.pdb\n",
      "PDB File:  1ez3.pdb\n",
      "\tThis protein has more than 1 chain.\n",
      "PDB File:  1ezg.pdb\n",
      "\tThis protein has more than 1 chain.\n",
      "PDB File:  1ezj.pdb\n"
     ]
    },
    {
     "name": "stderr",
     "output_type": "stream",
     "text": [
      "/Users/jinli/anaconda3/lib/python3.6/site-packages/Bio/PDB/StructureBuilder.py:91: PDBConstructionWarning: WARNING: Chain A is discontinuous at line 3428.\n",
      "  PDBConstructionWarning)\n",
      "/Users/jinli/anaconda3/lib/python3.6/site-packages/Bio/PDB/StructureBuilder.py:91: PDBConstructionWarning: WARNING: Chain B is discontinuous at line 3561.\n",
      "  PDBConstructionWarning)\n",
      "/Users/jinli/anaconda3/lib/python3.6/site-packages/Bio/PDB/StructureBuilder.py:91: PDBConstructionWarning: WARNING: Chain C is discontinuous at line 3698.\n",
      "  PDBConstructionWarning)\n"
     ]
    },
    {
     "name": "stdout",
     "output_type": "stream",
     "text": [
      "PDB File:  1f00.pdb\n",
      "PDB File:  1f0k.pdb\n"
     ]
    },
    {
     "name": "stderr",
     "output_type": "stream",
     "text": [
      "/Users/jinli/anaconda3/lib/python3.6/site-packages/Bio/PDB/StructureBuilder.py:91: PDBConstructionWarning: WARNING: Chain A is discontinuous at line 5737.\n",
      "  PDBConstructionWarning)\n",
      "/Users/jinli/anaconda3/lib/python3.6/site-packages/Bio/PDB/StructureBuilder.py:91: PDBConstructionWarning: WARNING: Chain B is discontinuous at line 5855.\n",
      "  PDBConstructionWarning)\n",
      "/Users/jinli/anaconda3/lib/python3.6/site-packages/Bio/PDB/StructureBuilder.py:91: PDBConstructionWarning: WARNING: Chain A is discontinuous at line 8918.\n",
      "  PDBConstructionWarning)\n",
      "/Users/jinli/anaconda3/lib/python3.6/site-packages/Bio/PDB/StructureBuilder.py:91: PDBConstructionWarning: WARNING: Chain B is discontinuous at line 8965.\n",
      "  PDBConstructionWarning)\n",
      "/Users/jinli/anaconda3/lib/python3.6/site-packages/Bio/PDB/StructureBuilder.py:91: PDBConstructionWarning: WARNING: Chain A is discontinuous at line 9013.\n",
      "  PDBConstructionWarning)\n",
      "/Users/jinli/anaconda3/lib/python3.6/site-packages/Bio/PDB/StructureBuilder.py:91: PDBConstructionWarning: WARNING: Chain B is discontinuous at line 9923.\n",
      "  PDBConstructionWarning)\n"
     ]
    },
    {
     "name": "stdout",
     "output_type": "stream",
     "text": [
      "\tThis protein has more than 1 chain.\n",
      "PDB File:  1f0l.pdb\n",
      "\tThis protein has more than 1 chain.\n",
      "PDB File:  1f0x.pdb\n",
      "\tThis protein has more than 1 chain.\n",
      "PDB File:  1f1e.pdb\n"
     ]
    },
    {
     "name": "stderr",
     "output_type": "stream",
     "text": [
      "/Users/jinli/anaconda3/lib/python3.6/site-packages/Bio/PDB/StructureBuilder.py:91: PDBConstructionWarning: WARNING: Chain A is discontinuous at line 8702.\n",
      "  PDBConstructionWarning)\n",
      "/Users/jinli/anaconda3/lib/python3.6/site-packages/Bio/PDB/StructureBuilder.py:91: PDBConstructionWarning: WARNING: Chain B is discontinuous at line 8755.\n",
      "  PDBConstructionWarning)\n",
      "/Users/jinli/anaconda3/lib/python3.6/site-packages/Bio/PDB/StructureBuilder.py:91: PDBConstructionWarning: WARNING: Chain A is discontinuous at line 8808.\n",
      "  PDBConstructionWarning)\n",
      "/Users/jinli/anaconda3/lib/python3.6/site-packages/Bio/PDB/StructureBuilder.py:91: PDBConstructionWarning: WARNING: Chain B is discontinuous at line 8987.\n",
      "  PDBConstructionWarning)\n"
     ]
    },
    {
     "name": "stdout",
     "output_type": "stream",
     "text": [
      "PDB File:  1f1m.pdb\n",
      "\tThis protein has more than 1 chain.\n",
      "PDB File:  1f2l.pdb\n"
     ]
    },
    {
     "name": "stderr",
     "output_type": "stream",
     "text": [
      "/Users/jinli/anaconda3/lib/python3.6/site-packages/Bio/PDB/StructureBuilder.py:91: PDBConstructionWarning: WARNING: Chain A is discontinuous at line 5425.\n",
      "  PDBConstructionWarning)\n",
      "/Users/jinli/anaconda3/lib/python3.6/site-packages/Bio/PDB/StructureBuilder.py:91: PDBConstructionWarning: WARNING: Chain B is discontinuous at line 5426.\n",
      "  PDBConstructionWarning)\n",
      "/Users/jinli/anaconda3/lib/python3.6/site-packages/Bio/PDB/StructureBuilder.py:91: PDBConstructionWarning: WARNING: Chain C is discontinuous at line 5428.\n",
      "  PDBConstructionWarning)\n",
      "/Users/jinli/anaconda3/lib/python3.6/site-packages/Bio/PDB/StructureBuilder.py:91: PDBConstructionWarning: WARNING: Chain D is discontinuous at line 5429.\n",
      "  PDBConstructionWarning)\n",
      "/Users/jinli/anaconda3/lib/python3.6/site-packages/Bio/PDB/StructureBuilder.py:91: PDBConstructionWarning: WARNING: Chain A is discontinuous at line 5431.\n",
      "  PDBConstructionWarning)\n",
      "/Users/jinli/anaconda3/lib/python3.6/site-packages/Bio/PDB/StructureBuilder.py:91: PDBConstructionWarning: WARNING: Chain B is discontinuous at line 5590.\n",
      "  PDBConstructionWarning)\n",
      "/Users/jinli/anaconda3/lib/python3.6/site-packages/Bio/PDB/StructureBuilder.py:91: PDBConstructionWarning: WARNING: Chain C is discontinuous at line 5771.\n",
      "  PDBConstructionWarning)\n",
      "/Users/jinli/anaconda3/lib/python3.6/site-packages/Bio/PDB/StructureBuilder.py:91: PDBConstructionWarning: WARNING: Chain D is discontinuous at line 5896.\n",
      "  PDBConstructionWarning)\n",
      "/Users/jinli/anaconda3/lib/python3.6/site-packages/Bio/PDB/StructureBuilder.py:91: PDBConstructionWarning: WARNING: Chain A is discontinuous at line 2550.\n",
      "  PDBConstructionWarning)\n",
      "/Users/jinli/anaconda3/lib/python3.6/site-packages/Bio/PDB/StructureBuilder.py:91: PDBConstructionWarning: WARNING: Chain B is discontinuous at line 2604.\n",
      "  PDBConstructionWarning)\n",
      "/Users/jinli/anaconda3/lib/python3.6/site-packages/Bio/PDB/StructureBuilder.py:91: PDBConstructionWarning: WARNING: Chain C is discontinuous at line 2656.\n",
      "  PDBConstructionWarning)\n",
      "/Users/jinli/anaconda3/lib/python3.6/site-packages/Bio/PDB/StructureBuilder.py:91: PDBConstructionWarning: WARNING: Chain D is discontinuous at line 2727.\n",
      "  PDBConstructionWarning)\n"
     ]
    },
    {
     "name": "stdout",
     "output_type": "stream",
     "text": [
      "\tThis protein has more than 1 chain.\n",
      "PDB File:  1f2t.pdb\n",
      "\tThis protein has more than 1 chain.\n",
      "PDB File:  1f32.pdb\n"
     ]
    },
    {
     "name": "stderr",
     "output_type": "stream",
     "text": [
      "/Users/jinli/anaconda3/lib/python3.6/site-packages/Bio/PDB/StructureBuilder.py:91: PDBConstructionWarning: WARNING: Chain A is discontinuous at line 2773.\n",
      "  PDBConstructionWarning)\n",
      "/Users/jinli/anaconda3/lib/python3.6/site-packages/Bio/PDB/StructureBuilder.py:91: PDBConstructionWarning: WARNING: Chain B is discontinuous at line 2984.\n",
      "  PDBConstructionWarning)\n",
      "/Users/jinli/anaconda3/lib/python3.6/site-packages/Bio/PDB/StructureBuilder.py:91: PDBConstructionWarning: WARNING: Chain A is discontinuous at line 3254.\n",
      "  PDBConstructionWarning)\n",
      "/Users/jinli/anaconda3/lib/python3.6/site-packages/Bio/PDB/StructureBuilder.py:91: PDBConstructionWarning: WARNING: Chain B is discontinuous at line 3265.\n",
      "  PDBConstructionWarning)\n"
     ]
    },
    {
     "name": "stdout",
     "output_type": "stream",
     "text": [
      "PDB File:  1f35.pdb\n",
      "\tThis protein has more than 1 chain.\n",
      "PDB File:  1f3m.pdb\n"
     ]
    },
    {
     "name": "stderr",
     "output_type": "stream",
     "text": [
      "/Users/jinli/anaconda3/lib/python3.6/site-packages/Bio/PDB/StructureBuilder.py:91: PDBConstructionWarning: WARNING: Chain A is discontinuous at line 3269.\n",
      "  PDBConstructionWarning)\n",
      "/Users/jinli/anaconda3/lib/python3.6/site-packages/Bio/PDB/StructureBuilder.py:91: PDBConstructionWarning: WARNING: Chain B is discontinuous at line 3364.\n",
      "  PDBConstructionWarning)\n",
      "/Users/jinli/anaconda3/lib/python3.6/site-packages/Bio/PDB/StructureBuilder.py:91: PDBConstructionWarning: WARNING: Chain A is discontinuous at line 6265.\n",
      "  PDBConstructionWarning)\n",
      "/Users/jinli/anaconda3/lib/python3.6/site-packages/Bio/PDB/StructureBuilder.py:91: PDBConstructionWarning: WARNING: Chain C is discontinuous at line 6271.\n",
      "  PDBConstructionWarning)\n",
      "/Users/jinli/anaconda3/lib/python3.6/site-packages/Bio/PDB/StructureBuilder.py:91: PDBConstructionWarning: WARNING: Chain B is discontinuous at line 6280.\n",
      "  PDBConstructionWarning)\n",
      "/Users/jinli/anaconda3/lib/python3.6/site-packages/Bio/PDB/StructureBuilder.py:91: PDBConstructionWarning: WARNING: Chain D is discontinuous at line 6286.\n",
      "  PDBConstructionWarning)\n",
      "/Users/jinli/anaconda3/lib/python3.6/site-packages/Bio/PDB/StructureBuilder.py:91: PDBConstructionWarning: WARNING: Chain A is discontinuous at line 6293.\n",
      "  PDBConstructionWarning)\n",
      "/Users/jinli/anaconda3/lib/python3.6/site-packages/Bio/PDB/StructureBuilder.py:91: PDBConstructionWarning: WARNING: Chain C is discontinuous at line 6387.\n",
      "  PDBConstructionWarning)\n",
      "/Users/jinli/anaconda3/lib/python3.6/site-packages/Bio/PDB/StructureBuilder.py:91: PDBConstructionWarning: WARNING: Chain B is discontinuous at line 6609.\n",
      "  PDBConstructionWarning)\n",
      "/Users/jinli/anaconda3/lib/python3.6/site-packages/Bio/PDB/StructureBuilder.py:91: PDBConstructionWarning: WARNING: Chain D is discontinuous at line 6687.\n",
      "  PDBConstructionWarning)\n",
      "/Users/jinli/anaconda3/lib/python3.6/site-packages/Bio/PDB/StructureBuilder.py:91: PDBConstructionWarning: WARNING: Chain A is discontinuous at line 9264.\n",
      "  PDBConstructionWarning)\n",
      "/Users/jinli/anaconda3/lib/python3.6/site-packages/Bio/PDB/StructureBuilder.py:91: PDBConstructionWarning: WARNING: Chain B is discontinuous at line 9359.\n",
      "  PDBConstructionWarning)\n",
      "/Users/jinli/anaconda3/lib/python3.6/site-packages/Bio/PDB/StructureBuilder.py:91: PDBConstructionWarning: WARNING: Chain C is discontinuous at line 9448.\n",
      "  PDBConstructionWarning)\n",
      "/Users/jinli/anaconda3/lib/python3.6/site-packages/Bio/PDB/StructureBuilder.py:91: PDBConstructionWarning: WARNING: Chain D is discontinuous at line 9500.\n",
      "  PDBConstructionWarning)\n",
      "/Users/jinli/anaconda3/lib/python3.6/site-packages/Bio/PDB/StructureBuilder.py:91: PDBConstructionWarning: WARNING: Chain E is discontinuous at line 9591.\n",
      "  PDBConstructionWarning)\n",
      "/Users/jinli/anaconda3/lib/python3.6/site-packages/Bio/PDB/StructureBuilder.py:91: PDBConstructionWarning: WARNING: Chain F is discontinuous at line 9709.\n",
      "  PDBConstructionWarning)\n",
      "/Users/jinli/anaconda3/lib/python3.6/site-packages/Bio/PDB/StructureBuilder.py:91: PDBConstructionWarning: WARNING: Chain G is discontinuous at line 9828.\n",
      "  PDBConstructionWarning)\n",
      "/Users/jinli/anaconda3/lib/python3.6/site-packages/Bio/PDB/StructureBuilder.py:91: PDBConstructionWarning: WARNING: Chain H is discontinuous at line 9899.\n",
      "  PDBConstructionWarning)\n"
     ]
    },
    {
     "name": "stdout",
     "output_type": "stream",
     "text": [
      "\tThis protein has more than 1 chain.\n",
      "PDB File:  1f3u.pdb\n",
      "\tThis protein has more than 1 chain.\n",
      "PDB File:  1f3v.pdb\n"
     ]
    },
    {
     "name": "stderr",
     "output_type": "stream",
     "text": [
      "/Users/jinli/anaconda3/lib/python3.6/site-packages/Bio/PDB/StructureBuilder.py:91: PDBConstructionWarning: WARNING: Chain A is discontinuous at line 3050.\n",
      "  PDBConstructionWarning)\n",
      "/Users/jinli/anaconda3/lib/python3.6/site-packages/Bio/PDB/StructureBuilder.py:91: PDBConstructionWarning: WARNING: Chain B is discontinuous at line 3137.\n",
      "  PDBConstructionWarning)\n",
      "/Users/jinli/anaconda3/lib/python3.6/site-packages/Bio/PDB/StructureBuilder.py:91: PDBConstructionWarning: WARNING: Chain A is discontinuous at line 3922.\n",
      "  PDBConstructionWarning)\n",
      "/Users/jinli/anaconda3/lib/python3.6/site-packages/Bio/PDB/StructureBuilder.py:91: PDBConstructionWarning: WARNING: Chain B is discontinuous at line 3975.\n",
      "  PDBConstructionWarning)\n",
      "/Users/jinli/anaconda3/lib/python3.6/site-packages/Bio/PDB/StructureBuilder.py:91: PDBConstructionWarning: WARNING: Chain A is discontinuous at line 2535.\n",
      "  PDBConstructionWarning)\n",
      "/Users/jinli/anaconda3/lib/python3.6/site-packages/Bio/PDB/StructureBuilder.py:91: PDBConstructionWarning: WARNING: Chain B is discontinuous at line 2776.\n",
      "  PDBConstructionWarning)\n"
     ]
    },
    {
     "name": "stdout",
     "output_type": "stream",
     "text": [
      "\tThis protein has more than 1 chain.\n",
      "PDB File:  1f45.pdb\n",
      "\tThis protein has more than 1 chain.\n",
      "PDB File:  1f46.pdb\n",
      "\tThis protein has more than 1 chain.\n",
      "PDB File:  1f5n.pdb\n",
      "PDB File:  1f5q.pdb\n"
     ]
    },
    {
     "name": "stderr",
     "output_type": "stream",
     "text": [
      "/Users/jinli/anaconda3/lib/python3.6/site-packages/Bio/PDB/StructureBuilder.py:91: PDBConstructionWarning: WARNING: Chain A is discontinuous at line 9173.\n",
      "  PDBConstructionWarning)\n",
      "/Users/jinli/anaconda3/lib/python3.6/site-packages/Bio/PDB/StructureBuilder.py:91: PDBConstructionWarning: WARNING: Chain B is discontinuous at line 9228.\n",
      "  PDBConstructionWarning)\n",
      "/Users/jinli/anaconda3/lib/python3.6/site-packages/Bio/PDB/StructureBuilder.py:91: PDBConstructionWarning: WARNING: Chain C is discontinuous at line 9285.\n",
      "  PDBConstructionWarning)\n",
      "/Users/jinli/anaconda3/lib/python3.6/site-packages/Bio/PDB/StructureBuilder.py:91: PDBConstructionWarning: WARNING: Chain D is discontinuous at line 9308.\n",
      "  PDBConstructionWarning)\n",
      "/Users/jinli/anaconda3/lib/python3.6/site-packages/Bio/PDB/StructureBuilder.py:91: PDBConstructionWarning: WARNING: Chain A is discontinuous at line 4189.\n",
      "  PDBConstructionWarning)\n",
      "/Users/jinli/anaconda3/lib/python3.6/site-packages/Bio/PDB/StructureBuilder.py:91: PDBConstructionWarning: WARNING: Chain B is discontinuous at line 4220.\n",
      "  PDBConstructionWarning)\n",
      "/Users/jinli/anaconda3/lib/python3.6/site-packages/Bio/PDB/StructureBuilder.py:91: PDBConstructionWarning: WARNING: Chain A is discontinuous at line 4251.\n",
      "  PDBConstructionWarning)\n",
      "/Users/jinli/anaconda3/lib/python3.6/site-packages/Bio/PDB/StructureBuilder.py:91: PDBConstructionWarning: WARNING: Chain B is discontinuous at line 4426.\n",
      "  PDBConstructionWarning)\n",
      "/Users/jinli/anaconda3/lib/python3.6/site-packages/Bio/PDB/StructureBuilder.py:91: PDBConstructionWarning: WARNING: Chain A is discontinuous at line 2270.\n",
      "  PDBConstructionWarning)\n",
      "/Users/jinli/anaconda3/lib/python3.6/site-packages/Bio/PDB/StructureBuilder.py:91: PDBConstructionWarning: WARNING: Chain B is discontinuous at line 2289.\n",
      "  PDBConstructionWarning)\n",
      "/Users/jinli/anaconda3/lib/python3.6/site-packages/Bio/PDB/StructureBuilder.py:91: PDBConstructionWarning: WARNING: Chain A is discontinuous at line 2308.\n",
      "  PDBConstructionWarning)\n",
      "/Users/jinli/anaconda3/lib/python3.6/site-packages/Bio/PDB/StructureBuilder.py:91: PDBConstructionWarning: WARNING: Chain B is discontinuous at line 2447.\n",
      "  PDBConstructionWarning)\n"
     ]
    },
    {
     "name": "stdout",
     "output_type": "stream",
     "text": [
      "\tThis protein has more than 1 chain.\n",
      "PDB File:  1f5v.pdb\n",
      "\tThis protein has more than 1 chain.\n",
      "PDB File:  1f86.pdb\n",
      "\tThis protein has more than 1 chain.\n",
      "PDB File:  1f9v.pdb\n",
      "PDB File:  1fc3.pdb\n",
      "\tThis protein has more than 1 chain.\n",
      "PDB File:  1fc6.pdb\n"
     ]
    },
    {
     "name": "stderr",
     "output_type": "stream",
     "text": [
      "/Users/jinli/anaconda3/lib/python3.6/site-packages/Bio/PDB/StructureBuilder.py:91: PDBConstructionWarning: WARNING: Chain A is discontinuous at line 3166.\n",
      "  PDBConstructionWarning)\n",
      "/Users/jinli/anaconda3/lib/python3.6/site-packages/Bio/PDB/StructureBuilder.py:91: PDBConstructionWarning: WARNING: Chain B is discontinuous at line 3258.\n",
      "  PDBConstructionWarning)\n",
      "/Users/jinli/anaconda3/lib/python3.6/site-packages/Bio/PDB/StructureBuilder.py:91: PDBConstructionWarning: WARNING: Chain C is discontinuous at line 3353.\n",
      "  PDBConstructionWarning)\n"
     ]
    },
    {
     "name": "stdout",
     "output_type": "stream",
     "text": [
      "PDB File:  1fcq.pdb\n",
      "PDB File:  1fcy.pdb\n",
      "PDB File:  1fd3.pdb\n",
      "\tThis protein has more than 1 chain.\n",
      "PDB File:  1feu.pdb\n"
     ]
    },
    {
     "name": "stderr",
     "output_type": "stream",
     "text": [
      "/Users/jinli/anaconda3/lib/python3.6/site-packages/Bio/PDB/StructureBuilder.py:91: PDBConstructionWarning: WARNING: Chain A is discontinuous at line 2805.\n",
      "  PDBConstructionWarning)\n",
      "/Users/jinli/anaconda3/lib/python3.6/site-packages/Bio/PDB/StructureBuilder.py:91: PDBConstructionWarning: WARNING: Chain B is discontinuous at line 2908.\n",
      "  PDBConstructionWarning)\n",
      "/Users/jinli/anaconda3/lib/python3.6/site-packages/Bio/PDB/StructureBuilder.py:91: PDBConstructionWarning: WARNING: Chain C is discontinuous at line 2992.\n",
      "  PDBConstructionWarning)\n",
      "/Users/jinli/anaconda3/lib/python3.6/site-packages/Bio/PDB/StructureBuilder.py:91: PDBConstructionWarning: WARNING: Chain D is discontinuous at line 3092.\n",
      "  PDBConstructionWarning)\n",
      "/Users/jinli/anaconda3/lib/python3.6/site-packages/Bio/PDB/StructureBuilder.py:91: PDBConstructionWarning: WARNING: Chain B is discontinuous at line 5753.\n",
      "  PDBConstructionWarning)\n",
      "/Users/jinli/anaconda3/lib/python3.6/site-packages/Bio/PDB/StructureBuilder.py:91: PDBConstructionWarning: WARNING: Chain C is discontinuous at line 5755.\n",
      "  PDBConstructionWarning)\n",
      "/Users/jinli/anaconda3/lib/python3.6/site-packages/Bio/PDB/StructureBuilder.py:91: PDBConstructionWarning: WARNING: Chain E is discontinuous at line 5759.\n",
      "  PDBConstructionWarning)\n",
      "/Users/jinli/anaconda3/lib/python3.6/site-packages/Bio/PDB/StructureBuilder.py:91: PDBConstructionWarning: WARNING: Chain F is discontinuous at line 5761.\n",
      "  PDBConstructionWarning)\n",
      "/Users/jinli/anaconda3/lib/python3.6/site-packages/Bio/PDB/StructureBuilder.py:91: PDBConstructionWarning: WARNING: Chain A is discontinuous at line 5766.\n",
      "  PDBConstructionWarning)\n",
      "/Users/jinli/anaconda3/lib/python3.6/site-packages/Bio/PDB/StructureBuilder.py:91: PDBConstructionWarning: WARNING: Chain D is discontinuous at line 5772.\n",
      "  PDBConstructionWarning)\n",
      "/Users/jinli/anaconda3/lib/python3.6/site-packages/Bio/PDB/StructureBuilder.py:91: PDBConstructionWarning: WARNING: Chain B is discontinuous at line 5783.\n",
      "  PDBConstructionWarning)\n",
      "/Users/jinli/anaconda3/lib/python3.6/site-packages/Bio/PDB/StructureBuilder.py:91: PDBConstructionWarning: WARNING: Chain C is discontinuous at line 5809.\n",
      "  PDBConstructionWarning)\n",
      "/Users/jinli/anaconda3/lib/python3.6/site-packages/Bio/PDB/StructureBuilder.py:91: PDBConstructionWarning: WARNING: Chain E is discontinuous at line 5846.\n",
      "  PDBConstructionWarning)\n",
      "/Users/jinli/anaconda3/lib/python3.6/site-packages/Bio/PDB/StructureBuilder.py:91: PDBConstructionWarning: WARNING: Chain F is discontinuous at line 5877.\n",
      "  PDBConstructionWarning)\n",
      "/Users/jinli/anaconda3/lib/python3.6/site-packages/Bio/PDB/StructureBuilder.py:91: PDBConstructionWarning: WARNING: Chain A is discontinuous at line 5917.\n",
      "  PDBConstructionWarning)\n",
      "/Users/jinli/anaconda3/lib/python3.6/site-packages/Bio/PDB/StructureBuilder.py:91: PDBConstructionWarning: WARNING: Chain D is discontinuous at line 5957.\n",
      "  PDBConstructionWarning)\n"
     ]
    },
    {
     "name": "stdout",
     "output_type": "stream",
     "text": [
      "\tThis protein has more than 1 chain.\n",
      "PDB File:  1ffy.pdb\n"
     ]
    },
    {
     "name": "stderr",
     "output_type": "stream",
     "text": [
      "/Users/jinli/anaconda3/lib/python3.6/site-packages/Bio/PDB/StructureBuilder.py:91: PDBConstructionWarning: WARNING: Chain T is discontinuous at line 9918.\n",
      "  PDBConstructionWarning)\n",
      "/Users/jinli/anaconda3/lib/python3.6/site-packages/Bio/PDB/StructureBuilder.py:91: PDBConstructionWarning: WARNING: Chain A is discontinuous at line 9929.\n",
      "  PDBConstructionWarning)\n",
      "/Users/jinli/anaconda3/lib/python3.6/site-packages/Bio/PDB/StructureBuilder.py:91: PDBConstructionWarning: WARNING: Chain T is discontinuous at line 9966.\n",
      "  PDBConstructionWarning)\n",
      "/Users/jinli/anaconda3/lib/python3.6/site-packages/Bio/PDB/StructureBuilder.py:91: PDBConstructionWarning: WARNING: Chain A is discontinuous at line 10086.\n",
      "  PDBConstructionWarning)\n"
     ]
    },
    {
     "name": "stdout",
     "output_type": "stream",
     "text": [
      "\tThis protein has more than 1 chain.\n",
      "PDB File:  1fg7.pdb\n",
      "PDB File:  1fiu.pdb\n"
     ]
    },
    {
     "name": "stderr",
     "output_type": "stream",
     "text": [
      "/Users/jinli/anaconda3/lib/python3.6/site-packages/Bio/PDB/StructureBuilder.py:91: PDBConstructionWarning: WARNING: Chain I is discontinuous at line 10699.\n",
      "  PDBConstructionWarning)\n",
      "/Users/jinli/anaconda3/lib/python3.6/site-packages/Bio/PDB/StructureBuilder.py:91: PDBConstructionWarning: WARNING: Chain J is discontinuous at line 10700.\n",
      "  PDBConstructionWarning)\n",
      "/Users/jinli/anaconda3/lib/python3.6/site-packages/Bio/PDB/StructureBuilder.py:91: PDBConstructionWarning: WARNING: Chain K is discontinuous at line 10701.\n",
      "  PDBConstructionWarning)\n",
      "/Users/jinli/anaconda3/lib/python3.6/site-packages/Bio/PDB/StructureBuilder.py:91: PDBConstructionWarning: WARNING: Chain L is discontinuous at line 10702.\n",
      "  PDBConstructionWarning)\n",
      "/Users/jinli/anaconda3/lib/python3.6/site-packages/Bio/PDB/StructureBuilder.py:91: PDBConstructionWarning: WARNING: Chain A is discontinuous at line 10703.\n",
      "  PDBConstructionWarning)\n",
      "/Users/jinli/anaconda3/lib/python3.6/site-packages/Bio/PDB/StructureBuilder.py:91: PDBConstructionWarning: WARNING: Chain B is discontinuous at line 10708.\n",
      "  PDBConstructionWarning)\n",
      "/Users/jinli/anaconda3/lib/python3.6/site-packages/Bio/PDB/StructureBuilder.py:91: PDBConstructionWarning: WARNING: Chain C is discontinuous at line 10713.\n",
      "  PDBConstructionWarning)\n",
      "/Users/jinli/anaconda3/lib/python3.6/site-packages/Bio/PDB/StructureBuilder.py:91: PDBConstructionWarning: WARNING: Chain D is discontinuous at line 10718.\n",
      "  PDBConstructionWarning)\n",
      "/Users/jinli/anaconda3/lib/python3.6/site-packages/Bio/PDB/StructureBuilder.py:91: PDBConstructionWarning: WARNING: Chain E is discontinuous at line 10723.\n",
      "  PDBConstructionWarning)\n",
      "/Users/jinli/anaconda3/lib/python3.6/site-packages/Bio/PDB/StructureBuilder.py:91: PDBConstructionWarning: WARNING: Chain I is discontinuous at line 10738.\n",
      "  PDBConstructionWarning)\n",
      "/Users/jinli/anaconda3/lib/python3.6/site-packages/Bio/PDB/StructureBuilder.py:91: PDBConstructionWarning: WARNING: Chain F is discontinuous at line 10774.\n",
      "  PDBConstructionWarning)\n",
      "/Users/jinli/anaconda3/lib/python3.6/site-packages/Bio/PDB/StructureBuilder.py:91: PDBConstructionWarning: WARNING: Chain J is discontinuous at line 10786.\n",
      "  PDBConstructionWarning)\n",
      "/Users/jinli/anaconda3/lib/python3.6/site-packages/Bio/PDB/StructureBuilder.py:91: PDBConstructionWarning: WARNING: Chain G is discontinuous at line 10821.\n",
      "  PDBConstructionWarning)\n",
      "/Users/jinli/anaconda3/lib/python3.6/site-packages/Bio/PDB/StructureBuilder.py:91: PDBConstructionWarning: WARNING: Chain K is discontinuous at line 10835.\n",
      "  PDBConstructionWarning)\n",
      "/Users/jinli/anaconda3/lib/python3.6/site-packages/Bio/PDB/StructureBuilder.py:91: PDBConstructionWarning: WARNING: Chain H is discontinuous at line 10867.\n",
      "  PDBConstructionWarning)\n",
      "/Users/jinli/anaconda3/lib/python3.6/site-packages/Bio/PDB/StructureBuilder.py:91: PDBConstructionWarning: WARNING: Chain L is discontinuous at line 10884.\n",
      "  PDBConstructionWarning)\n",
      "/Users/jinli/anaconda3/lib/python3.6/site-packages/Bio/PDB/StructureBuilder.py:91: PDBConstructionWarning: WARNING: Chain A is discontinuous at line 10916.\n",
      "  PDBConstructionWarning)\n",
      "/Users/jinli/anaconda3/lib/python3.6/site-packages/Bio/PDB/StructureBuilder.py:91: PDBConstructionWarning: WARNING: Chain B is discontinuous at line 11174.\n",
      "  PDBConstructionWarning)\n",
      "/Users/jinli/anaconda3/lib/python3.6/site-packages/Bio/PDB/StructureBuilder.py:91: PDBConstructionWarning: WARNING: Chain C is discontinuous at line 11447.\n",
      "  PDBConstructionWarning)\n",
      "/Users/jinli/anaconda3/lib/python3.6/site-packages/Bio/PDB/StructureBuilder.py:91: PDBConstructionWarning: WARNING: Chain D is discontinuous at line 11699.\n",
      "  PDBConstructionWarning)\n"
     ]
    },
    {
     "name": "stdout",
     "output_type": "stream",
     "text": [
      "\tThis protein has more than 1 chain.\n",
      "PDB File:  1fjh.pdb\n"
     ]
    },
    {
     "name": "stderr",
     "output_type": "stream",
     "text": [
      "/Users/jinli/anaconda3/lib/python3.6/site-packages/Bio/PDB/StructureBuilder.py:91: PDBConstructionWarning: WARNING: Chain A is discontinuous at line 3790.\n",
      "  PDBConstructionWarning)\n",
      "/Users/jinli/anaconda3/lib/python3.6/site-packages/Bio/PDB/StructureBuilder.py:91: PDBConstructionWarning: WARNING: Chain B is discontinuous at line 3992.\n",
      "  PDBConstructionWarning)\n",
      "/Users/jinli/anaconda3/lib/python3.6/site-packages/Bio/PDB/StructureBuilder.py:91: PDBConstructionWarning: WARNING: Chain A is discontinuous at line 3647.\n",
      "  PDBConstructionWarning)\n",
      "/Users/jinli/anaconda3/lib/python3.6/site-packages/Bio/PDB/StructureBuilder.py:91: PDBConstructionWarning: WARNING: Chain B is discontinuous at line 3710.\n",
      "  PDBConstructionWarning)\n",
      "/Users/jinli/anaconda3/lib/python3.6/site-packages/Bio/PDB/StructureBuilder.py:91: PDBConstructionWarning: WARNING: Chain A is discontinuous at line 3759.\n",
      "  PDBConstructionWarning)\n",
      "/Users/jinli/anaconda3/lib/python3.6/site-packages/Bio/PDB/StructureBuilder.py:91: PDBConstructionWarning: WARNING: Chain B is discontinuous at line 3859.\n",
      "  PDBConstructionWarning)\n"
     ]
    },
    {
     "name": "stdout",
     "output_type": "stream",
     "text": [
      "\tThis protein has more than 1 chain.\n",
      "PDB File:  1fjr.pdb\n",
      "\tThis protein has more than 1 chain.\n",
      "PDB File:  1fkm.pdb\n",
      "PDB File:  1flo.pdb\n"
     ]
    },
    {
     "name": "stderr",
     "output_type": "stream",
     "text": [
      "/Users/jinli/anaconda3/lib/python3.6/site-packages/Bio/PDB/StructureBuilder.py:91: PDBConstructionWarning: WARNING: Chain E is discontinuous at line 16717.\n",
      "  PDBConstructionWarning)\n",
      "/Users/jinli/anaconda3/lib/python3.6/site-packages/Bio/PDB/StructureBuilder.py:91: PDBConstructionWarning: WARNING: Chain G is discontinuous at line 16721.\n",
      "  PDBConstructionWarning)\n",
      "/Users/jinli/anaconda3/lib/python3.6/site-packages/Bio/PDB/StructureBuilder.py:91: PDBConstructionWarning: WARNING: Chain I is discontinuous at line 16725.\n",
      "  PDBConstructionWarning)\n",
      "/Users/jinli/anaconda3/lib/python3.6/site-packages/Bio/PDB/StructureBuilder.py:91: PDBConstructionWarning: WARNING: Chain K is discontinuous at line 16729.\n",
      "  PDBConstructionWarning)\n",
      "/Users/jinli/anaconda3/lib/python3.6/site-packages/Bio/PDB/StructureBuilder.py:91: PDBConstructionWarning: WARNING: Chain E is discontinuous at line 16733.\n",
      "  PDBConstructionWarning)\n",
      "/Users/jinli/anaconda3/lib/python3.6/site-packages/Bio/PDB/StructureBuilder.py:91: PDBConstructionWarning: WARNING: Chain F is discontinuous at line 16743.\n",
      "  PDBConstructionWarning)\n",
      "/Users/jinli/anaconda3/lib/python3.6/site-packages/Bio/PDB/StructureBuilder.py:91: PDBConstructionWarning: WARNING: Chain G is discontinuous at line 16753.\n",
      "  PDBConstructionWarning)\n",
      "/Users/jinli/anaconda3/lib/python3.6/site-packages/Bio/PDB/StructureBuilder.py:91: PDBConstructionWarning: WARNING: Chain H is discontinuous at line 16756.\n",
      "  PDBConstructionWarning)\n",
      "/Users/jinli/anaconda3/lib/python3.6/site-packages/Bio/PDB/StructureBuilder.py:91: PDBConstructionWarning: WARNING: Chain L is discontinuous at line 16762.\n",
      "  PDBConstructionWarning)\n",
      "/Users/jinli/anaconda3/lib/python3.6/site-packages/Bio/PDB/StructureBuilder.py:91: PDBConstructionWarning: WARNING: Chain A is discontinuous at line 16763.\n",
      "  PDBConstructionWarning)\n",
      "/Users/jinli/anaconda3/lib/python3.6/site-packages/Bio/PDB/StructureBuilder.py:91: PDBConstructionWarning: WARNING: Chain B is discontinuous at line 16866.\n",
      "  PDBConstructionWarning)\n",
      "/Users/jinli/anaconda3/lib/python3.6/site-packages/Bio/PDB/StructureBuilder.py:91: PDBConstructionWarning: WARNING: Chain C is discontinuous at line 16904.\n",
      "  PDBConstructionWarning)\n",
      "/Users/jinli/anaconda3/lib/python3.6/site-packages/Bio/PDB/StructureBuilder.py:91: PDBConstructionWarning: WARNING: Chain D is discontinuous at line 16920.\n",
      "  PDBConstructionWarning)\n",
      "/Users/jinli/anaconda3/lib/python3.6/site-packages/Bio/PDB/StructureBuilder.py:91: PDBConstructionWarning: WARNING: Chain V is discontinuous at line 3527.\n",
      "  PDBConstructionWarning)\n",
      "/Users/jinli/anaconda3/lib/python3.6/site-packages/Bio/PDB/StructureBuilder.py:91: PDBConstructionWarning: WARNING: Chain W is discontinuous at line 3666.\n",
      "  PDBConstructionWarning)\n",
      "/Users/jinli/anaconda3/lib/python3.6/site-packages/Bio/PDB/StructureBuilder.py:91: PDBConstructionWarning: WARNING: Chain X is discontinuous at line 3790.\n",
      "  PDBConstructionWarning)\n",
      "/Users/jinli/anaconda3/lib/python3.6/site-packages/Bio/PDB/StructureBuilder.py:91: PDBConstructionWarning: WARNING: Chain Y is discontinuous at line 3894.\n",
      "  PDBConstructionWarning)\n",
      "/Users/jinli/anaconda3/lib/python3.6/site-packages/Bio/PDB/StructureBuilder.py:91: PDBConstructionWarning: WARNING: Chain D is discontinuous at line 2169.\n",
      "  PDBConstructionWarning)\n",
      "/Users/jinli/anaconda3/lib/python3.6/site-packages/Bio/PDB/StructureBuilder.py:91: PDBConstructionWarning: WARNING: Chain E is discontinuous at line 2170.\n",
      "  PDBConstructionWarning)\n",
      "/Users/jinli/anaconda3/lib/python3.6/site-packages/Bio/PDB/StructureBuilder.py:91: PDBConstructionWarning: WARNING: Chain D is discontinuous at line 2172.\n",
      "  PDBConstructionWarning)\n",
      "/Users/jinli/anaconda3/lib/python3.6/site-packages/Bio/PDB/StructureBuilder.py:91: PDBConstructionWarning: WARNING: Chain E is discontinuous at line 2255.\n",
      "  PDBConstructionWarning)\n"
     ]
    },
    {
     "name": "stdout",
     "output_type": "stream",
     "text": [
      "\tThis protein has more than 1 chain.\n",
      "PDB File:  1flt.pdb\n",
      "\tThis protein has more than 1 chain.\n",
      "PDB File:  1fm0.pdb\n",
      "\tThis protein has more than 1 chain.\n",
      "PDB File:  1fm2.pdb\n"
     ]
    },
    {
     "name": "stderr",
     "output_type": "stream",
     "text": [
      "/Users/jinli/anaconda3/lib/python3.6/site-packages/Bio/PDB/StructureBuilder.py:91: PDBConstructionWarning: WARNING: Chain A is discontinuous at line 5843.\n",
      "  PDBConstructionWarning)\n",
      "/Users/jinli/anaconda3/lib/python3.6/site-packages/Bio/PDB/StructureBuilder.py:91: PDBConstructionWarning: WARNING: Chain B is discontinuous at line 5953.\n",
      "  PDBConstructionWarning)\n",
      "/Users/jinli/anaconda3/lib/python3.6/site-packages/Bio/PDB/StructureBuilder.py:91: PDBConstructionWarning: WARNING: Chain A is discontinuous at line 6259.\n",
      "  PDBConstructionWarning)\n",
      "/Users/jinli/anaconda3/lib/python3.6/site-packages/Bio/PDB/StructureBuilder.py:91: PDBConstructionWarning: WARNING: Chain B is discontinuous at line 6260.\n",
      "  PDBConstructionWarning)\n",
      "/Users/jinli/anaconda3/lib/python3.6/site-packages/Bio/PDB/StructureBuilder.py:91: PDBConstructionWarning: WARNING: Chain A is discontinuous at line 6261.\n",
      "  PDBConstructionWarning)\n",
      "/Users/jinli/anaconda3/lib/python3.6/site-packages/Bio/PDB/StructureBuilder.py:91: PDBConstructionWarning: WARNING: Chain B is discontinuous at line 6681.\n",
      "  PDBConstructionWarning)\n"
     ]
    },
    {
     "name": "stdout",
     "output_type": "stream",
     "text": [
      "\tThis protein has more than 1 chain.\n",
      "PDB File:  1fn9.pdb\n",
      "\tThis protein has more than 1 chain.\n",
      "PDB File:  1fnn.pdb\n"
     ]
    },
    {
     "name": "stderr",
     "output_type": "stream",
     "text": [
      "/Users/jinli/anaconda3/lib/python3.6/site-packages/Bio/PDB/StructureBuilder.py:91: PDBConstructionWarning: WARNING: Chain A is discontinuous at line 6659.\n",
      "  PDBConstructionWarning)\n",
      "/Users/jinli/anaconda3/lib/python3.6/site-packages/Bio/PDB/StructureBuilder.py:91: PDBConstructionWarning: WARNING: Chain B is discontinuous at line 6687.\n",
      "  PDBConstructionWarning)\n",
      "/Users/jinli/anaconda3/lib/python3.6/site-packages/Bio/PDB/StructureBuilder.py:91: PDBConstructionWarning: WARNING: Chain A is discontinuous at line 6715.\n",
      "  PDBConstructionWarning)\n",
      "/Users/jinli/anaconda3/lib/python3.6/site-packages/Bio/PDB/StructureBuilder.py:91: PDBConstructionWarning: WARNING: Chain B is discontinuous at line 6871.\n",
      "  PDBConstructionWarning)\n",
      "/Users/jinli/anaconda3/lib/python3.6/site-packages/Bio/PDB/StructureBuilder.py:91: PDBConstructionWarning: WARNING: Chain H is discontinuous at line 5535.\n",
      "  PDBConstructionWarning)\n",
      "/Users/jinli/anaconda3/lib/python3.6/site-packages/Bio/PDB/StructureBuilder.py:91: PDBConstructionWarning: WARNING: Chain L is discontinuous at line 5606.\n",
      "  PDBConstructionWarning)\n",
      "/Users/jinli/anaconda3/lib/python3.6/site-packages/Bio/PDB/StructureBuilder.py:91: PDBConstructionWarning: WARNING: Chain P is discontinuous at line 5633.\n",
      "  PDBConstructionWarning)\n",
      "/Users/jinli/anaconda3/lib/python3.6/site-packages/Bio/PDB/StructureBuilder.py:91: PDBConstructionWarning: WARNING: Chain A is discontinuous at line 5639.\n",
      "  PDBConstructionWarning)\n",
      "/Users/jinli/anaconda3/lib/python3.6/site-packages/Bio/PDB/StructureBuilder.py:91: PDBConstructionWarning: WARNING: Chain B is discontinuous at line 5681.\n",
      "  PDBConstructionWarning)\n"
     ]
    },
    {
     "name": "stdout",
     "output_type": "stream",
     "text": [
      "\tThis protein has more than 1 chain.\n",
      "PDB File:  1fo0.pdb\n",
      "\tThis protein has more than 1 chain.\n",
      "PDB File:  1fo8.pdb\n",
      "PDB File:  1fp2.pdb\n",
      "PDB File:  1fpo.pdb\n",
      "\tThis protein has more than 1 chain.\n",
      "PDB File:  1fpz.pdb\n"
     ]
    },
    {
     "name": "stderr",
     "output_type": "stream",
     "text": [
      "/Users/jinli/anaconda3/lib/python3.6/site-packages/Bio/PDB/StructureBuilder.py:91: PDBConstructionWarning: WARNING: Chain A is discontinuous at line 4620.\n",
      "  PDBConstructionWarning)\n",
      "/Users/jinli/anaconda3/lib/python3.6/site-packages/Bio/PDB/StructureBuilder.py:91: PDBConstructionWarning: WARNING: Chain B is discontinuous at line 4777.\n",
      "  PDBConstructionWarning)\n",
      "/Users/jinli/anaconda3/lib/python3.6/site-packages/Bio/PDB/StructureBuilder.py:91: PDBConstructionWarning: WARNING: Chain C is discontinuous at line 4959.\n",
      "  PDBConstructionWarning)\n",
      "/Users/jinli/anaconda3/lib/python3.6/site-packages/Bio/PDB/StructureBuilder.py:91: PDBConstructionWarning: WARNING: Chain A is discontinuous at line 9256.\n",
      "  PDBConstructionWarning)\n",
      "/Users/jinli/anaconda3/lib/python3.6/site-packages/Bio/PDB/StructureBuilder.py:91: PDBConstructionWarning: WARNING: Chain B is discontinuous at line 9261.\n",
      "  PDBConstructionWarning)\n",
      "/Users/jinli/anaconda3/lib/python3.6/site-packages/Bio/PDB/StructureBuilder.py:91: PDBConstructionWarning: WARNING: Chain C is discontinuous at line 9266.\n",
      "  PDBConstructionWarning)\n",
      "/Users/jinli/anaconda3/lib/python3.6/site-packages/Bio/PDB/StructureBuilder.py:91: PDBConstructionWarning: WARNING: Chain D is discontinuous at line 9271.\n",
      "  PDBConstructionWarning)\n",
      "/Users/jinli/anaconda3/lib/python3.6/site-packages/Bio/PDB/StructureBuilder.py:91: PDBConstructionWarning: WARNING: Chain E is discontinuous at line 9276.\n",
      "  PDBConstructionWarning)\n",
      "/Users/jinli/anaconda3/lib/python3.6/site-packages/Bio/PDB/StructureBuilder.py:91: PDBConstructionWarning: WARNING: Chain F is discontinuous at line 9281.\n",
      "  PDBConstructionWarning)\n",
      "/Users/jinli/anaconda3/lib/python3.6/site-packages/Bio/PDB/StructureBuilder.py:91: PDBConstructionWarning: WARNING: Chain A is discontinuous at line 9286.\n",
      "  PDBConstructionWarning)\n",
      "/Users/jinli/anaconda3/lib/python3.6/site-packages/Bio/PDB/StructureBuilder.py:91: PDBConstructionWarning: WARNING: Chain B is discontinuous at line 9378.\n",
      "  PDBConstructionWarning)\n",
      "/Users/jinli/anaconda3/lib/python3.6/site-packages/Bio/PDB/StructureBuilder.py:91: PDBConstructionWarning: WARNING: Chain C is discontinuous at line 9477.\n",
      "  PDBConstructionWarning)\n",
      "/Users/jinli/anaconda3/lib/python3.6/site-packages/Bio/PDB/StructureBuilder.py:91: PDBConstructionWarning: WARNING: Chain D is discontinuous at line 9610.\n",
      "  PDBConstructionWarning)\n",
      "/Users/jinli/anaconda3/lib/python3.6/site-packages/Bio/PDB/StructureBuilder.py:91: PDBConstructionWarning: WARNING: Chain E is discontinuous at line 9726.\n",
      "  PDBConstructionWarning)\n",
      "/Users/jinli/anaconda3/lib/python3.6/site-packages/Bio/PDB/StructureBuilder.py:91: PDBConstructionWarning: WARNING: Chain F is discontinuous at line 9881.\n",
      "  PDBConstructionWarning)\n"
     ]
    },
    {
     "name": "stdout",
     "output_type": "stream",
     "text": [
      "\tThis protein has more than 1 chain.\n",
      "PDB File:  1fqj.pdb\n"
     ]
    },
    {
     "name": "stderr",
     "output_type": "stream",
     "text": [
      "/Users/jinli/anaconda3/lib/python3.6/site-packages/Bio/PDB/StructureBuilder.py:91: PDBConstructionWarning: WARNING: Chain A is discontinuous at line 8382.\n",
      "  PDBConstructionWarning)\n",
      "/Users/jinli/anaconda3/lib/python3.6/site-packages/Bio/PDB/StructureBuilder.py:91: PDBConstructionWarning: WARNING: Chain D is discontinuous at line 8416.\n",
      "  PDBConstructionWarning)\n",
      "/Users/jinli/anaconda3/lib/python3.6/site-packages/Bio/PDB/StructureBuilder.py:91: PDBConstructionWarning: WARNING: Chain A is discontinuous at line 8450.\n",
      "  PDBConstructionWarning)\n",
      "/Users/jinli/anaconda3/lib/python3.6/site-packages/Bio/PDB/StructureBuilder.py:91: PDBConstructionWarning: WARNING: Chain B is discontinuous at line 8619.\n",
      "  PDBConstructionWarning)\n",
      "/Users/jinli/anaconda3/lib/python3.6/site-packages/Bio/PDB/StructureBuilder.py:91: PDBConstructionWarning: WARNING: Chain C is discontinuous at line 8659.\n",
      "  PDBConstructionWarning)\n",
      "/Users/jinli/anaconda3/lib/python3.6/site-packages/Bio/PDB/StructureBuilder.py:91: PDBConstructionWarning: WARNING: Chain D is discontinuous at line 8675.\n",
      "  PDBConstructionWarning)\n",
      "/Users/jinli/anaconda3/lib/python3.6/site-packages/Bio/PDB/StructureBuilder.py:91: PDBConstructionWarning: WARNING: Chain E is discontinuous at line 8763.\n",
      "  PDBConstructionWarning)\n",
      "/Users/jinli/anaconda3/lib/python3.6/site-packages/Bio/PDB/StructureBuilder.py:91: PDBConstructionWarning: WARNING: Chain E is discontinuous at line 3102.\n",
      "  PDBConstructionWarning)\n",
      "/Users/jinli/anaconda3/lib/python3.6/site-packages/Bio/PDB/StructureBuilder.py:91: PDBConstructionWarning: WARNING: Chain G is discontinuous at line 3196.\n",
      "  PDBConstructionWarning)\n"
     ]
    },
    {
     "name": "stdout",
     "output_type": "stream",
     "text": [
      "\tThis protein has more than 1 chain.\n",
      "PDB File:  1fs0.pdb\n",
      "\tThis protein has more than 1 chain.\n",
      "PDB File:  1fs7.pdb\n",
      "PDB File:  1fsg.pdb\n",
      "\tThis protein has more than 1 chain.\n",
      "PDB File:  1ft5.pdb\n"
     ]
    },
    {
     "name": "stderr",
     "output_type": "stream",
     "text": [
      "/Users/jinli/anaconda3/lib/python3.6/site-packages/Bio/PDB/StructureBuilder.py:91: PDBConstructionWarning: WARNING: Chain A is discontinuous at line 8331.\n",
      "  PDBConstructionWarning)\n",
      "/Users/jinli/anaconda3/lib/python3.6/site-packages/Bio/PDB/StructureBuilder.py:91: PDBConstructionWarning: WARNING: Chain C is discontinuous at line 8401.\n",
      "  PDBConstructionWarning)\n",
      "/Users/jinli/anaconda3/lib/python3.6/site-packages/Bio/PDB/StructureBuilder.py:91: PDBConstructionWarning: WARNING: Chain A is discontinuous at line 8471.\n",
      "  PDBConstructionWarning)\n",
      "/Users/jinli/anaconda3/lib/python3.6/site-packages/Bio/PDB/StructureBuilder.py:91: PDBConstructionWarning: WARNING: Chain C is discontinuous at line 9451.\n",
      "  PDBConstructionWarning)\n"
     ]
    },
    {
     "name": "stdout",
     "output_type": "stream",
     "text": [
      "PDB File:  1ftr.pdb\n"
     ]
    },
    {
     "name": "stderr",
     "output_type": "stream",
     "text": [
      "/Users/jinli/anaconda3/lib/python3.6/site-packages/Bio/PDB/StructureBuilder.py:91: PDBConstructionWarning: WARNING: Chain A is discontinuous at line 9420.\n",
      "  PDBConstructionWarning)\n",
      "/Users/jinli/anaconda3/lib/python3.6/site-packages/Bio/PDB/StructureBuilder.py:91: PDBConstructionWarning: WARNING: Chain B is discontinuous at line 9635.\n",
      "  PDBConstructionWarning)\n",
      "/Users/jinli/anaconda3/lib/python3.6/site-packages/Bio/PDB/StructureBuilder.py:91: PDBConstructionWarning: WARNING: Chain C is discontinuous at line 9776.\n",
      "  PDBConstructionWarning)\n",
      "/Users/jinli/anaconda3/lib/python3.6/site-packages/Bio/PDB/StructureBuilder.py:91: PDBConstructionWarning: WARNING: Chain D is discontinuous at line 9965.\n",
      "  PDBConstructionWarning)\n"
     ]
    },
    {
     "name": "stdout",
     "output_type": "stream",
     "text": [
      "\tThis protein has more than 1 chain.\n",
      "PDB File:  1fvi.pdb\n",
      "PDB File:  1fxk.pdb\n",
      "\tThis protein has more than 1 chain.\n",
      "PDB File:  1fye.pdb\n"
     ]
    },
    {
     "name": "stderr",
     "output_type": "stream",
     "text": [
      "/Users/jinli/anaconda3/lib/python3.6/site-packages/Bio/PDB/StructureBuilder.py:91: PDBConstructionWarning: WARNING: Chain A is discontinuous at line 3150.\n",
      "  PDBConstructionWarning)\n",
      "/Users/jinli/anaconda3/lib/python3.6/site-packages/Bio/PDB/StructureBuilder.py:91: PDBConstructionWarning: WARNING: Chain B is discontinuous at line 3255.\n",
      "  PDBConstructionWarning)\n",
      "/Users/jinli/anaconda3/lib/python3.6/site-packages/Bio/PDB/StructureBuilder.py:91: PDBConstructionWarning: WARNING: Chain C is discontinuous at line 3365.\n",
      "  PDBConstructionWarning)\n"
     ]
    },
    {
     "name": "stdout",
     "output_type": "stream",
     "text": [
      "PDB File:  1g12.pdb\n",
      "PDB File:  1g2r.pdb\n",
      "PDB File:  1g31.pdb\n"
     ]
    },
    {
     "name": "stderr",
     "output_type": "stream",
     "text": [
      "/Users/jinli/anaconda3/lib/python3.6/site-packages/Bio/PDB/StructureBuilder.py:91: PDBConstructionWarning: WARNING: Chain A is discontinuous at line 6817.\n",
      "  PDBConstructionWarning)\n",
      "/Users/jinli/anaconda3/lib/python3.6/site-packages/Bio/PDB/StructureBuilder.py:91: PDBConstructionWarning: WARNING: Chain B is discontinuous at line 6839.\n",
      "  PDBConstructionWarning)\n",
      "/Users/jinli/anaconda3/lib/python3.6/site-packages/Bio/PDB/StructureBuilder.py:91: PDBConstructionWarning: WARNING: Chain C is discontinuous at line 6861.\n",
      "  PDBConstructionWarning)\n",
      "/Users/jinli/anaconda3/lib/python3.6/site-packages/Bio/PDB/StructureBuilder.py:91: PDBConstructionWarning: WARNING: Chain D is discontinuous at line 6878.\n",
      "  PDBConstructionWarning)\n",
      "/Users/jinli/anaconda3/lib/python3.6/site-packages/Bio/PDB/StructureBuilder.py:91: PDBConstructionWarning: WARNING: Chain E is discontinuous at line 6884.\n",
      "  PDBConstructionWarning)\n",
      "/Users/jinli/anaconda3/lib/python3.6/site-packages/Bio/PDB/StructureBuilder.py:91: PDBConstructionWarning: WARNING: Chain F is discontinuous at line 6890.\n",
      "  PDBConstructionWarning)\n",
      "/Users/jinli/anaconda3/lib/python3.6/site-packages/Bio/PDB/StructureBuilder.py:91: PDBConstructionWarning: WARNING: Chain G is discontinuous at line 6897.\n",
      "  PDBConstructionWarning)\n",
      "/Users/jinli/anaconda3/lib/python3.6/site-packages/Bio/PDB/StructureBuilder.py:91: PDBConstructionWarning: WARNING: Chain A is discontinuous at line 6917.\n",
      "  PDBConstructionWarning)\n",
      "/Users/jinli/anaconda3/lib/python3.6/site-packages/Bio/PDB/StructureBuilder.py:91: PDBConstructionWarning: WARNING: Chain B is discontinuous at line 6987.\n",
      "  PDBConstructionWarning)\n",
      "/Users/jinli/anaconda3/lib/python3.6/site-packages/Bio/PDB/StructureBuilder.py:91: PDBConstructionWarning: WARNING: Chain C is discontinuous at line 7053.\n",
      "  PDBConstructionWarning)\n",
      "/Users/jinli/anaconda3/lib/python3.6/site-packages/Bio/PDB/StructureBuilder.py:91: PDBConstructionWarning: WARNING: Chain D is discontinuous at line 7122.\n",
      "  PDBConstructionWarning)\n",
      "/Users/jinli/anaconda3/lib/python3.6/site-packages/Bio/PDB/StructureBuilder.py:91: PDBConstructionWarning: WARNING: Chain E is discontinuous at line 7186.\n",
      "  PDBConstructionWarning)\n",
      "/Users/jinli/anaconda3/lib/python3.6/site-packages/Bio/PDB/StructureBuilder.py:91: PDBConstructionWarning: WARNING: Chain F is discontinuous at line 7252.\n",
      "  PDBConstructionWarning)\n",
      "/Users/jinli/anaconda3/lib/python3.6/site-packages/Bio/PDB/StructureBuilder.py:91: PDBConstructionWarning: WARNING: Chain G is discontinuous at line 7321.\n",
      "  PDBConstructionWarning)\n"
     ]
    },
    {
     "name": "stdout",
     "output_type": "stream",
     "text": [
      "\tThis protein has more than 1 chain.\n",
      "PDB File:  1g3j.pdb\n"
     ]
    },
    {
     "name": "stderr",
     "output_type": "stream",
     "text": [
      "/Users/jinli/anaconda3/lib/python3.6/site-packages/Bio/PDB/StructureBuilder.py:91: PDBConstructionWarning: WARNING: Chain A is discontinuous at line 8280.\n",
      "  PDBConstructionWarning)\n",
      "/Users/jinli/anaconda3/lib/python3.6/site-packages/Bio/PDB/StructureBuilder.py:91: PDBConstructionWarning: WARNING: Chain B is discontinuous at line 8460.\n",
      "  PDBConstructionWarning)\n",
      "/Users/jinli/anaconda3/lib/python3.6/site-packages/Bio/PDB/StructureBuilder.py:91: PDBConstructionWarning: WARNING: Chain C is discontinuous at line 8472.\n",
      "  PDBConstructionWarning)\n",
      "/Users/jinli/anaconda3/lib/python3.6/site-packages/Bio/PDB/StructureBuilder.py:91: PDBConstructionWarning: WARNING: Chain D is discontinuous at line 8539.\n",
      "  PDBConstructionWarning)\n",
      "/Users/jinli/anaconda3/lib/python3.6/site-packages/Bio/PDB/StructureBuilder.py:91: PDBConstructionWarning: WARNING: Chain A is discontinuous at line 4434.\n",
      "  PDBConstructionWarning)\n",
      "/Users/jinli/anaconda3/lib/python3.6/site-packages/Bio/PDB/StructureBuilder.py:91: PDBConstructionWarning: WARNING: Chain B is discontinuous at line 4435.\n",
      "  PDBConstructionWarning)\n",
      "/Users/jinli/anaconda3/lib/python3.6/site-packages/Bio/PDB/StructureBuilder.py:91: PDBConstructionWarning: WARNING: Chain C is discontinuous at line 4436.\n",
      "  PDBConstructionWarning)\n",
      "/Users/jinli/anaconda3/lib/python3.6/site-packages/Bio/PDB/StructureBuilder.py:91: PDBConstructionWarning: WARNING: Chain A is discontinuous at line 4437.\n",
      "  PDBConstructionWarning)\n",
      "/Users/jinli/anaconda3/lib/python3.6/site-packages/Bio/PDB/StructureBuilder.py:91: PDBConstructionWarning: WARNING: Chain B is discontinuous at line 4502.\n",
      "  PDBConstructionWarning)\n",
      "/Users/jinli/anaconda3/lib/python3.6/site-packages/Bio/PDB/StructureBuilder.py:91: PDBConstructionWarning: WARNING: Chain C is discontinuous at line 4572.\n",
      "  PDBConstructionWarning)\n"
     ]
    },
    {
     "name": "stdout",
     "output_type": "stream",
     "text": [
      "\tThis protein has more than 1 chain.\n",
      "PDB File:  1g3k.pdb\n",
      "\tThis protein has more than 1 chain.\n",
      "PDB File:  1g3p.pdb\n",
      "PDB File:  1g5a.pdb\n",
      "PDB File:  1g5h.pdb\n"
     ]
    },
    {
     "name": "stderr",
     "output_type": "stream",
     "text": [
      "/Users/jinli/anaconda3/lib/python3.6/site-packages/Bio/PDB/StructureBuilder.py:91: PDBConstructionWarning: WARNING: Chain A is discontinuous at line 14097.\n",
      "  PDBConstructionWarning)\n",
      "/Users/jinli/anaconda3/lib/python3.6/site-packages/Bio/PDB/StructureBuilder.py:91: PDBConstructionWarning: WARNING: Chain B is discontinuous at line 14098.\n",
      "  PDBConstructionWarning)\n",
      "/Users/jinli/anaconda3/lib/python3.6/site-packages/Bio/PDB/StructureBuilder.py:91: PDBConstructionWarning: WARNING: Chain C is discontinuous at line 14105.\n",
      "  PDBConstructionWarning)\n",
      "/Users/jinli/anaconda3/lib/python3.6/site-packages/Bio/PDB/StructureBuilder.py:91: PDBConstructionWarning: WARNING: Chain D is discontinuous at line 14106.\n",
      "  PDBConstructionWarning)\n",
      "/Users/jinli/anaconda3/lib/python3.6/site-packages/Bio/PDB/StructureBuilder.py:91: PDBConstructionWarning: WARNING: Chain A is discontinuous at line 14113.\n",
      "  PDBConstructionWarning)\n",
      "/Users/jinli/anaconda3/lib/python3.6/site-packages/Bio/PDB/StructureBuilder.py:91: PDBConstructionWarning: WARNING: Chain B is discontinuous at line 14333.\n",
      "  PDBConstructionWarning)\n",
      "/Users/jinli/anaconda3/lib/python3.6/site-packages/Bio/PDB/StructureBuilder.py:91: PDBConstructionWarning: WARNING: Chain C is discontinuous at line 14567.\n",
      "  PDBConstructionWarning)\n",
      "/Users/jinli/anaconda3/lib/python3.6/site-packages/Bio/PDB/StructureBuilder.py:91: PDBConstructionWarning: WARNING: Chain D is discontinuous at line 14781.\n",
      "  PDBConstructionWarning)\n"
     ]
    },
    {
     "name": "stdout",
     "output_type": "stream",
     "text": [
      "\tThis protein has more than 1 chain.\n",
      "PDB File:  1g5t.pdb\n",
      "PDB File:  1g60.pdb\n",
      "\tThis protein has more than 1 chain.\n",
      "PDB File:  1g61.pdb\n",
      "\tThis protein has more than 1 chain.\n",
      "PDB File:  1g66.pdb\n"
     ]
    },
    {
     "name": "stderr",
     "output_type": "stream",
     "text": [
      "/Users/jinli/anaconda3/lib/python3.6/site-packages/Bio/PDB/StructureBuilder.py:91: PDBConstructionWarning: WARNING: Chain A is discontinuous at line 4365.\n",
      "  PDBConstructionWarning)\n",
      "/Users/jinli/anaconda3/lib/python3.6/site-packages/Bio/PDB/StructureBuilder.py:91: PDBConstructionWarning: WARNING: Chain B is discontinuous at line 4393.\n",
      "  PDBConstructionWarning)\n",
      "/Users/jinli/anaconda3/lib/python3.6/site-packages/Bio/PDB/StructureBuilder.py:91: PDBConstructionWarning: WARNING: Chain A is discontinuous at line 4421.\n",
      "  PDBConstructionWarning)\n",
      "/Users/jinli/anaconda3/lib/python3.6/site-packages/Bio/PDB/StructureBuilder.py:91: PDBConstructionWarning: WARNING: Chain B is discontinuous at line 4616.\n",
      "  PDBConstructionWarning)\n",
      "/Users/jinli/anaconda3/lib/python3.6/site-packages/Bio/PDB/StructureBuilder.py:91: PDBConstructionWarning: WARNING: Chain A is discontinuous at line 3801.\n",
      "  PDBConstructionWarning)\n",
      "/Users/jinli/anaconda3/lib/python3.6/site-packages/Bio/PDB/StructureBuilder.py:91: PDBConstructionWarning: WARNING: Chain B is discontinuous at line 4527.\n",
      "  PDBConstructionWarning)\n"
     ]
    },
    {
     "name": "stdout",
     "output_type": "stream",
     "text": [
      "PDB File:  1g6g.pdb\n",
      "\tThis protein has more than 1 chain.\n",
      "PDB File:  1g6x.pdb\n"
     ]
    },
    {
     "name": "stderr",
     "output_type": "stream",
     "text": [
      "/Users/jinli/anaconda3/lib/python3.6/site-packages/Bio/PDB/StructureBuilder.py:91: PDBConstructionWarning: WARNING: Chain A is discontinuous at line 2518.\n",
      "  PDBConstructionWarning)\n",
      "/Users/jinli/anaconda3/lib/python3.6/site-packages/Bio/PDB/StructureBuilder.py:91: PDBConstructionWarning: WARNING: Chain B is discontinuous at line 2765.\n",
      "  PDBConstructionWarning)\n",
      "/Users/jinli/anaconda3/lib/python3.6/site-packages/Bio/PDB/StructureBuilder.py:91: PDBConstructionWarning: WARNING: Chain E is discontinuous at line 2899.\n",
      "  PDBConstructionWarning)\n",
      "/Users/jinli/anaconda3/lib/python3.6/site-packages/Bio/PDB/StructureBuilder.py:91: PDBConstructionWarning: WARNING: Chain F is discontinuous at line 2929.\n",
      "  PDBConstructionWarning)\n"
     ]
    },
    {
     "name": "stdout",
     "output_type": "stream",
     "text": [
      "PDB File:  1g8a.pdb\n",
      "PDB File:  1g8e.pdb\n",
      "\tThis protein has more than 1 chain.\n",
      "PDB File:  1g8k.pdb\n"
     ]
    },
    {
     "name": "stderr",
     "output_type": "stream",
     "text": [
      "/Users/jinli/anaconda3/lib/python3.6/site-packages/Bio/PDB/StructureBuilder.py:91: PDBConstructionWarning: WARNING: Chain A is discontinuous at line 1833.\n",
      "  PDBConstructionWarning)\n",
      "/Users/jinli/anaconda3/lib/python3.6/site-packages/Bio/PDB/StructureBuilder.py:91: PDBConstructionWarning: WARNING: Chain B is discontinuous at line 1891.\n",
      "  PDBConstructionWarning)\n",
      "/Users/jinli/anaconda3/lib/python3.6/site-packages/Bio/PDB/StructureBuilder.py:91: PDBConstructionWarning: WARNING: Chain A is discontinuous at line 31947.\n",
      "  PDBConstructionWarning)\n",
      "/Users/jinli/anaconda3/lib/python3.6/site-packages/Bio/PDB/StructureBuilder.py:91: PDBConstructionWarning: WARNING: Chain B is discontinuous at line 32062.\n",
      "  PDBConstructionWarning)\n",
      "/Users/jinli/anaconda3/lib/python3.6/site-packages/Bio/PDB/StructureBuilder.py:91: PDBConstructionWarning: WARNING: Chain C is discontinuous at line 32067.\n",
      "  PDBConstructionWarning)\n",
      "/Users/jinli/anaconda3/lib/python3.6/site-packages/Bio/PDB/StructureBuilder.py:91: PDBConstructionWarning: WARNING: Chain D is discontinuous at line 32182.\n",
      "  PDBConstructionWarning)\n",
      "/Users/jinli/anaconda3/lib/python3.6/site-packages/Bio/PDB/StructureBuilder.py:91: PDBConstructionWarning: WARNING: Chain E is discontinuous at line 32187.\n",
      "  PDBConstructionWarning)\n",
      "/Users/jinli/anaconda3/lib/python3.6/site-packages/Bio/PDB/StructureBuilder.py:91: PDBConstructionWarning: WARNING: Chain F is discontinuous at line 32306.\n",
      "  PDBConstructionWarning)\n",
      "/Users/jinli/anaconda3/lib/python3.6/site-packages/Bio/PDB/StructureBuilder.py:91: PDBConstructionWarning: WARNING: Chain G is discontinuous at line 32311.\n",
      "  PDBConstructionWarning)\n",
      "/Users/jinli/anaconda3/lib/python3.6/site-packages/Bio/PDB/StructureBuilder.py:91: PDBConstructionWarning: WARNING: Chain H is discontinuous at line 32426.\n",
      "  PDBConstructionWarning)\n",
      "/Users/jinli/anaconda3/lib/python3.6/site-packages/Bio/PDB/StructureBuilder.py:91: PDBConstructionWarning: WARNING: Chain A is discontinuous at line 32431.\n",
      "  PDBConstructionWarning)\n",
      "/Users/jinli/anaconda3/lib/python3.6/site-packages/Bio/PDB/StructureBuilder.py:91: PDBConstructionWarning: WARNING: Chain B is discontinuous at line 33235.\n",
      "  PDBConstructionWarning)\n",
      "/Users/jinli/anaconda3/lib/python3.6/site-packages/Bio/PDB/StructureBuilder.py:91: PDBConstructionWarning: WARNING: Chain C is discontinuous at line 33400.\n",
      "  PDBConstructionWarning)\n",
      "/Users/jinli/anaconda3/lib/python3.6/site-packages/Bio/PDB/StructureBuilder.py:91: PDBConstructionWarning: WARNING: Chain D is discontinuous at line 34308.\n",
      "  PDBConstructionWarning)\n",
      "/Users/jinli/anaconda3/lib/python3.6/site-packages/Bio/PDB/StructureBuilder.py:91: PDBConstructionWarning: WARNING: Chain E is discontinuous at line 34465.\n",
      "  PDBConstructionWarning)\n",
      "/Users/jinli/anaconda3/lib/python3.6/site-packages/Bio/PDB/StructureBuilder.py:91: PDBConstructionWarning: WARNING: Chain F is discontinuous at line 35343.\n",
      "  PDBConstructionWarning)\n",
      "/Users/jinli/anaconda3/lib/python3.6/site-packages/Bio/PDB/StructureBuilder.py:91: PDBConstructionWarning: WARNING: Chain G is discontinuous at line 35505.\n",
      "  PDBConstructionWarning)\n",
      "/Users/jinli/anaconda3/lib/python3.6/site-packages/Bio/PDB/StructureBuilder.py:91: PDBConstructionWarning: WARNING: Chain H is discontinuous at line 36354.\n",
      "  PDBConstructionWarning)\n"
     ]
    },
    {
     "name": "stdout",
     "output_type": "stream",
     "text": [
      "\tThis protein has more than 1 chain.\n",
      "PDB File:  1g8m.pdb\n"
     ]
    },
    {
     "name": "stderr",
     "output_type": "stream",
     "text": [
      "/Users/jinli/anaconda3/lib/python3.6/site-packages/Bio/PDB/StructureBuilder.py:91: PDBConstructionWarning: WARNING: Chain A is discontinuous at line 9774.\n",
      "  PDBConstructionWarning)\n",
      "/Users/jinli/anaconda3/lib/python3.6/site-packages/Bio/PDB/StructureBuilder.py:91: PDBConstructionWarning: WARNING: Chain B is discontinuous at line 9799.\n",
      "  PDBConstructionWarning)\n",
      "/Users/jinli/anaconda3/lib/python3.6/site-packages/Bio/PDB/StructureBuilder.py:91: PDBConstructionWarning: WARNING: Chain A is discontinuous at line 9800.\n",
      "  PDBConstructionWarning)\n",
      "/Users/jinli/anaconda3/lib/python3.6/site-packages/Bio/PDB/StructureBuilder.py:91: PDBConstructionWarning: WARNING: Chain B is discontinuous at line 10183.\n",
      "  PDBConstructionWarning)\n"
     ]
    },
    {
     "name": "stdout",
     "output_type": "stream",
     "text": [
      "\tThis protein has more than 1 chain.\n",
      "PDB File:  1g8p.pdb\n",
      "PDB File:  1ga6.pdb\n",
      "\tThis protein has more than 1 chain.\n",
      "PDB File:  1gak.pdb\n"
     ]
    },
    {
     "name": "stderr",
     "output_type": "stream",
     "text": [
      "/Users/jinli/anaconda3/lib/python3.6/site-packages/Bio/PDB/StructureBuilder.py:91: PDBConstructionWarning: WARNING: Chain A is discontinuous at line 6245.\n",
      "  PDBConstructionWarning)\n",
      "/Users/jinli/anaconda3/lib/python3.6/site-packages/Bio/PDB/StructureBuilder.py:91: PDBConstructionWarning: WARNING: Chain I is discontinuous at line 7255.\n",
      "  PDBConstructionWarning)\n"
     ]
    },
    {
     "name": "stdout",
     "output_type": "stream",
     "text": [
      "PDB File:  1gci.pdb\n",
      "PDB File:  1gcq.pdb\n",
      "\tThis protein has more than 1 chain.\n",
      "PDB File:  1ghe.pdb\n",
      "\tThis protein has more than 1 chain.\n",
      "PDB File:  1gjw.pdb\n"
     ]
    },
    {
     "name": "stderr",
     "output_type": "stream",
     "text": [
      "/Users/jinli/anaconda3/lib/python3.6/site-packages/Bio/PDB/StructureBuilder.py:91: PDBConstructionWarning: WARNING: Chain A is discontinuous at line 1847.\n",
      "  PDBConstructionWarning)\n",
      "/Users/jinli/anaconda3/lib/python3.6/site-packages/Bio/PDB/StructureBuilder.py:91: PDBConstructionWarning: WARNING: Chain B is discontinuous at line 1916.\n",
      "  PDBConstructionWarning)\n",
      "/Users/jinli/anaconda3/lib/python3.6/site-packages/Bio/PDB/StructureBuilder.py:91: PDBConstructionWarning: WARNING: Chain C is discontinuous at line 1968.\n",
      "  PDBConstructionWarning)\n",
      "/Users/jinli/anaconda3/lib/python3.6/site-packages/Bio/PDB/StructureBuilder.py:91: PDBConstructionWarning: WARNING: Chain A is discontinuous at line 3031.\n",
      "  PDBConstructionWarning)\n",
      "/Users/jinli/anaconda3/lib/python3.6/site-packages/Bio/PDB/StructureBuilder.py:91: PDBConstructionWarning: WARNING: Chain B is discontinuous at line 3082.\n",
      "  PDBConstructionWarning)\n",
      "/Users/jinli/anaconda3/lib/python3.6/site-packages/Bio/PDB/StructureBuilder.py:91: PDBConstructionWarning: WARNING: Chain A is discontinuous at line 3133.\n",
      "  PDBConstructionWarning)\n",
      "/Users/jinli/anaconda3/lib/python3.6/site-packages/Bio/PDB/StructureBuilder.py:91: PDBConstructionWarning: WARNING: Chain B is discontinuous at line 3216.\n",
      "  PDBConstructionWarning)\n"
     ]
    },
    {
     "name": "stdout",
     "output_type": "stream",
     "text": [
      "PDB File:  1gk6.pdb\n",
      "\tThis protein has more than 1 chain.\n",
      "PDB File:  1gk9.pdb\n",
      "\tThis protein has more than 1 chain.\n",
      "PDB File:  1gkm.pdb\n"
     ]
    },
    {
     "name": "stderr",
     "output_type": "stream",
     "text": [
      "/Users/jinli/anaconda3/lib/python3.6/site-packages/Bio/PDB/StructureBuilder.py:91: PDBConstructionWarning: WARNING: Chain A is discontinuous at line 1279.\n",
      "  PDBConstructionWarning)\n",
      "/Users/jinli/anaconda3/lib/python3.6/site-packages/Bio/PDB/StructureBuilder.py:91: PDBConstructionWarning: WARNING: Chain B is discontinuous at line 1370.\n",
      "  PDBConstructionWarning)\n",
      "/Users/jinli/anaconda3/lib/python3.6/site-packages/Bio/PDB/StructureBuilder.py:91: PDBConstructionWarning: WARNING: Chain A is discontinuous at line 7331.\n",
      "  PDBConstructionWarning)\n",
      "/Users/jinli/anaconda3/lib/python3.6/site-packages/Bio/PDB/StructureBuilder.py:91: PDBConstructionWarning: WARNING: Chain B is discontinuous at line 7347.\n",
      "  PDBConstructionWarning)\n",
      "/Users/jinli/anaconda3/lib/python3.6/site-packages/Bio/PDB/StructureBuilder.py:91: PDBConstructionWarning: WARNING: Chain A is discontinuous at line 7440.\n",
      "  PDBConstructionWarning)\n",
      "/Users/jinli/anaconda3/lib/python3.6/site-packages/Bio/PDB/StructureBuilder.py:91: PDBConstructionWarning: WARNING: Chain B is discontinuous at line 7694.\n",
      "  PDBConstructionWarning)\n"
     ]
    },
    {
     "name": "stdout",
     "output_type": "stream",
     "text": [
      "PDB File:  1gl4.pdb\n",
      "\tThis protein has more than 1 chain.\n",
      "PDB File:  1gmi.pdb\n"
     ]
    },
    {
     "name": "stderr",
     "output_type": "stream",
     "text": [
      "/Users/jinli/anaconda3/lib/python3.6/site-packages/Bio/PDB/StructureBuilder.py:91: PDBConstructionWarning: WARNING: Chain A is discontinuous at line 3283.\n",
      "  PDBConstructionWarning)\n",
      "/Users/jinli/anaconda3/lib/python3.6/site-packages/Bio/PDB/StructureBuilder.py:91: PDBConstructionWarning: WARNING: Chain B is discontinuous at line 3284.\n",
      "  PDBConstructionWarning)\n",
      "/Users/jinli/anaconda3/lib/python3.6/site-packages/Bio/PDB/StructureBuilder.py:91: PDBConstructionWarning: WARNING: Chain A is discontinuous at line 3299.\n",
      "  PDBConstructionWarning)\n",
      "/Users/jinli/anaconda3/lib/python3.6/site-packages/Bio/PDB/StructureBuilder.py:91: PDBConstructionWarning: WARNING: Chain B is discontinuous at line 3429.\n",
      "  PDBConstructionWarning)\n"
     ]
    },
    {
     "name": "stdout",
     "output_type": "stream",
     "text": [
      "PDB File:  1gml.pdb\n",
      "\tThis protein has more than 1 chain.\n",
      "PDB File:  1gmu.pdb\n"
     ]
    },
    {
     "name": "stderr",
     "output_type": "stream",
     "text": [
      "/Users/jinli/anaconda3/lib/python3.6/site-packages/Bio/PDB/StructureBuilder.py:91: PDBConstructionWarning: WARNING: Chain A is discontinuous at line 5412.\n",
      "  PDBConstructionWarning)\n",
      "/Users/jinli/anaconda3/lib/python3.6/site-packages/Bio/PDB/StructureBuilder.py:91: PDBConstructionWarning: WARNING: Chain B is discontinuous at line 5418.\n",
      "  PDBConstructionWarning)\n",
      "/Users/jinli/anaconda3/lib/python3.6/site-packages/Bio/PDB/StructureBuilder.py:91: PDBConstructionWarning: WARNING: Chain C is discontinuous at line 5424.\n",
      "  PDBConstructionWarning)\n",
      "/Users/jinli/anaconda3/lib/python3.6/site-packages/Bio/PDB/StructureBuilder.py:91: PDBConstructionWarning: WARNING: Chain D is discontinuous at line 5430.\n",
      "  PDBConstructionWarning)\n",
      "/Users/jinli/anaconda3/lib/python3.6/site-packages/Bio/PDB/StructureBuilder.py:91: PDBConstructionWarning: WARNING: Chain A is discontinuous at line 5436.\n",
      "  PDBConstructionWarning)\n",
      "/Users/jinli/anaconda3/lib/python3.6/site-packages/Bio/PDB/StructureBuilder.py:91: PDBConstructionWarning: WARNING: Chain B is discontinuous at line 5610.\n",
      "  PDBConstructionWarning)\n",
      "/Users/jinli/anaconda3/lib/python3.6/site-packages/Bio/PDB/StructureBuilder.py:91: PDBConstructionWarning: WARNING: Chain C is discontinuous at line 5791.\n",
      "  PDBConstructionWarning)\n",
      "/Users/jinli/anaconda3/lib/python3.6/site-packages/Bio/PDB/StructureBuilder.py:91: PDBConstructionWarning: WARNING: Chain D is discontinuous at line 5939.\n",
      "  PDBConstructionWarning)\n",
      "/Users/jinli/anaconda3/lib/python3.6/site-packages/Bio/PDB/StructureBuilder.py:91: PDBConstructionWarning: WARNING: Chain A is discontinuous at line 4735.\n",
      "  PDBConstructionWarning)\n",
      "/Users/jinli/anaconda3/lib/python3.6/site-packages/Bio/PDB/StructureBuilder.py:91: PDBConstructionWarning: WARNING: Chain B is discontinuous at line 5003.\n",
      "  PDBConstructionWarning)\n",
      "/Users/jinli/anaconda3/lib/python3.6/site-packages/Bio/PDB/StructureBuilder.py:91: PDBConstructionWarning: WARNING: Chain C is discontinuous at line 5247.\n",
      "  PDBConstructionWarning)\n",
      "/Users/jinli/anaconda3/lib/python3.6/site-packages/Bio/PDB/StructureBuilder.py:91: PDBConstructionWarning: WARNING: Chain D is discontinuous at line 5472.\n",
      "  PDBConstructionWarning)\n"
     ]
    },
    {
     "name": "stdout",
     "output_type": "stream",
     "text": [
      "\tThis protein has more than 1 chain.\n",
      "PDB File:  1gmx.pdb\n",
      "PDB File:  1gnl.pdb\n"
     ]
    },
    {
     "name": "stderr",
     "output_type": "stream",
     "text": [
      "/Users/jinli/anaconda3/lib/python3.6/site-packages/Bio/PDB/StructureBuilder.py:91: PDBConstructionWarning: WARNING: Chain A is discontinuous at line 9195.\n",
      "  PDBConstructionWarning)\n",
      "/Users/jinli/anaconda3/lib/python3.6/site-packages/Bio/PDB/StructureBuilder.py:91: PDBConstructionWarning: WARNING: Chain B is discontinuous at line 9232.\n",
      "  PDBConstructionWarning)\n",
      "/Users/jinli/anaconda3/lib/python3.6/site-packages/Bio/PDB/StructureBuilder.py:91: PDBConstructionWarning: WARNING: Chain A is discontinuous at line 9265.\n",
      "  PDBConstructionWarning)\n",
      "/Users/jinli/anaconda3/lib/python3.6/site-packages/Bio/PDB/StructureBuilder.py:91: PDBConstructionWarning: WARNING: Chain B is discontinuous at line 10051.\n",
      "  PDBConstructionWarning)\n"
     ]
    },
    {
     "name": "stdout",
     "output_type": "stream",
     "text": [
      "\tThis protein has more than 1 chain.\n",
      "PDB File:  1gny.pdb\n",
      "PDB File:  1go3.pdb\n",
      "\tThis protein has more than 1 chain.\n",
      "PDB File:  1gp0.pdb\n"
     ]
    },
    {
     "name": "stderr",
     "output_type": "stream",
     "text": [
      "/Users/jinli/anaconda3/lib/python3.6/site-packages/Bio/PDB/StructureBuilder.py:91: PDBConstructionWarning: WARNING: Chain E is discontinuous at line 4904.\n",
      "  PDBConstructionWarning)\n",
      "/Users/jinli/anaconda3/lib/python3.6/site-packages/Bio/PDB/StructureBuilder.py:91: PDBConstructionWarning: WARNING: Chain F is discontinuous at line 4982.\n",
      "  PDBConstructionWarning)\n",
      "/Users/jinli/anaconda3/lib/python3.6/site-packages/Bio/PDB/StructureBuilder.py:91: PDBConstructionWarning: WARNING: Chain M is discontinuous at line 5048.\n",
      "  PDBConstructionWarning)\n",
      "/Users/jinli/anaconda3/lib/python3.6/site-packages/Bio/PDB/StructureBuilder.py:91: PDBConstructionWarning: WARNING: Chain N is discontinuous at line 5151.\n",
      "  PDBConstructionWarning)\n"
     ]
    },
    {
     "name": "stdout",
     "output_type": "stream",
     "text": [
      "PDB File:  1gp6.pdb\n",
      "PDB File:  1gpj.pdb\n",
      "PDB File:  1gpp.pdb\n",
      "PDB File:  1gpr.pdb\n",
      "PDB File:  1gqe.pdb\n",
      "PDB File:  1gqi.pdb\n"
     ]
    },
    {
     "name": "stderr",
     "output_type": "stream",
     "text": [
      "/Users/jinli/anaconda3/lib/python3.6/site-packages/Bio/PDB/StructureBuilder.py:91: PDBConstructionWarning: WARNING: Chain A is discontinuous at line 12324.\n",
      "  PDBConstructionWarning)\n",
      "/Users/jinli/anaconda3/lib/python3.6/site-packages/Bio/PDB/StructureBuilder.py:91: PDBConstructionWarning: WARNING: Chain B is discontinuous at line 12353.\n",
      "  PDBConstructionWarning)\n",
      "/Users/jinli/anaconda3/lib/python3.6/site-packages/Bio/PDB/StructureBuilder.py:91: PDBConstructionWarning: WARNING: Chain A is discontinuous at line 12382.\n",
      "  PDBConstructionWarning)\n",
      "/Users/jinli/anaconda3/lib/python3.6/site-packages/Bio/PDB/StructureBuilder.py:91: PDBConstructionWarning: WARNING: Chain B is discontinuous at line 13272.\n",
      "  PDBConstructionWarning)\n"
     ]
    },
    {
     "name": "stdout",
     "output_type": "stream",
     "text": [
      "\tThis protein has more than 1 chain.\n",
      "PDB File:  1gs5.pdb\n",
      "PDB File:  1gs9.pdb\n",
      "PDB File:  1gsa.pdb\n",
      "PDB File:  1gsm.pdb\n",
      "PDB File:  1gtt.pdb\n"
     ]
    },
    {
     "name": "stderr",
     "output_type": "stream",
     "text": [
      "/Users/jinli/anaconda3/lib/python3.6/site-packages/Bio/PDB/StructureBuilder.py:91: PDBConstructionWarning: WARNING: Chain A is discontinuous at line 14069.\n",
      "  PDBConstructionWarning)\n",
      "/Users/jinli/anaconda3/lib/python3.6/site-packages/Bio/PDB/StructureBuilder.py:91: PDBConstructionWarning: WARNING: Chain B is discontinuous at line 14070.\n",
      "  PDBConstructionWarning)\n",
      "/Users/jinli/anaconda3/lib/python3.6/site-packages/Bio/PDB/StructureBuilder.py:91: PDBConstructionWarning: WARNING: Chain C is discontinuous at line 14071.\n",
      "  PDBConstructionWarning)\n",
      "/Users/jinli/anaconda3/lib/python3.6/site-packages/Bio/PDB/StructureBuilder.py:91: PDBConstructionWarning: WARNING: Chain D is discontinuous at line 14072.\n",
      "  PDBConstructionWarning)\n",
      "/Users/jinli/anaconda3/lib/python3.6/site-packages/Bio/PDB/StructureBuilder.py:91: PDBConstructionWarning: WARNING: Chain A is discontinuous at line 14073.\n",
      "  PDBConstructionWarning)\n",
      "/Users/jinli/anaconda3/lib/python3.6/site-packages/Bio/PDB/StructureBuilder.py:91: PDBConstructionWarning: WARNING: Chain B is discontinuous at line 14389.\n",
      "  PDBConstructionWarning)\n",
      "/Users/jinli/anaconda3/lib/python3.6/site-packages/Bio/PDB/StructureBuilder.py:91: PDBConstructionWarning: WARNING: Chain C is discontinuous at line 14695.\n",
      "  PDBConstructionWarning)\n",
      "/Users/jinli/anaconda3/lib/python3.6/site-packages/Bio/PDB/StructureBuilder.py:91: PDBConstructionWarning: WARNING: Chain D is discontinuous at line 15017.\n",
      "  PDBConstructionWarning)\n",
      "/Users/jinli/anaconda3/lib/python3.6/site-packages/Bio/PDB/StructureBuilder.py:91: PDBConstructionWarning: WARNING: Chain A is discontinuous at line 4249.\n",
      "  PDBConstructionWarning)\n",
      "/Users/jinli/anaconda3/lib/python3.6/site-packages/Bio/PDB/StructureBuilder.py:91: PDBConstructionWarning: WARNING: Chain B is discontinuous at line 4335.\n",
      "  PDBConstructionWarning)\n",
      "/Users/jinli/anaconda3/lib/python3.6/site-packages/Bio/PDB/StructureBuilder.py:91: PDBConstructionWarning: WARNING: Chain A is discontinuous at line 4421.\n",
      "  PDBConstructionWarning)\n",
      "/Users/jinli/anaconda3/lib/python3.6/site-packages/Bio/PDB/StructureBuilder.py:91: PDBConstructionWarning: WARNING: Chain B is discontinuous at line 4801.\n",
      "  PDBConstructionWarning)\n"
     ]
    },
    {
     "name": "stdout",
     "output_type": "stream",
     "text": [
      "\tThis protein has more than 1 chain.\n",
      "PDB File:  1gu2.pdb\n",
      "\tThis protein has more than 1 chain.\n",
      "PDB File:  1gu3.pdb\n",
      "PDB File:  1gu7.pdb\n",
      "\tThis protein has more than 1 chain.\n",
      "PDB File:  1gu9.pdb\n"
     ]
    },
    {
     "name": "stderr",
     "output_type": "stream",
     "text": [
      "/Users/jinli/anaconda3/lib/python3.6/site-packages/Bio/PDB/StructureBuilder.py:91: PDBConstructionWarning: WARNING: Chain A is discontinuous at line 6197.\n",
      "  PDBConstructionWarning)\n",
      "/Users/jinli/anaconda3/lib/python3.6/site-packages/Bio/PDB/StructureBuilder.py:91: PDBConstructionWarning: WARNING: Chain B is discontinuous at line 6262.\n",
      "  PDBConstructionWarning)\n",
      "/Users/jinli/anaconda3/lib/python3.6/site-packages/Bio/PDB/StructureBuilder.py:91: PDBConstructionWarning: WARNING: Chain A is discontinuous at line 6316.\n",
      "  PDBConstructionWarning)\n",
      "/Users/jinli/anaconda3/lib/python3.6/site-packages/Bio/PDB/StructureBuilder.py:91: PDBConstructionWarning: WARNING: Chain B is discontinuous at line 6761.\n",
      "  PDBConstructionWarning)\n",
      "/Users/jinli/anaconda3/lib/python3.6/site-packages/Bio/PDB/StructureBuilder.py:91: PDBConstructionWarning: WARNING: Chain A is discontinuous at line 16200.\n",
      "  PDBConstructionWarning)\n",
      "/Users/jinli/anaconda3/lib/python3.6/site-packages/Bio/PDB/StructureBuilder.py:91: PDBConstructionWarning: WARNING: Chain B is discontinuous at line 16261.\n",
      "  PDBConstructionWarning)\n",
      "/Users/jinli/anaconda3/lib/python3.6/site-packages/Bio/PDB/StructureBuilder.py:91: PDBConstructionWarning: WARNING: Chain C is discontinuous at line 16339.\n",
      "  PDBConstructionWarning)\n",
      "/Users/jinli/anaconda3/lib/python3.6/site-packages/Bio/PDB/StructureBuilder.py:91: PDBConstructionWarning: WARNING: Chain D is discontinuous at line 16427.\n",
      "  PDBConstructionWarning)\n",
      "/Users/jinli/anaconda3/lib/python3.6/site-packages/Bio/PDB/StructureBuilder.py:91: PDBConstructionWarning: WARNING: Chain E is discontinuous at line 16497.\n",
      "  PDBConstructionWarning)\n",
      "/Users/jinli/anaconda3/lib/python3.6/site-packages/Bio/PDB/StructureBuilder.py:91: PDBConstructionWarning: WARNING: Chain F is discontinuous at line 16550.\n",
      "  PDBConstructionWarning)\n",
      "/Users/jinli/anaconda3/lib/python3.6/site-packages/Bio/PDB/StructureBuilder.py:91: PDBConstructionWarning: WARNING: Chain G is discontinuous at line 16658.\n",
      "  PDBConstructionWarning)\n",
      "/Users/jinli/anaconda3/lib/python3.6/site-packages/Bio/PDB/StructureBuilder.py:91: PDBConstructionWarning: WARNING: Chain H is discontinuous at line 16724.\n",
      "  PDBConstructionWarning)\n",
      "/Users/jinli/anaconda3/lib/python3.6/site-packages/Bio/PDB/StructureBuilder.py:91: PDBConstructionWarning: WARNING: Chain I is discontinuous at line 16789.\n",
      "  PDBConstructionWarning)\n",
      "/Users/jinli/anaconda3/lib/python3.6/site-packages/Bio/PDB/StructureBuilder.py:91: PDBConstructionWarning: WARNING: Chain J is discontinuous at line 16846.\n",
      "  PDBConstructionWarning)\n",
      "/Users/jinli/anaconda3/lib/python3.6/site-packages/Bio/PDB/StructureBuilder.py:91: PDBConstructionWarning: WARNING: Chain K is discontinuous at line 16922.\n",
      "  PDBConstructionWarning)\n",
      "/Users/jinli/anaconda3/lib/python3.6/site-packages/Bio/PDB/StructureBuilder.py:91: PDBConstructionWarning: WARNING: Chain L is discontinuous at line 16980.\n",
      "  PDBConstructionWarning)\n"
     ]
    },
    {
     "name": "stdout",
     "output_type": "stream",
     "text": [
      "\tThis protein has more than 1 chain.\n",
      "PDB File:  1gui.pdb\n",
      "PDB File:  1gut.pdb\n"
     ]
    },
    {
     "name": "stderr",
     "output_type": "stream",
     "text": [
      "/Users/jinli/anaconda3/lib/python3.6/site-packages/Bio/PDB/StructureBuilder.py:91: PDBConstructionWarning: WARNING: Chain A is discontinuous at line 6397.\n",
      "  PDBConstructionWarning)\n",
      "/Users/jinli/anaconda3/lib/python3.6/site-packages/Bio/PDB/StructureBuilder.py:91: PDBConstructionWarning: WARNING: Chain B is discontinuous at line 6403.\n",
      "  PDBConstructionWarning)\n",
      "/Users/jinli/anaconda3/lib/python3.6/site-packages/Bio/PDB/StructureBuilder.py:91: PDBConstructionWarning: WARNING: Chain C is discontinuous at line 6407.\n",
      "  PDBConstructionWarning)\n",
      "/Users/jinli/anaconda3/lib/python3.6/site-packages/Bio/PDB/StructureBuilder.py:91: PDBConstructionWarning: WARNING: Chain D is discontinuous at line 6411.\n",
      "  PDBConstructionWarning)\n",
      "/Users/jinli/anaconda3/lib/python3.6/site-packages/Bio/PDB/StructureBuilder.py:91: PDBConstructionWarning: WARNING: Chain E is discontinuous at line 6415.\n",
      "  PDBConstructionWarning)\n",
      "/Users/jinli/anaconda3/lib/python3.6/site-packages/Bio/PDB/StructureBuilder.py:91: PDBConstructionWarning: WARNING: Chain F is discontinuous at line 6417.\n",
      "  PDBConstructionWarning)\n",
      "/Users/jinli/anaconda3/lib/python3.6/site-packages/Bio/PDB/StructureBuilder.py:91: PDBConstructionWarning: WARNING: Chain A is discontinuous at line 6419.\n",
      "  PDBConstructionWarning)\n",
      "/Users/jinli/anaconda3/lib/python3.6/site-packages/Bio/PDB/StructureBuilder.py:91: PDBConstructionWarning: WARNING: Chain B is discontinuous at line 6543.\n",
      "  PDBConstructionWarning)\n",
      "/Users/jinli/anaconda3/lib/python3.6/site-packages/Bio/PDB/StructureBuilder.py:91: PDBConstructionWarning: WARNING: Chain C is discontinuous at line 6671.\n",
      "  PDBConstructionWarning)\n",
      "/Users/jinli/anaconda3/lib/python3.6/site-packages/Bio/PDB/StructureBuilder.py:91: PDBConstructionWarning: WARNING: Chain D is discontinuous at line 6805.\n",
      "  PDBConstructionWarning)\n",
      "/Users/jinli/anaconda3/lib/python3.6/site-packages/Bio/PDB/StructureBuilder.py:91: PDBConstructionWarning: WARNING: Chain E is discontinuous at line 6943.\n",
      "  PDBConstructionWarning)\n",
      "/Users/jinli/anaconda3/lib/python3.6/site-packages/Bio/PDB/StructureBuilder.py:91: PDBConstructionWarning: WARNING: Chain F is discontinuous at line 7067.\n",
      "  PDBConstructionWarning)\n"
     ]
    },
    {
     "name": "stdout",
     "output_type": "stream",
     "text": [
      "\tThis protein has more than 1 chain.\n",
      "PDB File:  1gv9.pdb\n",
      "PDB File:  1gve.pdb\n",
      "\tThis protein has more than 1 chain.\n",
      "PDB File:  1gvn.pdb\n"
     ]
    },
    {
     "name": "stderr",
     "output_type": "stream",
     "text": [
      "/Users/jinli/anaconda3/lib/python3.6/site-packages/Bio/PDB/StructureBuilder.py:91: PDBConstructionWarning: WARNING: Chain A is discontinuous at line 10567.\n",
      "  PDBConstructionWarning)\n",
      "/Users/jinli/anaconda3/lib/python3.6/site-packages/Bio/PDB/StructureBuilder.py:91: PDBConstructionWarning: WARNING: Chain B is discontinuous at line 10713.\n",
      "  PDBConstructionWarning)\n",
      "/Users/jinli/anaconda3/lib/python3.6/site-packages/Bio/PDB/StructureBuilder.py:91: PDBConstructionWarning: WARNING: Chain A is discontinuous at line 10833.\n",
      "  PDBConstructionWarning)\n",
      "/Users/jinli/anaconda3/lib/python3.6/site-packages/Bio/PDB/StructureBuilder.py:91: PDBConstructionWarning: WARNING: Chain B is discontinuous at line 11215.\n",
      "  PDBConstructionWarning)\n",
      "/Users/jinli/anaconda3/lib/python3.6/site-packages/Bio/PDB/StructureBuilder.py:91: PDBConstructionWarning: WARNING: Chain B is discontinuous at line 6258.\n",
      "  PDBConstructionWarning)\n",
      "/Users/jinli/anaconda3/lib/python3.6/site-packages/Bio/PDB/StructureBuilder.py:91: PDBConstructionWarning: WARNING: Chain D is discontinuous at line 6263.\n",
      "  PDBConstructionWarning)\n",
      "/Users/jinli/anaconda3/lib/python3.6/site-packages/Bio/PDB/StructureBuilder.py:91: PDBConstructionWarning: WARNING: Chain A is discontinuous at line 6268.\n",
      "  PDBConstructionWarning)\n",
      "/Users/jinli/anaconda3/lib/python3.6/site-packages/Bio/PDB/StructureBuilder.py:91: PDBConstructionWarning: WARNING: Chain B is discontinuous at line 6359.\n",
      "  PDBConstructionWarning)\n",
      "/Users/jinli/anaconda3/lib/python3.6/site-packages/Bio/PDB/StructureBuilder.py:91: PDBConstructionWarning: WARNING: Chain C is discontinuous at line 6621.\n",
      "  PDBConstructionWarning)\n",
      "/Users/jinli/anaconda3/lib/python3.6/site-packages/Bio/PDB/StructureBuilder.py:91: PDBConstructionWarning: WARNING: Chain D is discontinuous at line 6721.\n",
      "  PDBConstructionWarning)\n"
     ]
    },
    {
     "name": "stdout",
     "output_type": "stream",
     "text": [
      "\tThis protein has more than 1 chain.\n",
      "PDB File:  1gvp.pdb\n",
      "PDB File:  1gwe.pdb\n",
      "PDB File:  1gwm.pdb\n",
      "PDB File:  1gxc.pdb\n",
      "\tThis protein has more than 1 chain.\n",
      "PDB File:  1gxm.pdb\n"
     ]
    },
    {
     "name": "stderr",
     "output_type": "stream",
     "text": [
      "/Users/jinli/anaconda3/lib/python3.6/site-packages/Bio/PDB/StructureBuilder.py:91: PDBConstructionWarning: WARNING: Chain A is discontinuous at line 5031.\n",
      "  PDBConstructionWarning)\n",
      "/Users/jinli/anaconda3/lib/python3.6/site-packages/Bio/PDB/StructureBuilder.py:91: PDBConstructionWarning: WARNING: Chain B is discontinuous at line 5051.\n",
      "  PDBConstructionWarning)\n",
      "/Users/jinli/anaconda3/lib/python3.6/site-packages/Bio/PDB/StructureBuilder.py:91: PDBConstructionWarning: WARNING: Chain D is discontinuous at line 5054.\n",
      "  PDBConstructionWarning)\n",
      "/Users/jinli/anaconda3/lib/python3.6/site-packages/Bio/PDB/StructureBuilder.py:91: PDBConstructionWarning: WARNING: Chain E is discontinuous at line 5079.\n",
      "  PDBConstructionWarning)\n",
      "/Users/jinli/anaconda3/lib/python3.6/site-packages/Bio/PDB/StructureBuilder.py:91: PDBConstructionWarning: WARNING: Chain G is discontinuous at line 5083.\n",
      "  PDBConstructionWarning)\n",
      "/Users/jinli/anaconda3/lib/python3.6/site-packages/Bio/PDB/StructureBuilder.py:91: PDBConstructionWarning: WARNING: Chain J is discontinuous at line 5091.\n",
      "  PDBConstructionWarning)\n",
      "/Users/jinli/anaconda3/lib/python3.6/site-packages/Bio/PDB/StructureBuilder.py:91: PDBConstructionWarning: WARNING: Chain K is discontinuous at line 5111.\n",
      "  PDBConstructionWarning)\n",
      "/Users/jinli/anaconda3/lib/python3.6/site-packages/Bio/PDB/StructureBuilder.py:91: PDBConstructionWarning: WARNING: Chain A is discontinuous at line 10914.\n",
      "  PDBConstructionWarning)\n",
      "/Users/jinli/anaconda3/lib/python3.6/site-packages/Bio/PDB/StructureBuilder.py:91: PDBConstructionWarning: WARNING: Chain B is discontinuous at line 10950.\n",
      "  PDBConstructionWarning)\n",
      "/Users/jinli/anaconda3/lib/python3.6/site-packages/Bio/PDB/StructureBuilder.py:91: PDBConstructionWarning: WARNING: Chain A is discontinuous at line 10962.\n",
      "  PDBConstructionWarning)\n",
      "/Users/jinli/anaconda3/lib/python3.6/site-packages/Bio/PDB/StructureBuilder.py:91: PDBConstructionWarning: WARNING: Chain B is discontinuous at line 11768.\n",
      "  PDBConstructionWarning)\n",
      "/Users/jinli/anaconda3/lib/python3.6/site-packages/Bio/PDB/StructureBuilder.py:91: PDBConstructionWarning: WARNING: Chain A is discontinuous at line 5552.\n",
      "  PDBConstructionWarning)\n",
      "/Users/jinli/anaconda3/lib/python3.6/site-packages/Bio/PDB/StructureBuilder.py:91: PDBConstructionWarning: WARNING: Chain B is discontinuous at line 5888.\n",
      "  PDBConstructionWarning)\n"
     ]
    },
    {
     "name": "stdout",
     "output_type": "stream",
     "text": [
      "\tThis protein has more than 1 chain.\n",
      "PDB File:  1gxr.pdb\n",
      "\tThis protein has more than 1 chain.\n",
      "PDB File:  1gxy.pdb\n"
     ]
    },
    {
     "name": "stderr",
     "output_type": "stream",
     "text": [
      "/Users/jinli/anaconda3/lib/python3.6/site-packages/Bio/PDB/StructureBuilder.py:91: PDBConstructionWarning: WARNING: Chain A is discontinuous at line 4101.\n",
      "  PDBConstructionWarning)\n",
      "/Users/jinli/anaconda3/lib/python3.6/site-packages/Bio/PDB/StructureBuilder.py:91: PDBConstructionWarning: WARNING: Chain B is discontinuous at line 4107.\n",
      "  PDBConstructionWarning)\n",
      "/Users/jinli/anaconda3/lib/python3.6/site-packages/Bio/PDB/StructureBuilder.py:91: PDBConstructionWarning: WARNING: Chain A is discontinuous at line 4113.\n",
      "  PDBConstructionWarning)\n",
      "/Users/jinli/anaconda3/lib/python3.6/site-packages/Bio/PDB/StructureBuilder.py:91: PDBConstructionWarning: WARNING: Chain B is discontinuous at line 4368.\n",
      "  PDBConstructionWarning)\n",
      "/Users/jinli/anaconda3/lib/python3.6/site-packages/Bio/PDB/StructureBuilder.py:91: PDBConstructionWarning: WARNING: Chain A is discontinuous at line 4367.\n",
      "  PDBConstructionWarning)\n",
      "/Users/jinli/anaconda3/lib/python3.6/site-packages/Bio/PDB/StructureBuilder.py:91: PDBConstructionWarning: WARNING: Chain B is discontinuous at line 4465.\n",
      "  PDBConstructionWarning)\n",
      "/Users/jinli/anaconda3/lib/python3.6/site-packages/Bio/PDB/StructureBuilder.py:91: PDBConstructionWarning: WARNING: Chain C is discontinuous at line 4556.\n",
      "  PDBConstructionWarning)\n",
      "/Users/jinli/anaconda3/lib/python3.6/site-packages/Bio/PDB/StructureBuilder.py:91: PDBConstructionWarning: WARNING: Chain D is discontinuous at line 4664.\n",
      "  PDBConstructionWarning)\n",
      "/Users/jinli/anaconda3/lib/python3.6/site-packages/Bio/PDB/StructureBuilder.py:91: PDBConstructionWarning: WARNING: Chain A is discontinuous at line 1667.\n",
      "  PDBConstructionWarning)\n",
      "/Users/jinli/anaconda3/lib/python3.6/site-packages/Bio/PDB/StructureBuilder.py:91: PDBConstructionWarning: WARNING: Chain B is discontinuous at line 1676.\n",
      "  PDBConstructionWarning)\n",
      "/Users/jinli/anaconda3/lib/python3.6/site-packages/Bio/PDB/StructureBuilder.py:91: PDBConstructionWarning: WARNING: Chain A is discontinuous at line 1691.\n",
      "  PDBConstructionWarning)\n",
      "/Users/jinli/anaconda3/lib/python3.6/site-packages/Bio/PDB/StructureBuilder.py:91: PDBConstructionWarning: WARNING: Chain B is discontinuous at line 1841.\n",
      "  PDBConstructionWarning)\n"
     ]
    },
    {
     "name": "stdout",
     "output_type": "stream",
     "text": [
      "\tThis protein has more than 1 chain.\n",
      "PDB File:  1gy7.pdb\n",
      "\tThis protein has more than 1 chain.\n",
      "PDB File:  1gyx.pdb\n",
      "\tThis protein has more than 1 chain.\n",
      "PDB File:  1gzs.pdb\n"
     ]
    },
    {
     "name": "stderr",
     "output_type": "stream",
     "text": [
      "/Users/jinli/anaconda3/lib/python3.6/site-packages/Bio/PDB/StructureBuilder.py:91: PDBConstructionWarning: WARNING: Chain A is discontinuous at line 5858.\n",
      "  PDBConstructionWarning)\n",
      "/Users/jinli/anaconda3/lib/python3.6/site-packages/Bio/PDB/StructureBuilder.py:91: PDBConstructionWarning: WARNING: Chain C is discontinuous at line 5878.\n",
      "  PDBConstructionWarning)\n",
      "/Users/jinli/anaconda3/lib/python3.6/site-packages/Bio/PDB/StructureBuilder.py:91: PDBConstructionWarning: WARNING: Chain A is discontinuous at line 5888.\n",
      "  PDBConstructionWarning)\n",
      "/Users/jinli/anaconda3/lib/python3.6/site-packages/Bio/PDB/StructureBuilder.py:91: PDBConstructionWarning: WARNING: Chain B is discontinuous at line 5926.\n",
      "  PDBConstructionWarning)\n",
      "/Users/jinli/anaconda3/lib/python3.6/site-packages/Bio/PDB/StructureBuilder.py:91: PDBConstructionWarning: WARNING: Chain C is discontinuous at line 5971.\n",
      "  PDBConstructionWarning)\n",
      "/Users/jinli/anaconda3/lib/python3.6/site-packages/Bio/PDB/StructureBuilder.py:91: PDBConstructionWarning: WARNING: Chain D is discontinuous at line 6007.\n",
      "  PDBConstructionWarning)\n"
     ]
    },
    {
     "name": "stdout",
     "output_type": "stream",
     "text": [
      "\tThis protein has more than 1 chain.\n",
      "PDB File:  1h0h.pdb\n"
     ]
    },
    {
     "name": "stderr",
     "output_type": "stream",
     "text": [
      "/Users/jinli/anaconda3/lib/python3.6/site-packages/Bio/PDB/StructureBuilder.py:91: PDBConstructionWarning: WARNING: Chain A is discontinuous at line 20688.\n",
      "  PDBConstructionWarning)\n",
      "/Users/jinli/anaconda3/lib/python3.6/site-packages/Bio/PDB/Atom.py:189: PDBConstructionWarning: Used element 'U' for Atom (name=UNK) with given element 'X'\n",
      "  warnings.warn(msg, PDBConstructionWarning)\n",
      "/Users/jinli/anaconda3/lib/python3.6/site-packages/Bio/PDB/StructureBuilder.py:91: PDBConstructionWarning: WARNING: Chain B is discontinuous at line 20814.\n",
      "  PDBConstructionWarning)\n",
      "/Users/jinli/anaconda3/lib/python3.6/site-packages/Bio/PDB/StructureBuilder.py:91: PDBConstructionWarning: WARNING: Chain K is discontinuous at line 20838.\n",
      "  PDBConstructionWarning)\n",
      "/Users/jinli/anaconda3/lib/python3.6/site-packages/Bio/PDB/StructureBuilder.py:91: PDBConstructionWarning: WARNING: Chain L is discontinuous at line 20964.\n",
      "  PDBConstructionWarning)\n",
      "/Users/jinli/anaconda3/lib/python3.6/site-packages/Bio/PDB/StructureBuilder.py:91: PDBConstructionWarning: WARNING: Chain A is discontinuous at line 20988.\n",
      "  PDBConstructionWarning)\n",
      "/Users/jinli/anaconda3/lib/python3.6/site-packages/Bio/PDB/StructureBuilder.py:91: PDBConstructionWarning: WARNING: Chain B is discontinuous at line 21692.\n",
      "  PDBConstructionWarning)\n",
      "/Users/jinli/anaconda3/lib/python3.6/site-packages/Bio/PDB/StructureBuilder.py:91: PDBConstructionWarning: WARNING: Chain K is discontinuous at line 21880.\n",
      "  PDBConstructionWarning)\n",
      "/Users/jinli/anaconda3/lib/python3.6/site-packages/Bio/PDB/StructureBuilder.py:91: PDBConstructionWarning: WARNING: Chain L is discontinuous at line 22503.\n",
      "  PDBConstructionWarning)\n"
     ]
    },
    {
     "name": "stdout",
     "output_type": "stream",
     "text": [
      "\tThis protein has more than 1 chain.\n",
      "PDB File:  1h12.pdb\n",
      "PDB File:  1h16.pdb\n",
      "PDB File:  1h21.pdb\n"
     ]
    },
    {
     "name": "stderr",
     "output_type": "stream",
     "text": [
      "/Users/jinli/anaconda3/lib/python3.6/site-packages/Bio/PDB/StructureBuilder.py:91: PDBConstructionWarning: WARNING: Chain A is discontinuous at line 8171.\n",
      "  PDBConstructionWarning)\n",
      "/Users/jinli/anaconda3/lib/python3.6/site-packages/Bio/PDB/StructureBuilder.py:91: PDBConstructionWarning: WARNING: Chain B is discontinuous at line 8257.\n",
      "  PDBConstructionWarning)\n",
      "/Users/jinli/anaconda3/lib/python3.6/site-packages/Bio/PDB/StructureBuilder.py:91: PDBConstructionWarning: WARNING: Chain C is discontinuous at line 8343.\n",
      "  PDBConstructionWarning)\n",
      "/Users/jinli/anaconda3/lib/python3.6/site-packages/Bio/PDB/StructureBuilder.py:91: PDBConstructionWarning: WARNING: Chain D is discontinuous at line 8386.\n",
      "  PDBConstructionWarning)\n",
      "/Users/jinli/anaconda3/lib/python3.6/site-packages/Bio/PDB/StructureBuilder.py:91: PDBConstructionWarning: WARNING: Chain A is discontinuous at line 8515.\n",
      "  PDBConstructionWarning)\n",
      "/Users/jinli/anaconda3/lib/python3.6/site-packages/Bio/PDB/StructureBuilder.py:91: PDBConstructionWarning: WARNING: Chain B is discontinuous at line 8553.\n",
      "  PDBConstructionWarning)\n",
      "/Users/jinli/anaconda3/lib/python3.6/site-packages/Bio/PDB/StructureBuilder.py:91: PDBConstructionWarning: WARNING: Chain C is discontinuous at line 8599.\n",
      "  PDBConstructionWarning)\n",
      "/Users/jinli/anaconda3/lib/python3.6/site-packages/Bio/PDB/StructureBuilder.py:91: PDBConstructionWarning: WARNING: Chain D is discontinuous at line 8650.\n",
      "  PDBConstructionWarning)\n",
      "/Users/jinli/anaconda3/lib/python3.6/site-packages/Bio/PDB/StructureBuilder.py:91: PDBConstructionWarning: WARNING: Chain A is discontinuous at line 5958.\n",
      "  PDBConstructionWarning)\n",
      "/Users/jinli/anaconda3/lib/python3.6/site-packages/Bio/PDB/StructureBuilder.py:91: PDBConstructionWarning: WARNING: Chain B is discontinuous at line 6015.\n",
      "  PDBConstructionWarning)\n",
      "/Users/jinli/anaconda3/lib/python3.6/site-packages/Bio/PDB/StructureBuilder.py:91: PDBConstructionWarning: WARNING: Chain A is discontinuous at line 6071.\n",
      "  PDBConstructionWarning)\n",
      "/Users/jinli/anaconda3/lib/python3.6/site-packages/Bio/PDB/StructureBuilder.py:91: PDBConstructionWarning: WARNING: Chain B is discontinuous at line 6382.\n",
      "  PDBConstructionWarning)\n",
      "/Users/jinli/anaconda3/lib/python3.6/site-packages/Bio/PDB/StructureBuilder.py:91: PDBConstructionWarning: WARNING: Chain A is discontinuous at line 1446.\n",
      "  PDBConstructionWarning)\n",
      "/Users/jinli/anaconda3/lib/python3.6/site-packages/Bio/PDB/StructureBuilder.py:91: PDBConstructionWarning: WARNING: Chain R is discontinuous at line 1597.\n",
      "  PDBConstructionWarning)\n"
     ]
    },
    {
     "name": "stdout",
     "output_type": "stream",
     "text": [
      "\tThis protein has more than 1 chain.\n",
      "PDB File:  1h2b.pdb\n",
      "\tThis protein has more than 1 chain.\n",
      "PDB File:  1h2c.pdb\n",
      "\tThis protein has more than 1 chain.\n",
      "PDB File:  1h2k.pdb\n"
     ]
    },
    {
     "name": "stderr",
     "output_type": "stream",
     "text": [
      "/Users/jinli/anaconda3/lib/python3.6/site-packages/Bio/PDB/StructureBuilder.py:91: PDBConstructionWarning: WARNING: Chain A is discontinuous at line 3469.\n",
      "  PDBConstructionWarning)\n",
      "/Users/jinli/anaconda3/lib/python3.6/site-packages/Bio/PDB/StructureBuilder.py:91: PDBConstructionWarning: WARNING: Chain S is discontinuous at line 3669.\n",
      "  PDBConstructionWarning)\n"
     ]
    },
    {
     "name": "stdout",
     "output_type": "stream",
     "text": [
      "\tThis protein has more than 1 chain.\n",
      "PDB File:  1h30.pdb\n",
      "PDB File:  1h32.pdb\n",
      "\tThis protein has more than 1 chain.\n",
      "PDB File:  1h3o.pdb\n",
      "\tThis protein has more than 1 chain.\n",
      "PDB File:  1h4a.pdb\n"
     ]
    },
    {
     "name": "stderr",
     "output_type": "stream",
     "text": [
      "/Users/jinli/anaconda3/lib/python3.6/site-packages/Bio/PDB/StructureBuilder.py:91: PDBConstructionWarning: WARNING: Chain A is discontinuous at line 3558.\n",
      "  PDBConstructionWarning)\n",
      "/Users/jinli/anaconda3/lib/python3.6/site-packages/Bio/PDB/StructureBuilder.py:91: PDBConstructionWarning: WARNING: Chain B is discontinuous at line 3648.\n",
      "  PDBConstructionWarning)\n",
      "/Users/jinli/anaconda3/lib/python3.6/site-packages/Bio/PDB/StructureBuilder.py:91: PDBConstructionWarning: WARNING: Chain A is discontinuous at line 3695.\n",
      "  PDBConstructionWarning)\n",
      "/Users/jinli/anaconda3/lib/python3.6/site-packages/Bio/PDB/StructureBuilder.py:91: PDBConstructionWarning: WARNING: Chain B is discontinuous at line 4153.\n",
      "  PDBConstructionWarning)\n",
      "/Users/jinli/anaconda3/lib/python3.6/site-packages/Bio/PDB/StructureBuilder.py:91: PDBConstructionWarning: WARNING: Chain A is discontinuous at line 2541.\n",
      "  PDBConstructionWarning)\n",
      "/Users/jinli/anaconda3/lib/python3.6/site-packages/Bio/PDB/StructureBuilder.py:91: PDBConstructionWarning: WARNING: Chain B is discontinuous at line 2573.\n",
      "  PDBConstructionWarning)\n",
      "/Users/jinli/anaconda3/lib/python3.6/site-packages/Bio/PDB/StructureBuilder.py:91: PDBConstructionWarning: WARNING: Chain C is discontinuous at line 2629.\n",
      "  PDBConstructionWarning)\n",
      "/Users/jinli/anaconda3/lib/python3.6/site-packages/Bio/PDB/StructureBuilder.py:91: PDBConstructionWarning: WARNING: Chain D is discontinuous at line 2659.\n",
      "  PDBConstructionWarning)\n"
     ]
    },
    {
     "name": "stdout",
     "output_type": "stream",
     "text": [
      "PDB File:  1h4x.pdb\n",
      "\tThis protein has more than 1 chain.\n",
      "PDB File:  1h5w.pdb\n",
      "\tThis protein has more than 1 chain.\n",
      "PDB File:  1h6d.pdb\n"
     ]
    },
    {
     "name": "stderr",
     "output_type": "stream",
     "text": [
      "/Users/jinli/anaconda3/lib/python3.6/site-packages/Bio/PDB/StructureBuilder.py:91: PDBConstructionWarning: WARNING: Chain A is discontinuous at line 2370.\n",
      "  PDBConstructionWarning)\n",
      "/Users/jinli/anaconda3/lib/python3.6/site-packages/Bio/PDB/StructureBuilder.py:91: PDBConstructionWarning: WARNING: Chain B is discontinuous at line 2378.\n",
      "  PDBConstructionWarning)\n",
      "/Users/jinli/anaconda3/lib/python3.6/site-packages/Bio/PDB/StructureBuilder.py:91: PDBConstructionWarning: WARNING: Chain A is discontinuous at line 2386.\n",
      "  PDBConstructionWarning)\n",
      "/Users/jinli/anaconda3/lib/python3.6/site-packages/Bio/PDB/StructureBuilder.py:91: PDBConstructionWarning: WARNING: Chain B is discontinuous at line 2595.\n",
      "  PDBConstructionWarning)\n",
      "/Users/jinli/anaconda3/lib/python3.6/site-packages/Bio/PDB/StructureBuilder.py:91: PDBConstructionWarning: WARNING: Chain A is discontinuous at line 7025.\n",
      "  PDBConstructionWarning)\n",
      "/Users/jinli/anaconda3/lib/python3.6/site-packages/Bio/PDB/StructureBuilder.py:91: PDBConstructionWarning: WARNING: Chain B is discontinuous at line 7033.\n",
      "  PDBConstructionWarning)\n",
      "/Users/jinli/anaconda3/lib/python3.6/site-packages/Bio/PDB/StructureBuilder.py:91: PDBConstructionWarning: WARNING: Chain C is discontinuous at line 7041.\n",
      "  PDBConstructionWarning)\n",
      "/Users/jinli/anaconda3/lib/python3.6/site-packages/Bio/PDB/StructureBuilder.py:91: PDBConstructionWarning: WARNING: Chain A is discontinuous at line 7057.\n",
      "  PDBConstructionWarning)\n",
      "/Users/jinli/anaconda3/lib/python3.6/site-packages/Bio/PDB/StructureBuilder.py:91: PDBConstructionWarning: WARNING: Chain B is discontinuous at line 7221.\n",
      "  PDBConstructionWarning)\n",
      "/Users/jinli/anaconda3/lib/python3.6/site-packages/Bio/PDB/StructureBuilder.py:91: PDBConstructionWarning: WARNING: Chain C is discontinuous at line 7396.\n",
      "  PDBConstructionWarning)\n",
      "/Users/jinli/anaconda3/lib/python3.6/site-packages/Bio/PDB/StructureBuilder.py:91: PDBConstructionWarning: WARNING: Chain A is discontinuous at line 37701.\n",
      "  PDBConstructionWarning)\n",
      "/Users/jinli/anaconda3/lib/python3.6/site-packages/Bio/PDB/StructureBuilder.py:91: PDBConstructionWarning: WARNING: Chain B is discontinuous at line 37756.\n",
      "  PDBConstructionWarning)\n",
      "/Users/jinli/anaconda3/lib/python3.6/site-packages/Bio/PDB/StructureBuilder.py:91: PDBConstructionWarning: WARNING: Chain C is discontinuous at line 37811.\n",
      "  PDBConstructionWarning)\n",
      "/Users/jinli/anaconda3/lib/python3.6/site-packages/Bio/PDB/StructureBuilder.py:91: PDBConstructionWarning: WARNING: Chain D is discontinuous at line 37866.\n",
      "  PDBConstructionWarning)\n",
      "/Users/jinli/anaconda3/lib/python3.6/site-packages/Bio/PDB/StructureBuilder.py:91: PDBConstructionWarning: WARNING: Chain E is discontinuous at line 37921.\n",
      "  PDBConstructionWarning)\n",
      "/Users/jinli/anaconda3/lib/python3.6/site-packages/Bio/PDB/StructureBuilder.py:91: PDBConstructionWarning: WARNING: Chain F is discontinuous at line 37976.\n",
      "  PDBConstructionWarning)\n",
      "/Users/jinli/anaconda3/lib/python3.6/site-packages/Bio/PDB/StructureBuilder.py:91: PDBConstructionWarning: WARNING: Chain G is discontinuous at line 38031.\n",
      "  PDBConstructionWarning)\n",
      "/Users/jinli/anaconda3/lib/python3.6/site-packages/Bio/PDB/StructureBuilder.py:91: PDBConstructionWarning: WARNING: Chain H is discontinuous at line 38086.\n",
      "  PDBConstructionWarning)\n",
      "/Users/jinli/anaconda3/lib/python3.6/site-packages/Bio/PDB/StructureBuilder.py:91: PDBConstructionWarning: WARNING: Chain I is discontinuous at line 38141.\n",
      "  PDBConstructionWarning)\n",
      "/Users/jinli/anaconda3/lib/python3.6/site-packages/Bio/PDB/StructureBuilder.py:91: PDBConstructionWarning: WARNING: Chain J is discontinuous at line 38196.\n",
      "  PDBConstructionWarning)\n",
      "/Users/jinli/anaconda3/lib/python3.6/site-packages/Bio/PDB/StructureBuilder.py:91: PDBConstructionWarning: WARNING: Chain K is discontinuous at line 38251.\n",
      "  PDBConstructionWarning)\n",
      "/Users/jinli/anaconda3/lib/python3.6/site-packages/Bio/PDB/StructureBuilder.py:91: PDBConstructionWarning: WARNING: Chain L is discontinuous at line 38306.\n",
      "  PDBConstructionWarning)\n",
      "/Users/jinli/anaconda3/lib/python3.6/site-packages/Bio/PDB/StructureBuilder.py:91: PDBConstructionWarning: WARNING: Chain A is discontinuous at line 38361.\n",
      "  PDBConstructionWarning)\n",
      "/Users/jinli/anaconda3/lib/python3.6/site-packages/Bio/PDB/StructureBuilder.py:91: PDBConstructionWarning: WARNING: Chain B is discontinuous at line 38751.\n",
      "  PDBConstructionWarning)\n",
      "/Users/jinli/anaconda3/lib/python3.6/site-packages/Bio/PDB/StructureBuilder.py:91: PDBConstructionWarning: WARNING: Chain C is discontinuous at line 39046.\n",
      "  PDBConstructionWarning)\n",
      "/Users/jinli/anaconda3/lib/python3.6/site-packages/Bio/PDB/StructureBuilder.py:91: PDBConstructionWarning: WARNING: Chain D is discontinuous at line 39366.\n",
      "  PDBConstructionWarning)\n",
      "/Users/jinli/anaconda3/lib/python3.6/site-packages/Bio/PDB/StructureBuilder.py:91: PDBConstructionWarning: WARNING: Chain E is discontinuous at line 39579.\n",
      "  PDBConstructionWarning)\n",
      "/Users/jinli/anaconda3/lib/python3.6/site-packages/Bio/PDB/StructureBuilder.py:91: PDBConstructionWarning: WARNING: Chain F is discontinuous at line 39920.\n",
      "  PDBConstructionWarning)\n",
      "/Users/jinli/anaconda3/lib/python3.6/site-packages/Bio/PDB/StructureBuilder.py:91: PDBConstructionWarning: WARNING: Chain G is discontinuous at line 40139.\n",
      "  PDBConstructionWarning)\n",
      "/Users/jinli/anaconda3/lib/python3.6/site-packages/Bio/PDB/StructureBuilder.py:91: PDBConstructionWarning: WARNING: Chain H is discontinuous at line 40510.\n",
      "  PDBConstructionWarning)\n",
      "/Users/jinli/anaconda3/lib/python3.6/site-packages/Bio/PDB/StructureBuilder.py:91: PDBConstructionWarning: WARNING: Chain I is discontinuous at line 40799.\n",
      "  PDBConstructionWarning)\n",
      "/Users/jinli/anaconda3/lib/python3.6/site-packages/Bio/PDB/StructureBuilder.py:91: PDBConstructionWarning: WARNING: Chain J is discontinuous at line 41190.\n",
      "  PDBConstructionWarning)\n",
      "/Users/jinli/anaconda3/lib/python3.6/site-packages/Bio/PDB/StructureBuilder.py:91: PDBConstructionWarning: WARNING: Chain K is discontinuous at line 41567.\n",
      "  PDBConstructionWarning)\n",
      "/Users/jinli/anaconda3/lib/python3.6/site-packages/Bio/PDB/StructureBuilder.py:91: PDBConstructionWarning: WARNING: Chain L is discontinuous at line 41953.\n",
      "  PDBConstructionWarning)\n"
     ]
    },
    {
     "name": "stdout",
     "output_type": "stream",
     "text": [
      "\tThis protein has more than 1 chain.\n",
      "PDB File:  1h6f.pdb\n",
      "\tThis protein has more than 1 chain.\n",
      "PDB File:  1h6g.pdb\n",
      "\tThis protein has more than 1 chain.\n",
      "PDB File:  1h6h.pdb\n"
     ]
    },
    {
     "name": "stderr",
     "output_type": "stream",
     "text": [
      "/Users/jinli/anaconda3/lib/python3.6/site-packages/Bio/PDB/StructureBuilder.py:91: PDBConstructionWarning: WARNING: Chain A is discontinuous at line 4598.\n",
      "  PDBConstructionWarning)\n",
      "/Users/jinli/anaconda3/lib/python3.6/site-packages/Bio/PDB/StructureBuilder.py:91: PDBConstructionWarning: WARNING: Chain B is discontinuous at line 4813.\n",
      "  PDBConstructionWarning)\n",
      "/Users/jinli/anaconda3/lib/python3.6/site-packages/Bio/PDB/StructureBuilder.py:91: PDBConstructionWarning: WARNING: Chain C is discontinuous at line 5001.\n",
      "  PDBConstructionWarning)\n",
      "/Users/jinli/anaconda3/lib/python3.6/site-packages/Bio/PDB/StructureBuilder.py:91: PDBConstructionWarning: WARNING: Chain D is discontinuous at line 5095.\n",
      "  PDBConstructionWarning)\n",
      "/Users/jinli/anaconda3/lib/python3.6/site-packages/Bio/PDB/StructureBuilder.py:91: PDBConstructionWarning: WARNING: Chain A is discontinuous at line 4304.\n",
      "  PDBConstructionWarning)\n",
      "/Users/jinli/anaconda3/lib/python3.6/site-packages/Bio/PDB/StructureBuilder.py:91: PDBConstructionWarning: WARNING: Chain B is discontinuous at line 4314.\n",
      "  PDBConstructionWarning)\n",
      "/Users/jinli/anaconda3/lib/python3.6/site-packages/Bio/PDB/StructureBuilder.py:91: PDBConstructionWarning: WARNING: Chain A is discontinuous at line 4315.\n",
      "  PDBConstructionWarning)\n",
      "/Users/jinli/anaconda3/lib/python3.6/site-packages/Bio/PDB/StructureBuilder.py:91: PDBConstructionWarning: WARNING: Chain B is discontinuous at line 4499.\n",
      "  PDBConstructionWarning)\n"
     ]
    },
    {
     "name": "stdout",
     "output_type": "stream",
     "text": [
      "PDB File:  1h6k.pdb\n"
     ]
    },
    {
     "name": "stderr",
     "output_type": "stream",
     "text": [
      "/Users/jinli/anaconda3/lib/python3.6/site-packages/Bio/PDB/StructureBuilder.py:91: PDBConstructionWarning: WARNING: Chain A is discontinuous at line 20792.\n",
      "  PDBConstructionWarning)\n",
      "/Users/jinli/anaconda3/lib/python3.6/site-packages/Bio/PDB/StructureBuilder.py:91: PDBConstructionWarning: WARNING: Chain B is discontinuous at line 21319.\n",
      "  PDBConstructionWarning)\n",
      "/Users/jinli/anaconda3/lib/python3.6/site-packages/Bio/PDB/StructureBuilder.py:91: PDBConstructionWarning: WARNING: Chain C is discontinuous at line 21854.\n",
      "  PDBConstructionWarning)\n",
      "/Users/jinli/anaconda3/lib/python3.6/site-packages/Bio/PDB/StructureBuilder.py:91: PDBConstructionWarning: WARNING: Chain X is discontinuous at line 22289.\n",
      "  PDBConstructionWarning)\n",
      "/Users/jinli/anaconda3/lib/python3.6/site-packages/Bio/PDB/StructureBuilder.py:91: PDBConstructionWarning: WARNING: Chain Y is discontinuous at line 22368.\n",
      "  PDBConstructionWarning)\n",
      "/Users/jinli/anaconda3/lib/python3.6/site-packages/Bio/PDB/StructureBuilder.py:91: PDBConstructionWarning: WARNING: Chain Z is discontinuous at line 22431.\n",
      "  PDBConstructionWarning)\n",
      "/Users/jinli/anaconda3/lib/python3.6/site-packages/Bio/PDB/StructureBuilder.py:91: PDBConstructionWarning: WARNING: Chain A is discontinuous at line 2973.\n",
      "  PDBConstructionWarning)\n",
      "/Users/jinli/anaconda3/lib/python3.6/site-packages/Bio/PDB/StructureBuilder.py:91: PDBConstructionWarning: WARNING: Chain B is discontinuous at line 2974.\n",
      "  PDBConstructionWarning)\n",
      "/Users/jinli/anaconda3/lib/python3.6/site-packages/Bio/PDB/StructureBuilder.py:91: PDBConstructionWarning: WARNING: Chain A is discontinuous at line 2975.\n",
      "  PDBConstructionWarning)\n",
      "/Users/jinli/anaconda3/lib/python3.6/site-packages/Bio/PDB/StructureBuilder.py:91: PDBConstructionWarning: WARNING: Chain B is discontinuous at line 3113.\n",
      "  PDBConstructionWarning)\n"
     ]
    },
    {
     "name": "stdout",
     "output_type": "stream",
     "text": [
      "\tThis protein has more than 1 chain.\n",
      "PDB File:  1h6y.pdb\n",
      "\tThis protein has more than 1 chain.\n",
      "PDB File:  1h72.pdb\n",
      "PDB File:  1h80.pdb\n",
      "\tThis protein has more than 1 chain.\n",
      "PDB File:  1h8p.pdb\n",
      "\tThis protein has more than 1 chain.\n",
      "PDB File:  1h97.pdb\n"
     ]
    },
    {
     "name": "stderr",
     "output_type": "stream",
     "text": [
      "/Users/jinli/anaconda3/lib/python3.6/site-packages/Bio/PDB/StructureBuilder.py:91: PDBConstructionWarning: WARNING: Chain A is discontinuous at line 7848.\n",
      "  PDBConstructionWarning)\n",
      "/Users/jinli/anaconda3/lib/python3.6/site-packages/Bio/PDB/StructureBuilder.py:91: PDBConstructionWarning: WARNING: Chain B is discontinuous at line 7873.\n",
      "  PDBConstructionWarning)\n",
      "/Users/jinli/anaconda3/lib/python3.6/site-packages/Bio/PDB/StructureBuilder.py:91: PDBConstructionWarning: WARNING: Chain A is discontinuous at line 7898.\n",
      "  PDBConstructionWarning)\n",
      "/Users/jinli/anaconda3/lib/python3.6/site-packages/Bio/PDB/StructureBuilder.py:91: PDBConstructionWarning: WARNING: Chain B is discontinuous at line 8429.\n",
      "  PDBConstructionWarning)\n",
      "/Users/jinli/anaconda3/lib/python3.6/site-packages/Bio/PDB/StructureBuilder.py:91: PDBConstructionWarning: WARNING: Chain A is discontinuous at line 1945.\n",
      "  PDBConstructionWarning)\n",
      "/Users/jinli/anaconda3/lib/python3.6/site-packages/Bio/PDB/StructureBuilder.py:91: PDBConstructionWarning: WARNING: Chain B is discontinuous at line 1967.\n",
      "  PDBConstructionWarning)\n",
      "/Users/jinli/anaconda3/lib/python3.6/site-packages/Bio/PDB/StructureBuilder.py:91: PDBConstructionWarning: WARNING: Chain A is discontinuous at line 1989.\n",
      "  PDBConstructionWarning)\n",
      "/Users/jinli/anaconda3/lib/python3.6/site-packages/Bio/PDB/StructureBuilder.py:91: PDBConstructionWarning: WARNING: Chain B is discontinuous at line 2089.\n",
      "  PDBConstructionWarning)\n",
      "/Users/jinli/anaconda3/lib/python3.6/site-packages/Bio/PDB/StructureBuilder.py:91: PDBConstructionWarning: WARNING: Chain A is discontinuous at line 5184.\n",
      "  PDBConstructionWarning)\n",
      "/Users/jinli/anaconda3/lib/python3.6/site-packages/Bio/PDB/StructureBuilder.py:91: PDBConstructionWarning: WARNING: Chain B is discontinuous at line 5280.\n",
      "  PDBConstructionWarning)\n",
      "/Users/jinli/anaconda3/lib/python3.6/site-packages/Bio/PDB/StructureBuilder.py:91: PDBConstructionWarning: WARNING: Chain A is discontinuous at line 5396.\n",
      "  PDBConstructionWarning)\n",
      "/Users/jinli/anaconda3/lib/python3.6/site-packages/Bio/PDB/StructureBuilder.py:91: PDBConstructionWarning: WARNING: Chain B is discontinuous at line 5752.\n",
      "  PDBConstructionWarning)\n"
     ]
    },
    {
     "name": "stdout",
     "output_type": "stream",
     "text": [
      "\tThis protein has more than 1 chain.\n",
      "PDB File:  1h99.pdb\n",
      "PDB File:  1hcu.pdb\n"
     ]
    },
    {
     "name": "stderr",
     "output_type": "stream",
     "text": [
      "/Users/jinli/anaconda3/lib/python3.6/site-packages/Bio/PDB/StructureBuilder.py:91: PDBConstructionWarning: WARNING: Chain A is discontinuous at line 15814.\n",
      "  PDBConstructionWarning)\n",
      "/Users/jinli/anaconda3/lib/python3.6/site-packages/Bio/PDB/StructureBuilder.py:91: PDBConstructionWarning: WARNING: Chain B is discontinuous at line 15857.\n",
      "  PDBConstructionWarning)\n",
      "/Users/jinli/anaconda3/lib/python3.6/site-packages/Bio/PDB/StructureBuilder.py:91: PDBConstructionWarning: WARNING: Chain C is discontinuous at line 15900.\n",
      "  PDBConstructionWarning)\n",
      "/Users/jinli/anaconda3/lib/python3.6/site-packages/Bio/PDB/StructureBuilder.py:91: PDBConstructionWarning: WARNING: Chain D is discontinuous at line 15929.\n",
      "  PDBConstructionWarning)\n",
      "/Users/jinli/anaconda3/lib/python3.6/site-packages/Bio/PDB/StructureBuilder.py:91: PDBConstructionWarning: WARNING: Chain A is discontinuous at line 15958.\n",
      "  PDBConstructionWarning)\n",
      "/Users/jinli/anaconda3/lib/python3.6/site-packages/Bio/PDB/StructureBuilder.py:91: PDBConstructionWarning: WARNING: Chain B is discontinuous at line 16273.\n",
      "  PDBConstructionWarning)\n",
      "/Users/jinli/anaconda3/lib/python3.6/site-packages/Bio/PDB/StructureBuilder.py:91: PDBConstructionWarning: WARNING: Chain C is discontinuous at line 16584.\n",
      "  PDBConstructionWarning)\n",
      "/Users/jinli/anaconda3/lib/python3.6/site-packages/Bio/PDB/StructureBuilder.py:91: PDBConstructionWarning: WARNING: Chain D is discontinuous at line 16854.\n",
      "  PDBConstructionWarning)\n",
      "/Users/jinli/anaconda3/lib/python3.6/site-packages/Bio/PDB/StructureBuilder.py:91: PDBConstructionWarning: WARNING: Chain A is discontinuous at line 8920.\n",
      "  PDBConstructionWarning)\n",
      "/Users/jinli/anaconda3/lib/python3.6/site-packages/Bio/PDB/StructureBuilder.py:91: PDBConstructionWarning: WARNING: Chain B is discontinuous at line 8941.\n",
      "  PDBConstructionWarning)\n",
      "/Users/jinli/anaconda3/lib/python3.6/site-packages/Bio/PDB/StructureBuilder.py:91: PDBConstructionWarning: WARNING: Chain A is discontinuous at line 8962.\n",
      "  PDBConstructionWarning)\n",
      "/Users/jinli/anaconda3/lib/python3.6/site-packages/Bio/PDB/StructureBuilder.py:91: PDBConstructionWarning: WARNING: Chain B is discontinuous at line 9374.\n",
      "  PDBConstructionWarning)\n"
     ]
    },
    {
     "name": "stdout",
     "output_type": "stream",
     "text": [
      "\tThis protein has more than 1 chain.\n",
      "PDB File:  1hdh.pdb\n",
      "\tThis protein has more than 1 chain.\n",
      "PDB File:  1hdo.pdb\n",
      "PDB File:  1he1.pdb\n",
      "\tThis protein has more than 1 chain.\n",
      "PDB File:  1hek.pdb\n",
      "\tThis protein has more than 1 chain.\n",
      "PDB File:  1hf2.pdb\n"
     ]
    },
    {
     "name": "stderr",
     "output_type": "stream",
     "text": [
      "/Users/jinli/anaconda3/lib/python3.6/site-packages/Bio/PDB/StructureBuilder.py:91: PDBConstructionWarning: WARNING: Chain A is discontinuous at line 5432.\n",
      "  PDBConstructionWarning)\n",
      "/Users/jinli/anaconda3/lib/python3.6/site-packages/Bio/PDB/StructureBuilder.py:91: PDBConstructionWarning: WARNING: Chain C is discontinuous at line 5433.\n",
      "  PDBConstructionWarning)\n",
      "/Users/jinli/anaconda3/lib/python3.6/site-packages/Bio/PDB/StructureBuilder.py:91: PDBConstructionWarning: WARNING: Chain D is discontinuous at line 5469.\n",
      "  PDBConstructionWarning)\n",
      "/Users/jinli/anaconda3/lib/python3.6/site-packages/Bio/PDB/StructureBuilder.py:91: PDBConstructionWarning: WARNING: Chain A is discontinuous at line 5503.\n",
      "  PDBConstructionWarning)\n",
      "/Users/jinli/anaconda3/lib/python3.6/site-packages/Bio/PDB/StructureBuilder.py:91: PDBConstructionWarning: WARNING: Chain B is discontinuous at line 5636.\n",
      "  PDBConstructionWarning)\n",
      "/Users/jinli/anaconda3/lib/python3.6/site-packages/Bio/PDB/StructureBuilder.py:91: PDBConstructionWarning: WARNING: Chain C is discontinuous at line 5761.\n",
      "  PDBConstructionWarning)\n",
      "/Users/jinli/anaconda3/lib/python3.6/site-packages/Bio/PDB/StructureBuilder.py:91: PDBConstructionWarning: WARNING: Chain D is discontinuous at line 5989.\n",
      "  PDBConstructionWarning)\n",
      "/Users/jinli/anaconda3/lib/python3.6/site-packages/Bio/PDB/StructureBuilder.py:91: PDBConstructionWarning: WARNING: Chain A is discontinuous at line 6594.\n",
      "  PDBConstructionWarning)\n",
      "/Users/jinli/anaconda3/lib/python3.6/site-packages/Bio/PDB/StructureBuilder.py:91: PDBConstructionWarning: WARNING: Chain B is discontinuous at line 6733.\n",
      "  PDBConstructionWarning)\n",
      "/Users/jinli/anaconda3/lib/python3.6/site-packages/Bio/PDB/StructureBuilder.py:91: PDBConstructionWarning: WARNING: Chain C is discontinuous at line 6935.\n",
      "  PDBConstructionWarning)\n",
      "/Users/jinli/anaconda3/lib/python3.6/site-packages/Bio/PDB/StructureBuilder.py:91: PDBConstructionWarning: WARNING: Chain D is discontinuous at line 7109.\n",
      "  PDBConstructionWarning)\n",
      "/Users/jinli/anaconda3/lib/python3.6/site-packages/Bio/PDB/StructureBuilder.py:91: PDBConstructionWarning: WARNING: Chain S is discontinuous at line 8998.\n",
      "  PDBConstructionWarning)\n",
      "/Users/jinli/anaconda3/lib/python3.6/site-packages/Bio/PDB/StructureBuilder.py:91: PDBConstructionWarning: WARNING: Chain L is discontinuous at line 8999.\n",
      "  PDBConstructionWarning)\n",
      "/Users/jinli/anaconda3/lib/python3.6/site-packages/Bio/PDB/StructureBuilder.py:91: PDBConstructionWarning: WARNING: Chain M is discontinuous at line 9045.\n",
      "  PDBConstructionWarning)\n",
      "/Users/jinli/anaconda3/lib/python3.6/site-packages/Bio/PDB/StructureBuilder.py:91: PDBConstructionWarning: WARNING: Chain S is discontinuous at line 9091.\n",
      "  PDBConstructionWarning)\n",
      "/Users/jinli/anaconda3/lib/python3.6/site-packages/Bio/PDB/StructureBuilder.py:91: PDBConstructionWarning: WARNING: Chain L is discontinuous at line 9245.\n",
      "  PDBConstructionWarning)\n",
      "/Users/jinli/anaconda3/lib/python3.6/site-packages/Bio/PDB/StructureBuilder.py:91: PDBConstructionWarning: WARNING: Chain T is discontinuous at line 9696.\n",
      "  PDBConstructionWarning)\n",
      "/Users/jinli/anaconda3/lib/python3.6/site-packages/Bio/PDB/StructureBuilder.py:91: PDBConstructionWarning: WARNING: Chain M is discontinuous at line 9858.\n",
      "  PDBConstructionWarning)\n"
     ]
    },
    {
     "name": "stdout",
     "output_type": "stream",
     "text": [
      "\tThis protein has more than 1 chain.\n",
      "PDB File:  1hfe.pdb\n",
      "\tThis protein has more than 1 chain.\n",
      "PDB File:  1hh8.pdb\n",
      "PDB File:  1hi9.pdb\n",
      "\tThis protein has more than 1 chain.\n",
      "PDB File:  1hj6.pdb\n"
     ]
    },
    {
     "name": "stderr",
     "output_type": "stream",
     "text": [
      "/Users/jinli/anaconda3/lib/python3.6/site-packages/Bio/PDB/StructureBuilder.py:91: PDBConstructionWarning: WARNING: Chain A is discontinuous at line 11436.\n",
      "  PDBConstructionWarning)\n",
      "/Users/jinli/anaconda3/lib/python3.6/site-packages/Bio/PDB/StructureBuilder.py:91: PDBConstructionWarning: WARNING: Chain B is discontinuous at line 11438.\n",
      "  PDBConstructionWarning)\n",
      "/Users/jinli/anaconda3/lib/python3.6/site-packages/Bio/PDB/StructureBuilder.py:91: PDBConstructionWarning: WARNING: Chain C is discontinuous at line 11440.\n",
      "  PDBConstructionWarning)\n",
      "/Users/jinli/anaconda3/lib/python3.6/site-packages/Bio/PDB/StructureBuilder.py:91: PDBConstructionWarning: WARNING: Chain D is discontinuous at line 11442.\n",
      "  PDBConstructionWarning)\n",
      "/Users/jinli/anaconda3/lib/python3.6/site-packages/Bio/PDB/StructureBuilder.py:91: PDBConstructionWarning: WARNING: Chain E is discontinuous at line 11444.\n",
      "  PDBConstructionWarning)\n",
      "/Users/jinli/anaconda3/lib/python3.6/site-packages/Bio/PDB/StructureBuilder.py:91: PDBConstructionWarning: WARNING: Chain A is discontinuous at line 11446.\n",
      "  PDBConstructionWarning)\n",
      "/Users/jinli/anaconda3/lib/python3.6/site-packages/Bio/PDB/StructureBuilder.py:91: PDBConstructionWarning: WARNING: Chain B is discontinuous at line 11505.\n",
      "  PDBConstructionWarning)\n",
      "/Users/jinli/anaconda3/lib/python3.6/site-packages/Bio/PDB/StructureBuilder.py:91: PDBConstructionWarning: WARNING: Chain C is discontinuous at line 11530.\n",
      "  PDBConstructionWarning)\n",
      "/Users/jinli/anaconda3/lib/python3.6/site-packages/Bio/PDB/StructureBuilder.py:91: PDBConstructionWarning: WARNING: Chain D is discontinuous at line 11567.\n",
      "  PDBConstructionWarning)\n",
      "/Users/jinli/anaconda3/lib/python3.6/site-packages/Bio/PDB/StructureBuilder.py:91: PDBConstructionWarning: WARNING: Chain E is discontinuous at line 11620.\n",
      "  PDBConstructionWarning)\n"
     ]
    },
    {
     "name": "stdout",
     "output_type": "stream",
     "text": [
      "PDB File:  1hk8.pdb\n",
      "PDB File:  1hkq.pdb\n",
      "\tThis protein has more than 1 chain.\n",
      "PDB File:  1hlb.pdb\n"
     ]
    },
    {
     "name": "stderr",
     "output_type": "stream",
     "text": [
      "/Users/jinli/anaconda3/lib/python3.6/site-packages/Bio/PDB/StructureBuilder.py:91: PDBConstructionWarning: WARNING: Chain A is discontinuous at line 2601.\n",
      "  PDBConstructionWarning)\n",
      "/Users/jinli/anaconda3/lib/python3.6/site-packages/Bio/PDB/StructureBuilder.py:91: PDBConstructionWarning: WARNING: Chain B is discontinuous at line 2619.\n",
      "  PDBConstructionWarning)\n",
      "/Users/jinli/anaconda3/lib/python3.6/site-packages/Bio/PDB/StructureBuilder.py:91: PDBConstructionWarning: WARNING: Chain A is discontinuous at line 2632.\n",
      "  PDBConstructionWarning)\n",
      "/Users/jinli/anaconda3/lib/python3.6/site-packages/Bio/PDB/StructureBuilder.py:91: PDBConstructionWarning: WARNING: Chain B is discontinuous at line 2652.\n",
      "  PDBConstructionWarning)\n"
     ]
    },
    {
     "name": "stdout",
     "output_type": "stream",
     "text": [
      "PDB File:  1hlv.pdb\n",
      "\tThis protein has more than 1 chain.\n",
      "PDB File:  1hn0.pdb\n"
     ]
    },
    {
     "name": "stderr",
     "output_type": "stream",
     "text": [
      "/Users/jinli/anaconda3/lib/python3.6/site-packages/Bio/PDB/StructureBuilder.py:91: PDBConstructionWarning: WARNING: Chain B is discontinuous at line 2280.\n",
      "  PDBConstructionWarning)\n",
      "/Users/jinli/anaconda3/lib/python3.6/site-packages/Bio/PDB/StructureBuilder.py:91: PDBConstructionWarning: WARNING: Chain C is discontinuous at line 2310.\n",
      "  PDBConstructionWarning)\n",
      "/Users/jinli/anaconda3/lib/python3.6/site-packages/Bio/PDB/StructureBuilder.py:91: PDBConstructionWarning: WARNING: Chain A is discontinuous at line 2334.\n",
      "  PDBConstructionWarning)\n"
     ]
    },
    {
     "name": "stdout",
     "output_type": "stream",
     "text": [
      "PDB File:  1ho8.pdb\n",
      "PDB File:  1hp1.pdb\n",
      "PDB File:  1hq0.pdb\n",
      "PDB File:  1hq1.pdb\n",
      "\tThis protein has more than 1 chain.\n",
      "PDB File:  1hqz.pdb\n"
     ]
    },
    {
     "name": "stderr",
     "output_type": "stream",
     "text": [
      "/Users/jinli/anaconda3/lib/python3.6/site-packages/Bio/PDB/StructureBuilder.py:91: PDBConstructionWarning: WARNING: Chain B is discontinuous at line 3893.\n",
      "  PDBConstructionWarning)\n",
      "/Users/jinli/anaconda3/lib/python3.6/site-packages/Bio/PDB/StructureBuilder.py:91: PDBConstructionWarning: WARNING: Chain A is discontinuous at line 4353.\n",
      "  PDBConstructionWarning)\n",
      "/Users/jinli/anaconda3/lib/python3.6/site-packages/Bio/PDB/StructureBuilder.py:91: PDBConstructionWarning: WARNING: Chain 1 is discontinuous at line 10355.\n",
      "  PDBConstructionWarning)\n",
      "/Users/jinli/anaconda3/lib/python3.6/site-packages/Bio/PDB/StructureBuilder.py:91: PDBConstructionWarning: WARNING: Chain 2 is discontinuous at line 10422.\n",
      "  PDBConstructionWarning)\n",
      "/Users/jinli/anaconda3/lib/python3.6/site-packages/Bio/PDB/StructureBuilder.py:91: PDBConstructionWarning: WARNING: Chain 3 is discontinuous at line 10477.\n",
      "  PDBConstructionWarning)\n",
      "/Users/jinli/anaconda3/lib/python3.6/site-packages/Bio/PDB/StructureBuilder.py:91: PDBConstructionWarning: WARNING: Chain 4 is discontinuous at line 10531.\n",
      "  PDBConstructionWarning)\n",
      "/Users/jinli/anaconda3/lib/python3.6/site-packages/Bio/PDB/StructureBuilder.py:91: PDBConstructionWarning: WARNING: Chain 5 is discontinuous at line 10603.\n",
      "  PDBConstructionWarning)\n",
      "/Users/jinli/anaconda3/lib/python3.6/site-packages/Bio/PDB/StructureBuilder.py:91: PDBConstructionWarning: WARNING: Chain 6 is discontinuous at line 10650.\n",
      "  PDBConstructionWarning)\n",
      "/Users/jinli/anaconda3/lib/python3.6/site-packages/Bio/PDB/StructureBuilder.py:91: PDBConstructionWarning: WARNING: Chain 7 is discontinuous at line 10695.\n",
      "  PDBConstructionWarning)\n",
      "/Users/jinli/anaconda3/lib/python3.6/site-packages/Bio/PDB/StructureBuilder.py:91: PDBConstructionWarning: WARNING: Chain 8 is discontinuous at line 10735.\n",
      "  PDBConstructionWarning)\n",
      "/Users/jinli/anaconda3/lib/python3.6/site-packages/Bio/PDB/StructureBuilder.py:91: PDBConstructionWarning: WARNING: Chain 9 is discontinuous at line 10810.\n",
      "  PDBConstructionWarning)\n"
     ]
    },
    {
     "name": "stdout",
     "output_type": "stream",
     "text": [
      "\tThis protein has more than 1 chain.\n",
      "PDB File:  1hr6.pdb\n"
     ]
    },
    {
     "name": "stderr",
     "output_type": "stream",
     "text": [
      "/Users/jinli/anaconda3/lib/python3.6/site-packages/Bio/PDB/StructureBuilder.py:91: PDBConstructionWarning: WARNING: Chain A is discontinuous at line 29084.\n",
      "  PDBConstructionWarning)\n",
      "/Users/jinli/anaconda3/lib/python3.6/site-packages/Bio/PDB/StructureBuilder.py:91: PDBConstructionWarning: WARNING: Chain B is discontinuous at line 29099.\n",
      "  PDBConstructionWarning)\n",
      "/Users/jinli/anaconda3/lib/python3.6/site-packages/Bio/PDB/StructureBuilder.py:91: PDBConstructionWarning: WARNING: Chain D is discontinuous at line 29100.\n",
      "  PDBConstructionWarning)\n",
      "/Users/jinli/anaconda3/lib/python3.6/site-packages/Bio/PDB/StructureBuilder.py:91: PDBConstructionWarning: WARNING: Chain F is discontinuous at line 29101.\n",
      "  PDBConstructionWarning)\n",
      "/Users/jinli/anaconda3/lib/python3.6/site-packages/Bio/PDB/StructureBuilder.py:91: PDBConstructionWarning: WARNING: Chain G is discontinuous at line 29102.\n",
      "  PDBConstructionWarning)\n",
      "/Users/jinli/anaconda3/lib/python3.6/site-packages/Bio/PDB/StructureBuilder.py:91: PDBConstructionWarning: WARNING: Chain H is discontinuous at line 29117.\n",
      "  PDBConstructionWarning)\n",
      "/Users/jinli/anaconda3/lib/python3.6/site-packages/Bio/PDB/StructureBuilder.py:91: PDBConstructionWarning: WARNING: Chain A is discontinuous at line 29118.\n",
      "  PDBConstructionWarning)\n",
      "/Users/jinli/anaconda3/lib/python3.6/site-packages/Bio/PDB/StructureBuilder.py:91: PDBConstructionWarning: WARNING: Chain B is discontinuous at line 29165.\n",
      "  PDBConstructionWarning)\n",
      "/Users/jinli/anaconda3/lib/python3.6/site-packages/Bio/PDB/StructureBuilder.py:91: PDBConstructionWarning: WARNING: Chain C is discontinuous at line 29219.\n",
      "  PDBConstructionWarning)\n",
      "/Users/jinli/anaconda3/lib/python3.6/site-packages/Bio/PDB/StructureBuilder.py:91: PDBConstructionWarning: WARNING: Chain D is discontinuous at line 29247.\n",
      "  PDBConstructionWarning)\n",
      "/Users/jinli/anaconda3/lib/python3.6/site-packages/Bio/PDB/StructureBuilder.py:91: PDBConstructionWarning: WARNING: Chain E is discontinuous at line 29268.\n",
      "  PDBConstructionWarning)\n",
      "/Users/jinli/anaconda3/lib/python3.6/site-packages/Bio/PDB/StructureBuilder.py:91: PDBConstructionWarning: WARNING: Chain F is discontinuous at line 29303.\n",
      "  PDBConstructionWarning)\n",
      "/Users/jinli/anaconda3/lib/python3.6/site-packages/Bio/PDB/StructureBuilder.py:91: PDBConstructionWarning: WARNING: Chain G is discontinuous at line 29313.\n",
      "  PDBConstructionWarning)\n",
      "/Users/jinli/anaconda3/lib/python3.6/site-packages/Bio/PDB/StructureBuilder.py:91: PDBConstructionWarning: WARNING: Chain H is discontinuous at line 29338.\n",
      "  PDBConstructionWarning)\n",
      "/Users/jinli/anaconda3/lib/python3.6/site-packages/Bio/PDB/StructureBuilder.py:91: PDBConstructionWarning: WARNING: Chain A is discontinuous at line 3293.\n",
      "  PDBConstructionWarning)\n",
      "/Users/jinli/anaconda3/lib/python3.6/site-packages/Bio/PDB/StructureBuilder.py:91: PDBConstructionWarning: WARNING: Chain B is discontinuous at line 3298.\n",
      "  PDBConstructionWarning)\n",
      "/Users/jinli/anaconda3/lib/python3.6/site-packages/Bio/PDB/StructureBuilder.py:91: PDBConstructionWarning: WARNING: Chain A is discontinuous at line 3303.\n",
      "  PDBConstructionWarning)\n",
      "/Users/jinli/anaconda3/lib/python3.6/site-packages/Bio/PDB/StructureBuilder.py:91: PDBConstructionWarning: WARNING: Chain B is discontinuous at line 3498.\n",
      "  PDBConstructionWarning)\n",
      "/Users/jinli/anaconda3/lib/python3.6/site-packages/Bio/PDB/StructureBuilder.py:91: PDBConstructionWarning: WARNING: Chain P is discontinuous at line 3348.\n",
      "  PDBConstructionWarning)\n",
      "/Users/jinli/anaconda3/lib/python3.6/site-packages/Bio/PDB/StructureBuilder.py:91: PDBConstructionWarning: WARNING: Chain B is discontinuous at line 3360.\n",
      "  PDBConstructionWarning)\n"
     ]
    },
    {
     "name": "stdout",
     "output_type": "stream",
     "text": [
      "\tThis protein has more than 1 chain.\n",
      "PDB File:  1hru.pdb\n",
      "\tThis protein has more than 1 chain.\n",
      "PDB File:  1htr.pdb\n",
      "\tThis protein has more than 1 chain.\n",
      "PDB File:  1htw.pdb\n"
     ]
    },
    {
     "name": "stderr",
     "output_type": "stream",
     "text": [
      "/Users/jinli/anaconda3/lib/python3.6/site-packages/Bio/PDB/StructureBuilder.py:91: PDBConstructionWarning: WARNING: Chain A is discontinuous at line 4435.\n",
      "  PDBConstructionWarning)\n",
      "/Users/jinli/anaconda3/lib/python3.6/site-packages/Bio/PDB/StructureBuilder.py:91: PDBConstructionWarning: WARNING: Chain B is discontinuous at line 4469.\n",
      "  PDBConstructionWarning)\n",
      "/Users/jinli/anaconda3/lib/python3.6/site-packages/Bio/PDB/StructureBuilder.py:91: PDBConstructionWarning: WARNING: Chain C is discontinuous at line 4498.\n",
      "  PDBConstructionWarning)\n",
      "/Users/jinli/anaconda3/lib/python3.6/site-packages/Bio/PDB/StructureBuilder.py:91: PDBConstructionWarning: WARNING: Chain A is discontinuous at line 4527.\n",
      "  PDBConstructionWarning)\n",
      "/Users/jinli/anaconda3/lib/python3.6/site-packages/Bio/PDB/StructureBuilder.py:91: PDBConstructionWarning: WARNING: Chain B is discontinuous at line 4690.\n",
      "  PDBConstructionWarning)\n",
      "/Users/jinli/anaconda3/lib/python3.6/site-packages/Bio/PDB/StructureBuilder.py:91: PDBConstructionWarning: WARNING: Chain C is discontinuous at line 4792.\n",
      "  PDBConstructionWarning)\n",
      "/Users/jinli/anaconda3/lib/python3.6/site-packages/Bio/PDB/StructureBuilder.py:91: PDBConstructionWarning: WARNING: Chain A is discontinuous at line 2117.\n",
      "  PDBConstructionWarning)\n",
      "/Users/jinli/anaconda3/lib/python3.6/site-packages/Bio/PDB/StructureBuilder.py:91: PDBConstructionWarning: WARNING: Chain B is discontinuous at line 2134.\n",
      "  PDBConstructionWarning)\n"
     ]
    },
    {
     "name": "stdout",
     "output_type": "stream",
     "text": [
      "\tThis protein has more than 1 chain.\n",
      "PDB File:  1hul.pdb\n",
      "\tThis protein has more than 1 chain.\n",
      "PDB File:  1huw.pdb\n",
      "PDB File:  1hw7.pdb\n",
      "PDB File:  1hx6.pdb\n"
     ]
    },
    {
     "name": "stderr",
     "output_type": "stream",
     "text": [
      "/Users/jinli/anaconda3/lib/python3.6/site-packages/Bio/PDB/StructureBuilder.py:91: PDBConstructionWarning: WARNING: Chain A is discontinuous at line 10043.\n",
      "  PDBConstructionWarning)\n",
      "/Users/jinli/anaconda3/lib/python3.6/site-packages/Bio/PDB/StructureBuilder.py:91: PDBConstructionWarning: WARNING: Chain B is discontinuous at line 10087.\n",
      "  PDBConstructionWarning)\n",
      "/Users/jinli/anaconda3/lib/python3.6/site-packages/Bio/PDB/StructureBuilder.py:91: PDBConstructionWarning: WARNING: Chain C is discontinuous at line 10147.\n",
      "  PDBConstructionWarning)\n",
      "/Users/jinli/anaconda3/lib/python3.6/site-packages/Bio/PDB/StructureBuilder.py:91: PDBConstructionWarning: WARNING: Chain A is discontinuous at line 10196.\n",
      "  PDBConstructionWarning)\n",
      "/Users/jinli/anaconda3/lib/python3.6/site-packages/Bio/PDB/StructureBuilder.py:91: PDBConstructionWarning: WARNING: Chain B is discontinuous at line 10438.\n",
      "  PDBConstructionWarning)\n",
      "/Users/jinli/anaconda3/lib/python3.6/site-packages/Bio/PDB/StructureBuilder.py:91: PDBConstructionWarning: WARNING: Chain C is discontinuous at line 10727.\n",
      "  PDBConstructionWarning)\n",
      "/Users/jinli/anaconda3/lib/python3.6/site-packages/Bio/PDB/StructureBuilder.py:91: PDBConstructionWarning: WARNING: Chain A is discontinuous at line 4714.\n",
      "  PDBConstructionWarning)\n",
      "/Users/jinli/anaconda3/lib/python3.6/site-packages/Bio/PDB/StructureBuilder.py:91: PDBConstructionWarning: WARNING: Chain B is discontinuous at line 4719.\n",
      "  PDBConstructionWarning)\n",
      "/Users/jinli/anaconda3/lib/python3.6/site-packages/Bio/PDB/StructureBuilder.py:91: PDBConstructionWarning: WARNING: Chain A is discontinuous at line 4724.\n",
      "  PDBConstructionWarning)\n",
      "/Users/jinli/anaconda3/lib/python3.6/site-packages/Bio/PDB/StructureBuilder.py:91: PDBConstructionWarning: WARNING: Chain B is discontinuous at line 4823.\n",
      "  PDBConstructionWarning)\n"
     ]
    },
    {
     "name": "stdout",
     "output_type": "stream",
     "text": [
      "\tThis protein has more than 1 chain.\n",
      "PDB File:  1hx8.pdb\n",
      "\tThis protein has more than 1 chain.\n",
      "PDB File:  1hxi.pdb\n",
      "PDB File:  1hxn.pdb\n",
      "PDB File:  1hxr.pdb\n",
      "\tThis protein has more than 1 chain.\n",
      "PDB File:  1hyh.pdb\n"
     ]
    },
    {
     "name": "stderr",
     "output_type": "stream",
     "text": [
      "/Users/jinli/anaconda3/lib/python3.6/site-packages/Bio/PDB/StructureBuilder.py:91: PDBConstructionWarning: WARNING: Chain A is discontinuous at line 2077.\n",
      "  PDBConstructionWarning)\n",
      "/Users/jinli/anaconda3/lib/python3.6/site-packages/Bio/PDB/StructureBuilder.py:91: PDBConstructionWarning: WARNING: Chain B is discontinuous at line 2078.\n",
      "  PDBConstructionWarning)\n",
      "/Users/jinli/anaconda3/lib/python3.6/site-packages/Bio/PDB/StructureBuilder.py:91: PDBConstructionWarning: WARNING: Chain A is discontinuous at line 2079.\n",
      "  PDBConstructionWarning)\n",
      "/Users/jinli/anaconda3/lib/python3.6/site-packages/Bio/PDB/StructureBuilder.py:91: PDBConstructionWarning: WARNING: Chain B is discontinuous at line 2167.\n",
      "  PDBConstructionWarning)\n",
      "/Users/jinli/anaconda3/lib/python3.6/site-packages/Bio/PDB/StructureBuilder.py:91: PDBConstructionWarning: WARNING: Chain A is discontinuous at line 9637.\n",
      "  PDBConstructionWarning)\n",
      "/Users/jinli/anaconda3/lib/python3.6/site-packages/Bio/PDB/StructureBuilder.py:91: PDBConstructionWarning: WARNING: Chain B is discontinuous at line 9686.\n",
      "  PDBConstructionWarning)\n",
      "/Users/jinli/anaconda3/lib/python3.6/site-packages/Bio/PDB/StructureBuilder.py:91: PDBConstructionWarning: WARNING: Chain C is discontinuous at line 9735.\n",
      "  PDBConstructionWarning)\n",
      "/Users/jinli/anaconda3/lib/python3.6/site-packages/Bio/PDB/StructureBuilder.py:91: PDBConstructionWarning: WARNING: Chain D is discontinuous at line 9784.\n",
      "  PDBConstructionWarning)\n",
      "/Users/jinli/anaconda3/lib/python3.6/site-packages/Bio/PDB/StructureBuilder.py:91: PDBConstructionWarning: WARNING: Chain A is discontinuous at line 9833.\n",
      "  PDBConstructionWarning)\n",
      "/Users/jinli/anaconda3/lib/python3.6/site-packages/Bio/PDB/StructureBuilder.py:91: PDBConstructionWarning: WARNING: Chain B is discontinuous at line 9920.\n",
      "  PDBConstructionWarning)\n",
      "/Users/jinli/anaconda3/lib/python3.6/site-packages/Bio/PDB/StructureBuilder.py:91: PDBConstructionWarning: WARNING: Chain C is discontinuous at line 9990.\n",
      "  PDBConstructionWarning)\n",
      "/Users/jinli/anaconda3/lib/python3.6/site-packages/Bio/PDB/StructureBuilder.py:91: PDBConstructionWarning: WARNING: Chain D is discontinuous at line 10069.\n",
      "  PDBConstructionWarning)\n"
     ]
    },
    {
     "name": "stdout",
     "output_type": "stream",
     "text": [
      "\tThis protein has more than 1 chain.\n",
      "PDB File:  1hyn.pdb\n"
     ]
    },
    {
     "name": "stderr",
     "output_type": "stream",
     "text": [
      "/Users/jinli/anaconda3/lib/python3.6/site-packages/Bio/PDB/StructureBuilder.py:91: PDBConstructionWarning: WARNING: Chain P is discontinuous at line 10307.\n",
      "  PDBConstructionWarning)\n",
      "/Users/jinli/anaconda3/lib/python3.6/site-packages/Bio/PDB/StructureBuilder.py:91: PDBConstructionWarning: WARNING: Chain Q is discontinuous at line 10378.\n",
      "  PDBConstructionWarning)\n",
      "/Users/jinli/anaconda3/lib/python3.6/site-packages/Bio/PDB/StructureBuilder.py:91: PDBConstructionWarning: WARNING: Chain R is discontinuous at line 10465.\n",
      "  PDBConstructionWarning)\n",
      "/Users/jinli/anaconda3/lib/python3.6/site-packages/Bio/PDB/StructureBuilder.py:91: PDBConstructionWarning: WARNING: Chain S is discontinuous at line 10552.\n",
      "  PDBConstructionWarning)\n",
      "/Users/jinli/anaconda3/lib/python3.6/site-packages/Bio/PDB/StructureBuilder.py:91: PDBConstructionWarning: WARNING: Chain A is discontinuous at line 7150.\n",
      "  PDBConstructionWarning)\n",
      "/Users/jinli/anaconda3/lib/python3.6/site-packages/Bio/PDB/StructureBuilder.py:91: PDBConstructionWarning: WARNING: Chain B is discontinuous at line 7167.\n",
      "  PDBConstructionWarning)\n",
      "/Users/jinli/anaconda3/lib/python3.6/site-packages/Bio/PDB/StructureBuilder.py:91: PDBConstructionWarning: WARNING: Chain A is discontinuous at line 7185.\n",
      "  PDBConstructionWarning)\n",
      "/Users/jinli/anaconda3/lib/python3.6/site-packages/Bio/PDB/StructureBuilder.py:91: PDBConstructionWarning: WARNING: Chain B is discontinuous at line 7577.\n",
      "  PDBConstructionWarning)\n"
     ]
    },
    {
     "name": "stdout",
     "output_type": "stream",
     "text": [
      "\tThis protein has more than 1 chain.\n",
      "PDB File:  1hyo.pdb\n",
      "\tThis protein has more than 1 chain.\n",
      "PDB File:  1hz4.pdb\n",
      "PDB File:  1hz6.pdb\n",
      "\tThis protein has more than 1 chain.\n",
      "PDB File:  1hzt.pdb\n"
     ]
    },
    {
     "name": "stderr",
     "output_type": "stream",
     "text": [
      "/Users/jinli/anaconda3/lib/python3.6/site-packages/Bio/PDB/StructureBuilder.py:91: PDBConstructionWarning: WARNING: Chain A is discontinuous at line 1924.\n",
      "  PDBConstructionWarning)\n",
      "/Users/jinli/anaconda3/lib/python3.6/site-packages/Bio/PDB/StructureBuilder.py:91: PDBConstructionWarning: WARNING: Chain B is discontinuous at line 2031.\n",
      "  PDBConstructionWarning)\n",
      "/Users/jinli/anaconda3/lib/python3.6/site-packages/Bio/PDB/StructureBuilder.py:91: PDBConstructionWarning: WARNING: Chain C is discontinuous at line 2123.\n",
      "  PDBConstructionWarning)\n"
     ]
    },
    {
     "name": "stdout",
     "output_type": "stream",
     "text": [
      "PDB File:  1i0r.pdb\n",
      "\tThis protein has more than 1 chain.\n",
      "PDB File:  1i12.pdb\n",
      "\tThis protein has more than 1 chain.\n",
      "PDB File:  1i1q.pdb\n"
     ]
    },
    {
     "name": "stderr",
     "output_type": "stream",
     "text": [
      "/Users/jinli/anaconda3/lib/python3.6/site-packages/Bio/PDB/StructureBuilder.py:91: PDBConstructionWarning: WARNING: Chain A is discontinuous at line 2966.\n",
      "  PDBConstructionWarning)\n",
      "/Users/jinli/anaconda3/lib/python3.6/site-packages/Bio/PDB/StructureBuilder.py:91: PDBConstructionWarning: WARNING: Chain B is discontinuous at line 3144.\n",
      "  PDBConstructionWarning)\n",
      "/Users/jinli/anaconda3/lib/python3.6/site-packages/Bio/PDB/StructureBuilder.py:91: PDBConstructionWarning: WARNING: Chain A is discontinuous at line 5636.\n",
      "  PDBConstructionWarning)\n",
      "/Users/jinli/anaconda3/lib/python3.6/site-packages/Bio/PDB/StructureBuilder.py:91: PDBConstructionWarning: WARNING: Chain B is discontinuous at line 5692.\n",
      "  PDBConstructionWarning)\n",
      "/Users/jinli/anaconda3/lib/python3.6/site-packages/Bio/PDB/StructureBuilder.py:91: PDBConstructionWarning: WARNING: Chain C is discontinuous at line 5748.\n",
      "  PDBConstructionWarning)\n",
      "/Users/jinli/anaconda3/lib/python3.6/site-packages/Bio/PDB/StructureBuilder.py:91: PDBConstructionWarning: WARNING: Chain D is discontinuous at line 5799.\n",
      "  PDBConstructionWarning)\n",
      "/Users/jinli/anaconda3/lib/python3.6/site-packages/Bio/PDB/StructureBuilder.py:91: PDBConstructionWarning: WARNING: Chain A is discontinuous at line 5850.\n",
      "  PDBConstructionWarning)\n",
      "/Users/jinli/anaconda3/lib/python3.6/site-packages/Bio/PDB/StructureBuilder.py:91: PDBConstructionWarning: WARNING: Chain B is discontinuous at line 6068.\n",
      "  PDBConstructionWarning)\n",
      "/Users/jinli/anaconda3/lib/python3.6/site-packages/Bio/PDB/StructureBuilder.py:91: PDBConstructionWarning: WARNING: Chain C is discontinuous at line 6232.\n",
      "  PDBConstructionWarning)\n",
      "/Users/jinli/anaconda3/lib/python3.6/site-packages/Bio/PDB/StructureBuilder.py:91: PDBConstructionWarning: WARNING: Chain D is discontinuous at line 6372.\n",
      "  PDBConstructionWarning)\n",
      "/Users/jinli/anaconda3/lib/python3.6/site-packages/Bio/PDB/StructureBuilder.py:91: PDBConstructionWarning: WARNING: Chain A is discontinuous at line 5834.\n",
      "  PDBConstructionWarning)\n",
      "/Users/jinli/anaconda3/lib/python3.6/site-packages/Bio/PDB/StructureBuilder.py:91: PDBConstructionWarning: WARNING: Chain B is discontinuous at line 5958.\n",
      "  PDBConstructionWarning)\n",
      "/Users/jinli/anaconda3/lib/python3.6/site-packages/Bio/PDB/StructureBuilder.py:91: PDBConstructionWarning: WARNING: Chain A is discontinuous at line 4241.\n",
      "  PDBConstructionWarning)\n",
      "/Users/jinli/anaconda3/lib/python3.6/site-packages/Bio/PDB/StructureBuilder.py:91: PDBConstructionWarning: WARNING: Chain B is discontinuous at line 4521.\n",
      "  PDBConstructionWarning)\n",
      "/Users/jinli/anaconda3/lib/python3.6/site-packages/Bio/PDB/Atom.py:189: PDBConstructionWarning: Could not assign element 'UNK' for Atom (name=UNK) with given element 'X'\n",
      "  warnings.warn(msg, PDBConstructionWarning)\n"
     ]
    },
    {
     "name": "stdout",
     "output_type": "stream",
     "text": [
      "\tThis protein has more than 1 chain.\n",
      "PDB File:  1i1r.pdb\n",
      "\tThis protein has more than 1 chain.\n",
      "PDB File:  1i1w.pdb\n",
      "PDB File:  1i24.pdb\n"
     ]
    },
    {
     "ename": "KeyError",
     "evalue": "'N'",
     "output_type": "error",
     "traceback": [
      "\u001b[0;31m---------------------------------------------------------------------------\u001b[0m",
      "\u001b[0;31mKeyError\u001b[0m                                  Traceback (most recent call last)",
      "\u001b[0;32m~/Projects/Protein_Structures/tertiary_structure_prediction/preprocess/get_contact_maps.py\u001b[0m in \u001b[0;36mcalc_residue_dist\u001b[0;34m(residue_one, residue_two)\u001b[0m\n\u001b[1;32m     20\u001b[0m     \u001b[0;32mtry\u001b[0m\u001b[0;34m:\u001b[0m\u001b[0;34m\u001b[0m\u001b[0m\n\u001b[0;32m---> 21\u001b[0;31m         \u001b[0mdiff_vector\u001b[0m \u001b[0;34m=\u001b[0m \u001b[0mresidue_one\u001b[0m\u001b[0;34m[\u001b[0m\u001b[0;34m\"CA\"\u001b[0m\u001b[0;34m]\u001b[0m\u001b[0;34m.\u001b[0m\u001b[0mcoord\u001b[0m \u001b[0;34m-\u001b[0m \u001b[0mresidue_two\u001b[0m\u001b[0;34m[\u001b[0m\u001b[0;34m\"CA\"\u001b[0m\u001b[0;34m]\u001b[0m\u001b[0;34m.\u001b[0m\u001b[0mcoord\u001b[0m\u001b[0;34m\u001b[0m\u001b[0m\n\u001b[0m\u001b[1;32m     22\u001b[0m     \u001b[0;32mexcept\u001b[0m \u001b[0mKeyError\u001b[0m\u001b[0;34m:\u001b[0m\u001b[0;34m\u001b[0m\u001b[0m\n",
      "\u001b[0;32m~/anaconda3/lib/python3.6/site-packages/Bio/PDB/Entity.py\u001b[0m in \u001b[0;36m__getitem__\u001b[0;34m(self, id)\u001b[0m\n\u001b[1;32m     40\u001b[0m         \u001b[0;34m\"\"\"Return the child with given id.\"\"\"\u001b[0m\u001b[0;34m\u001b[0m\u001b[0m\n\u001b[0;32m---> 41\u001b[0;31m         \u001b[0;32mreturn\u001b[0m \u001b[0mself\u001b[0m\u001b[0;34m.\u001b[0m\u001b[0mchild_dict\u001b[0m\u001b[0;34m[\u001b[0m\u001b[0mid\u001b[0m\u001b[0;34m]\u001b[0m\u001b[0;34m\u001b[0m\u001b[0m\n\u001b[0m\u001b[1;32m     42\u001b[0m \u001b[0;34m\u001b[0m\u001b[0m\n",
      "\u001b[0;31mKeyError\u001b[0m: 'CA'",
      "\nDuring handling of the above exception, another exception occurred:\n",
      "\u001b[0;31mKeyError\u001b[0m                                  Traceback (most recent call last)",
      "\u001b[0;32m<ipython-input-83-fe52b53e0a28>\u001b[0m in \u001b[0;36m<module>\u001b[0;34m()\u001b[0m\n\u001b[1;32m     39\u001b[0m \u001b[0;34m\u001b[0m\u001b[0m\n\u001b[1;32m     40\u001b[0m \u001b[0;34m\u001b[0m\u001b[0m\n\u001b[0;32m---> 41\u001b[0;31m \u001b[0mc_maps\u001b[0m \u001b[0;34m=\u001b[0m \u001b[0mget_contact_maps\u001b[0m\u001b[0;34m(\u001b[0m\u001b[0mpath\u001b[0m\u001b[0;34m)\u001b[0m\u001b[0;34m\u001b[0m\u001b[0m\n\u001b[0m",
      "\u001b[0;32m<ipython-input-83-fe52b53e0a28>\u001b[0m in \u001b[0;36mget_contact_maps\u001b[0;34m(path, cutoff)\u001b[0m\n\u001b[1;32m     30\u001b[0m \u001b[0;34m\u001b[0m\u001b[0m\n\u001b[1;32m     31\u001b[0m         \u001b[0;32mif\u001b[0m \u001b[0mlen\u001b[0m\u001b[0;34m(\u001b[0m\u001b[0mlist\u001b[0m\u001b[0;34m(\u001b[0m\u001b[0mmodel\u001b[0m\u001b[0;34m)\u001b[0m\u001b[0;34m)\u001b[0m \u001b[0;34m==\u001b[0m \u001b[0;36m1\u001b[0m\u001b[0;34m:\u001b[0m\u001b[0;34m\u001b[0m\u001b[0m\n\u001b[0;32m---> 32\u001b[0;31m             \u001b[0mc_map\u001b[0m \u001b[0;34m=\u001b[0m \u001b[0mget_contact_map\u001b[0m\u001b[0;34m(\u001b[0m\u001b[0mmodel\u001b[0m\u001b[0;34m,\u001b[0m \u001b[0mcutoff\u001b[0m\u001b[0;34m=\u001b[0m\u001b[0mcutoff\u001b[0m\u001b[0;34m)\u001b[0m\u001b[0;34m\u001b[0m\u001b[0m\n\u001b[0m\u001b[1;32m     33\u001b[0m             \u001b[0mcontact_maps\u001b[0m\u001b[0;34m[\u001b[0m\u001b[0mpdb_file\u001b[0m\u001b[0;34m]\u001b[0m \u001b[0;34m=\u001b[0m \u001b[0mc_map\u001b[0m\u001b[0;34m\u001b[0m\u001b[0m\n\u001b[1;32m     34\u001b[0m         \u001b[0;32melse\u001b[0m\u001b[0;34m:\u001b[0m\u001b[0;34m\u001b[0m\u001b[0m\n",
      "\u001b[0;32m<ipython-input-82-7917f78c1556>\u001b[0m in \u001b[0;36mget_contact_map\u001b[0;34m(model, cutoff)\u001b[0m\n\u001b[1;32m     49\u001b[0m     dist_matrix = gcm.calc_dist_matrix(\n\u001b[1;32m     50\u001b[0m         \u001b[0mgcm\u001b[0m\u001b[0;34m.\u001b[0m\u001b[0mget_only_residues\u001b[0m\u001b[0;34m(\u001b[0m\u001b[0mlist\u001b[0m\u001b[0;34m(\u001b[0m\u001b[0mmodel\u001b[0m\u001b[0;34m)\u001b[0m\u001b[0;34m[\u001b[0m\u001b[0;36m0\u001b[0m\u001b[0;34m]\u001b[0m\u001b[0;34m)\u001b[0m\u001b[0;34m,\u001b[0m\u001b[0;34m\u001b[0m\u001b[0m\n\u001b[0;32m---> 51\u001b[0;31m         \u001b[0mgcm\u001b[0m\u001b[0;34m.\u001b[0m\u001b[0mget_only_residues\u001b[0m\u001b[0;34m(\u001b[0m\u001b[0mlist\u001b[0m\u001b[0;34m(\u001b[0m\u001b[0mmodel\u001b[0m\u001b[0;34m)\u001b[0m\u001b[0;34m[\u001b[0m\u001b[0;36m0\u001b[0m\u001b[0;34m]\u001b[0m\u001b[0;34m)\u001b[0m\u001b[0;34m\u001b[0m\u001b[0m\n\u001b[0m\u001b[1;32m     52\u001b[0m     )\n\u001b[1;32m     53\u001b[0m \u001b[0;34m\u001b[0m\u001b[0m\n",
      "\u001b[0;32m~/Projects/Protein_Structures/tertiary_structure_prediction/preprocess/get_contact_maps.py\u001b[0m in \u001b[0;36mcalc_dist_matrix\u001b[0;34m(chain_one, chain_two)\u001b[0m\n\u001b[1;32m     53\u001b[0m     \u001b[0;32mfor\u001b[0m \u001b[0mrow\u001b[0m\u001b[0;34m,\u001b[0m \u001b[0mresidue_one\u001b[0m \u001b[0;32min\u001b[0m \u001b[0menumerate\u001b[0m\u001b[0;34m(\u001b[0m\u001b[0mchain_one\u001b[0m\u001b[0;34m)\u001b[0m\u001b[0;34m:\u001b[0m\u001b[0;34m\u001b[0m\u001b[0m\n\u001b[1;32m     54\u001b[0m         \u001b[0;32mfor\u001b[0m \u001b[0mcol\u001b[0m\u001b[0;34m,\u001b[0m \u001b[0mresidue_two\u001b[0m \u001b[0;32min\u001b[0m \u001b[0menumerate\u001b[0m\u001b[0;34m(\u001b[0m\u001b[0mchain_two\u001b[0m\u001b[0;34m)\u001b[0m\u001b[0;34m:\u001b[0m\u001b[0;34m\u001b[0m\u001b[0m\n\u001b[0;32m---> 55\u001b[0;31m             \u001b[0manswer\u001b[0m\u001b[0;34m[\u001b[0m\u001b[0mrow\u001b[0m\u001b[0;34m,\u001b[0m \u001b[0mcol\u001b[0m\u001b[0;34m]\u001b[0m \u001b[0;34m=\u001b[0m \u001b[0mcalc_residue_dist\u001b[0m\u001b[0;34m(\u001b[0m\u001b[0mresidue_one\u001b[0m\u001b[0;34m,\u001b[0m \u001b[0mresidue_two\u001b[0m\u001b[0;34m)\u001b[0m\u001b[0;34m\u001b[0m\u001b[0m\n\u001b[0m\u001b[1;32m     56\u001b[0m     \u001b[0;32mreturn\u001b[0m \u001b[0manswer\u001b[0m\u001b[0;34m\u001b[0m\u001b[0m\n\u001b[1;32m     57\u001b[0m \u001b[0;34m\u001b[0m\u001b[0m\n",
      "\u001b[0;32m~/Projects/Protein_Structures/tertiary_structure_prediction/preprocess/get_contact_maps.py\u001b[0m in \u001b[0;36mcalc_residue_dist\u001b[0;34m(residue_one, residue_two)\u001b[0m\n\u001b[1;32m     36\u001b[0m         \u001b[0msequence\u001b[0m\u001b[0;34m.\u001b[0m\u001b[0;34m\u001b[0m\u001b[0m\n\u001b[1;32m     37\u001b[0m         \"\"\"\n\u001b[0;32m---> 38\u001b[0;31m         \u001b[0mdiff_vector\u001b[0m \u001b[0;34m=\u001b[0m \u001b[0mresidue_one\u001b[0m\u001b[0;34m[\u001b[0m\u001b[0;34m\"N\"\u001b[0m\u001b[0;34m]\u001b[0m\u001b[0;34m.\u001b[0m\u001b[0mcoord\u001b[0m \u001b[0;34m-\u001b[0m \u001b[0mresidue_two\u001b[0m\u001b[0;34m[\u001b[0m\u001b[0;34m\"N\"\u001b[0m\u001b[0;34m]\u001b[0m\u001b[0;34m.\u001b[0m\u001b[0mcoord\u001b[0m\u001b[0;34m\u001b[0m\u001b[0m\n\u001b[0m\u001b[1;32m     39\u001b[0m     \u001b[0;32mreturn\u001b[0m \u001b[0mnp\u001b[0m\u001b[0;34m.\u001b[0m\u001b[0msqrt\u001b[0m\u001b[0;34m(\u001b[0m\u001b[0mnp\u001b[0m\u001b[0;34m.\u001b[0m\u001b[0msum\u001b[0m\u001b[0;34m(\u001b[0m\u001b[0mdiff_vector\u001b[0m \u001b[0;34m*\u001b[0m \u001b[0mdiff_vector\u001b[0m\u001b[0;34m)\u001b[0m\u001b[0;34m)\u001b[0m\u001b[0;34m\u001b[0m\u001b[0m\n\u001b[1;32m     40\u001b[0m \u001b[0;34m\u001b[0m\u001b[0m\n",
      "\u001b[0;32m~/anaconda3/lib/python3.6/site-packages/Bio/PDB/Entity.py\u001b[0m in \u001b[0;36m__getitem__\u001b[0;34m(self, id)\u001b[0m\n\u001b[1;32m     39\u001b[0m     \u001b[0;32mdef\u001b[0m \u001b[0m__getitem__\u001b[0m\u001b[0;34m(\u001b[0m\u001b[0mself\u001b[0m\u001b[0;34m,\u001b[0m \u001b[0mid\u001b[0m\u001b[0;34m)\u001b[0m\u001b[0;34m:\u001b[0m\u001b[0;34m\u001b[0m\u001b[0m\n\u001b[1;32m     40\u001b[0m         \u001b[0;34m\"\"\"Return the child with given id.\"\"\"\u001b[0m\u001b[0;34m\u001b[0m\u001b[0m\n\u001b[0;32m---> 41\u001b[0;31m         \u001b[0;32mreturn\u001b[0m \u001b[0mself\u001b[0m\u001b[0;34m.\u001b[0m\u001b[0mchild_dict\u001b[0m\u001b[0;34m[\u001b[0m\u001b[0mid\u001b[0m\u001b[0;34m]\u001b[0m\u001b[0;34m\u001b[0m\u001b[0m\n\u001b[0m\u001b[1;32m     42\u001b[0m \u001b[0;34m\u001b[0m\u001b[0m\n\u001b[1;32m     43\u001b[0m     \u001b[0;32mdef\u001b[0m \u001b[0m__delitem__\u001b[0m\u001b[0;34m(\u001b[0m\u001b[0mself\u001b[0m\u001b[0;34m,\u001b[0m \u001b[0mid\u001b[0m\u001b[0;34m)\u001b[0m\u001b[0;34m:\u001b[0m\u001b[0;34m\u001b[0m\u001b[0m\n",
      "\u001b[0;31mKeyError\u001b[0m: 'N'"
     ]
    }
   ],
   "source": [
    "def get_contact_maps(path, cutoff=12.0):\n",
    "    \"\"\"\n",
    "    Given a list of contact maps, \n",
    "    create a dictionary mapping the PDB ID\n",
    "    to its contact map\n",
    "    \n",
    "    \"\"\"\n",
    "    \n",
    "    from os import listdir\n",
    "    from os.path import isfile, join\n",
    "    \n",
    "    mypath = path + 'pdb_files/'\n",
    "    pdb_files = [f for f in listdir(mypath) if isfile(join(mypath, f))]\n",
    "    \n",
    "    contact_maps = {}\n",
    "    \n",
    "    # contains pdb files with more than one chain\n",
    "    # will not calculate contact map if it has more than one chain\n",
    "    other_pdb_files = []\n",
    "    \n",
    "    for pdb_file in pdb_files:\n",
    "        print(\"PDB File: \", pdb_file)\n",
    "        \n",
    "        structure_id = pdb_file.split('.')[0]\n",
    "        filename = path + \"pdb_files/\" + pdb_file\n",
    "        structure = parser.get_structure(structure_id, filename)\n",
    "        model = structure[0]\n",
    "    \n",
    "#         c_map = get_contact_map(pdb_file, path, cutoff=cutoff)\n",
    "\n",
    "        if len(list(model)) == 1:\n",
    "            c_map = get_contact_map(model, cutoff=cutoff)\n",
    "            contact_maps[pdb_file] = c_map\n",
    "        else:\n",
    "            print(\"\\tThis protein has more than 1 chain.\")\n",
    "            other_pdb_files.append(pdb_file)\n",
    "        \n",
    "    return contact_maps\n",
    "\n",
    "\n",
    "c_maps = get_contact_maps(path)"
   ]
  },
  {
   "cell_type": "code",
   "execution_count": 100,
   "metadata": {
    "collapsed": true
   },
   "outputs": [],
   "source": [
    "# from Bio.PDB.Polypeptide import PPBuilder \n",
    "# ppb=PPBuilder() \n",
    "file_name = \"1efd.pdb\"\n",
    "\"\"\"\n",
    "1efd.pdb missing\n",
    "REMARK 465     ALA N    31                                                      \n",
    "REMARK 465     GLY N   294                                                      \n",
    "REMARK 465     LYS N   295                                                      \n",
    "REMARK 465     ALA N   296\n",
    "\n",
    "\"\"\"\n",
    "# get_contact_map(\"1ae9.pdb\", path, 12.0)\n",
    "\n",
    "structure_id = file_name.split('.')[0]\n",
    "filename = path + \"pdb_files/\" + file_name\n",
    "structure = parser.get_structure(structure_id, filename)\n",
    "model = structure[0]"
   ]
  },
  {
   "cell_type": "code",
   "execution_count": 101,
   "metadata": {
    "collapsed": true
   },
   "outputs": [],
   "source": [
    "# list(ppb.build_peptides(structure)[0])"
   ]
  },
  {
   "cell_type": "code",
   "execution_count": 90,
   "metadata": {},
   "outputs": [
    {
     "data": {
      "text/plain": [
       "[<Model id=0>]"
      ]
     },
     "execution_count": 90,
     "metadata": {},
     "output_type": "execute_result"
    }
   ],
   "source": [
    "# list(model)[0]\n",
    "# list(structure)#.header"
   ]
  },
  {
   "cell_type": "code",
   "execution_count": 85,
   "metadata": {},
   "outputs": [
    {
     "data": {
      "text/plain": [
       "262"
      ]
     },
     "execution_count": 85,
     "metadata": {},
     "output_type": "execute_result"
    }
   ],
   "source": [
    "# model = structure[0]\n",
    "residues_a = list(model)[0]\n",
    "only_aa = gcm.get_only_residues( list(model)[0])\n",
    "# residues_b = list(model[\"B\"])\n",
    "len (residues)\n",
    "# residues\n",
    "# gcm.get_only_residues(model[\"A\"])\n",
    "\n",
    "len (gcm.get_only_residues(list(model)[0])) #+  len (gcm.get_only_residues(model[\"B\"]))"
   ]
  },
  {
   "cell_type": "code",
   "execution_count": 94,
   "metadata": {},
   "outputs": [
    {
     "data": {
      "text/plain": [
       "<Residue GLY het=  resseq=82 icode= >"
      ]
     },
     "execution_count": 94,
     "metadata": {},
     "output_type": "execute_result"
    }
   ],
   "source": [
    "only_aa[50]#.resseq"
   ]
  },
  {
   "cell_type": "code",
   "execution_count": 60,
   "metadata": {},
   "outputs": [
    {
     "name": "stdout",
     "output_type": "stream",
     "text": [
      "674\n"
     ]
    }
   ],
   "source": [
    "# len (list(model['A']))\n",
    "# list(model['A'])[378].hetfield\n",
    "\n",
    "# list(model)\n",
    "# list(model[\"A\"])\n",
    "for i, res in enumerate (only_aa):\n",
    "    try: \n",
    "#         print (res[\"CA\"])\n",
    "        res[\"CA\"]\n",
    "    except KeyError:\n",
    "        print (i)"
   ]
  },
  {
   "cell_type": "code",
   "execution_count": 69,
   "metadata": {},
   "outputs": [
    {
     "data": {
      "text/plain": [
       "[<Atom N>]"
      ]
     },
     "execution_count": 69,
     "metadata": {},
     "output_type": "execute_result"
    }
   ],
   "source": [
    "list(only_aa[674])"
   ]
  },
  {
   "cell_type": "code",
   "execution_count": 70,
   "metadata": {},
   "outputs": [
    {
     "data": {
      "text/plain": [
       "<Residue LYS het=  resseq=700 icode= >"
      ]
     },
     "execution_count": 70,
     "metadata": {},
     "output_type": "execute_result"
    }
   ],
   "source": [
    "only_aa[674]"
   ]
  },
  {
   "cell_type": "code",
   "execution_count": 44,
   "metadata": {},
   "outputs": [
    {
     "data": {
      "text/plain": [
       "[<Model id=0>]"
      ]
     },
     "execution_count": 44,
     "metadata": {},
     "output_type": "execute_result"
    }
   ],
   "source": [
    "# list(model['A'])[378].id\n",
    "list(structure)"
   ]
  },
  {
   "cell_type": "code",
   "execution_count": 8,
   "metadata": {
    "collapsed": true
   },
   "outputs": [],
   "source": [
    "# residues = model[\"A\"].get_residues()\n",
    "# list_of_resid = [residue for residue in residues]\n",
    "# for residue in residues:\n",
    "#     print (residue)\n",
    "# len(list_of_resid)"
   ]
  },
  {
   "cell_type": "code",
   "execution_count": 9,
   "metadata": {
    "collapsed": true
   },
   "outputs": [],
   "source": [
    "# dist_matrix = gcm.calc_dist_matrix(\n",
    "#     gcm.get_only_residues(model[\"A\"]), \n",
    "#     gcm.get_only_residues(model[\"A\"])\n",
    "# )\n",
    "\n",
    "# contact_map = dist_matrix < 12.0"
   ]
  },
  {
   "cell_type": "code",
   "execution_count": 10,
   "metadata": {
    "collapsed": true
   },
   "outputs": [],
   "source": [
    "# contact_map#.shape"
   ]
  },
  {
   "cell_type": "code",
   "execution_count": 11,
   "metadata": {
    "collapsed": true
   },
   "outputs": [],
   "source": [
    "# list(model[\"A\"])[1][\"CA\"].coord#['CA']"
   ]
  },
  {
   "cell_type": "code",
   "execution_count": 12,
   "metadata": {
    "collapsed": true
   },
   "outputs": [],
   "source": [
    "# type (model[\"A\"][330])#['CA'].coord"
   ]
  },
  {
   "cell_type": "code",
   "execution_count": 13,
   "metadata": {
    "collapsed": true
   },
   "outputs": [],
   "source": [
    "# len (list(model[\"A\"]))"
   ]
  },
  {
   "cell_type": "code",
   "execution_count": null,
   "metadata": {
    "collapsed": true
   },
   "outputs": [],
   "source": [
    "\"\"\"\n",
    "Next steps:\n",
    "\n",
    "Align the PDB file sequence to the FASTA sequence.\n",
    "\n",
    "For missing residues, add in the residue with X, Y, Z coordinates to be\n",
    "between the two\n",
    "\n",
    "\n",
    "https://lists.open-bio.org/pipermail/biopython/2016-July/015960.html\n",
    "\n",
    "(Actually might not need to do this)\n",
    "Write a seperate script that will move all proteins \n",
    "with more than one chain to another folder.\n",
    "\n",
    "\n",
    "Then write another script that \n",
    "\"\"\"\n",
    "\n",
    "\n"
   ]
  },
  {
   "cell_type": "code",
   "execution_count": 109,
   "metadata": {},
   "outputs": [
    {
     "data": {
      "text/plain": [
       "inf"
      ]
     },
     "execution_count": 109,
     "metadata": {},
     "output_type": "execute_result"
    }
   ],
   "source": [
    "float(\"inf\") - float(\"inf\")"
   ]
  },
  {
   "cell_type": "markdown",
   "metadata": {
    "collapsed": true
   },
   "source": [
    "https://stackoverflow.com/questions/30811918/saving-dictionary-of-numpy-arrays"
   ]
  }
 ],
 "metadata": {
  "kernelspec": {
   "display_name": "Python 3",
   "language": "python",
   "name": "python3"
  },
  "language_info": {
   "codemirror_mode": {
    "name": "ipython",
    "version": 3
   },
   "file_extension": ".py",
   "mimetype": "text/x-python",
   "name": "python",
   "nbconvert_exporter": "python",
   "pygments_lexer": "ipython3",
   "version": "3.6.3"
  },
  "toc": {
   "base_numbering": 1,
   "nav_menu": {},
   "number_sections": true,
   "sideBar": true,
   "skip_h1_title": false,
   "title_cell": "Table of Contents",
   "title_sidebar": "Contents",
   "toc_cell": false,
   "toc_position": {},
   "toc_section_display": true,
   "toc_window_display": false
  }
 },
 "nbformat": 4,
 "nbformat_minor": 2
}
