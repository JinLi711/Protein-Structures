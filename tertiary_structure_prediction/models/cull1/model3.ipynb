{
 "cells": [
  {
   "cell_type": "code",
   "execution_count": 23,
   "metadata": {},
   "outputs": [
    {
     "data": {
      "text/plain": [
       "<module 'primary_model' from '../model_functions/primary_model.py'>"
      ]
     },
     "execution_count": 23,
     "metadata": {},
     "output_type": "execute_result"
    }
   ],
   "source": [
    "import sys\n",
    "import numpy as np\n",
    "sys.path.insert(0, '../model_functions')\n",
    "import primary_model as pm\n",
    "import importlib\n",
    "importlib.reload(pm)\n",
    "# importlib.reload()"
   ]
  },
  {
   "cell_type": "code",
   "execution_count": 2,
   "metadata": {
    "collapsed": true
   },
   "outputs": [],
   "source": [
    "data_path = \"../../data/cull%i/model_data/\" % 1\n",
    "\n",
    "devtest_aa_dict = np.load(data_path + 'devtest_aa_dict.npy')[()]\n",
    "devtest_cmap_dict = np.load(data_path + 'devtest_cmap_dict.npy')[()]\n",
    "train_aa_dict = np.load(data_path + 'train_aa_dict.npy')[()]\n",
    "train_cmap_dict = np.load(data_path + 'train_cmap_dict.npy')[()]\n",
    "valid_aa_dict = np.load(data_path + 'valid_aa_dict.npy')[()]\n",
    "valid_cmap_dict = np.load(data_path + 'valid_cmap_dict.npy')[()]"
   ]
  },
  {
   "cell_type": "code",
   "execution_count": 25,
   "metadata": {
    "collapsed": true
   },
   "outputs": [],
   "source": [
    "model = pm.create_architecture(3, 10)"
   ]
  },
  {
   "cell_type": "code",
   "execution_count": 26,
   "metadata": {},
   "outputs": [
    {
     "name": "stdout",
     "output_type": "stream",
     "text": [
      "__________________________________________________________________________________________________\n",
      "Layer (type)                    Output Shape         Param #     Connected to                     \n",
      "==================================================================================================\n",
      "input_layer (InputLayer)        (None, None, 20)     0                                            \n",
      "__________________________________________________________________________________________________\n",
      "1d_convnet_layer1a (Conv1D)     (None, None, 20)     6820        input_layer[0][0]                \n",
      "__________________________________________________________________________________________________\n",
      "1d_convnet_batch_norm1a (BatchN (None, None, 20)     80          1d_convnet_layer1a[0][0]         \n",
      "__________________________________________________________________________________________________\n",
      "1d_convnet_layer1b (Conv1D)     (None, None, 20)     6820        1d_convnet_batch_norm1a[0][0]    \n",
      "__________________________________________________________________________________________________\n",
      "1d_convnet_batch_norm1b (BatchN (None, None, 20)     80          1d_convnet_layer1b[0][0]         \n",
      "__________________________________________________________________________________________________\n",
      "1d_convnet_residual_block1 (Add (None, None, 20)     0           1d_convnet_batch_norm1b[0][0]    \n",
      "                                                                 input_layer[0][0]                \n",
      "__________________________________________________________________________________________________\n",
      "1d_convnet_layer2a (Conv1D)     (None, None, 20)     6820        1d_convnet_residual_block1[0][0] \n",
      "__________________________________________________________________________________________________\n",
      "1d_convnet_batch_norm2a (BatchN (None, None, 20)     80          1d_convnet_layer2a[0][0]         \n",
      "__________________________________________________________________________________________________\n",
      "1d_convnet_layer2b (Conv1D)     (None, None, 20)     6820        1d_convnet_batch_norm2a[0][0]    \n",
      "__________________________________________________________________________________________________\n",
      "1d_convnet_batch_norm2b (BatchN (None, None, 20)     80          1d_convnet_layer2b[0][0]         \n",
      "__________________________________________________________________________________________________\n",
      "1d_convnet_residual_block2 (Add (None, None, 20)     0           1d_convnet_batch_norm2b[0][0]    \n",
      "                                                                 1d_convnet_residual_block1[0][0] \n",
      "__________________________________________________________________________________________________\n",
      "1d_convnet_layer3a (Conv1D)     (None, None, 20)     6820        1d_convnet_residual_block2[0][0] \n",
      "__________________________________________________________________________________________________\n",
      "1d_convnet_batch_norm3a (BatchN (None, None, 20)     80          1d_convnet_layer3a[0][0]         \n",
      "__________________________________________________________________________________________________\n",
      "1d_convnet_layer3b (Conv1D)     (None, None, 20)     6820        1d_convnet_batch_norm3a[0][0]    \n",
      "__________________________________________________________________________________________________\n",
      "1d_convnet_batch_norm3b (BatchN (None, None, 20)     80          1d_convnet_layer3b[0][0]         \n",
      "__________________________________________________________________________________________________\n",
      "1d_convnet_residual_block3 (Add (None, None, 20)     0           1d_convnet_batch_norm3b[0][0]    \n",
      "                                                                 1d_convnet_residual_block2[0][0] \n",
      "__________________________________________________________________________________________________\n",
      "outer_product2_1 (OuterProduct2 (None, None, None, 2 0           1d_convnet_residual_block3[0][0] \n",
      "__________________________________________________________________________________________________\n",
      "2d_convnet_layer1a (Conv2D)     (None, None, None, 2 3620        outer_product2_1[0][0]           \n",
      "__________________________________________________________________________________________________\n",
      "2d_convnet_batch_norm1a (BatchN (None, None, None, 2 80          2d_convnet_layer1a[0][0]         \n",
      "__________________________________________________________________________________________________\n",
      "2d_convnet_layer1b (Conv2D)     (None, None, None, 2 3620        2d_convnet_batch_norm1a[0][0]    \n",
      "__________________________________________________________________________________________________\n",
      "2d_convnet_batch_norm1b (BatchN (None, None, None, 2 80          2d_convnet_layer1b[0][0]         \n",
      "__________________________________________________________________________________________________\n",
      "2d_convnet_residual_block1 (Add (None, None, None, 2 0           2d_convnet_batch_norm1b[0][0]    \n",
      "                                                                 outer_product2_1[0][0]           \n",
      "__________________________________________________________________________________________________\n",
      "2d_convnet_layer2a (Conv2D)     (None, None, None, 2 3620        2d_convnet_residual_block1[0][0] \n",
      "__________________________________________________________________________________________________\n",
      "2d_convnet_batch_norm2a (BatchN (None, None, None, 2 80          2d_convnet_layer2a[0][0]         \n",
      "__________________________________________________________________________________________________\n",
      "2d_convnet_layer2b (Conv2D)     (None, None, None, 2 3620        2d_convnet_batch_norm2a[0][0]    \n",
      "__________________________________________________________________________________________________\n",
      "2d_convnet_batch_norm2b (BatchN (None, None, None, 2 80          2d_convnet_layer2b[0][0]         \n",
      "__________________________________________________________________________________________________\n",
      "2d_convnet_residual_block2 (Add (None, None, None, 2 0           2d_convnet_batch_norm2b[0][0]    \n",
      "                                                                 2d_convnet_residual_block1[0][0] \n",
      "__________________________________________________________________________________________________\n",
      "2d_convnet_layer3a (Conv2D)     (None, None, None, 2 3620        2d_convnet_residual_block2[0][0] \n",
      "__________________________________________________________________________________________________\n",
      "2d_convnet_batch_norm3a (BatchN (None, None, None, 2 80          2d_convnet_layer3a[0][0]         \n",
      "__________________________________________________________________________________________________\n",
      "2d_convnet_layer3b (Conv2D)     (None, None, None, 2 3620        2d_convnet_batch_norm3a[0][0]    \n",
      "__________________________________________________________________________________________________\n",
      "2d_convnet_batch_norm3b (BatchN (None, None, None, 2 80          2d_convnet_layer3b[0][0]         \n",
      "__________________________________________________________________________________________________\n",
      "2d_convnet_residual_block3 (Add (None, None, None, 2 0           2d_convnet_batch_norm3b[0][0]    \n",
      "                                                                 2d_convnet_residual_block2[0][0] \n",
      "__________________________________________________________________________________________________\n",
      "2d_convnet_layer4a (Conv2D)     (None, None, None, 2 3620        2d_convnet_residual_block3[0][0] \n",
      "__________________________________________________________________________________________________\n",
      "2d_convnet_batch_norm4a (BatchN (None, None, None, 2 80          2d_convnet_layer4a[0][0]         \n",
      "__________________________________________________________________________________________________\n",
      "2d_convnet_layer4b (Conv2D)     (None, None, None, 2 3620        2d_convnet_batch_norm4a[0][0]    \n",
      "__________________________________________________________________________________________________\n",
      "2d_convnet_batch_norm4b (BatchN (None, None, None, 2 80          2d_convnet_layer4b[0][0]         \n",
      "__________________________________________________________________________________________________\n",
      "2d_convnet_residual_block4 (Add (None, None, None, 2 0           2d_convnet_batch_norm4b[0][0]    \n",
      "                                                                 2d_convnet_residual_block3[0][0] \n",
      "__________________________________________________________________________________________________\n",
      "2d_convnet_layer5a (Conv2D)     (None, None, None, 2 3620        2d_convnet_residual_block4[0][0] \n",
      "__________________________________________________________________________________________________\n",
      "2d_convnet_batch_norm5a (BatchN (None, None, None, 2 80          2d_convnet_layer5a[0][0]         \n",
      "__________________________________________________________________________________________________\n",
      "2d_convnet_layer5b (Conv2D)     (None, None, None, 2 3620        2d_convnet_batch_norm5a[0][0]    \n",
      "__________________________________________________________________________________________________\n",
      "2d_convnet_batch_norm5b (BatchN (None, None, None, 2 80          2d_convnet_layer5b[0][0]         \n",
      "__________________________________________________________________________________________________\n",
      "2d_convnet_residual_block5 (Add (None, None, None, 2 0           2d_convnet_batch_norm5b[0][0]    \n",
      "                                                                 2d_convnet_residual_block4[0][0] \n",
      "__________________________________________________________________________________________________\n",
      "conv2d_1 (Conv2D)               (None, None, None, 1 21          2d_convnet_residual_block5[0][0] \n",
      "__________________________________________________________________________________________________\n",
      "batch_normalization_v1_1 (Batch (None, None, None, 1 4           conv2d_1[0][0]                   \n",
      "__________________________________________________________________________________________________\n",
      "flatten_1 (Flatten)             (None, None)         0           batch_normalization_v1_1[0][0]   \n",
      "__________________________________________________________________________________________________\n",
      "lambda_1 (Lambda)               (None, None, 1)      0           flatten_1[0][0]                  \n",
      "__________________________________________________________________________________________________\n",
      "activation_1 (Activation)       (None, None, 1)      0           lambda_1[0][0]                   \n",
      "==================================================================================================\n",
      "Total params: 78,425\n",
      "Trainable params: 77,783\n",
      "Non-trainable params: 642\n",
      "__________________________________________________________________________________________________\n"
     ]
    }
   ],
   "source": [
    "model.summary()"
   ]
  },
  {
   "cell_type": "code",
   "execution_count": 27,
   "metadata": {
    "collapsed": true
   },
   "outputs": [],
   "source": [
    "model.compile(\n",
    "        optimizer=\"adam\",\n",
    "#         loss=\"sparse_categorical_crossentropy\",\n",
    "        loss=\"binary_crossentropy\",\n",
    "        sample_weight_mode=\"temporal\",\n",
    "#         metrics=['accuracy']\n",
    "    )"
   ]
  },
  {
   "cell_type": "code",
   "execution_count": 28,
   "metadata": {},
   "outputs": [
    {
     "name": "stdout",
     "output_type": "stream",
     "text": [
      "139\n",
      "40\n",
      "WARNING:tensorflow:From /Users/jinli/anaconda3/lib/python3.6/site-packages/tensorflow/python/ops/math_ops.py:3066: to_int32 (from tensorflow.python.ops.math_ops) is deprecated and will be removed in a future version.\n",
      "Instructions for updating:\n",
      "Use tf.cast instead.\n",
      "Epoch 1/20\n",
      "  4/139 [..............................] - ETA: 6:07 - loss: 1.0987"
     ]
    },
    {
     "ename": "KeyboardInterrupt",
     "evalue": "",
     "output_type": "error",
     "traceback": [
      "\u001b[0;31m---------------------------------------------------------------------------\u001b[0m",
      "\u001b[0;31mKeyboardInterrupt\u001b[0m                         Traceback (most recent call last)",
      "\u001b[0;32m<ipython-input-28-ec5b052fddf1>\u001b[0m in \u001b[0;36m<module>\u001b[0;34m()\u001b[0m\n\u001b[1;32m     26\u001b[0m     \u001b[0mepochs\u001b[0m\u001b[0;34m=\u001b[0m\u001b[0;36m20\u001b[0m\u001b[0;34m,\u001b[0m\u001b[0;34m\u001b[0m\u001b[0m\n\u001b[1;32m     27\u001b[0m     \u001b[0mvalidation_steps\u001b[0m\u001b[0;34m=\u001b[0m\u001b[0mvalid_steps\u001b[0m\u001b[0;34m,\u001b[0m\u001b[0;34m\u001b[0m\u001b[0m\n\u001b[0;32m---> 28\u001b[0;31m     \u001b[0mcallbacks\u001b[0m\u001b[0;34m=\u001b[0m\u001b[0mpm\u001b[0m\u001b[0;34m.\u001b[0m\u001b[0mcallbacks_list\u001b[0m\u001b[0;34m,\u001b[0m\u001b[0;34m\u001b[0m\u001b[0m\n\u001b[0m\u001b[1;32m     29\u001b[0m \u001b[0;31m#     class_weight=class_weight,\u001b[0m\u001b[0;34m\u001b[0m\u001b[0;34m\u001b[0m\u001b[0m\n\u001b[1;32m     30\u001b[0m )\n",
      "\u001b[0;32m~/anaconda3/lib/python3.6/site-packages/tensorflow/python/keras/engine/training.py\u001b[0m in \u001b[0;36mfit_generator\u001b[0;34m(self, generator, steps_per_epoch, epochs, verbose, callbacks, validation_data, validation_steps, class_weight, max_queue_size, workers, use_multiprocessing, shuffle, initial_epoch)\u001b[0m\n\u001b[1;32m   1424\u001b[0m         \u001b[0muse_multiprocessing\u001b[0m\u001b[0;34m=\u001b[0m\u001b[0muse_multiprocessing\u001b[0m\u001b[0;34m,\u001b[0m\u001b[0;34m\u001b[0m\u001b[0m\n\u001b[1;32m   1425\u001b[0m         \u001b[0mshuffle\u001b[0m\u001b[0;34m=\u001b[0m\u001b[0mshuffle\u001b[0m\u001b[0;34m,\u001b[0m\u001b[0;34m\u001b[0m\u001b[0m\n\u001b[0;32m-> 1426\u001b[0;31m         initial_epoch=initial_epoch)\n\u001b[0m\u001b[1;32m   1427\u001b[0m \u001b[0;34m\u001b[0m\u001b[0m\n\u001b[1;32m   1428\u001b[0m   def evaluate_generator(self,\n",
      "\u001b[0;32m~/anaconda3/lib/python3.6/site-packages/tensorflow/python/keras/engine/training_generator.py\u001b[0m in \u001b[0;36mmodel_iteration\u001b[0;34m(model, data, steps_per_epoch, epochs, verbose, callbacks, validation_data, validation_steps, class_weight, max_queue_size, workers, use_multiprocessing, shuffle, initial_epoch, mode, batch_size, **kwargs)\u001b[0m\n\u001b[1;32m    189\u001b[0m       \u001b[0mprogbar\u001b[0m\u001b[0;34m.\u001b[0m\u001b[0mon_batch_begin\u001b[0m\u001b[0;34m(\u001b[0m\u001b[0mstep\u001b[0m\u001b[0;34m,\u001b[0m \u001b[0mbatch_logs\u001b[0m\u001b[0;34m)\u001b[0m\u001b[0;34m\u001b[0m\u001b[0m\n\u001b[1;32m    190\u001b[0m \u001b[0;34m\u001b[0m\u001b[0m\n\u001b[0;32m--> 191\u001b[0;31m       \u001b[0mbatch_outs\u001b[0m \u001b[0;34m=\u001b[0m \u001b[0mbatch_function\u001b[0m\u001b[0;34m(\u001b[0m\u001b[0;34m*\u001b[0m\u001b[0mbatch_data\u001b[0m\u001b[0;34m)\u001b[0m\u001b[0;34m\u001b[0m\u001b[0m\n\u001b[0m\u001b[1;32m    192\u001b[0m       \u001b[0;32mif\u001b[0m \u001b[0;32mnot\u001b[0m \u001b[0misinstance\u001b[0m\u001b[0;34m(\u001b[0m\u001b[0mbatch_outs\u001b[0m\u001b[0;34m,\u001b[0m \u001b[0mlist\u001b[0m\u001b[0;34m)\u001b[0m\u001b[0;34m:\u001b[0m\u001b[0;34m\u001b[0m\u001b[0m\n\u001b[1;32m    193\u001b[0m         \u001b[0mbatch_outs\u001b[0m \u001b[0;34m=\u001b[0m \u001b[0;34m[\u001b[0m\u001b[0mbatch_outs\u001b[0m\u001b[0;34m]\u001b[0m\u001b[0;34m\u001b[0m\u001b[0m\n",
      "\u001b[0;32m~/anaconda3/lib/python3.6/site-packages/tensorflow/python/keras/engine/training.py\u001b[0m in \u001b[0;36mtrain_on_batch\u001b[0;34m(self, x, y, sample_weight, class_weight, reset_metrics)\u001b[0m\n\u001b[1;32m   1189\u001b[0m       \u001b[0;32melse\u001b[0m\u001b[0;34m:\u001b[0m\u001b[0;34m\u001b[0m\u001b[0m\n\u001b[1;32m   1190\u001b[0m         \u001b[0mself\u001b[0m\u001b[0;34m.\u001b[0m\u001b[0m_make_fit_function\u001b[0m\u001b[0;34m(\u001b[0m\u001b[0;34m)\u001b[0m\u001b[0;34m\u001b[0m\u001b[0m\n\u001b[0;32m-> 1191\u001b[0;31m         \u001b[0moutputs\u001b[0m \u001b[0;34m=\u001b[0m \u001b[0mself\u001b[0m\u001b[0;34m.\u001b[0m\u001b[0m_fit_function\u001b[0m\u001b[0;34m(\u001b[0m\u001b[0mins\u001b[0m\u001b[0;34m)\u001b[0m  \u001b[0;31m# pylint: disable=not-callable\u001b[0m\u001b[0;34m\u001b[0m\u001b[0m\n\u001b[0m\u001b[1;32m   1192\u001b[0m \u001b[0;34m\u001b[0m\u001b[0m\n\u001b[1;32m   1193\u001b[0m     \u001b[0;32mif\u001b[0m \u001b[0mreset_metrics\u001b[0m\u001b[0;34m:\u001b[0m\u001b[0;34m\u001b[0m\u001b[0m\n",
      "\u001b[0;32m~/anaconda3/lib/python3.6/site-packages/tensorflow/python/keras/backend.py\u001b[0m in \u001b[0;36m__call__\u001b[0;34m(self, inputs)\u001b[0m\n\u001b[1;32m   3074\u001b[0m \u001b[0;34m\u001b[0m\u001b[0m\n\u001b[1;32m   3075\u001b[0m     fetched = self._callable_fn(*array_vals,\n\u001b[0;32m-> 3076\u001b[0;31m                                 run_metadata=self.run_metadata)\n\u001b[0m\u001b[1;32m   3077\u001b[0m     \u001b[0mself\u001b[0m\u001b[0;34m.\u001b[0m\u001b[0m_call_fetch_callbacks\u001b[0m\u001b[0;34m(\u001b[0m\u001b[0mfetched\u001b[0m\u001b[0;34m[\u001b[0m\u001b[0;34m-\u001b[0m\u001b[0mlen\u001b[0m\u001b[0;34m(\u001b[0m\u001b[0mself\u001b[0m\u001b[0;34m.\u001b[0m\u001b[0m_fetches\u001b[0m\u001b[0;34m)\u001b[0m\u001b[0;34m:\u001b[0m\u001b[0;34m]\u001b[0m\u001b[0;34m)\u001b[0m\u001b[0;34m\u001b[0m\u001b[0m\n\u001b[1;32m   3078\u001b[0m     return nest.pack_sequence_as(self._outputs_structure,\n",
      "\u001b[0;32m~/anaconda3/lib/python3.6/site-packages/tensorflow/python/client/session.py\u001b[0m in \u001b[0;36m__call__\u001b[0;34m(self, *args, **kwargs)\u001b[0m\n\u001b[1;32m   1437\u001b[0m           ret = tf_session.TF_SessionRunCallable(\n\u001b[1;32m   1438\u001b[0m               \u001b[0mself\u001b[0m\u001b[0;34m.\u001b[0m\u001b[0m_session\u001b[0m\u001b[0;34m.\u001b[0m\u001b[0m_session\u001b[0m\u001b[0;34m,\u001b[0m \u001b[0mself\u001b[0m\u001b[0;34m.\u001b[0m\u001b[0m_handle\u001b[0m\u001b[0;34m,\u001b[0m \u001b[0margs\u001b[0m\u001b[0;34m,\u001b[0m \u001b[0mstatus\u001b[0m\u001b[0;34m,\u001b[0m\u001b[0;34m\u001b[0m\u001b[0m\n\u001b[0;32m-> 1439\u001b[0;31m               run_metadata_ptr)\n\u001b[0m\u001b[1;32m   1440\u001b[0m         \u001b[0;32mif\u001b[0m \u001b[0mrun_metadata\u001b[0m\u001b[0;34m:\u001b[0m\u001b[0;34m\u001b[0m\u001b[0m\n\u001b[1;32m   1441\u001b[0m           \u001b[0mproto_data\u001b[0m \u001b[0;34m=\u001b[0m \u001b[0mtf_session\u001b[0m\u001b[0;34m.\u001b[0m\u001b[0mTF_GetBuffer\u001b[0m\u001b[0;34m(\u001b[0m\u001b[0mrun_metadata_ptr\u001b[0m\u001b[0;34m)\u001b[0m\u001b[0;34m\u001b[0m\u001b[0m\n",
      "\u001b[0;31mKeyboardInterrupt\u001b[0m: "
     ]
    }
   ],
   "source": [
    "# history = model.fit_generator(\n",
    "#         pm.aa_generator(train_aa_dict, train_cmap_dict),\n",
    "#         validation_data=pm.aa_generator(valid_aa_dict, valid_cmap_dict),\n",
    "#         steps_per_epoch=5,\n",
    "#         epochs=2,\n",
    "#         validation_steps=1,\n",
    "#         callbacks=pm.callbacks_list\n",
    "#     )\n",
    "\n",
    "batch_size = 1\n",
    "train_steps = round(len(train_aa_dict) / batch_size)\n",
    "valid_steps = round(len(valid_aa_dict) / batch_size)\n",
    "print(train_steps)\n",
    "print(valid_steps)\n",
    "\n",
    "class_weight = {\n",
    "        0: 1.,\n",
    "        1: 8.,\n",
    "    }\n",
    "\n",
    "history = model.fit_generator(\n",
    "    pm.aa_generator_batch(train_aa_dict, train_cmap_dict, batch_size),\n",
    "    validation_data=pm.aa_generator_batch(\n",
    "        valid_aa_dict, valid_cmap_dict, batch_size),\n",
    "    steps_per_epoch=train_steps,\n",
    "    epochs=20,\n",
    "    validation_steps=valid_steps,\n",
    "    callbacks=pm.callbacks_list,\n",
    "#     class_weight=class_weight,\n",
    ")"
   ]
  },
  {
   "cell_type": "code",
   "execution_count": 24,
   "metadata": {},
   "outputs": [
    {
     "name": "stdout",
     "output_type": "stream",
     "text": [
      "(3, 350, 20)\n",
      "(3, 122500)\n",
      "122500\n"
     ]
    }
   ],
   "source": [
    "for x, y, w in pm.aa_generator_batch(train_aa_dict, train_cmap_dict, batch_size=3):\n",
    "    break\n",
    "\n",
    "print(x.shape)\n",
    "print(w.shape)\n",
    "print(x.shape[1] ** 2)"
   ]
  },
  {
   "cell_type": "code",
   "execution_count": 18,
   "metadata": {},
   "outputs": [
    {
     "data": {
      "text/plain": [
       "(3, 53361)"
      ]
     },
     "execution_count": 18,
     "metadata": {},
     "output_type": "execute_result"
    }
   ],
   "source": [
    "# y.shape\n",
    "\n",
    "y.shape[:2]"
   ]
  },
  {
   "cell_type": "code",
   "execution_count": null,
   "metadata": {
    "collapsed": true
   },
   "outputs": [],
   "source": [
    "class_weight = np.zeros((100, 2))\n",
    "print(class_weight.shape)\n",
    "class_weight[:, 0] += 1\n",
    "class_weight[:, 1] += 8\n",
    "class_weight = class_weight.reshape(-1, 2)"
   ]
  },
  {
   "cell_type": "code",
   "execution_count": 29,
   "metadata": {
    "collapsed": true
   },
   "outputs": [],
   "source": [
    "cmap_batch = np.random.randint(2, size=(3,4,5))\n",
    "class_weight = np.zeros(\n",
    "    # (aa_batch.shape[0], aa_batch.shape[1] ** 2)\n",
    "    cmap_batch.shape\n",
    ")\n",
    "\n",
    "# class_weight[:, 0] += 1\n",
    "# class_weight[:, 1] += 8\n",
    "\n",
    "class_weight += cmap_batch * 8\n",
    "class_weight[class_weight == 0] = 1"
   ]
  },
  {
   "cell_type": "code",
   "execution_count": 30,
   "metadata": {},
   "outputs": [
    {
     "data": {
      "text/plain": [
       "array([[[0, 0, 0, 0, 1],\n",
       "        [1, 1, 0, 1, 1],\n",
       "        [0, 0, 0, 1, 1],\n",
       "        [0, 1, 1, 0, 0]],\n",
       "\n",
       "       [[0, 0, 1, 1, 0],\n",
       "        [1, 0, 0, 1, 0],\n",
       "        [1, 1, 0, 1, 0],\n",
       "        [0, 0, 0, 1, 1]],\n",
       "\n",
       "       [[0, 0, 1, 0, 0],\n",
       "        [1, 1, 0, 0, 1],\n",
       "        [0, 0, 0, 0, 0],\n",
       "        [0, 0, 1, 1, 1]]])"
      ]
     },
     "execution_count": 30,
     "metadata": {},
     "output_type": "execute_result"
    }
   ],
   "source": [
    "cmap_batch"
   ]
  },
  {
   "cell_type": "code",
   "execution_count": 31,
   "metadata": {},
   "outputs": [
    {
     "data": {
      "text/plain": [
       "array([[[1., 1., 1., 1., 8.],\n",
       "        [8., 8., 1., 8., 8.],\n",
       "        [1., 1., 1., 8., 8.],\n",
       "        [1., 8., 8., 1., 1.]],\n",
       "\n",
       "       [[1., 1., 8., 8., 1.],\n",
       "        [8., 1., 1., 8., 1.],\n",
       "        [8., 8., 1., 8., 1.],\n",
       "        [1., 1., 1., 8., 8.]],\n",
       "\n",
       "       [[1., 1., 8., 1., 1.],\n",
       "        [8., 8., 1., 1., 8.],\n",
       "        [1., 1., 1., 1., 1.],\n",
       "        [1., 1., 8., 8., 8.]]])"
      ]
     },
     "execution_count": 31,
     "metadata": {},
     "output_type": "execute_result"
    }
   ],
   "source": [
    "class_weight"
   ]
  },
  {
   "cell_type": "code",
   "execution_count": null,
   "metadata": {
    "collapsed": true
   },
   "outputs": [],
   "source": [
    "class_weight.shape"
   ]
  },
  {
   "cell_type": "code",
   "execution_count": null,
   "metadata": {
    "collapsed": true
   },
   "outputs": [],
   "source": [
    "# np.zeros((10, 1))\n",
    "217 * 217"
   ]
  },
  {
   "cell_type": "code",
   "execution_count": null,
   "metadata": {
    "collapsed": true
   },
   "outputs": [],
   "source": [
    "import numpy as np\n",
    "import seaborn as sns\n",
    "import matplotlib.pyplot as plt\n",
    "%matplotlib inline"
   ]
  },
  {
   "cell_type": "code",
   "execution_count": null,
   "metadata": {
    "collapsed": true
   },
   "outputs": [],
   "source": [
    "test = train_cmap_dict['1a0i']"
   ]
  },
  {
   "cell_type": "code",
   "execution_count": null,
   "metadata": {
    "collapsed": true
   },
   "outputs": [],
   "source": [
    "# sns.heatmap(test.astype(int))\n",
    "plt.figure(figsize=(20,10))\n",
    "plt.imshow(test,)"
   ]
  },
  {
   "cell_type": "code",
   "execution_count": null,
   "metadata": {
    "collapsed": true
   },
   "outputs": [],
   "source": [
    "x = np.random.random((4,6, 7))\n",
    "x = x.reshape((*x.shape[:1], -1))\n",
    "x = np.expand_dims(x, axis=2)"
   ]
  },
  {
   "cell_type": "code",
   "execution_count": null,
   "metadata": {
    "collapsed": true
   },
   "outputs": [],
   "source": [
    "x.shape"
   ]
  },
  {
   "cell_type": "code",
   "execution_count": 33,
   "metadata": {},
   "outputs": [
    {
     "name": "stdout",
     "output_type": "stream",
     "text": [
      "W0330 15:21:25.142212 123145518993408 plugin_event_accumulator.py:294] Found more than one graph event per run, or there was a metagraph containing a graph_def, as well as one or more graph events.  Overwriting the graph with the newest event.\n",
      "W0330 15:21:25.163197 123145518993408 plugin_event_accumulator.py:302] Found more than one metagraph event per run. Overwriting the metagraph with the newest event.\n",
      "W0330 15:21:25.214747 123145518993408 plugin_event_accumulator.py:294] Found more than one graph event per run, or there was a metagraph containing a graph_def, as well as one or more graph events.  Overwriting the graph with the newest event.\n",
      "W0330 15:21:25.249012 123145518993408 plugin_event_accumulator.py:302] Found more than one metagraph event per run. Overwriting the metagraph with the newest event.\n",
      "W0330 15:21:25.274074 123145518993408 plugin_event_accumulator.py:294] Found more than one graph event per run, or there was a metagraph containing a graph_def, as well as one or more graph events.  Overwriting the graph with the newest event.\n",
      "W0330 15:21:25.280795 123145518993408 plugin_event_accumulator.py:302] Found more than one metagraph event per run. Overwriting the metagraph with the newest event.\n",
      "W0330 15:21:25.326896 123145518993408 plugin_event_accumulator.py:294] Found more than one graph event per run, or there was a metagraph containing a graph_def, as well as one or more graph events.  Overwriting the graph with the newest event.\n",
      "W0330 15:21:25.343292 123145518993408 plugin_event_accumulator.py:302] Found more than one metagraph event per run. Overwriting the metagraph with the newest event.\n",
      "TensorBoard 1.13.1 at http://Jins-MacBook-Pro-2.local:6006 (Press CTRL+C to quit)\n",
      "I0330 15:21:33.475328 123145529503744 _internal.py:97] ::1 - - [30/Mar/2019 15:21:33] \"\u001b[37mGET /data/environment HTTP/1.1\u001b[0m\" 200 -\n",
      "I0330 15:21:33.475604 123145534758912 _internal.py:97] ::1 - - [30/Mar/2019 15:21:33] \"\u001b[37mGET /data/runs HTTP/1.1\u001b[0m\" 200 -\n",
      "I0330 15:21:33.478564 123145545269248 _internal.py:97] ::1 - - [30/Mar/2019 15:21:33] \"\u001b[37mGET /data/experiments HTTP/1.1\u001b[0m\" 200 -\n",
      "I0330 15:21:33.479961 123145524248576 _internal.py:97] ::1 - - [30/Mar/2019 15:21:33] \"\u001b[37mGET /data/plugins_listing HTTP/1.1\u001b[0m\" 200 -\n",
      "I0330 15:21:33.684828 123145524248576 _internal.py:97] ::1 - - [30/Mar/2019 15:21:33] \"\u001b[37mGET /data/plugin/scalars/tags HTTP/1.1\u001b[0m\" 200 -\n",
      "I0330 15:21:33.694116 123145524248576 _internal.py:97] ::1 - - [30/Mar/2019 15:21:33] \"\u001b[37mGET /data/plugin/scalars/tags HTTP/1.1\u001b[0m\" 200 -\n",
      "I0330 15:21:34.027367 123145524248576 _internal.py:97] ::1 - - [30/Mar/2019 15:21:34] \"\u001b[37mGET /data/plugin/scalars/scalars?tag=batch_loss&run=.&experiment= HTTP/1.1\u001b[0m\" 200 -\n",
      "I0330 15:21:34.027796 123145545269248 _internal.py:97] ::1 - - [30/Mar/2019 15:21:34] \"\u001b[37mGET /data/plugin/scalars/scalars?tag=epoch_acc&run=.&experiment= HTTP/1.1\u001b[0m\" 200 -\n",
      "I0330 15:22:03.476705 123145534758912 _internal.py:97] ::1 - - [30/Mar/2019 15:22:03] \"\u001b[37mGET /data/runs HTTP/1.1\u001b[0m\" 200 -\n",
      "I0330 15:22:03.477122 123145545269248 _internal.py:97] ::1 - - [30/Mar/2019 15:22:03] \"\u001b[37mGET /data/environment HTTP/1.1\u001b[0m\" 200 -\n",
      "I0330 15:22:03.477515 123145529503744 _internal.py:97] ::1 - - [30/Mar/2019 15:22:03] \"\u001b[37mGET /data/experiments HTTP/1.1\u001b[0m\" 200 -\n",
      "I0330 15:22:03.478865 123145524248576 _internal.py:97] ::1 - - [30/Mar/2019 15:22:03] \"\u001b[37mGET /data/plugins_listing HTTP/1.1\u001b[0m\" 200 -\n",
      "I0330 15:22:03.491758 123145524248576 _internal.py:97] ::1 - - [30/Mar/2019 15:22:03] \"\u001b[37mGET /data/plugin/scalars/tags HTTP/1.1\u001b[0m\" 200 -\n",
      "I0330 15:22:03.499516 123145534758912 _internal.py:97] ::1 - - [30/Mar/2019 15:22:03] \"\u001b[37mGET /data/plugin/scalars/scalars?tag=epoch_acc&run=.&experiment= HTTP/1.1\u001b[0m\" 200 -\n",
      "I0330 15:22:03.499908 123145524248576 _internal.py:97] ::1 - - [30/Mar/2019 15:22:03] \"\u001b[37mGET /data/plugin/scalars/scalars?tag=batch_loss&run=.&experiment= HTTP/1.1\u001b[0m\" 200 -\n",
      "I0330 15:22:09.847877 123145524248576 _internal.py:97] ::1 - - [30/Mar/2019 15:22:09] \"\u001b[37mGET /data/plugin/graphs/runs HTTP/1.1\u001b[0m\" 200 -\n",
      "I0330 15:22:09.849817 123145545269248 _internal.py:97] ::1 - - [30/Mar/2019 15:22:09] \"\u001b[37mGET /data/plugin/graphs/run_metadata_tags HTTP/1.1\u001b[0m\" 200 -\n",
      "I0330 15:22:09.851556 123145534758912 _internal.py:97] ::1 - - [30/Mar/2019 15:22:09] \"\u001b[37mGET /data/plugins_listing HTTP/1.1\u001b[0m\" 200 -\n",
      "I0330 15:22:11.310202 123145534758912 _internal.py:97] ::1 - - [30/Mar/2019 15:22:11] \"\u001b[37mGET /data/plugin/graphs/graph?run=.&limit_attr_size=1024&large_attrs_key=_too_large_attrs HTTP/1.1\u001b[0m\" 200 -\n",
      "I0330 15:22:15.876610 123145534758912 _internal.py:97] ::1 - - [30/Mar/2019 15:22:15] \"\u001b[37mGET /data/plugins_listing HTTP/1.1\u001b[0m\" 200 -\n",
      "I0330 15:22:33.478190 123145545269248 _internal.py:97] ::1 - - [30/Mar/2019 15:22:33] \"\u001b[37mGET /data/runs HTTP/1.1\u001b[0m\" 200 -\n",
      "I0330 15:22:33.478482 123145524248576 _internal.py:97] ::1 - - [30/Mar/2019 15:22:33] \"\u001b[37mGET /data/environment HTTP/1.1\u001b[0m\" 200 -\n",
      "I0330 15:22:33.479074 123145529503744 _internal.py:97] ::1 - - [30/Mar/2019 15:22:33] \"\u001b[37mGET /data/experiments HTTP/1.1\u001b[0m\" 200 -\n",
      "I0330 15:22:33.480913 123145534758912 _internal.py:97] ::1 - - [30/Mar/2019 15:22:33] \"\u001b[37mGET /data/plugins_listing HTTP/1.1\u001b[0m\" 200 -\n",
      "I0330 15:22:33.510138 123145534758912 _internal.py:97] ::1 - - [30/Mar/2019 15:22:33] \"\u001b[37mGET /data/plugin/scalars/tags HTTP/1.1\u001b[0m\" 200 -\n",
      "I0330 15:23:13.307104 123145534758912 _internal.py:97] ::1 - - [30/Mar/2019 15:23:13] \"\u001b[37mGET /data/plugins_listing HTTP/1.1\u001b[0m\" 200 -\n",
      "I0330 15:34:52.504168 123145524248576 _internal.py:97] ::1 - - [30/Mar/2019 15:34:52] \"\u001b[37mGET /data/plugin/projector/runs HTTP/1.1\u001b[0m\" 200 -\n",
      "I0330 15:34:55.670366 123145524248576 _internal.py:97] ::1 - - [30/Mar/2019 15:34:55] \"\u001b[37mGET /data/plugin/profile/tools HTTP/1.1\u001b[0m\" 200 -\n",
      "I0330 15:34:58.811348 123145524248576 _internal.py:97] ::1 - - [30/Mar/2019 15:34:58] \"\u001b[37mGET /data/plugin/beholder/is-active HTTP/1.1\u001b[0m\" 200 -\n",
      "I0330 15:35:02.633710 123145524248576 _internal.py:97] ::1 - - [30/Mar/2019 15:35:02] \"\u001b[37mGET /tf-interactive-inference-dashboard/editedexample.png HTTP/1.1\u001b[0m\" 200 -\n",
      "I0330 15:35:02.634394 123145529503744 _internal.py:97] ::1 - - [30/Mar/2019 15:35:02] \"\u001b[37mGET /tf-interactive-inference-dashboard/distance.png HTTP/1.1\u001b[0m\" 200 -\n",
      "I0330 15:35:02.635888 123145534758912 _internal.py:97] ::1 - - [30/Mar/2019 15:35:02] \"\u001b[37mGET /tf-interactive-inference-dashboard/explorecounterfactuals.png HTTP/1.1\u001b[0m\" 200 -\n",
      "I0330 15:35:02.636907 123145540014080 _internal.py:97] ::1 - - [30/Mar/2019 15:35:02] \"\u001b[37mGET /tf-interactive-inference-dashboard/pdplots.png HTTP/1.1\u001b[0m\" 200 -\n",
      "I0330 15:35:13.021836 123145524248576 _internal.py:97] ::1 - - [30/Mar/2019 15:35:13] \"\u001b[37mGET /data/experiments HTTP/1.1\u001b[0m\" 200 -\n",
      "I0330 15:35:13.022614 123145534758912 _internal.py:97] ::1 - - [30/Mar/2019 15:35:13] \"\u001b[37mGET /data/runs HTTP/1.1\u001b[0m\" 200 -\n",
      "I0330 15:35:13.023194 123145540014080 _internal.py:97] ::1 - - [30/Mar/2019 15:35:13] \"\u001b[37mGET /data/environment HTTP/1.1\u001b[0m\" 200 -\n",
      "I0330 15:35:13.024054 123145529503744 _internal.py:97] ::1 - - [30/Mar/2019 15:35:13] \"\u001b[37mGET /data/plugins_listing HTTP/1.1\u001b[0m\" 200 -\n",
      "I0330 15:35:43.425061 123145524248576 _internal.py:97] ::1 - - [30/Mar/2019 15:35:43] \"\u001b[37mGET /data/experiments HTTP/1.1\u001b[0m\" 200 -\n",
      "I0330 15:35:43.425472 123145540014080 _internal.py:97] ::1 - - [30/Mar/2019 15:35:43] \"\u001b[37mGET /data/environment HTTP/1.1\u001b[0m\" 200 -\n",
      "I0330 15:35:43.427769 123145529503744 _internal.py:97] ::1 - - [30/Mar/2019 15:35:43] \"\u001b[37mGET /data/plugins_listing HTTP/1.1\u001b[0m\" 200 -\n",
      "I0330 15:35:43.428305 123145534758912 _internal.py:97] ::1 - - [30/Mar/2019 15:35:43] \"\u001b[37mGET /data/runs HTTP/1.1\u001b[0m\" 200 -\n",
      "I0330 15:35:43.437783 123145529503744 _internal.py:97] ::1 - - [30/Mar/2019 15:35:43] \"\u001b[37mGET /data/plugins_listing HTTP/1.1\u001b[0m\" 200 -\n",
      "I0330 15:36:13.510107 123145540014080 _internal.py:97] ::1 - - [30/Mar/2019 15:36:13] \"\u001b[37mGET /data/runs HTTP/1.1\u001b[0m\" 200 -\n",
      "I0330 15:36:13.510495 123145534758912 _internal.py:97] ::1 - - [30/Mar/2019 15:36:13] \"\u001b[37mGET /data/environment HTTP/1.1\u001b[0m\" 200 -\n",
      "I0330 15:36:13.511104 123145524248576 _internal.py:97] ::1 - - [30/Mar/2019 15:36:13] \"\u001b[37mGET /data/experiments HTTP/1.1\u001b[0m\" 200 -\n",
      "I0330 15:36:13.513070 123145529503744 _internal.py:97] ::1 - - [30/Mar/2019 15:36:13] \"\u001b[37mGET /data/plugins_listing HTTP/1.1\u001b[0m\" 200 -\n"
     ]
    },
    {
     "name": "stdout",
     "output_type": "stream",
     "text": [
      "I0330 15:36:13.523386 123145524248576 _internal.py:97] ::1 - - [30/Mar/2019 15:36:13] \"\u001b[37mGET /data/plugins_listing HTTP/1.1\u001b[0m\" 200 -\n",
      "I0330 15:36:44.759546 123145534758912 _internal.py:97] ::1 - - [30/Mar/2019 15:36:44] \"\u001b[37mGET /data/runs HTTP/1.1\u001b[0m\" 200 -\n",
      "I0330 15:36:44.759840 123145529503744 _internal.py:97] ::1 - - [30/Mar/2019 15:36:44] \"\u001b[37mGET /data/environment HTTP/1.1\u001b[0m\" 200 -\n",
      "I0330 15:36:44.761256 123145540014080 _internal.py:97] ::1 - - [30/Mar/2019 15:36:44] \"\u001b[37mGET /data/experiments HTTP/1.1\u001b[0m\" 200 -\n",
      "I0330 15:36:44.763130 123145524248576 _internal.py:97] ::1 - - [30/Mar/2019 15:36:44] \"\u001b[37mGET /data/plugins_listing HTTP/1.1\u001b[0m\" 200 -\n",
      "I0330 15:36:44.773642 123145524248576 _internal.py:97] ::1 - - [30/Mar/2019 15:36:44] \"\u001b[37mGET /data/plugins_listing HTTP/1.1\u001b[0m\" 200 -\n",
      "I0330 15:37:15.654179 123145529503744 _internal.py:97] ::1 - - [30/Mar/2019 15:37:15] \"\u001b[37mGET /data/runs HTTP/1.1\u001b[0m\" 200 -\n",
      "I0330 15:37:15.655136 123145534758912 _internal.py:97] ::1 - - [30/Mar/2019 15:37:15] \"\u001b[37mGET /data/experiments HTTP/1.1\u001b[0m\" 200 -\n",
      "I0330 15:37:15.655609 123145540014080 _internal.py:97] ::1 - - [30/Mar/2019 15:37:15] \"\u001b[37mGET /data/environment HTTP/1.1\u001b[0m\" 200 -\n",
      "I0330 15:37:15.656806 123145524248576 _internal.py:97] ::1 - - [30/Mar/2019 15:37:15] \"\u001b[37mGET /data/plugins_listing HTTP/1.1\u001b[0m\" 200 -\n",
      "I0330 15:37:15.686197 123145529503744 _internal.py:97] ::1 - - [30/Mar/2019 15:37:15] \"\u001b[37mGET /data/plugins_listing HTTP/1.1\u001b[0m\" 200 -\n",
      "I0330 15:37:45.678671 123145534758912 _internal.py:97] ::1 - - [30/Mar/2019 15:37:45] \"\u001b[37mGET /data/experiments HTTP/1.1\u001b[0m\" 200 -\n",
      "I0330 15:37:45.679935 123145524248576 _internal.py:97] ::1 - - [30/Mar/2019 15:37:45] \"\u001b[37mGET /data/environment HTTP/1.1\u001b[0m\" 200 -\n",
      "I0330 15:37:45.680907 123145540014080 _internal.py:97] ::1 - - [30/Mar/2019 15:37:45] \"\u001b[37mGET /data/runs HTTP/1.1\u001b[0m\" 200 -\n",
      "I0330 15:37:45.682497 123145529503744 _internal.py:97] ::1 - - [30/Mar/2019 15:37:45] \"\u001b[37mGET /data/plugins_listing HTTP/1.1\u001b[0m\" 200 -\n",
      "I0330 15:37:45.691200 123145529503744 _internal.py:97] ::1 - - [30/Mar/2019 15:37:45] \"\u001b[37mGET /data/plugins_listing HTTP/1.1\u001b[0m\" 200 -\n",
      "I0330 15:38:16.699779 123145540014080 _internal.py:97] ::1 - - [30/Mar/2019 15:38:16] \"\u001b[37mGET /data/environment HTTP/1.1\u001b[0m\" 200 -\n",
      "I0330 15:38:16.701013 123145524248576 _internal.py:97] ::1 - - [30/Mar/2019 15:38:16] \"\u001b[37mGET /data/runs HTTP/1.1\u001b[0m\" 200 -\n",
      "I0330 15:38:16.703386 123145534758912 _internal.py:97] ::1 - - [30/Mar/2019 15:38:16] \"\u001b[37mGET /data/experiments HTTP/1.1\u001b[0m\" 200 -\n",
      "I0330 15:38:16.704730 123145529503744 _internal.py:97] ::1 - - [30/Mar/2019 15:38:16] \"\u001b[37mGET /data/plugins_listing HTTP/1.1\u001b[0m\" 200 -\n",
      "I0330 15:38:16.716442 123145529503744 _internal.py:97] ::1 - - [30/Mar/2019 15:38:16] \"\u001b[37mGET /data/plugins_listing HTTP/1.1\u001b[0m\" 200 -\n",
      "I0330 15:38:47.687183 123145540014080 _internal.py:97] ::1 - - [30/Mar/2019 15:38:47] \"\u001b[37mGET /data/experiments HTTP/1.1\u001b[0m\" 200 -\n",
      "I0330 15:38:47.687592 123145534758912 _internal.py:97] ::1 - - [30/Mar/2019 15:38:47] \"\u001b[37mGET /data/environment HTTP/1.1\u001b[0m\" 200 -\n",
      "I0330 15:38:47.688478 123145524248576 _internal.py:97] ::1 - - [30/Mar/2019 15:38:47] \"\u001b[37mGET /data/runs HTTP/1.1\u001b[0m\" 200 -\n",
      "I0330 15:38:47.691450 123145529503744 _internal.py:97] ::1 - - [30/Mar/2019 15:38:47] \"\u001b[37mGET /data/plugins_listing HTTP/1.1\u001b[0m\" 200 -\n",
      "I0330 15:38:47.700005 123145529503744 _internal.py:97] ::1 - - [30/Mar/2019 15:38:47] \"\u001b[37mGET /data/plugins_listing HTTP/1.1\u001b[0m\" 200 -\n",
      "I0330 15:39:18.689409 123145540014080 _internal.py:97] ::1 - - [30/Mar/2019 15:39:18] \"\u001b[37mGET /data/experiments HTTP/1.1\u001b[0m\" 200 -\n",
      "I0330 15:39:18.690470 123145524248576 _internal.py:97] ::1 - - [30/Mar/2019 15:39:18] \"\u001b[37mGET /data/environment HTTP/1.1\u001b[0m\" 200 -\n",
      "I0330 15:39:18.693964 123145529503744 _internal.py:97] ::1 - - [30/Mar/2019 15:39:18] \"\u001b[37mGET /data/plugins_listing HTTP/1.1\u001b[0m\" 200 -\n",
      "I0330 15:39:18.694450 123145534758912 _internal.py:97] ::1 - - [30/Mar/2019 15:39:18] \"\u001b[37mGET /data/runs HTTP/1.1\u001b[0m\" 200 -\n",
      "I0330 15:39:18.707675 123145534758912 _internal.py:97] ::1 - - [30/Mar/2019 15:39:18] \"\u001b[37mGET /data/plugins_listing HTTP/1.1\u001b[0m\" 200 -\n",
      "I0330 15:39:49.688252 123145524248576 _internal.py:97] ::1 - - [30/Mar/2019 15:39:49] \"\u001b[37mGET /data/experiments HTTP/1.1\u001b[0m\" 200 -\n",
      "I0330 15:39:49.688524 123145540014080 _internal.py:97] ::1 - - [30/Mar/2019 15:39:49] \"\u001b[37mGET /data/runs HTTP/1.1\u001b[0m\" 200 -\n",
      "I0330 15:39:49.688860 123145529503744 _internal.py:97] ::1 - - [30/Mar/2019 15:39:49] \"\u001b[37mGET /data/environment HTTP/1.1\u001b[0m\" 200 -\n",
      "I0330 15:39:49.691803 123145534758912 _internal.py:97] ::1 - - [30/Mar/2019 15:39:49] \"\u001b[37mGET /data/plugins_listing HTTP/1.1\u001b[0m\" 200 -\n",
      "I0330 15:39:49.701715 123145534758912 _internal.py:97] ::1 - - [30/Mar/2019 15:39:49] \"\u001b[37mGET /data/plugins_listing HTTP/1.1\u001b[0m\" 200 -\n",
      "I0330 15:40:20.682447 123145540014080 _internal.py:97] ::1 - - [30/Mar/2019 15:40:20] \"\u001b[37mGET /data/runs HTTP/1.1\u001b[0m\" 200 -\n",
      "I0330 15:40:20.682801 123145529503744 _internal.py:97] ::1 - - [30/Mar/2019 15:40:20] \"\u001b[37mGET /data/environment HTTP/1.1\u001b[0m\" 200 -\n",
      "I0330 15:40:20.684097 123145524248576 _internal.py:97] ::1 - - [30/Mar/2019 15:40:20] \"\u001b[37mGET /data/experiments HTTP/1.1\u001b[0m\" 200 -\n",
      "I0330 15:40:20.686877 123145534758912 _internal.py:97] ::1 - - [30/Mar/2019 15:40:20] \"\u001b[37mGET /data/plugins_listing HTTP/1.1\u001b[0m\" 200 -\n",
      "I0330 15:40:20.695098 123145534758912 _internal.py:97] ::1 - - [30/Mar/2019 15:40:20] \"\u001b[37mGET /data/plugins_listing HTTP/1.1\u001b[0m\" 200 -\n",
      "I0330 15:40:51.457352 123145524248576 _internal.py:97] ::1 - - [30/Mar/2019 15:40:51] \"\u001b[37mGET /data/runs HTTP/1.1\u001b[0m\" 200 -\n",
      "I0330 15:40:51.458639 123145540014080 _internal.py:97] ::1 - - [30/Mar/2019 15:40:51] \"\u001b[37mGET /data/experiments HTTP/1.1\u001b[0m\" 200 -\n",
      "I0330 15:40:51.459331 123145529503744 _internal.py:97] ::1 - - [30/Mar/2019 15:40:51] \"\u001b[37mGET /data/environment HTTP/1.1\u001b[0m\" 200 -\n",
      "I0330 15:40:51.462597 123145534758912 _internal.py:97] ::1 - - [30/Mar/2019 15:40:51] \"\u001b[37mGET /data/plugins_listing HTTP/1.1\u001b[0m\" 200 -\n",
      "I0330 15:40:51.473591 123145534758912 _internal.py:97] ::1 - - [30/Mar/2019 15:40:51] \"\u001b[37mGET /data/plugins_listing HTTP/1.1\u001b[0m\" 200 -\n",
      "I0330 15:41:22.588038 123145529503744 _internal.py:97] ::1 - - [30/Mar/2019 15:41:22] \"\u001b[37mGET /data/environment HTTP/1.1\u001b[0m\" 200 -\n",
      "I0330 15:41:22.588845 123145524248576 _internal.py:97] ::1 - - [30/Mar/2019 15:41:22] \"\u001b[37mGET /data/experiments HTTP/1.1\u001b[0m\" 200 -\n",
      "I0330 15:41:22.589511 123145540014080 _internal.py:97] ::1 - - [30/Mar/2019 15:41:22] \"\u001b[37mGET /data/runs HTTP/1.1\u001b[0m\" 200 -\n",
      "I0330 15:41:22.590093 123145534758912 _internal.py:97] ::1 - - [30/Mar/2019 15:41:22] \"\u001b[37mGET /data/plugins_listing HTTP/1.1\u001b[0m\" 200 -\n",
      "I0330 15:41:22.599036 123145540014080 _internal.py:97] ::1 - - [30/Mar/2019 15:41:22] \"\u001b[37mGET /data/plugins_listing HTTP/1.1\u001b[0m\" 200 -\n",
      "I0330 15:41:52.595337 123145534758912 _internal.py:97] ::1 - - [30/Mar/2019 15:41:52] \"\u001b[37mGET /data/environment HTTP/1.1\u001b[0m\" 200 -\n",
      "I0330 15:41:52.596512 123145529503744 _internal.py:97] ::1 - - [30/Mar/2019 15:41:52] \"\u001b[37mGET /data/experiments HTTP/1.1\u001b[0m\" 200 -\n",
      "I0330 15:41:52.596767 123145524248576 _internal.py:97] ::1 - - [30/Mar/2019 15:41:52] \"\u001b[37mGET /data/runs HTTP/1.1\u001b[0m\" 200 -\n",
      "I0330 15:41:52.598447 123145540014080 _internal.py:97] ::1 - - [30/Mar/2019 15:41:52] \"\u001b[37mGET /data/plugins_listing HTTP/1.1\u001b[0m\" 200 -\n",
      "I0330 15:41:52.608623 123145540014080 _internal.py:97] ::1 - - [30/Mar/2019 15:41:52] \"\u001b[37mGET /data/plugins_listing HTTP/1.1\u001b[0m\" 200 -\n",
      "I0330 15:42:23.523397 123145534758912 _internal.py:97] ::1 - - [30/Mar/2019 15:42:23] \"\u001b[37mGET /data/experiments HTTP/1.1\u001b[0m\" 200 -\n",
      "I0330 15:42:23.523658 123145524248576 _internal.py:97] ::1 - - [30/Mar/2019 15:42:23] \"\u001b[37mGET /data/environment HTTP/1.1\u001b[0m\" 200 -\n",
      "I0330 15:42:23.523910 123145529503744 _internal.py:97] ::1 - - [30/Mar/2019 15:42:23] \"\u001b[37mGET /data/runs HTTP/1.1\u001b[0m\" 200 -\n",
      "I0330 15:42:23.525093 123145540014080 _internal.py:97] ::1 - - [30/Mar/2019 15:42:23] \"\u001b[37mGET /data/plugins_listing HTTP/1.1\u001b[0m\" 200 -\n",
      "I0330 15:42:23.533340 123145540014080 _internal.py:97] ::1 - - [30/Mar/2019 15:42:23] \"\u001b[37mGET /data/plugins_listing HTTP/1.1\u001b[0m\" 200 -\n",
      "I0330 15:42:53.556453 123145529503744 _internal.py:97] ::1 - - [30/Mar/2019 15:42:53] \"\u001b[37mGET /data/environment HTTP/1.1\u001b[0m\" 200 -\n",
      "I0330 15:42:53.556720 123145524248576 _internal.py:97] ::1 - - [30/Mar/2019 15:42:53] \"\u001b[37mGET /data/runs HTTP/1.1\u001b[0m\" 200 -\n",
      "I0330 15:42:53.556977 123145534758912 _internal.py:97] ::1 - - [30/Mar/2019 15:42:53] \"\u001b[37mGET /data/experiments HTTP/1.1\u001b[0m\" 200 -\n",
      "I0330 15:42:53.559123 123145540014080 _internal.py:97] ::1 - - [30/Mar/2019 15:42:53] \"\u001b[37mGET /data/plugins_listing HTTP/1.1\u001b[0m\" 200 -\n",
      "I0330 15:42:53.568465 123145540014080 _internal.py:97] ::1 - - [30/Mar/2019 15:42:53] \"\u001b[37mGET /data/plugins_listing HTTP/1.1\u001b[0m\" 200 -\n"
     ]
    },
    {
     "name": "stdout",
     "output_type": "stream",
     "text": [
      "I0330 15:43:24.609749 123145524248576 _internal.py:97] ::1 - - [30/Mar/2019 15:43:24] \"\u001b[37mGET /data/runs HTTP/1.1\u001b[0m\" 200 -\n",
      "I0330 15:43:24.610245 123145540014080 _internal.py:97] ::1 - - [30/Mar/2019 15:43:24] \"\u001b[37mGET /data/plugins_listing HTTP/1.1\u001b[0m\" 200 -\n",
      "I0330 15:43:24.611975 123145529503744 _internal.py:97] ::1 - - [30/Mar/2019 15:43:24] \"\u001b[37mGET /data/experiments HTTP/1.1\u001b[0m\" 200 -\n",
      "I0330 15:43:24.612450 123145534758912 _internal.py:97] ::1 - - [30/Mar/2019 15:43:24] \"\u001b[37mGET /data/environment HTTP/1.1\u001b[0m\" 200 -\n",
      "I0330 15:43:24.622254 123145534758912 _internal.py:97] ::1 - - [30/Mar/2019 15:43:24] \"\u001b[37mGET /data/plugins_listing HTTP/1.1\u001b[0m\" 200 -\n",
      "^C\n"
     ]
    }
   ],
   "source": [
    "my_log_dir = \"Logs/\"\n",
    "!tensorboard --logdir=Logs"
   ]
  },
  {
   "cell_type": "code",
   "execution_count": null,
   "metadata": {
    "collapsed": true
   },
   "outputs": [],
   "source": []
  }
 ],
 "metadata": {
  "kernelspec": {
   "display_name": "Python 3",
   "language": "python",
   "name": "python3"
  },
  "language_info": {
   "codemirror_mode": {
    "name": "ipython",
    "version": 3
   },
   "file_extension": ".py",
   "mimetype": "text/x-python",
   "name": "python",
   "nbconvert_exporter": "python",
   "pygments_lexer": "ipython3",
   "version": "3.6.3"
  },
  "toc": {
   "base_numbering": 1,
   "nav_menu": {},
   "number_sections": true,
   "sideBar": true,
   "skip_h1_title": false,
   "title_cell": "Table of Contents",
   "title_sidebar": "Contents",
   "toc_cell": false,
   "toc_position": {},
   "toc_section_display": true,
   "toc_window_display": false
  }
 },
 "nbformat": 4,
 "nbformat_minor": 2
}
