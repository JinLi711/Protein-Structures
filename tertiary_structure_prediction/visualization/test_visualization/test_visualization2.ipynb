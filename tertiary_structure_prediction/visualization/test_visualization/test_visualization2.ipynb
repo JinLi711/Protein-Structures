{
 "cells": [
  {
   "cell_type": "code",
   "execution_count": 3,
   "metadata": {
    "collapsed": true
   },
   "outputs": [],
   "source": [
    "import test_visualization as tv"
   ]
  },
  {
   "cell_type": "code",
   "execution_count": 4,
   "metadata": {},
   "outputs": [
    {
     "name": "stdout",
     "output_type": "stream",
     "text": [
      "PDB File:  TR217.pdb\n",
      "PDB File:  TR228.pdb\n",
      "PDB File:  TR274.pdb\n",
      "PDB File:  TR280.pdb\n",
      "PDB File:  TR283.pdb\n",
      "PDB File:  TR759.pdb\n",
      "PDB File:  TR760.pdb\n",
      "PDB File:  TR762.pdb\n",
      "PDB File:  TR765.pdb\n",
      "PDB File:  TR768.pdb\n",
      "PDB File:  TR769.pdb\n",
      "PDB File:  TR772.pdb\n",
      "PDB File:  TR774.pdb\n",
      "PDB File:  TR776.pdb\n",
      "PDB File:  TR780.pdb\n",
      "PDB File:  TR782.pdb\n",
      "PDB File:  TR783.pdb\n",
      "PDB File:  TR786.pdb\n",
      "PDB File:  TR792.pdb\n",
      "PDB File:  TR795.pdb\n",
      "PDB File:  TR803.pdb\n",
      "PDB File:  TR810.pdb\n",
      "PDB File:  TR811.pdb\n",
      "PDB File:  TR816.pdb\n",
      "PDB File:  TR817.pdb\n",
      "PDB File:  TR821.pdb\n",
      "PDB File:  TR822.pdb\n",
      "PDB File:  TR823.pdb\n",
      "PDB File:  TR827.pdb\n",
      "PDB File:  TR828.pdb\n",
      "PDB File:  TR829.pdb\n",
      "PDB File:  TR833.pdb\n",
      "PDB File:  TR837.pdb\n",
      "PDB File:  TR848.pdb\n",
      "PDB File:  TR854.pdb\n",
      "PDB File:  TR856.pdb\n",
      "PDB File:  TR857.pdb\n"
     ]
    }
   ],
   "source": [
    "import tensorflow as tf\n",
    "import sys\n",
    "import numpy as np\n",
    "import seaborn as sns\n",
    "import matplotlib.pyplot as plt\n",
    "import importlib\n",
    "tf.__version__\n",
    "path = \"../../\"\n",
    "model_path = path + \"models/\"\n",
    "test_path = path + \"data/test/\"\n",
    "model_path_cull = model_path + \"cull%i/\" % 1\n",
    "sys.path.insert(0, model_path + \"model_functions\")\n",
    "sys.path.insert(0, path + \"preprocess\")\n",
    "\n",
    "import primary_model as pm\n",
    "import fasta_to_1_hot_encodings as fthe\n",
    "import get_contact_maps as gcm\n",
    "\n",
    "model = tf.keras.models.load_model(\n",
    "    model_path_cull + 'my_model.h5',\n",
    "    custom_objects={\"OuterProduct2\": pm.OuterProduct2()}\n",
    ")\n",
    "\n",
    "fasta_seq_path = test_path + \"casp11.fasta\"\n",
    "pdb_path = test_path + \"casp11.targets_refine/\"\n",
    "\n",
    "fasta_seqs = fthe.convert_fasta_to_1_hot(\n",
    "    fasta_seq_path,\n",
    "    train=False\n",
    ")\n",
    "\n",
    "c_maps = gcm.get_contact_maps(\n",
    "    pdb_path,\n",
    "    train=False\n",
    ")\n",
    "\n",
    "# plot_contact_maps(model, fasta_seqs, c_maps)"
   ]
  },
  {
   "cell_type": "code",
   "execution_count": 3,
   "metadata": {},
   "outputs": [
    {
     "data": {
      "text/plain": [
       "{'TR217': array([[ True,  True,  True, ..., False,  True,  True],\n",
       "        [ True,  True,  True, ..., False,  True,  True],\n",
       "        [ True,  True,  True, ..., False,  True,  True],\n",
       "        ...,\n",
       "        [False, False, False, ...,  True,  True,  True],\n",
       "        [ True,  True,  True, ...,  True,  True,  True],\n",
       "        [ True,  True,  True, ...,  True,  True,  True]]),\n",
       " 'TR228': array([[ True,  True,  True, ..., False, False, False],\n",
       "        [ True,  True,  True, ..., False, False, False],\n",
       "        [ True,  True,  True, ..., False, False, False],\n",
       "        ...,\n",
       "        [False, False, False, ...,  True,  True,  True],\n",
       "        [False, False, False, ...,  True,  True,  True],\n",
       "        [False, False, False, ...,  True,  True,  True]]),\n",
       " 'TR274': array([[ True,  True,  True, ..., False,  True,  True],\n",
       "        [ True,  True,  True, ..., False, False, False],\n",
       "        [ True,  True,  True, ..., False, False, False],\n",
       "        ...,\n",
       "        [False, False, False, ...,  True,  True,  True],\n",
       "        [ True, False, False, ...,  True,  True,  True],\n",
       "        [ True, False, False, ...,  True,  True,  True]]),\n",
       " 'TR280': array([[ True,  True,  True, ..., False, False, False],\n",
       "        [ True,  True,  True, ..., False, False, False],\n",
       "        [ True,  True,  True, ..., False, False, False],\n",
       "        ...,\n",
       "        [False, False, False, ...,  True,  True,  True],\n",
       "        [False, False, False, ...,  True,  True,  True],\n",
       "        [False, False, False, ...,  True,  True,  True]]),\n",
       " 'TR283': array([[ True,  True,  True, ..., False, False, False],\n",
       "        [ True,  True,  True, ..., False, False, False],\n",
       "        [ True,  True,  True, ..., False, False, False],\n",
       "        ...,\n",
       "        [False, False, False, ...,  True,  True,  True],\n",
       "        [False, False, False, ...,  True,  True,  True],\n",
       "        [False, False, False, ...,  True,  True,  True]]),\n",
       " 'TR759': array([[ True,  True,  True, ..., False, False, False],\n",
       "        [ True,  True,  True, ..., False, False, False],\n",
       "        [ True,  True,  True, ..., False, False, False],\n",
       "        ...,\n",
       "        [False, False, False, ...,  True,  True,  True],\n",
       "        [False, False, False, ...,  True,  True,  True],\n",
       "        [False, False, False, ...,  True,  True,  True]]),\n",
       " 'TR760': array([[ True,  True,  True, ..., False, False, False],\n",
       "        [ True,  True,  True, ..., False, False, False],\n",
       "        [ True,  True,  True, ..., False, False, False],\n",
       "        ...,\n",
       "        [False, False, False, ...,  True,  True,  True],\n",
       "        [False, False, False, ...,  True,  True,  True],\n",
       "        [False, False, False, ...,  True,  True,  True]]),\n",
       " 'TR762': array([[ True,  True,  True, ..., False, False, False],\n",
       "        [ True,  True,  True, ..., False, False, False],\n",
       "        [ True,  True,  True, ..., False, False, False],\n",
       "        ...,\n",
       "        [False, False, False, ...,  True,  True,  True],\n",
       "        [False, False, False, ...,  True,  True,  True],\n",
       "        [False, False, False, ...,  True,  True,  True]]),\n",
       " 'TR765': array([[ True,  True,  True, ..., False, False, False],\n",
       "        [ True,  True,  True, ..., False, False, False],\n",
       "        [ True,  True,  True, ..., False, False,  True],\n",
       "        ...,\n",
       "        [False, False, False, ...,  True,  True,  True],\n",
       "        [False, False, False, ...,  True,  True,  True],\n",
       "        [False, False,  True, ...,  True,  True,  True]]),\n",
       " 'TR768': array([[ True,  True,  True, ..., False, False, False],\n",
       "        [ True,  True,  True, ..., False, False, False],\n",
       "        [ True,  True,  True, ..., False, False, False],\n",
       "        ...,\n",
       "        [False, False, False, ...,  True,  True,  True],\n",
       "        [False, False, False, ...,  True,  True,  True],\n",
       "        [False, False, False, ...,  True,  True,  True]]),\n",
       " 'TR769': array([[ True,  True,  True, ..., False, False, False],\n",
       "        [ True,  True,  True, ..., False, False, False],\n",
       "        [ True,  True,  True, ..., False, False, False],\n",
       "        ...,\n",
       "        [False, False, False, ...,  True,  True,  True],\n",
       "        [False, False, False, ...,  True,  True,  True],\n",
       "        [False, False, False, ...,  True,  True,  True]]),\n",
       " 'TR772': array([[ True,  True,  True, ...,  True, False, False],\n",
       "        [ True,  True,  True, ...,  True,  True, False],\n",
       "        [ True,  True,  True, ...,  True, False, False],\n",
       "        ...,\n",
       "        [ True,  True,  True, ...,  True,  True,  True],\n",
       "        [False,  True, False, ...,  True,  True,  True],\n",
       "        [False, False, False, ...,  True,  True,  True]]),\n",
       " 'TR774': array([[ True,  True,  True, ..., False, False, False],\n",
       "        [ True,  True,  True, ..., False, False, False],\n",
       "        [ True,  True,  True, ..., False, False, False],\n",
       "        ...,\n",
       "        [False, False, False, ...,  True,  True,  True],\n",
       "        [False, False, False, ...,  True,  True,  True],\n",
       "        [False, False, False, ...,  True,  True,  True]]),\n",
       " 'TR776': array([[ True,  True,  True, ..., False, False, False],\n",
       "        [ True,  True,  True, ...,  True, False, False],\n",
       "        [ True,  True,  True, ...,  True,  True, False],\n",
       "        ...,\n",
       "        [False,  True,  True, ...,  True,  True,  True],\n",
       "        [False, False,  True, ...,  True,  True,  True],\n",
       "        [False, False, False, ...,  True,  True,  True]]),\n",
       " 'TR780': array([[ True,  True,  True, ..., False, False, False],\n",
       "        [ True,  True,  True, ..., False, False, False],\n",
       "        [ True,  True,  True, ..., False, False, False],\n",
       "        ...,\n",
       "        [False, False, False, ...,  True,  True,  True],\n",
       "        [False, False, False, ...,  True,  True,  True],\n",
       "        [False, False, False, ...,  True,  True,  True]]),\n",
       " 'TR782': array([[ True,  True,  True, ..., False, False, False],\n",
       "        [ True,  True,  True, ..., False, False, False],\n",
       "        [ True,  True,  True, ..., False, False, False],\n",
       "        ...,\n",
       "        [False, False, False, ...,  True,  True,  True],\n",
       "        [False, False, False, ...,  True,  True,  True],\n",
       "        [False, False, False, ...,  True,  True,  True]]),\n",
       " 'TR783': array([[ True,  True,  True, ..., False, False, False],\n",
       "        [ True,  True,  True, ..., False, False, False],\n",
       "        [ True,  True,  True, ..., False, False, False],\n",
       "        ...,\n",
       "        [False, False, False, ...,  True,  True,  True],\n",
       "        [False, False, False, ...,  True,  True,  True],\n",
       "        [False, False, False, ...,  True,  True,  True]]),\n",
       " 'TR786': array([[ True,  True,  True, ..., False, False, False],\n",
       "        [ True,  True,  True, ..., False, False, False],\n",
       "        [ True,  True,  True, ..., False, False, False],\n",
       "        ...,\n",
       "        [False, False, False, ...,  True,  True,  True],\n",
       "        [False, False, False, ...,  True,  True,  True],\n",
       "        [False, False, False, ...,  True,  True,  True]]),\n",
       " 'TR792': array([[ True,  True,  True, ..., False, False, False],\n",
       "        [ True,  True,  True, ..., False, False, False],\n",
       "        [ True,  True,  True, ..., False, False, False],\n",
       "        ...,\n",
       "        [False, False, False, ...,  True,  True,  True],\n",
       "        [False, False, False, ...,  True,  True,  True],\n",
       "        [False, False, False, ...,  True,  True,  True]]),\n",
       " 'TR795': array([[ True,  True,  True, ..., False, False, False],\n",
       "        [ True,  True,  True, ..., False, False, False],\n",
       "        [ True,  True,  True, ..., False, False, False],\n",
       "        ...,\n",
       "        [False, False, False, ...,  True,  True,  True],\n",
       "        [False, False, False, ...,  True,  True,  True],\n",
       "        [False, False, False, ...,  True,  True,  True]]),\n",
       " 'TR803': array([[ True,  True,  True, ..., False, False, False],\n",
       "        [ True,  True,  True, ..., False, False, False],\n",
       "        [ True,  True,  True, ..., False, False, False],\n",
       "        ...,\n",
       "        [False, False, False, ...,  True,  True,  True],\n",
       "        [False, False, False, ...,  True,  True,  True],\n",
       "        [False, False, False, ...,  True,  True,  True]]),\n",
       " 'TR810': array([[ True,  True,  True, ..., False, False, False],\n",
       "        [ True,  True,  True, ..., False, False, False],\n",
       "        [ True,  True,  True, ..., False, False, False],\n",
       "        ...,\n",
       "        [False, False, False, ...,  True,  True,  True],\n",
       "        [False, False, False, ...,  True,  True,  True],\n",
       "        [False, False, False, ...,  True,  True,  True]]),\n",
       " 'TR811': array([[ True,  True,  True, ..., False, False, False],\n",
       "        [ True,  True,  True, ..., False, False, False],\n",
       "        [ True,  True,  True, ..., False, False, False],\n",
       "        ...,\n",
       "        [False, False, False, ...,  True,  True,  True],\n",
       "        [False, False, False, ...,  True,  True,  True],\n",
       "        [False, False, False, ...,  True,  True,  True]]),\n",
       " 'TR816': array([[ True,  True,  True, ..., False, False, False],\n",
       "        [ True,  True,  True, ..., False, False, False],\n",
       "        [ True,  True,  True, ..., False, False, False],\n",
       "        ...,\n",
       "        [False, False, False, ...,  True,  True,  True],\n",
       "        [False, False, False, ...,  True,  True,  True],\n",
       "        [False, False, False, ...,  True,  True,  True]]),\n",
       " 'TR817': array([[ True,  True,  True, ..., False,  True, False],\n",
       "        [ True,  True,  True, ..., False, False, False],\n",
       "        [ True,  True,  True, ..., False,  True, False],\n",
       "        ...,\n",
       "        [False, False, False, ...,  True,  True,  True],\n",
       "        [ True, False,  True, ...,  True,  True,  True],\n",
       "        [False, False, False, ...,  True,  True,  True]]),\n",
       " 'TR821': array([[ True,  True,  True, ..., False, False, False],\n",
       "        [ True,  True,  True, ..., False, False, False],\n",
       "        [ True,  True,  True, ..., False, False, False],\n",
       "        ...,\n",
       "        [False, False, False, ...,  True,  True,  True],\n",
       "        [False, False, False, ...,  True,  True,  True],\n",
       "        [False, False, False, ...,  True,  True,  True]]),\n",
       " 'TR822': array([[ True,  True,  True, ..., False, False, False],\n",
       "        [ True,  True,  True, ..., False, False, False],\n",
       "        [ True,  True,  True, ..., False,  True,  True],\n",
       "        ...,\n",
       "        [False, False, False, ...,  True,  True,  True],\n",
       "        [False, False,  True, ...,  True,  True,  True],\n",
       "        [False, False,  True, ...,  True,  True,  True]]),\n",
       " 'TR823': array([[ True,  True,  True, ..., False, False, False],\n",
       "        [ True,  True,  True, ..., False, False, False],\n",
       "        [ True,  True,  True, ..., False, False, False],\n",
       "        ...,\n",
       "        [False, False, False, ...,  True,  True,  True],\n",
       "        [False, False, False, ...,  True,  True,  True],\n",
       "        [False, False, False, ...,  True,  True,  True]]),\n",
       " 'TR827': array([[ True,  True,  True, ..., False, False, False],\n",
       "        [ True,  True,  True, ..., False, False, False],\n",
       "        [ True,  True,  True, ..., False, False, False],\n",
       "        ...,\n",
       "        [False, False, False, ...,  True,  True,  True],\n",
       "        [False, False, False, ...,  True,  True,  True],\n",
       "        [False, False, False, ...,  True,  True,  True]]),\n",
       " 'TR828': array([[ True,  True,  True, ..., False, False, False],\n",
       "        [ True,  True,  True, ..., False, False, False],\n",
       "        [ True,  True,  True, ..., False, False, False],\n",
       "        ...,\n",
       "        [False, False, False, ...,  True,  True,  True],\n",
       "        [False, False, False, ...,  True,  True,  True],\n",
       "        [False, False, False, ...,  True,  True,  True]]),\n",
       " 'TR829': array([[ True,  True,  True, ..., False, False, False],\n",
       "        [ True,  True,  True, ..., False, False, False],\n",
       "        [ True,  True,  True, ..., False, False, False],\n",
       "        ...,\n",
       "        [False, False, False, ...,  True,  True,  True],\n",
       "        [False, False, False, ...,  True,  True,  True],\n",
       "        [False, False, False, ...,  True,  True,  True]]),\n",
       " 'TR833': array([[ True,  True,  True, ..., False, False, False],\n",
       "        [ True,  True,  True, ..., False, False, False],\n",
       "        [ True,  True,  True, ..., False, False, False],\n",
       "        ...,\n",
       "        [False, False, False, ...,  True,  True,  True],\n",
       "        [False, False, False, ...,  True,  True,  True],\n",
       "        [False, False, False, ...,  True,  True,  True]]),\n",
       " 'TR837': array([[ True,  True,  True, ..., False, False, False],\n",
       "        [ True,  True,  True, ..., False, False, False],\n",
       "        [ True,  True,  True, ..., False, False, False],\n",
       "        ...,\n",
       "        [False, False, False, ...,  True,  True,  True],\n",
       "        [False, False, False, ...,  True,  True,  True],\n",
       "        [False, False, False, ...,  True,  True,  True]]),\n",
       " 'TR848': array([[ True,  True,  True, ..., False, False, False],\n",
       "        [ True,  True,  True, ..., False, False, False],\n",
       "        [ True,  True,  True, ..., False, False, False],\n",
       "        ...,\n",
       "        [False, False, False, ...,  True,  True,  True],\n",
       "        [False, False, False, ...,  True,  True,  True],\n",
       "        [False, False, False, ...,  True,  True,  True]]),\n",
       " 'TR854': array([[ True,  True,  True, ..., False,  True,  True],\n",
       "        [ True,  True,  True, ..., False, False,  True],\n",
       "        [ True,  True,  True, ..., False,  True,  True],\n",
       "        ...,\n",
       "        [False, False, False, ...,  True,  True,  True],\n",
       "        [ True, False,  True, ...,  True,  True,  True],\n",
       "        [ True,  True,  True, ...,  True,  True,  True]]),\n",
       " 'TR856': array([[ True,  True,  True, ..., False, False, False],\n",
       "        [ True,  True,  True, ..., False, False, False],\n",
       "        [ True,  True,  True, ..., False, False, False],\n",
       "        ...,\n",
       "        [False, False, False, ...,  True,  True,  True],\n",
       "        [False, False, False, ...,  True,  True,  True],\n",
       "        [False, False, False, ...,  True,  True,  True]]),\n",
       " 'TR857': array([[ True,  True,  True, ..., False, False, False],\n",
       "        [ True,  True,  True, ..., False, False, False],\n",
       "        [ True,  True,  True, ..., False, False, False],\n",
       "        ...,\n",
       "        [False, False, False, ...,  True,  True,  True],\n",
       "        [False, False, False, ...,  True,  True,  True],\n",
       "        [False, False, False, ...,  True,  True,  True]])}"
      ]
     },
     "execution_count": 3,
     "metadata": {},
     "output_type": "execute_result"
    }
   ],
   "source": [
    "c_maps"
   ]
  },
  {
   "cell_type": "code",
   "execution_count": 33,
   "metadata": {
    "collapsed": true
   },
   "outputs": [],
   "source": [
    "pdb_id = 'TR854'\n",
    "one_hot = fasta_seqs[pdb_id]\n",
    "one_hot = one_hot.reshape((1,) + one_hot.shape)\n",
    "c_map_pred = model.predict(one_hot)\n",
    "\n",
    "c_map_pred = c_map_pred.reshape(c_map_pred.shape[1:])"
   ]
  },
  {
   "cell_type": "code",
   "execution_count": 35,
   "metadata": {},
   "outputs": [
    {
     "name": "stdout",
     "output_type": "stream",
     "text": [
      "__________________________________________________________________________________________________\n",
      "Layer (type)                    Output Shape         Param #     Connected to                     \n",
      "==================================================================================================\n",
      "input_layer (InputLayer)        (None, None, 20)     0                                            \n",
      "__________________________________________________________________________________________________\n",
      "1d_convnet_layer1a (Conv1D)     (None, None, 20)     6820        input_layer[0][0]                \n",
      "__________________________________________________________________________________________________\n",
      "1d_convnet_batch_norm1a (BatchN (None, None, 20)     80          1d_convnet_layer1a[0][0]         \n",
      "__________________________________________________________________________________________________\n",
      "1d_convnet_layer1b (Conv1D)     (None, None, 20)     6820        1d_convnet_batch_norm1a[0][0]    \n",
      "__________________________________________________________________________________________________\n",
      "1d_convnet_batch_norm1b (BatchN (None, None, 20)     80          1d_convnet_layer1b[0][0]         \n",
      "__________________________________________________________________________________________________\n",
      "1d_convnet_residual_block1 (Add (None, None, 20)     0           1d_convnet_batch_norm1b[0][0]    \n",
      "                                                                 input_layer[0][0]                \n",
      "__________________________________________________________________________________________________\n",
      "1d_convnet_layer2a (Conv1D)     (None, None, 20)     6820        1d_convnet_residual_block1[0][0] \n",
      "__________________________________________________________________________________________________\n",
      "1d_convnet_batch_norm2a (BatchN (None, None, 20)     80          1d_convnet_layer2a[0][0]         \n",
      "__________________________________________________________________________________________________\n",
      "1d_convnet_layer2b (Conv1D)     (None, None, 20)     6820        1d_convnet_batch_norm2a[0][0]    \n",
      "__________________________________________________________________________________________________\n",
      "1d_convnet_batch_norm2b (BatchN (None, None, 20)     80          1d_convnet_layer2b[0][0]         \n",
      "__________________________________________________________________________________________________\n",
      "1d_convnet_residual_block2 (Add (None, None, 20)     0           1d_convnet_batch_norm2b[0][0]    \n",
      "                                                                 1d_convnet_residual_block1[0][0] \n",
      "__________________________________________________________________________________________________\n",
      "1d_convnet_layer3a (Conv1D)     (None, None, 20)     6820        1d_convnet_residual_block2[0][0] \n",
      "__________________________________________________________________________________________________\n",
      "1d_convnet_batch_norm3a (BatchN (None, None, 20)     80          1d_convnet_layer3a[0][0]         \n",
      "__________________________________________________________________________________________________\n",
      "1d_convnet_layer3b (Conv1D)     (None, None, 20)     6820        1d_convnet_batch_norm3a[0][0]    \n",
      "__________________________________________________________________________________________________\n",
      "1d_convnet_batch_norm3b (BatchN (None, None, 20)     80          1d_convnet_layer3b[0][0]         \n",
      "__________________________________________________________________________________________________\n",
      "1d_convnet_residual_block3 (Add (None, None, 20)     0           1d_convnet_batch_norm3b[0][0]    \n",
      "                                                                 1d_convnet_residual_block2[0][0] \n",
      "__________________________________________________________________________________________________\n",
      "outer_product2_3 (OuterProduct2 (None, None, None, 2 0           1d_convnet_residual_block3[0][0] \n",
      "__________________________________________________________________________________________________\n",
      "2d_convnet_layer1a (Conv2D)     (None, None, None, 2 3620        outer_product2_3[0][0]           \n",
      "__________________________________________________________________________________________________\n",
      "2d_convnet_batch_norm1a (BatchN (None, None, None, 2 80          2d_convnet_layer1a[0][0]         \n",
      "__________________________________________________________________________________________________\n",
      "2d_convnet_layer1b (Conv2D)     (None, None, None, 2 3620        2d_convnet_batch_norm1a[0][0]    \n",
      "__________________________________________________________________________________________________\n",
      "2d_convnet_batch_norm1b (BatchN (None, None, None, 2 80          2d_convnet_layer1b[0][0]         \n",
      "__________________________________________________________________________________________________\n",
      "2d_convnet_residual_block1 (Add (None, None, None, 2 0           2d_convnet_batch_norm1b[0][0]    \n",
      "                                                                 outer_product2_3[0][0]           \n",
      "__________________________________________________________________________________________________\n",
      "2d_convnet_layer2a (Conv2D)     (None, None, None, 2 3620        2d_convnet_residual_block1[0][0] \n",
      "__________________________________________________________________________________________________\n",
      "2d_convnet_batch_norm2a (BatchN (None, None, None, 2 80          2d_convnet_layer2a[0][0]         \n",
      "__________________________________________________________________________________________________\n",
      "2d_convnet_layer2b (Conv2D)     (None, None, None, 2 3620        2d_convnet_batch_norm2a[0][0]    \n",
      "__________________________________________________________________________________________________\n",
      "2d_convnet_batch_norm2b (BatchN (None, None, None, 2 80          2d_convnet_layer2b[0][0]         \n",
      "__________________________________________________________________________________________________\n",
      "2d_convnet_residual_block2 (Add (None, None, None, 2 0           2d_convnet_batch_norm2b[0][0]    \n",
      "                                                                 2d_convnet_residual_block1[0][0] \n",
      "__________________________________________________________________________________________________\n",
      "2d_convnet_layer3a (Conv2D)     (None, None, None, 2 3620        2d_convnet_residual_block2[0][0] \n",
      "__________________________________________________________________________________________________\n",
      "2d_convnet_batch_norm3a (BatchN (None, None, None, 2 80          2d_convnet_layer3a[0][0]         \n",
      "__________________________________________________________________________________________________\n",
      "2d_convnet_layer3b (Conv2D)     (None, None, None, 2 3620        2d_convnet_batch_norm3a[0][0]    \n",
      "__________________________________________________________________________________________________\n",
      "2d_convnet_batch_norm3b (BatchN (None, None, None, 2 80          2d_convnet_layer3b[0][0]         \n",
      "__________________________________________________________________________________________________\n",
      "2d_convnet_residual_block3 (Add (None, None, None, 2 0           2d_convnet_batch_norm3b[0][0]    \n",
      "                                                                 2d_convnet_residual_block2[0][0] \n",
      "__________________________________________________________________________________________________\n",
      "2d_convnet_layer4a (Conv2D)     (None, None, None, 2 3620        2d_convnet_residual_block3[0][0] \n",
      "__________________________________________________________________________________________________\n",
      "2d_convnet_batch_norm4a (BatchN (None, None, None, 2 80          2d_convnet_layer4a[0][0]         \n",
      "__________________________________________________________________________________________________\n",
      "2d_convnet_layer4b (Conv2D)     (None, None, None, 2 3620        2d_convnet_batch_norm4a[0][0]    \n",
      "__________________________________________________________________________________________________\n",
      "2d_convnet_batch_norm4b (BatchN (None, None, None, 2 80          2d_convnet_layer4b[0][0]         \n",
      "__________________________________________________________________________________________________\n",
      "2d_convnet_residual_block4 (Add (None, None, None, 2 0           2d_convnet_batch_norm4b[0][0]    \n",
      "                                                                 2d_convnet_residual_block3[0][0] \n",
      "__________________________________________________________________________________________________\n",
      "2d_convnet_layer5a (Conv2D)     (None, None, None, 2 3620        2d_convnet_residual_block4[0][0] \n",
      "__________________________________________________________________________________________________\n",
      "2d_convnet_batch_norm5a (BatchN (None, None, None, 2 80          2d_convnet_layer5a[0][0]         \n",
      "__________________________________________________________________________________________________\n",
      "2d_convnet_layer5b (Conv2D)     (None, None, None, 2 3620        2d_convnet_batch_norm5a[0][0]    \n",
      "__________________________________________________________________________________________________\n",
      "2d_convnet_batch_norm5b (BatchN (None, None, None, 2 80          2d_convnet_layer5b[0][0]         \n",
      "__________________________________________________________________________________________________\n",
      "2d_convnet_residual_block5 (Add (None, None, None, 2 0           2d_convnet_batch_norm5b[0][0]    \n",
      "                                                                 2d_convnet_residual_block4[0][0] \n",
      "__________________________________________________________________________________________________\n",
      "2d_convnet_layer6a (Conv2D)     (None, None, None, 2 3620        2d_convnet_residual_block5[0][0] \n",
      "__________________________________________________________________________________________________\n",
      "2d_convnet_batch_norm6a (BatchN (None, None, None, 2 80          2d_convnet_layer6a[0][0]         \n",
      "__________________________________________________________________________________________________\n",
      "2d_convnet_layer6b (Conv2D)     (None, None, None, 2 3620        2d_convnet_batch_norm6a[0][0]    \n",
      "__________________________________________________________________________________________________\n",
      "2d_convnet_batch_norm6b (BatchN (None, None, None, 2 80          2d_convnet_layer6b[0][0]         \n",
      "__________________________________________________________________________________________________\n",
      "2d_convnet_residual_block6 (Add (None, None, None, 2 0           2d_convnet_batch_norm6b[0][0]    \n",
      "                                                                 2d_convnet_residual_block5[0][0] \n",
      "__________________________________________________________________________________________________\n",
      "2d_convnet_layer7a (Conv2D)     (None, None, None, 2 3620        2d_convnet_residual_block6[0][0] \n",
      "__________________________________________________________________________________________________\n",
      "2d_convnet_batch_norm7a (BatchN (None, None, None, 2 80          2d_convnet_layer7a[0][0]         \n",
      "__________________________________________________________________________________________________\n",
      "2d_convnet_layer7b (Conv2D)     (None, None, None, 2 3620        2d_convnet_batch_norm7a[0][0]    \n",
      "__________________________________________________________________________________________________\n",
      "2d_convnet_batch_norm7b (BatchN (None, None, None, 2 80          2d_convnet_layer7b[0][0]         \n",
      "__________________________________________________________________________________________________\n",
      "2d_convnet_residual_block7 (Add (None, None, None, 2 0           2d_convnet_batch_norm7b[0][0]    \n",
      "                                                                 2d_convnet_residual_block6[0][0] \n",
      "__________________________________________________________________________________________________\n",
      "conv2d (Conv2D)                 (None, None, None, 1 21          2d_convnet_residual_block7[0][0] \n",
      "__________________________________________________________________________________________________\n",
      "batch_normalization_v1 (BatchNo (None, None, None, 1 4           conv2d[0][0]                     \n",
      "__________________________________________________________________________________________________\n",
      "flatten (Flatten)               (None, None)         0           batch_normalization_v1[0][0]     \n",
      "__________________________________________________________________________________________________\n",
      "lambda (Lambda)                 (None, None, 1)      0           flatten[0][0]                    \n",
      "__________________________________________________________________________________________________\n",
      "activation (Activation)         (None, None, 1)      0           lambda[0][0]                     \n",
      "==================================================================================================\n",
      "Total params: 93,225\n",
      "Trainable params: 92,423\n",
      "Non-trainable params: 802\n",
      "__________________________________________________________________________________________________\n"
     ]
    }
   ],
   "source": [
    "model.summary()"
   ]
  },
  {
   "cell_type": "code",
   "execution_count": 34,
   "metadata": {},
   "outputs": [
    {
     "data": {
      "text/plain": [
       "array([[0.1237931],\n",
       "       [0.1237931],\n",
       "       [0.1237931],\n",
       "       ...,\n",
       "       [0.1237931],\n",
       "       [0.1237931],\n",
       "       [0.1237931]], dtype=float32)"
      ]
     },
     "execution_count": 34,
     "metadata": {},
     "output_type": "execute_result"
    }
   ],
   "source": [
    "c_map_pred"
   ]
  },
  {
   "cell_type": "code",
   "execution_count": 12,
   "metadata": {},
   "outputs": [],
   "source": [
    "from math import sqrt\n",
    "c_map_pred_shape = int (sqrt (c_map_pred.shape[0]))\n",
    "reshaped = c_map_pred.reshape((c_map_pred_shape, c_map_pred_shape))#.shape"
   ]
  },
  {
   "cell_type": "code",
   "execution_count": 15,
   "metadata": {},
   "outputs": [
    {
     "data": {
      "image/png": "[encoded data removed]",
      "text/plain": [
       "<matplotlib.figure.Figure at 0x1a2e76be10>"
      ]
     },
     "metadata": {},
     "output_type": "display_data"
    }
   ],
   "source": [
    "plt.imshow(reshaped)\n",
    "plt.show()"
   ]
  },
  {
   "cell_type": "code",
   "execution_count": 30,
   "metadata": {},
   "outputs": [
    {
     "name": "stdout",
     "output_type": "stream",
     "text": [
      "1000\n",
      "9216\n"
     ]
    }
   ],
   "source": [
    "# reshaped\n",
    "id1 = 'TR280'\n",
    "print (np.count_nonzero (c_maps[id1]))\n",
    "print(c_maps[id1].shape[0] * c_maps[id1].shape[1])"
   ]
  },
  {
   "cell_type": "code",
   "execution_count": 9,
   "metadata": {},
   "outputs": [
    {
     "data": {
      "image/png": "[encoded data removed]",
      "text/plain": [
       "<matplotlib.figure.Figure at 0x1182619b0>"
      ]
     },
     "metadata": {},
     "output_type": "display_data"
    }
   ],
   "source": [
    "plt.imshow(c_map_pred[:, :, 0] - c_map_pred[:, :, 1] > 0.5)\n",
    "plt.show()"
   ]
  },
  {
   "cell_type": "code",
   "execution_count": 17,
   "metadata": {},
   "outputs": [
    {
     "data": {
      "image/png": "[encoded data removed]",
      "text/plain": [
       "<matplotlib.figure.Figure at 0x1a3492e8d0>"
      ]
     },
     "metadata": {},
     "output_type": "display_data"
    }
   ],
   "source": [
    "# np.argmax(c_map_pred, axis=-1)\n",
    "# plt.imshow (c_map_pred[:, :, 0] > c_map_pred[:, :, 1])\n",
    "# plt.imshow(np.argmax(c_map_pred, axis=-1))\n",
    "plt.show()"
   ]
  },
  {
   "cell_type": "code",
   "execution_count": 37,
   "metadata": {},
   "outputs": [
    {
     "data": {
      "text/plain": [
       "(379, 379)"
      ]
     },
     "execution_count": 37,
     "metadata": {},
     "output_type": "execute_result"
    }
   ],
   "source": [
    "c_map_pred[:, :, 0].shape"
   ]
  },
  {
   "cell_type": "code",
   "execution_count": 23,
   "metadata": {},
   "outputs": [
    {
     "data": {
      "text/plain": [
       "68138"
      ]
     },
     "execution_count": 23,
     "metadata": {},
     "output_type": "execute_result"
    }
   ],
   "source": [
    "np.count_nonzero (c_map_pred[:, :, 1] > 0.5)"
   ]
  },
  {
   "cell_type": "code",
   "execution_count": 45,
   "metadata": {
    "collapsed": true
   },
   "outputs": [],
   "source": [
    "\"\"\"\n",
    "CONFOLD server requires:\n",
    "E-mail Address\n",
    "Job Id\n",
    "Sequence\n",
    "Secondary Structure\n",
    "Contacts\n",
    "\"\"\"\n",
    "\n",
    "\n",
    "def contacts_in_RR_format(pdb_id, contact_map, sequence, sec_structure, threshold=8):\n",
    "    \"\"\"\n",
    "    Convert the contact map matrix into the RR format.\n",
    "\n",
    "    Format is:\n",
    "\n",
    "    i  j  d1  d2  p\n",
    "\n",
    "    i, j are the indices of the residues in contact.\n",
    "    i < j (since the matrix is symmetrical)\n",
    "\n",
    "    d1 and d2 indicates the threshold for contact.\n",
    "    d1 = 0, d2 = 8 Angstrom is the norm.\n",
    "\n",
    "    p indicates the probability of the two residues \n",
    "    in contact. (0.0-1.0)\n",
    "    Contacts should be listed in decreasing order\n",
    "\n",
    "    Any pair not listed is considered to not be in contact\n",
    "\n",
    "    See here for more information:\n",
    "    http://predictioncenter.org/casp13/index.cgi?page=format\n",
    "\n",
    "    :param pdb_id: pdb id\n",
    "    :type  pdb_id: str\n",
    "    :param contact_map: contact matrix\n",
    "    :type  contact_map: numpy array\n",
    "    :param sequence: one letter aa sequence\n",
    "    :type  sequence: str \n",
    "    :param sec_structure: one letter secondary structure\n",
    "    :type  sec_structure: str\n",
    "    :param threshold: threshold of contact\n",
    "    :param threshold: int\n",
    "    :returns: a string in the correct format\n",
    "    :rtype:   str\n",
    "    \"\"\"\n",
    "\n",
    "    df = pd.DataFrame(contact_map)\n",
    "\n",
    "    columns = df.columns\n",
    "\n",
    "    contacts = {}\n",
    "    for index, row in df.iterrows():\n",
    "        for col_num, col in enumerate(columns):\n",
    "            prob = row[col]\n",
    "            if prob > 0.5:\n",
    "                min1 = min(index, col_num)\n",
    "                max1 = max(index, col_num)\n",
    "                contacts[str(min1) + ' ' + str(max1)] = prob\n",
    "#                 contacts.append((index, col_num, prob))\n",
    "\n",
    "    contact_str = \"Sequence: \\n%s\\n\\n\\n\" % sequence\n",
    "    contact_str += \"Secondary Structure: \\n%s\\n\\n\\n\" % sec_structure\n",
    "    contact_str += \"Residues in Contact:\\n\"\n",
    "\n",
    "    for resids, prob in contacts.items():\n",
    "        contact_str += resids + \" \" + str(prob) + '\\n'\n",
    "#     return contacts\n",
    "\n",
    "    return contact_str\n",
    "\n",
    "\n",
    "x = contacts_in_RR_format(\"AAAA\", c_map_pred[:, :, 1][:5, :5], \"AAAA\", \"BBBB\")"
   ]
  },
  {
   "cell_type": "code",
   "execution_count": 46,
   "metadata": {},
   "outputs": [
    {
     "name": "stdout",
     "output_type": "stream",
     "text": [
      "Sequence: \n",
      "AAAA\n",
      "\n",
      "\n",
      "Secondary Structure: \n",
      "BBBB\n",
      "\n",
      "\n",
      "Residues in Contact:\n",
      "0 0 10.917419\n",
      "0 1 9.447587\n",
      "0 2 5.150753\n",
      "0 3 1.4173317\n",
      "0 4 2.670597\n",
      "1 1 8.65955\n",
      "1 2 5.712083\n",
      "1 3 8.800732\n",
      "1 4 9.907942\n",
      "2 2 8.1895685\n",
      "2 3 1.4162312\n",
      "2 4 9.609776\n",
      "3 3 3.6729276\n",
      "3 4 8.167943\n",
      "4 4 1.8101193\n",
      "\n"
     ]
    }
   ],
   "source": [
    "print (x)"
   ]
  },
  {
   "cell_type": "code",
   "execution_count": 24,
   "metadata": {},
   "outputs": [
    {
     "data": {
      "text/plain": [
       "3"
      ]
     },
     "execution_count": 24,
     "metadata": {},
     "output_type": "execute_result"
    }
   ],
   "source": [
    "import pandas as pd\n",
    "\n",
    "# pd.DataFrame(c_map_pred[:, :, 1])\n",
    "min(3,4)"
   ]
  },
  {
   "cell_type": "code",
   "execution_count": 28,
   "metadata": {},
   "outputs": [
    {
     "ename": "AttributeError",
     "evalue": "module 'numpy' has no attribute 'symmetric'",
     "output_type": "error",
     "traceback": [
      "\u001b[0;31m---------------------------------------------------------------------------\u001b[0m",
      "\u001b[0;31mAttributeError\u001b[0m                            Traceback (most recent call last)",
      "\u001b[0;32m<ipython-input-28-481ddf1b118f>\u001b[0m in \u001b[0;36m<module>\u001b[0;34m()\u001b[0m\n\u001b[0;32m----> 1\u001b[0;31m \u001b[0ma\u001b[0m \u001b[0;34m=\u001b[0m \u001b[0mnp\u001b[0m\u001b[0;34m.\u001b[0m\u001b[0msymmetric\u001b[0m\u001b[0;34m(\u001b[0m\u001b[0;34m(\u001b[0m\u001b[0;36m3\u001b[0m\u001b[0;34m,\u001b[0m\u001b[0;36m3\u001b[0m\u001b[0;34m)\u001b[0m\u001b[0;34m)\u001b[0m\u001b[0;34m\u001b[0m\u001b[0m\n\u001b[0m",
      "\u001b[0;31mAttributeError\u001b[0m: module 'numpy' has no attribute 'symmetric'"
     ]
    }
   ],
   "source": [
    "a = np.symmetric((3,3))"
   ]
  },
  {
   "cell_type": "code",
   "execution_count": null,
   "metadata": {
    "collapsed": true
   },
   "outputs": [],
   "source": []
  }
 ],
 "metadata": {
  "kernelspec": {
   "display_name": "Python 3",
   "language": "python",
   "name": "python3"
  },
  "language_info": {
   "codemirror_mode": {
    "name": "ipython",
    "version": 3
   },
   "file_extension": ".py",
   "mimetype": "text/x-python",
   "name": "python",
   "nbconvert_exporter": "python",
   "pygments_lexer": "ipython3",
   "version": "3.6.3"
  },
  "toc": {
   "base_numbering": 1,
   "nav_menu": {},
   "number_sections": true,
   "sideBar": true,
   "skip_h1_title": false,
   "title_cell": "Table of Contents",
   "title_sidebar": "Contents",
   "toc_cell": false,
   "toc_position": {},
   "toc_section_display": true,
   "toc_window_display": false
  }
 },
 "nbformat": 4,
 "nbformat_minor": 2
}
