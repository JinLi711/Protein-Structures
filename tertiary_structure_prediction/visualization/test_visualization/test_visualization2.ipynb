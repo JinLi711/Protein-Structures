{
 "cells": [
  {
   "cell_type": "code",
   "execution_count": 1,
   "metadata": {},
   "outputs": [
    {
     "name": "stdout",
     "output_type": "stream",
     "text": [
      "PDB File:  TR217.pdb\n",
      "PDB File:  TR228.pdb\n",
      "PDB File:  TR274.pdb\n",
      "PDB File:  TR280.pdb\n",
      "PDB File:  TR283.pdb\n",
      "PDB File:  TR759.pdb\n",
      "PDB File:  TR760.pdb\n",
      "PDB File:  TR762.pdb\n",
      "PDB File:  TR765.pdb\n",
      "PDB File:  TR768.pdb\n",
      "PDB File:  TR769.pdb\n",
      "PDB File:  TR772.pdb\n",
      "PDB File:  TR774.pdb\n",
      "PDB File:  TR776.pdb\n",
      "PDB File:  TR780.pdb\n",
      "PDB File:  TR782.pdb\n",
      "PDB File:  TR783.pdb\n",
      "PDB File:  TR786.pdb\n",
      "PDB File:  TR792.pdb\n",
      "PDB File:  TR795.pdb\n",
      "PDB File:  TR803.pdb\n",
      "PDB File:  TR810.pdb\n",
      "PDB File:  TR811.pdb\n",
      "PDB File:  TR816.pdb\n",
      "PDB File:  TR817.pdb\n",
      "PDB File:  TR821.pdb\n",
      "PDB File:  TR822.pdb\n",
      "PDB File:  TR823.pdb\n",
      "PDB File:  TR827.pdb\n",
      "PDB File:  TR828.pdb\n",
      "PDB File:  TR829.pdb\n",
      "PDB File:  TR833.pdb\n",
      "PDB File:  TR837.pdb\n",
      "PDB File:  TR848.pdb\n",
      "PDB File:  TR854.pdb\n",
      "PDB File:  TR856.pdb\n",
      "PDB File:  TR857.pdb\n"
     ]
    }
   ],
   "source": [
    "import test_visualization as tv"
   ]
  },
  {
   "cell_type": "code",
   "execution_count": 3,
   "metadata": {},
   "outputs": [],
   "source": [
    "tv.plot_contact_maps(tv.model, tv.fasta_seqs, tv.c_maps)"
   ]
  },
  {
   "cell_type": "code",
   "execution_count": null,
   "metadata": {
    "collapsed": true
   },
   "outputs": [],
   "source": []
  }
 ],
 "metadata": {
  "kernelspec": {
   "display_name": "Python 3",
   "language": "python",
   "name": "python3"
  },
  "language_info": {
   "codemirror_mode": {
    "name": "ipython",
    "version": 3
   },
   "file_extension": ".py",
   "mimetype": "text/x-python",
   "name": "python",
   "nbconvert_exporter": "python",
   "pygments_lexer": "ipython3",
   "version": "3.6.3"
  },
  "toc": {
   "base_numbering": 1,
   "nav_menu": {},
   "number_sections": true,
   "sideBar": true,
   "skip_h1_title": false,
   "title_cell": "Table of Contents",
   "title_sidebar": "Contents",
   "toc_cell": false,
   "toc_position": {},
   "toc_section_display": true,
   "toc_window_display": false
  }
 },
 "nbformat": 4,
 "nbformat_minor": 2
}
