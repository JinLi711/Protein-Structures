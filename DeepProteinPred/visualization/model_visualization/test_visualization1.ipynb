{
 "cells": [
  {
   "cell_type": "code",
   "execution_count": null,
   "metadata": {
    "ExecuteTime": {
     "end_time": "2019-06-12T16:06:27.915261Z",
     "start_time": "2019-06-12T16:06:24.585561Z"
    }
   },
   "outputs": [],
   "source": [
    "import tensorflow as tf\n",
    "import sys\n",
    "import numpy as np\n",
    "import seaborn as sns\n",
    "import matplotlib.pyplot as plt\n",
    "import importlib\n",
    "\n",
    "import primary_model as pm\n",
    "import fasta_to_1_hot_encodings as fthe\n",
    "import get_contact_maps as gcm\n",
    "\n",
    "\n",
    "path = \"../../\"\n",
    "model_path = path + \"models/\"\n",
    "test_path = path + \"data/test/\"\n",
    "model_path_cull = model_path + \"cull%i/\" % 1\n",
    "\n",
    "fasta_seq_path = test_path + \"casp11.fasta\"\n",
    "pdb_path = test_path + \"casp11.targets_refine/\"\n",
    "\n",
    "sys.path.insert(0, model_path + \"model_functions\")\n",
    "sys.path.insert(0, path + \"preprocess\")\n",
    "\n",
    "\n",
    "%matplotlib inline\n",
    "importlib.reload(gcm)\n",
    "importlib.reload(fthe)"
   ]
  },
  {
   "cell_type": "code",
   "execution_count": null,
   "metadata": {},
   "outputs": [],
   "source": [
    "model = tf.keras.models.load_model(\n",
    "    model_path_cull + 'my_model.h5',\n",
    "    custom_objects={\"OuterProduct\": pm.OuterProduct}\n",
    ")"
   ]
  },
  {
   "cell_type": "code",
   "execution_count": null,
   "metadata": {},
   "outputs": [],
   "source": [
    "fasta_seqs = fthe.convert_fasta_to_1_hot(fasta_seq_path, train=False)"
   ]
  },
  {
   "cell_type": "code",
   "execution_count": null,
   "metadata": {},
   "outputs": [],
   "source": [
    "c_maps = gcm.get_contact_maps(pdb_path, train=False)"
   ]
  },
  {
   "cell_type": "code",
   "execution_count": null,
   "metadata": {},
   "outputs": [],
   "source": [
    "c_maps"
   ]
  },
  {
   "cell_type": "code",
   "execution_count": null,
   "metadata": {},
   "outputs": [],
   "source": [
    "fasta_seqs"
   ]
  },
  {
   "cell_type": "code",
   "execution_count": null,
   "metadata": {},
   "outputs": [],
   "source": [
    "test_id = 'TR857'\n",
    "test = fasta_seqs[test_id]\n",
    "test2 = test.reshape((1,) + test.shape )\n",
    "test2.shape"
   ]
  },
  {
   "cell_type": "code",
   "execution_count": null,
   "metadata": {},
   "outputs": [],
   "source": [
    "prediction = model.predict(test2)#.shape\n",
    "prediction.shape\n",
    "\n",
    "len(\"GHMGSPVSYYFSYADGGTSHTEYPDDSSAGSFILDITSYKKTGNSTKALSWNASGDSWIHVNGSSVSYDENPAKERRTGLVTLKQDESGKTLSLKIVQPGKTSID\")"
   ]
  },
  {
   "cell_type": "code",
   "execution_count": null,
   "metadata": {},
   "outputs": [],
   "source": [
    "reshaped = prediction.reshape(prediction.shape[1:])\n",
    "reshaped.shape\n",
    "type(model)"
   ]
  },
  {
   "cell_type": "code",
   "execution_count": null,
   "metadata": {},
   "outputs": [],
   "source": [
    "# .shape\n",
    "\n",
    "\n",
    "def plot_contact_maps(model, fasta_seqs, c_maps, save_dir=\"plots/\"):\n",
    "    \"\"\"\n",
    "    If possible, plot the actual contact maps\n",
    "    and the predicted contact maps.\n",
    "\n",
    "    :param model: trained keras model\n",
    "    :type  model:\n",
    "    :param fasta_seq: dictionary mapping PDB ID to 1 hot \n",
    "    :type  fasta_seq: dict\n",
    "    :param c_maps: dictionary mapping PDB ID to c_map\n",
    "    :type  c_maps: dict\n",
    "    :param save_dir: directory to save plots\n",
    "    :type  save_dir: str\n",
    "    \"\"\"\n",
    "\n",
    "    for pdb_id, cmap in c_maps.items():\n",
    "        one_hot = fasta_seqs[pdb_id]\n",
    "        one_hot = one_hot.reshape((1,) + one_hot.shape)\n",
    "        c_map_pred = model.predict(one_hot)\n",
    "\n",
    "        c_map_pred = c_map_pred.reshape(c_map_pred.shape[1:])\n",
    "        fig = plt.figure(figsize=(20, 10))\n",
    "        fig.suptitle(\"PDB ID: \" + pdb_id)\n",
    "\n",
    "        ax1 = plt.subplot(221)\n",
    "        ax1.set_title(\"Predicted: \")\n",
    "        plt.imshow(c_map_pred[:, :, 0] > 0.5)\n",
    "\n",
    "        ax2 = plt.subplot(222)\n",
    "        ax2.set_title(\"Actual: \")\n",
    "        plt.imshow(c_maps[pdb_id])\n",
    "\n",
    "        plt.savefig(save_dir + pdb_id + \"cmap.png\")\n",
    "\n",
    "\n",
    "plot_contact_maps(model, fasta_seqs, c_maps)"
   ]
  },
  {
   "cell_type": "code",
   "execution_count": null,
   "metadata": {},
   "outputs": [],
   "source": [
    "one_hot = fasta_seqs[\"TR774\"]\n",
    "one_hot = one_hot.reshape((1,) + one_hot.shape)\n",
    "c_map_pred = model.predict(one_hot)"
   ]
  },
  {
   "cell_type": "code",
   "execution_count": null,
   "metadata": {},
   "outputs": [],
   "source": [
    "# plt.subplots(2,2)\n",
    "plt.figure(figsize=(20,10))\n",
    "# plt.figure\n",
    "plt.subplot(221)\n",
    "plt.imshow(reshaped[:,:,0] > 0.5)\n",
    "plt.subplot(222)\n",
    "plt.imshow(c_maps[test_id])\n",
    "save_dir = \"plots/\"\n",
    "plt.savefig(save_dir + \"test_plot.png\")\n",
    "# reshaped[:,:,0]#.shape"
   ]
  },
  {
   "cell_type": "code",
   "execution_count": null,
   "metadata": {},
   "outputs": [],
   "source": [
    "# from Bio import SeqIO\n",
    "# for i in SeqIO.parse(fasta_seq_path, \"fasta\"):\n",
    "#     print (i.name)\n",
    "#     break"
   ]
  },
  {
   "cell_type": "code",
   "execution_count": null,
   "metadata": {},
   "outputs": [],
   "source": [
    "# type(SeqIO.parse(fasta_seq_path, \"fasta\"))"
   ]
  },
  {
   "cell_type": "code",
   "execution_count": null,
   "metadata": {},
   "outputs": [],
   "source": [
    "# def sequences_to_dict(seq_gen):\n",
    "#     \"\"\"\n",
    "#     Create a dictionary mapping the PDB ID to\n",
    "#     the sequence.\n",
    "#     This is an alternative to SeqIO.to_dict, which\n",
    "#     can not handle duplicate keys.\n",
    "#     This will only get the first key if there\n",
    "#     are duplicate keys\n",
    "\n",
    "#     :param: a generator for the fasta sequences\n",
    "#     :type:  generator\n",
    "#     :returns: dictionary mapping key to sequence\n",
    "#     :rtype:   dict\n",
    "#     \"\"\"\n",
    "\n",
    "#     dict1 = {}\n",
    "\n",
    "#     for seq in seq_gen:\n",
    "#         try:\n",
    "#             dict1[seq.name] = seq\n",
    "#         except ValueError:\n",
    "#             pass\n",
    "\n",
    "#     return dict1"
   ]
  },
  {
   "cell_type": "code",
   "execution_count": null,
   "metadata": {},
   "outputs": [],
   "source": [
    "?SeqIO.to_dict"
   ]
  },
  {
   "cell_type": "code",
   "execution_count": null,
   "metadata": {},
   "outputs": [],
   "source": [
    "\"TR283,\"[:5]"
   ]
  },
  {
   "cell_type": "code",
   "execution_count": null,
   "metadata": {
    "ExecuteTime": {
     "end_time": "2019-06-12T16:07:06.728322Z",
     "start_time": "2019-06-12T16:07:06.723005Z"
    }
   },
   "outputs": [],
   "source": [
    "import numpy as np\n",
    "npxz = np.array([1,2,3])\n",
    "npxz.shape[0]"
   ]
  },
  {
   "cell_type": "code",
   "execution_count": null,
   "metadata": {
    "ExecuteTime": {
     "end_time": "2019-06-12T19:29:33.719856Z",
     "start_time": "2019-06-12T19:29:33.715950Z"
    }
   },
   "outputs": [],
   "source": [
    "from multiprocessing import Process, Manager\n",
    "\n",
    "def dothing(L, i):  # the managed list `L` passed explicitly.\n",
    "    L.append(\"anything\")"
   ]
  },
  {
   "cell_type": "code",
   "execution_count": null,
   "metadata": {
    "ExecuteTime": {
     "end_time": "2019-06-12T19:32:09.362120Z",
     "start_time": "2019-06-12T19:32:09.346043Z"
    }
   },
   "outputs": [],
   "source": [
    "with Manager() as manager:\n",
    "    L = manager.list()  # <-- can be shared between processes.\n",
    "    processes = []\n",
    "    for i in range(5):\n",
    "        p = Process(target=dothing, args=(L,i))  # Passing the list\n",
    "        p.start()\n",
    "        processes.append(p)\n",
    "    for p in processes:\n",
    "        p.join()\n",
    "    print (L)"
   ]
  },
  {
   "cell_type": "code",
   "execution_count": null,
   "metadata": {
    "ExecuteTime": {
     "end_time": "2019-06-12T19:31:44.828702Z",
     "start_time": "2019-06-12T19:31:44.823926Z"
    }
   },
   "outputs": [],
   "source": [
    "print([\"anything\" for i in range(50)])"
   ]
  },
  {
   "cell_type": "code",
   "execution_count": null,
   "metadata": {
    "ExecuteTime": {
     "end_time": "2019-06-12T19:57:00.704981Z",
     "start_time": "2019-06-12T19:57:00.587494Z"
    }
   },
   "outputs": [],
   "source": [
    "import multiprocessing\n",
    "\n",
    "# split a list into evenly sized chunks\n",
    "def chunks(l, n):\n",
    "    return [l[i:i+n] for i in range(0, len(l), n)]\n",
    "\n",
    "\n",
    "def do_job(job_id, data_slice):\n",
    "    for item in data_slice:\n",
    "#         print (\"job\", job_id, item)\n",
    "        for i in range (item):\n",
    "            for i in range (item):\n",
    "                for i in range (item):\n",
    "                    j = 6 * i\n",
    "\n",
    "\n",
    "def dispatch_jobs(data, job_number):\n",
    "    total = len(data)\n",
    "    chunk_size = total / job_number\n",
    "    slices = chunks(data, int(chunk_size))\n",
    "    jobs = []\n",
    "\n",
    "    for i, s in enumerate(slices):\n",
    "        j = multiprocessing.Process(target=do_job, args=(i, s))\n",
    "        jobs.append(j)\n",
    "    for j in jobs:\n",
    "        j.start()\n",
    "#     for j in jobs:\n",
    "#         j.join()\n",
    "\n",
    "\n",
    "\n",
    "data = [(i) for i in range(2000000)]"
   ]
  },
  {
   "cell_type": "code",
   "execution_count": null,
   "metadata": {
    "ExecuteTime": {
     "end_time": "2019-06-12T19:57:02.945061Z",
     "start_time": "2019-06-12T19:57:02.868981Z"
    }
   },
   "outputs": [],
   "source": [
    "dispatch_jobs(data, 1)"
   ]
  },
  {
   "cell_type": "code",
   "execution_count": null,
   "metadata": {},
   "outputs": [],
   "source": []
  },
  {
   "cell_type": "code",
   "execution_count": null,
   "metadata": {
    "ExecuteTime": {
     "end_time": "2019-06-12T19:57:06.700183Z",
     "start_time": "2019-06-12T19:57:06.601310Z"
    }
   },
   "outputs": [],
   "source": [
    "dispatch_jobs(data, 4)"
   ]
  },
  {
   "cell_type": "code",
   "execution_count": null,
   "metadata": {},
   "outputs": [],
   "source": []
  }
 ],
 "metadata": {
  "kernelspec": {
   "display_name": "Python 3",
   "language": "python",
   "name": "python3"
  },
  "language_info": {
   "codemirror_mode": {
    "name": "ipython",
    "version": 3
   },
   "file_extension": ".py",
   "mimetype": "text/x-python",
   "name": "python",
   "nbconvert_exporter": "python",
   "pygments_lexer": "ipython3",
   "version": "3.7.3"
  },
  "latex_envs": {
   "LaTeX_envs_menu_present": true,
   "autoclose": false,
   "autocomplete": true,
   "bibliofile": "biblio.bib",
   "cite_by": "apalike",
   "current_citInitial": 1,
   "eqLabelWithNumbers": true,
   "eqNumInitial": 1,
   "hotkeys": {
    "equation": "Ctrl-E",
    "itemize": "Ctrl-I"
   },
   "labels_anchors": false,
   "latex_user_defs": false,
   "report_style_numbering": false,
   "user_envs_cfg": false
  },
  "toc": {
   "base_numbering": 1,
   "nav_menu": {},
   "number_sections": true,
   "sideBar": true,
   "skip_h1_title": false,
   "title_cell": "Table of Contents",
   "title_sidebar": "Contents",
   "toc_cell": false,
   "toc_position": {},
   "toc_section_display": true,
   "toc_window_display": false
  },
  "varInspector": {
   "cols": {
    "lenName": 16,
    "lenType": 16,
    "lenVar": 40
   },
   "kernels_config": {
    "python": {
     "delete_cmd_postfix": "",
     "delete_cmd_prefix": "del ",
     "library": "var_list.py",
     "varRefreshCmd": "print(var_dic_list())"
    },
    "r": {
     "delete_cmd_postfix": ") ",
     "delete_cmd_prefix": "rm(",
     "library": "var_list.r",
     "varRefreshCmd": "cat(var_dic_list()) "
    }
   },
   "types_to_exclude": [
    "module",
    "function",
    "builtin_function_or_method",
    "instance",
    "_Feature"
   ],
   "window_display": false
  }
 },
 "nbformat": 4,
 "nbformat_minor": 2
}
