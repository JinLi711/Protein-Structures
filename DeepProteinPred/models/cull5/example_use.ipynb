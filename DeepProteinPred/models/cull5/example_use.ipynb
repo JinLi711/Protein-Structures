{
 "cells": [
  {
   "cell_type": "code",
   "execution_count": 1,
   "metadata": {
    "ExecuteTime": {
     "end_time": "2019-06-12T23:18:37.787778Z",
     "start_time": "2019-06-12T23:18:37.785286Z"
    }
   },
   "outputs": [],
   "source": [
    "# from google.colab import drive\n",
    "# drive.mount('/content/gdrive')\n",
    "# !pwd"
   ]
  },
  {
   "cell_type": "code",
   "execution_count": 2,
   "metadata": {
    "ExecuteTime": {
     "end_time": "2019-06-12T23:18:40.197774Z",
     "start_time": "2019-06-12T23:18:40.195483Z"
    }
   },
   "outputs": [],
   "source": [
    "# init_path = \"/content/gdrive/My\\ Drive/Colab\\ Notebooks/tertiary_structure_prediction/models/\"\n",
    "\n",
    "# %cd /content\n",
    "# %cd gdrive/My\\ Drive/Colab\\ Notebooks/Protein_Structures/tertiary_structure_prediction/models/cull1/"
   ]
  },
  {
   "cell_type": "code",
   "execution_count": 4,
   "metadata": {
    "ExecuteTime": {
     "end_time": "2019-06-12T23:19:10.249512Z",
     "start_time": "2019-06-12T23:19:07.019672Z"
    }
   },
   "outputs": [
    {
     "data": {
      "text/plain": [
       "<module 'primary_model' from '../model_functions/primary_model.py'>"
      ]
     },
     "execution_count": 4,
     "metadata": {},
     "output_type": "execute_result"
    }
   ],
   "source": [
    "import sys\n",
    "import numpy as np\n",
    "sys.path.insert(0, '../model_functions')\n",
    "import primary_model as pm\n",
    "import importlib\n",
    "importlib.reload(pm)"
   ]
  },
  {
   "cell_type": "code",
   "execution_count": 5,
   "metadata": {
    "ExecuteTime": {
     "end_time": "2019-06-12T23:22:06.638484Z",
     "start_time": "2019-06-12T23:22:04.965941Z"
    }
   },
   "outputs": [],
   "source": [
    "data_path = \"../../data/cull%i/model_data/\" % 5\n",
    "\n",
    "cmap_matrices=\"cmap.npy\"\n",
    "aa_1_hot_matrix=\"aa.npy\"\n",
    "\n",
    "devtest_aa_dict = np.load(data_path + 'devtest_' + aa_1_hot_matrix)[()]\n",
    "devtest_cmap_dict = np.load(data_path + 'devtest_' + cmap_matrices)[()]\n",
    "train_aa_dict = np.load(data_path + 'train_' + aa_1_hot_matrix)[()]\n",
    "train_cmap_dict = np.load(data_path + 'train_' + cmap_matrices)[()]\n",
    "valid_aa_dict = np.load(data_path + 'valid_' + aa_1_hot_matrix)[()]\n",
    "valid_cmap_dict = np.load(data_path + 'valid_' + cmap_matrices)[()]"
   ]
  },
  {
   "cell_type": "code",
   "execution_count": null,
   "metadata": {},
   "outputs": [],
   "source": []
  }
 ],
 "metadata": {
  "kernelspec": {
   "display_name": "Python 3",
   "language": "python",
   "name": "python3"
  },
  "language_info": {
   "codemirror_mode": {
    "name": "ipython",
    "version": 3
   },
   "file_extension": ".py",
   "mimetype": "text/x-python",
   "name": "python",
   "nbconvert_exporter": "python",
   "pygments_lexer": "ipython3",
   "version": "3.7.3"
  },
  "latex_envs": {
   "LaTeX_envs_menu_present": true,
   "autoclose": false,
   "autocomplete": true,
   "bibliofile": "biblio.bib",
   "cite_by": "apalike",
   "current_citInitial": 1,
   "eqLabelWithNumbers": true,
   "eqNumInitial": 1,
   "hotkeys": {
    "equation": "Ctrl-E",
    "itemize": "Ctrl-I"
   },
   "labels_anchors": false,
   "latex_user_defs": false,
   "report_style_numbering": false,
   "user_envs_cfg": false
  },
  "toc": {
   "base_numbering": 1,
   "nav_menu": {},
   "number_sections": true,
   "sideBar": true,
   "skip_h1_title": false,
   "title_cell": "Table of Contents",
   "title_sidebar": "Contents",
   "toc_cell": false,
   "toc_position": {},
   "toc_section_display": true,
   "toc_window_display": false
  },
  "varInspector": {
   "cols": {
    "lenName": 16,
    "lenType": 16,
    "lenVar": 40
   },
   "kernels_config": {
    "python": {
     "delete_cmd_postfix": "",
     "delete_cmd_prefix": "del ",
     "library": "var_list.py",
     "varRefreshCmd": "print(var_dic_list())"
    },
    "r": {
     "delete_cmd_postfix": ") ",
     "delete_cmd_prefix": "rm(",
     "library": "var_list.r",
     "varRefreshCmd": "cat(var_dic_list()) "
    }
   },
   "types_to_exclude": [
    "module",
    "function",
    "builtin_function_or_method",
    "instance",
    "_Feature"
   ],
   "window_display": false
  }
 },
 "nbformat": 4,
 "nbformat_minor": 2
}
