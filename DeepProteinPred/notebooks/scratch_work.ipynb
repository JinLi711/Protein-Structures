{
 "cells": [
  {
   "cell_type": "code",
   "execution_count": 1,
   "metadata": {
    "collapsed": true
   },
   "outputs": [],
   "source": [
    "import pandas as pd\n",
    "import Bio.PDB\n",
    "# from Bio.PDB.DSSP import DSSP\n",
    "import numpy as np\n",
    "\n",
    "import sys\n",
    "import importlib\n",
    "sys.path.insert(0, '../preprocess')\n",
    "# import get_contact_maps as gcm\n",
    "# importlib.reload(gcm)\n",
    "from Bio.PDB.PDBParser import PDBParser"
   ]
  },
  {
   "cell_type": "code",
   "execution_count": 4,
   "metadata": {
    "collapsed": true
   },
   "outputs": [],
   "source": [
    "parser = PDBParser(PERMISSIVE=1)\n",
    "\n",
    "# pdb_ids\n",
    "path = \"../data/cull%i/\" % 1\n",
    "pdb_file = \"12as.pdb\"\n",
    "# structure_id = pdb_file.split('.')[0]\n",
    "# filename = path + \"pdb_files/\" + pdb_file\n",
    "# structure = parser.get_structure(structure_id, filename)"
   ]
  },
  {
   "cell_type": "code",
   "execution_count": 3,
   "metadata": {
    "collapsed": true
   },
   "outputs": [],
   "source": [
    "# keywords = structure.header[\"resolution\"]\n",
    "# keywords\n",
    "mypath = path + 'pdb_files/'\n",
    "# from os import listdir\n",
    "# from os.path import isfile, join\n",
    "# pdb_files = [f for f in listdir(mypath) if isfile(join(mypath, f))]"
   ]
  },
  {
   "cell_type": "code",
   "execution_count": 14,
   "metadata": {},
   "outputs": [
    {
     "data": {
      "text/plain": [
       "array([[ True,  True,  True, ..., False, False, False],\n",
       "       [ True,  True,  True, ..., False, False, False],\n",
       "       [ True,  True,  True, ..., False, False, False],\n",
       "       ...,\n",
       "       [False, False, False, ..., False, False, False],\n",
       "       [False, False, False, ..., False, False, False],\n",
       "       [False, False, False, ..., False, False, False]])"
      ]
     },
     "execution_count": 14,
     "metadata": {},
     "output_type": "execute_result"
    }
   ],
   "source": [
    "c_maps2 = np.load(path + 'contact_map_matrices.npy')[()]\n",
    "c_maps2['16vp'] #> 0"
   ]
  },
  {
   "cell_type": "code",
   "execution_count": 276,
   "metadata": {
    "collapsed": true
   },
   "outputs": [],
   "source": [
    "# c_maps = gcm.get_contact_maps(path)"
   ]
  },
  {
   "cell_type": "code",
   "execution_count": 12,
   "metadata": {},
   "outputs": [
    {
     "data": {
      "text/plain": [
       "{'16vp': SeqRecord(seq=Seq('SRMPSPPMPVPPAALFNRLLDDLGFSAGPALCTMLDTWNEDLFSALPTNADLYR...LST', SingleLetterAlphabet()), id='16vp', name='16vp', description='16vp 16VPA 852472F232B9D714 366 XRAY 2.100 0.192 0.260 no Tegument protein VP16 <VP16_HHV11(49-412)> [Human herpesvirus 1]', dbxrefs=[]),\n",
       " '1a0i': SeqRecord(seq=Seq('VNIKTNPFKAVSFVESAIKKALDNAGYLIAEIKYDGVRGNICVDNTANSYWLSR...MFR', SingleLetterAlphabet()), id='1a0i', name='1a0i', description='1a0i 1A0IA F4165C29E7DFE75A 348 XRAY 2.600 0.222 0.341 no DNA ligase <DNLI_BPT7(2-349)> [Enterobacteria phage T7]', dbxrefs=[]),\n",
       " '1a1x': SeqRecord(seq=Seq('GSAGEDVGAPPDHLWVHQEGIYRDEYQRTWVAVVEEETSFLRARVQQIQVPLGD...PDD', SingleLetterAlphabet()), id='1a1x', name='1a1x', description='1a1x 1A1XA D6A6968285CDDDCA 108 XRAY 2.000 0.211 0.253 no Protein p13 MTCP-1 <MTCP1_HUMAN(2-107)> [Homo sapiens]', dbxrefs=[]),\n",
       " '1a41': SeqRecord(seq=Seq('NAKRDRIFVRVYNVMKRINCFINKNIKKSSTDSNYQLAVFMLMETMFFIRFGKM...TDG', SingleLetterAlphabet()), id='1a41', name='1a41', description='1a41 1A41A 44FDCB60FC06C41F 234 XRAY 2.300 0.227 0.309 no DNA topoisomerase 1B <TOP1_VACCW(81-314)> [Vaccinia virus]', dbxrefs=[]),\n",
       " '1a5t': SeqRecord(seq=Seq('MRWYPWLRPDFEKLVASYQAGRGHHALLIQALPGMGDDALIYALSRYLLCQQPQ...PHL', SingleLetterAlphabet()), id='1a5t', name='1a5t', description=\"1a5t 1A5TA DC9DAA644AD8A096 334 XRAY 2.200 0.205 0.265 no DNA polymerase III subunit delta' <HOLB_ECOLI(1-334)> [Escherichia coli]\", dbxrefs=[]),\n",
       " '1a62': SeqRecord(seq=Seq('MNLTELKNTPVSELITLGENMGLENLARMRKQDIIFAILKQHAKSGEDIFGDGV...RNK', SingleLetterAlphabet()), id='1a62', name='1a62', description='1a62 1A62A DF4B670E423BE23A 130 XRAY 1.550 0.216 0.250 no Transcription termination factor Rho <RHO_ECOLI(1-130)> [Escherichia coli]', dbxrefs=[]),\n",
       " '1a7j': SeqRecord(seq=Seq('MSKKHPIISVTGSSGAGTSTVKHTFDQIFRREGVKAVSIEGDAFHRFNRADMKA...KVA', SingleLetterAlphabet()), id='1a7j', name='1a7j', description='1a7j 1A7JA 6899EFB1D780640F 290 XRAY 2.500 0.213 0.284 no Phosphoribulokinase 1 <KPPR1_RHOSH(1-290)> [Rhodobacter sphaeroides]', dbxrefs=[]),\n",
       " '1a8l': SeqRecord(seq=Seq('MGLISDADKKVIKEEFFSKMVNPVKLIVFVRKDHCQYCDQLKQLVQELSELTDK...ALS', SingleLetterAlphabet()), id='1a8l', name='1a8l', description='1a8l 1A8LA 45382DD269F20BF5 226 XRAY 1.900 0.192 0.217 no Glutaredoxin-like protein <Q51760_9EURY(1-226)> [Pyrococcus furiosus]', dbxrefs=[]),\n",
       " '1aep': SeqRecord(seq=Seq('AAGHVNIAEAVQQLNHTIVNAAHELHETLGLPTPDEALNLLTEQANAFKTKIAE...PAN', SingleLetterAlphabet()), id='1aep', name='1aep', description='1aep 1AEPA 0CC522EA6B036FDF 161 XRAY 2.700 0.210 NA no Apolipophorin-3b <APL3_LOCMI(141-179)> [Locusta migratoria]', dbxrefs=[]),\n",
       " '1ah7': SeqRecord(seq=Seq('WSAEDKHKEGVNSHLWIVNRAIDIMSRNTTLVKQDRVAQLNEWRTELENGIYAA...GDR', SingleLetterAlphabet()), id='1ah7', name='1ah7', description='1ah7 1AH7A E292561BF7330DAC 245 XRAY 1.501 0.203 0.231 no Phospholipase C <PHLC_BACCE(39-283)> [Bacillus cereus]', dbxrefs=[]),\n",
       " '1aho': SeqRecord(seq=Seq('VKDGYIVDDVNCTYFCGRNAYCNEECTKLKGESGYCQWASPYGNACYCYKLPDH...RCH', SingleLetterAlphabet()), id='1aho', name='1aho', description='1aho 1AHOA D750DAD8B9B7D180 64 XRAY 0.960 0.158 NA no Alpha-mammal toxin AaH2 <SCX2_ANDAU(20-83)> [Androctonus australis]', dbxrefs=[]),\n",
       " '1alu': SeqRecord(seq=Seq('MAPVPPGEDSKDVAAPHRQPLTSSERIDKQIRYILDGISALRKETCNKSNMCES...RQM', SingleLetterAlphabet()), id='1alu', name='1alu', description='1alu 1ALUA 2456FAF4AB2E4FAB 186 XRAY 1.900 0.213 0.277 no Interleukin-6 <IL6_HUMAN(28-212)> [Homo sapiens]', dbxrefs=[]),\n",
       " '1aly': SeqRecord(seq=Seq('GDQNPQIAAHVISEASSKTTSVLQWAEKGYYTMSNNLVTLENGKQLTVKRQGLY...LKL', SingleLetterAlphabet()), id='1aly', name='1aly', description='1aly 1ALYA 48D2D5E246DD3D9F 146 XRAY 2.000 0.223 0.295 no CD40 ligand <CD40L_HUMAN(116-261)> [Homo sapiens]', dbxrefs=[]),\n",
       " '1aol': SeqRecord(seq=Seq('QVYNITWEVTNGDRETVWAISGNHPLWTWWPVLTPDLCMLALSGPPHWGLEYQA...RVP', SingleLetterAlphabet()), id='1aol', name='1aol', description='1aol 1AOLA 36ADED4256DF8189 228 XRAY 2.000 0.223 0.264 no Envelope glycoprotein <ENV_MLVF5(43-270)> [Friend murine leukemia virus]', dbxrefs=[]),\n",
       " '1atg': SeqRecord(seq=Seq('ELKVVTATNFLGTLEQLAGQFAKQTGHAVVISSGSSGPVYAQIVNGAPYNVFFS...LPQ', SingleLetterAlphabet()), id='1atg', name='1atg', description='1atg 1ATGA A02CBFCA082B2D4F 231 XRAY 1.200 0.164 0.183 no Binding protein <Q7SIH2_AZOVI(1-231)> [Azotobacter vinelandii]', dbxrefs=[]),\n",
       " '1ax8': SeqRecord(seq=Seq('VPIQKVQDDTKTLIKTIVTRINDISHTQSVSSKQKVTGLDFIPGLHPILTLSKM...PGC', SingleLetterAlphabet()), id='1ax8', name='1ax8', description='1ax8 1AX8A A2C660B1A8FE75EA 146 XRAY 2.400 0.185 0.283 no Leptin <LEP_HUMAN(22-167)> [Homo sapiens]', dbxrefs=[]),\n",
       " '1azo': SeqRecord(seq=Seq('GSHMSQPRPLLSPPETEEQLLAQAQQLSGYTLGELAALVGLVTPENLKRDKGWI...LIQ', SingleLetterAlphabet()), id='1azo', name='1azo', description='1azo 1AZOA 65560A75C36CB8DF 232 XRAY 1.700 0.203 0.263 no DNA mismatch repair protein MutH <MUTH_ECOLI(1-229)> [Escherichia coli]', dbxrefs=[]),\n",
       " '1b0b': SeqRecord(seq=Seq('SLSAAQKDNVKSSWAKASAAWGTAGPEFFMALFDAHDDVFAKFSGLFSGAAKGT...PDM', SingleLetterAlphabet()), id='1b0b', name='1b0b', description='1b0b 1B0BA 49AD94E71EA6B6C5 142 XRAY 1.430 0.119 0.170 no Hemoglobin-1 <GLB1_PHAPT(2-143)> [Phacoides pectinatus]', dbxrefs=[]),\n",
       " '1b63': SeqRecord(seq=Seq('SHMPIQVLPPQLANQIAAGEVVERPASVVKELVENSLDAGATRIDIDIERGGAK...VLQ', SingleLetterAlphabet()), id='1b63', name='1b63', description='1b63 1B63A 684D034621F90CCD 333 XRAY 1.900 0.213 0.261 no DNA mismatch repair protein MutL <MUTL_ECOLI(1-331)> [Escherichia coli]', dbxrefs=[]),\n",
       " '1b8k': SeqRecord(seq=Seq('YAEHKSHRGEYSVCDSESLWVTDKSSAIDIRGHQVTVLGEIKTGNSPVKQYFYE...GRT', SingleLetterAlphabet()), id='1b8k', name='1b8k', description='1b8k 1B8KA 3BF2274914339D37 119 XRAY 2.150 0.238 0.302 no Neurotrophin-3 <NTF3_HUMAN(139-257)> [Homo sapiens]', dbxrefs=[]),\n",
       " '1b9w': SeqRecord(seq=Seq('MSSEHRCIDTNVPENAACYRYLDGTEEWRCLLYFKEDAGKCVPAPNMTCKDKNG...HHH', SingleLetterAlphabet()), id='1b9w', name='1b9w', description='1b9w 1B9WA 8279D068817645AF 95 XRAY 1.800 0.212 0.279 no Merozoite surface protein 1 (Fragment) <Q25659_9APIC(291-379)> [Plasmodium cynomolgi]', dbxrefs=[]),\n",
       " '1bco': SeqRecord(seq=Seq('HLIPAQQRTVEHLDAMQWINGDGYLHNVFVRWFNGDVIRPKTWFWQDVKTRKIL...REY', SingleLetterAlphabet()), id='1bco', name='1bco', description='1bco 1BCOA DDAEC9924BA01388 327 XRAY 2.400 0.196 0.260 no DDE-recombinase A <TNPA_BPMU(248-574)> [Enterobacteria phage Mu]', dbxrefs=[]),\n",
       " '1bea': SeqRecord(seq=Seq('SAGTSCVPGWAIPHNPLPSCRWYVTSRTCGIGPRLPWPELKRRCCRELADIPAY...PSK', SingleLetterAlphabet()), id='1bea', name='1bea', description='1bea 1BEAA 0D0792D9D0C59CFC 127 XRAY 1.950 0.195 0.287 no Trypsin/factor XIIA inhibitor <ITRF_MAIZE(29-155)> [Zea mays]', dbxrefs=[]),\n",
       " '1bg6': SeqRecord(seq=Seq('MIESKTYAVLGLGNGGHAFAAYLALKGQSVLAWDIDAQRIKEIQDRGAIIAEGP...AVE', SingleLetterAlphabet()), id='1bg6', name='1bg6', description='1bg6 1BG6A 7542D8A44D859028 359 XRAY 1.800 0.188 0.263 no Opine dehydrogenase <ODH_ARTSC(1-359)> [Arthrobacter sp.]', dbxrefs=[]),\n",
       " '1bgf': SeqRecord(seq=Seq('GGSQWNQVQQLEIKFLEQVDQFYDDNFPMEIRHLLAQWIETQDWEVASNNETMA...MPI', SingleLetterAlphabet()), id='1bgf', name='1bgf', description='1bgf 1BGFA C191279142892AA7 124 XRAY 1.450 0.188 0.216 no Signal transducer and activator of transcription 4 <STAT4_MOUSE(2-123)> [Mus musculus]', dbxrefs=[]),\n",
       " '1bhe': SeqRecord(seq=Seq('SDSRTVSEPKTPSSCTTLKADSSTATSTIQKALNNCDQGKAVRLSAGSTSVFLS...VKK', SingleLetterAlphabet()), id='1bhe', name='1bhe', description='1bhe 1BHEA E1EC8FB86D9EE5FC 376 XRAY 1.900 0.198 0.239 no Endo-polygalacturonase <PGLR2_PECSS(27-402)> [Pectobacterium sp.]', dbxrefs=[]),\n",
       " '1bkr': SeqRecord(seq=Seq('KKSAKDALLLWCQMKTAGYPNVNIHNFTTSWRDGMAFNALIHKHRPDLIDFDKL...SKM', SingleLetterAlphabet()), id='1bkr', name='1bkr', description='1bkr 1BKRA 231BA864A8F48AC4 109 XRAY 1.100 0.141 0.187 no Spectrin beta chain, non-erythrocytic 1 <SPTB2_HUMAN(172-280)> [Homo sapiens]', dbxrefs=[]),\n",
       " '1bm8': SeqRecord(seq=Seq('QIYSARYSGVDVYEFIHSTGSIMKRKKDDWVNATHILKAANFAKAKRTRILEKE...FDF', SingleLetterAlphabet()), id='1bm8', name='1bm8', description='1bm8 1BM8A 0E94AF67A11E79B8 99 XRAY 1.710 0.197 0.261 no Transcription factor MBP1 <MBP1_YEAST(4-102)> [Saccharomyces cerevisiae]', dbxrefs=[]),\n",
       " '1boo': SeqRecord(seq=Seq('MLNFGKKPAYTTSNGSMYIGDSLELLESFPEESISLVMTSPPFALQRKKEYGNL...SII', SingleLetterAlphabet()), id='1boo', name='1boo', description='1boo 1BOOA 5EA57419051FCF36 323 XRAY 2.800 0.193 0.283 no Modification methylase PvuII <MTP2_PROHU(14-336)> [Proteus hauseri]', dbxrefs=[]),\n",
       " '1brt': SeqRecord(seq=Seq('PFITVGQENSTSIDLYYEDHGTGQPVVLIHGFPLSGHSWERQSAALLDAGYRVI...LAK', SingleLetterAlphabet()), id='1brt', name='1brt', description='1brt 1BRTA 8C6B1D776CB56818 277 XRAY 1.500 0.140 0.164 no Non-haem bromoperoxidase BPO-A2 <BPOA2_STRAU(2-278)> [Streptomyces aureofaciens]', dbxrefs=[]),\n",
       " '1bu8': SeqRecord(seq=Seq('KEVCYGHLGCFSNDKPWAGMLQRPLKIFPWSPEDIDTRFLLYTNENPNNYQKIS...YPC', SingleLetterAlphabet()), id='1bu8', name='1bu8', description='1bu8 1BU8A EFA6F3489CA74098 452 XRAY 1.800 0.202 0.244 no Pancreatic lipase-related protein 2 <LIPR2_RAT(17-468)> [Rattus norvegicus]', dbxrefs=[]),\n",
       " '1bx7': SeqRecord(seq=Seq('TQGNTCGGETCSAAQVCLKGKCVCNEVHCRIRCKYGLKKDENGCEYPCSCAKASQ', SingleLetterAlphabet()), id='1bx7', name='1bx7', description='1bx7 1BX7A 234226BEE3CC532E 55 XRAY 1.200 0.180 0.225 no Hirustasin <ANTA_HIRME(1-55)> [Hirudo medicinalis]', dbxrefs=[]),\n",
       " '1byi': SeqRecord(seq=Seq('SKRYFVTGTDTEVGKTVASCALLQAAKAAGYRTAGYKPVASGSEKTPEGLRNSD...ALL', SingleLetterAlphabet()), id='1byi', name='1byi', description='1byi 1BYIA F6ED5067D60552B0 224 XRAY 0.970 0.116 NA no ATP-dependent dethiobiotin synthetase BioD 1 <BIOD1_ECOLI(2-225)> [Escherichia coli]', dbxrefs=[]),\n",
       " '1byr': SeqRecord(seq=Seq('VEPSVQVGYSPEGSARVLVLSAIDSAKTSIRMMAYSFTAPDIMKALVAAKKRGV...SSY', SingleLetterAlphabet()), id='1byr', name='1byr', description='1byr 1BYRA 260A5E9D3266BAFF 155 XRAY 2.000 0.193 0.250 no Endonuclease <Q46707_ECOLX(23-177)> [Escherichia coli]', dbxrefs=[]),\n",
       " '1c0p': SeqRecord(seq=Seq('LMMHSQKRVVVLGSGVIGLSSALILARKGYSVHILARDLPEDVSSQTFASPWAG...YHG', SingleLetterAlphabet()), id='1c0p', name='1c0p', description='1c0p 1C0PA 2F5E5065078360F8 363 XRAY 1.200 0.125 0.150 no D-amino-acid oxidase <OXDA_RHOTO(1-361)> [Rhodosporidium toruloides]', dbxrefs=[]),\n",
       " '1c1k': SeqRecord(seq=Seq('MIKLRMPAGGERYIDGKSVYKLYLMIKQHMNGKYDVIKYNWCMRVSDAAYQKRR...CKY', SingleLetterAlphabet()), id='1c1k', name='1c1k', description='1c1k 1C1KA B9E7DDE80DCF978C 217 XRAY 1.450 0.205 0.253 no Protein Gp59 <VG59_BPT4(1-217)> [Enterobacteria phage T4]', dbxrefs=[]),\n",
       " '1c3p': SeqRecord(seq=Seq('MKKVKLIGTLDYGKYRYPKNHPLKIPRVSLLLRFKDAMNLIDEKELIKSRPATK...ASS', SingleLetterAlphabet()), id='1c3p', name='1c3p', description='1c3p 1C3PA 80AA0CCA42BBEF03 375 XRAY 1.800 0.198 0.240 no Acetoin utilization protein <O67135_AQUAE(1-375)> [Aquifex aeolicus]', dbxrefs=[]),\n",
       " '1c4o': SeqRecord(seq=Seq('TFRYRGPSPKGDQPKAIAGLVEALRDGERFVTLLGATGTGKTVTMAKVIEALGR...KRR', SingleLetterAlphabet()), id='1c4o', name='1c4o', description='1c4o 1C4OA 6FD2021A1C1BC394 664 XRAY 1.500 0.252 0.266 no UvrABC system protein B <UVRB_THET8(2-665)> [Thermus thermophilus]', dbxrefs=[]),\n",
       " '1c7k': SeqRecord(seq=Seq('TVTVTYDPSNAPSFQQEIANAAQIWNSSVRNVQLRAGGNADFSYYEGNDSRGSY...ANG', SingleLetterAlphabet()), id='1c7k', name='1c7k', description='1c7k 1C7KA 7CB988AFC2F0B1E4 132 XRAY 1.000 0.154 0.178 no Extracellular small neutral protease <SNPA_STRCS(1-132)> [Streptomyces caespitosus]', dbxrefs=[]),\n",
       " '1cb8': SeqRecord(seq=Seq('QQTGTAELIMKRVMLDLKKPLRNMDKVAEKNLNTLQPDGSWKDVPYKDDAMTNW...ELK', SingleLetterAlphabet()), id='1cb8', name='1cb8', description='1cb8 1CB8A 4D99665477F394B0 678 XRAY 1.900 0.195 0.260 no Chondroitinase-AC <CSLA_PEDHD(23-700)> [Pedobacter heparinus]', dbxrefs=[]),\n",
       " '1cc8': SeqRecord(seq=Seq('MAEIKHYQFNVVMTCSGCSGAVNKVLTKLEPDVSKIDISLEKQLVDVYTTLPYD...KQL', SingleLetterAlphabet()), id='1cc8', name='1cc8', description='1cc8 1CC8A 9BDF0B542F80EA83 73 XRAY 1.020 0.141 0.172 no Metal homeostasis factor ATX1 <ATX1_YEAST(1-73)> [Saccharomyces cerevisiae]', dbxrefs=[]),\n",
       " '1ccz': SeqRecord(seq=Seq('FSQQIYGVVYGNVTFHVPSNVPLKEVLWKKQKDKVAELENSEFRAFSSFKNRVY...CPE', SingleLetterAlphabet()), id='1ccz', name='1ccz', description='1ccz 1CCZA E2EFB55AC8AEA279 171 XRAY 1.800 0.202 0.243 no Lymphocyte function-associated antigen 3 <LFA3_HUMAN(169-178)> [Homo sapiens]', dbxrefs=[]),\n",
       " '1cfb': SeqRecord(seq=Seq('IVQDVPNAPKLTGITCQADKAEIHWEQQGDNRSPILHYTIQFNTSFTPASWDAA...EDR', SingleLetterAlphabet()), id='1cfb', name='1cfb', description='1cfb 1CFBA CF08924D31194DE4 205 XRAY 2.000 0.202 NA no Neuroglian <NRG_DROME(610-814)> [Drosophila melanogaster]', dbxrefs=[]),\n",
       " '1cfr': SeqRecord(seq=Seq('MDIISKSGEGNKYTINSAIAFVAYASHIDINTTEFSKVLSGLRDFINDEAIRLG...LSS', SingleLetterAlphabet()), id='1cfr', name='1cfr', description='1cfr 1CFRA 5F95F49ED058D743 285 XRAY 2.150 0.196 NA no Type-2 restriction enzyme Cfr10I <T2CX_CITFR(1-285)> [Citrobacter freundii]', dbxrefs=[]),\n",
       " '1chd': SeqRecord(seq=Seq('LKAGPLLSSEKLIAIGASTGGTEAIRHVLQPLPLSSPAVIITQHMPPGFTRSFA...IRI', SingleLetterAlphabet()), id='1chd', name='1chd', description='1chd 1CHDA 9D7B21B3D6F78129 203 XRAY 1.750 0.182 0.230 no Chemotaxis response regulator protein-glutamate methylesterase <CHEB_SALTY(147-349)> [Salmonella typhimurium]', dbxrefs=[]),\n",
       " '1cid': SeqRecord(seq=Seq('TSITAYKSEGESAEFSFPLNLGEESLQGELRWKAEKAPSSQSWITFSLKNQKVS...IQV', SingleLetterAlphabet()), id='1cid', name='1cid', description='1cid 1CIDA 52DBE013EC75FBEC 177 XRAY 2.800 0.233 NA no T-cell surface glycoprotein CD4 <CD4_RAT(210-386)> [Rattus norvegicus]', dbxrefs=[]),\n",
       " '1cjw': SeqRecord(seq=Seq('HTLPANEFRCLTPEDAAGVFEIEREAFISVSGNCPLNLDEVQHFLTLCPELSLG...CSL', SingleLetterAlphabet()), id='1cjw', name='1cjw', description='1cjw 1CJWA CC7486EA3BA9F91B 166 XRAY 1.800 0.180 0.230 no Serotonin N-acetyltransferase <SNAT_SHEEP(30-195)> [Ovis aries]', dbxrefs=[]),\n",
       " '1cr1': SeqRecord(seq=Seq('MRERIREHLSSEESVGLLFSGCTGINDKTLGARGGEVIMVTSGSGMGKSTFVRQ...TDF', SingleLetterAlphabet()), id='1cr1', name='1cr1', description='1cr1 1CR1A AE95F8230B052E9B 296 XRAY 2.300 0.239 0.288 no DNA primase/helicase <PRIM_BPT7(272-566)> [Enterobacteria phage T7]', dbxrefs=[]),\n",
       " '1csh': SeqRecord(seq=Seq('STNLKDVLASLIPKEQARIKTFRQQHGNTAVGQITVDMSYGGMRGMKGLIYETS...AGG', SingleLetterAlphabet()), id='1csh', name='1csh', description='1csh 1CSHA 4379E289D345CC51 435 XRAY 1.650 0.164 NA no Citrate synthase, mitochondrial <CISY_CHICK(3-433)> [Gallus gallus]', dbxrefs=[]),\n",
       " '1ctf': SeqRecord(seq=Seq('AAEEKTEFDVILKAAGANKVAVIKAVRGATGLGLKEAKDLVESAPAALKEGVSK...EVK', SingleLetterAlphabet()), id='1ctf', name='1ctf', description='1ctf 1CTFA D62538984608F42F 74 XRAY 1.700 0.174 NA no 50S ribosomal protein L7/L12 <RL7_ECOLI(48-121)> [Escherichia coli]', dbxrefs=[]),\n",
       " '1cuk': SeqRecord(seq=Seq('MIGRLRGIIIEKQPPLVLIEVGGVGYEVHMPMTCFYELPEAGQEAIVFTHFVVR...AAL', SingleLetterAlphabet()), id='1cuk', name='1cuk', description='1cuk 1CUKA 2F5DDB79DC42CF01 203 XRAY 1.900 0.209 NA no Holliday junction ATP-dependent DNA helicase RuvA <RUVA_ECOLI(1-203)> [Escherichia coli]', dbxrefs=[]),\n",
       " '1cv8': SeqRecord(seq=Seq('YNEQYVNKLENFKIRETQGNNGWCAGYTMSALLNATYNTNKYHAEAVMRFLHPN...YGY', SingleLetterAlphabet()), id='1cv8', name='1cv8', description='1cv8 1CV8A FCD00FB93843DDF2 174 XRAY 1.750 0.183 0.239 no Staphopain A <SSPP_STAAU(215-388)> [Staphylococcus aureus]', dbxrefs=[]),\n",
       " '1cwv': SeqRecord(seq=Seq('SVTVQQPQLTLTAAVIGDGAPANGKTAITVEFTVADFEGKPLAGQEVVITTNNG...LSI', SingleLetterAlphabet()), id='1cwv', name='1cwv', description='1cwv 1CWVA 493B3125044C95CC 492 XRAY 2.300 0.224 0.274 no Invasin <INVA_YERPS(494-985)> [Yersinia pseudotuberculosis]', dbxrefs=[]),\n",
       " '1cxq': SeqRecord(seq=Seq('PLREGRGLGPLQIWQTDFTLEPRMAPRSWLAVTVDTASSAIVVTQHGRVTSVAA...TNL', SingleLetterAlphabet()), id='1cxq', name='1cxq', description='1cxq 1CXQA 895564C760DB9FEB 162 XRAY 1.020 0.129 0.157 no Gag-Pro-Pol polyprotein <POL_RSVSB(1332-1487)> [Rous sarcoma virus]', dbxrefs=[]),\n",
       " '1cy5': SeqRecord(seq=Seq('MDAKARNCLLQHREALEKDIKTSYIMDHMISDGFLTISEEEKVRNEPTQQQRAA...SSS', SingleLetterAlphabet()), id='1cy5', name='1cy5', description='1cy5 1CY5A 2EBB24A1F2B94AE6 97 XRAY 1.300 0.169 0.199 no Apoptotic protease-activating factor 1 <APAF_HUMAN(1-97)> [Homo sapiens]', dbxrefs=[]),\n",
       " '1cyw': SeqRecord(seq=Seq('THALEPSKPLAHDEKPITIEVVSMDWKWFFIYPEQGIATVNEIAFPANTPVYFK...SAH', SingleLetterAlphabet()), id='1cyw', name='1cyw', description='1cyw 1CYWA 2FECF93EA82BCD60 205 XRAY 2.500 0.192 0.326 no Cytochrome bo(3) ubiquinol oxidase subunit 2 <CYOA_ECOLI(111-315)> [Escherichia coli]', dbxrefs=[]),\n",
       " '1d2n': SeqRecord(seq=Seq('MRGSHHHHHHGSTMDIKPAFGTNQEDYASYIMNGIIKWGDPVTRVLDDGELLVQ...DFK', SingleLetterAlphabet()), id='1d2n', name='1d2n', description='1d2n 1D2NA 3114352B3C10305D 272 XRAY 1.750 0.199 0.223 no Vesicle-fusing ATPase <NSF_CRIGR(479-743)> [Cricetulus griseus]', dbxrefs=[]),\n",
       " '1d2s': SeqRecord(seq=Seq('PPAVHLSNGPGQEPIAVMTFDLTKITKTSSSFEVRTWDPEGVIFYGDTNPKDDW...RSC', SingleLetterAlphabet()), id='1d2s', name='1d2s', description='1d2s 1D2SA C27DBDF955095B0D 170 XRAY 1.550 0.210 0.251 no Sex hormone-binding globulin <SHBG_HUMAN(42-217)> [Homo sapiens]', dbxrefs=[]),\n",
       " '1d2t': SeqRecord(seq=Seq('LALVATGNDTTTKPDLYYLKNSEAINSLALLPPPPAVGSIAFLNDQAMYEQGRL...QKK', SingleLetterAlphabet()), id='1d2t', name='1d2t', description='1d2t 1D2TA 96D20598043E000E 231 XRAY 1.900 0.219 0.257 no Acid phosphatase <Q9S1A6_SHIBL(19-249)> [Shimwellia blattae]', dbxrefs=[]),\n",
       " '1d4o': SeqRecord(seq=Seq('MEISGTHTEINLDNAIDMIREANSIIITPGYGLCAAKAQYPIADLVKMLSEQGK...YQK', SingleLetterAlphabet()), id='1d4o', name='1d4o', description='1d4o 1D4OA C2BA561F63E163F5 184 XRAY 1.210 0.167 0.223 no NAD(P) transhydrogenase, mitochondrial <NNTM_BOVIN(903-1086)> [Bos taurus]', dbxrefs=[]),\n",
       " '1d5t': SeqRecord(seq=Seq('HHMDEEYDVIVLGTGLTECILSGIMSVNGKKVLHMDRNPYYGGESSSITPLEEL...FDF', SingleLetterAlphabet()), id='1d5t', name='1d5t', description='1d5t 1D5TA 96CD5DEB9C1B94EE 433 XRAY 1.040 0.173 0.209 no Rab GDP dissociation inhibitor alpha <GDIA_BOVIN(1-431)> [Bos taurus]', dbxrefs=[]),\n",
       " '1dab': SeqRecord(seq=Seq('DWNNQSIVKTGERQHGIHIQGSDPGGVRTASGTTIKVSGRQAQGILLENPAAEL...APP', SingleLetterAlphabet()), id='1dab', name='1dab', description='1dab 1DABA 68306552F2ECDC35 539 XRAY 2.500 0.251 0.276 no Pertactin autotransporter <PERT_BORPE(35-573)> [Bordetella pertussis]', dbxrefs=[]),\n",
       " '1dbh': SeqRecord(seq=Seq('EQTYYDLVKAFMAEIRQYIRELNLIIKVFREPFVSNSKLFSANDVENIFSRIVD...TLE', SingleLetterAlphabet()), id='1dbh', name='1dbh', description='1dbh 1DBHA 0412B9486EE6C72A 354 XRAY 2.300 0.229 0.269 no Son of sevenless homolog 1 <SOS1_HUMAN(198-551)> [Homo sapiens]', dbxrefs=[]),\n",
       " '1dcs': SeqRecord(seq=Seq('MDTTVPTFSLAELQQGLHQDEFRRCLRDKGLFYLTDCGLTDTELKSAKDLVIDF...SKA', SingleLetterAlphabet()), id='1dcs', name='1dcs', description='1dcs 1DCSA 9C64E1FC37F524BC 311 XRAY 1.300 0.129 0.150 no Deacetoxycephalosporin C synthase <CEFE_STRC2(1-311)> [Streptomyces clavuligerus]', dbxrefs=[]),\n",
       " '1dd9': SeqRecord(seq=Seq('MRGSHHHHHHGSGSMHQRQTLYQLMDGLNTFYQQSLQQPVATSARQYLEKRGLS...MPK', SingleLetterAlphabet()), id='1dd9', name='1dd9', description='1dd9 1DD9A 1437EFC7F5DCBD49 338 XRAY 1.600 0.231 0.276 no DNA primase <DNAG_ECOLI(111-433)> [Escherichia coli]', dbxrefs=[]),\n",
       " '1dg6': SeqRecord(seq=Seq('MILRTSEETISTVQEKQQNISPLVRERGPQRVAAHITGTRGRSNTLSSPNSKNE...LVG', SingleLetterAlphabet()), id='1dg6', name='1dg6', description='1dg6 1DG6A ED76A2071F0507A3 191 XRAY 1.300 0.141 0.197 no Tumor necrosis factor ligand superfamily member 10 <TNF10_HUMAN(91-281)> [Homo sapiens]', dbxrefs=[]),\n",
       " '1dmg': SeqRecord(seq=Seq('AQVDLLNVKGEKVGTLEISDFVFNIDPNYDVMWRYVDMQLSNRRAGTASTKTRG...VLG', SingleLetterAlphabet()), id='1dmg', name='1dmg', description='1dmg 1DMGA 004F89C2D350AA1E 225 XRAY 1.700 0.208 0.237 no 50S ribosomal protein L4 <RL4_THEMA(2-226)> [Thermotoga maritima]', dbxrefs=[]),\n",
       " '1dov': SeqRecord(seq=Seq('ESQFLKEELVVAVEDVRKQGDLMKSAAGEFADDPCSSVKRGNMVRAARALLSAV...QAT', SingleLetterAlphabet()), id='1dov', name='1dov', description='1dov 1DOVA 02EADAFC6B05EB92 181 XRAY 3.000 0.218 0.263 no Catenin alpha-1 <CTNA1_MOUSE(82-262)> [Mus musculus]', dbxrefs=[]),\n",
       " '1dqg': SeqRecord(seq=Seq('LDARQFLIYNEDHKRCVDALSAISVQTATCNPEAESQKFRWVSDSQIMSVAFKL...GYE', SingleLetterAlphabet()), id='1dqg', name='1dqg', description='1dqg 1DQGA 3BE5619B7104566A 135 XRAY 1.700 0.198 0.208 no Macrophage mannose receptor 1 <MRC1_MOUSE(20-154)> [Mus musculus]', dbxrefs=[]),\n",
       " '1ds1': SeqRecord(seq=Seq('MTSVDCTAYGPELRALAARLPRTPRADLYAFLDAAHTAAASLPGALATALDTFN...PRG', SingleLetterAlphabet()), id='1ds1', name='1ds1', description='1ds1 1DS1A F5C251134CA4933E 324 XRAY 1.080 0.135 0.166 no Clavaminate synthase 1 <CAS1_STRC2(1-324)> [Streptomyces clavuligerus]', dbxrefs=[]),\n",
       " '1dun': SeqRecord(seq=Seq('MLAYQGTQIKEKRDEDAGFDLCVPYDIMIPVSDTKIIPTDVKIQVPPNSFGWVT...GVF', SingleLetterAlphabet()), id='1dun', name='1dun', description='1dun 1DUNA E84CEEFC130A61B5 134 XRAY 1.900 0.159 0.215 no Pol polyprotein <POL_EIAV9(742-875)> [Equine infectious anemia virus]', dbxrefs=[]),\n",
       " '1dvo': SeqRecord(seq=Seq('PPKWKVKKQKLAEKAAREAELTAKKAQARQALSIYLNLPTLDEAVNTLKPWWPG...VLD', SingleLetterAlphabet()), id='1dvo', name='1dvo', description='1dvo 1DVOA 7140C696FE226B45 152 XRAY 2.000 0.197 0.224 no Fertility inhibition protein <FINO3_ECOLX(33-184)> [Escherichia coli]', dbxrefs=[]),\n",
       " '1dyp': SeqRecord(seq=Seq('SMQPPIAKPGETWILQAKRSDEFNVKDATKWNFQTENYGVWSWKNENATVSKGK...VKV', SingleLetterAlphabet()), id='1dyp', name='1dyp', description='1dyp 1DYPA BD66AE43C08F7453 271 XRAY 1.540 0.178 0.193 no Kappa-carrageenase <CGKA_PSEVC(27-297)> [Pseudoalteromonas carrageenovora]', dbxrefs=[]),\n",
       " '1dzf': SeqRecord(seq=Seq('MDQENERNISRLWRAFRTVKEMVKDRGYFITQEEVELPLEDFKAKYCDSMGRPQ...ICM', SingleLetterAlphabet()), id='1dzf', name='1dzf', description='1dzf 1DZFA 2A15F7114D69D829 215 XRAY 1.900 0.217 0.271 no DNA-directed RNA polymerases I, II, and III subunit RPABC1 <RPAB1_YEAST(1-215)> [Saccharomyces cerevisiae]', dbxrefs=[]),\n",
       " '1e0c': SeqRecord(seq=Seq('MDDFASLPLVIEPADLQARLSAPELILVDLTSAARYAEGHIPGARFVDPKRTQL...VEL', SingleLetterAlphabet()), id='1e0c', name='1e0c', description='1e0c 1E0CA 47E573D2D34EA77C 271 XRAY 1.800 0.180 0.230 no Thiosulfate sulfurtransferase <THTR_AZOVI(1-271)> [Azotobacter vinelandii]', dbxrefs=[]),\n",
       " '1e58': SeqRecord(seq=Seq('AVTKLVLVRHGESQWNKENRFTGWYDVDLSEKGVSEAKAAGKLLKEEGYSFDFA...KAK', SingleLetterAlphabet()), id='1e58', name='1e58', description='1e58 1E58A A6F29D9406D3B82A 249 XRAY 1.250 0.121 0.168 no 2,3-bisphosphoglycerate-dependent phosphoglycerate mutase <GPMA_ECOLI(2-250)> [Escherichia coli]', dbxrefs=[]),\n",
       " '1e5k': SeqRecord(seq=Seq('MNLMTTITGVVLAGGKARRMGGVDKGLLELNGKPLWQHVADALMTQLSHVVVNA...HHH', SingleLetterAlphabet()), id='1e5k', name='1e5k', description='1e5k 1E5KA AD9F245250C464E7 201 XRAY 1.350 0.184 0.213 no Molybdenum cofactor guanylyltransferase <MOBA_ECOLI(1-194)> [Escherichia coli]', dbxrefs=[]),\n",
       " '1e6u': SeqRecord(seq=Seq('MAKQRVFIAGHRGMVGSAIRRQLEQRGDVELVLRTRDELNLLDSRAVHDFFASE...FRG', SingleLetterAlphabet()), id='1e6u', name='1e6u', description='1e6u 1E6UA CC1697FAE5BC8807 321 XRAY 1.450 0.135 0.170 no GDP-L-fucose synthase <FCL_ECOLI(1-321)> [Escherichia coli]', dbxrefs=[]),\n",
       " '1eaz': SeqRecord(seq=Seq('GSMFTPKPPQDSAVIKAGYCVKQGAVMKNWKRRYFQLDENTIGYFKSELEKEPL...EHP', SingleLetterAlphabet()), id='1eaz', name='1eaz', description='1eaz 1EAZA C8C916EB72A73AD2 125 XRAY 1.400 0.171 0.228 no Pleckstrin homology domain-containing family A member 1 <PKHA1_HUMAN(181-303)> [Homo sapiens]', dbxrefs=[]),\n",
       " '1eb6': SeqRecord(seq=Seq('TEVTDCKGDAESSLTTALSNAAKLANQAAEAAESGDESKFEEYFKTTDQQTRTT...LKC', SingleLetterAlphabet()), id='1eb6', name='1eb6', description='1eb6 1EB6A 15348C5CB0F166A9 177 XRAY 1.000 0.104 0.126 no Neutral protease 2 <NPII_ASPOR(176-352)> [Aspergillus oryzae]', dbxrefs=[]),\n",
       " '1edz': SeqRecord(seq=Seq('MSKPGRTILASKVAETFNTEIINNVEEYKKTHNGQGPLLVGFLANNDPAAKMYA...KEK', SingleLetterAlphabet()), id='1edz', name='1edz', description='1edz 1EDZA DA30D9E2CEB590C6 320 XRAY 2.800 0.265 0.351 no Methylenetetrahydrofolate dehydrogenase [NAD(+)] <MTD1_YEAST(1-320)> [Saccharomyces cerevisiae]', dbxrefs=[]),\n",
       " '1efd': SeqRecord(seq=Seq('AGIDPNRIVALEWLPVELLLALGIVPYGVADTINYRLWVSEPPLPDSVIDVGLR...GKA', SingleLetterAlphabet()), id='1efd', name='1efd', description='1efd 1EFDN E3DA9BC9DB616A3C 266 XRAY 1.900 0.218 0.250 no Iron(3+)-hydroxamate-binding protein FhuD <FHUD_ECOLI(31-296)> [Escherichia coli]', dbxrefs=[]),\n",
       " '1ei5': SeqRecord(seq=Seq('MSKFDTSALEAFVRHIPQNYKGPGGVVAVVKDGEVVLQHAWGFADLRTRTPMTL...VQP', SingleLetterAlphabet()), id='1ei5', name='1ei5', description='1ei5 1EI5A CB364A8061DFBF4A 520 XRAY 1.900 0.163 0.192 no D-aminopeptidase <DAP_OCHAN(1-520)> [Ochrobactrum anthropi]', dbxrefs=[]),\n",
       " '1ei9': SeqRecord(seq=Seq('DPPAPLPLVIWHGMGDSCCNPLSMGAIKKMVEKKIPGIHVLSLEIGKTLREDVE...FLE', SingleLetterAlphabet()), id='1ei9', name='1ei9', description='1ei9 1EI9A 92EC80180B682710 279 XRAY 2.250 0.253 0.297 no Palmitoyl-protein thioesterase 1 <PPT1_BOVIN(28-306)> [Bos taurus]', dbxrefs=[]),\n",
       " '1ej8': SeqRecord(seq=Seq('SSAVAILETFQKYTIDQKKDTAVRGLARIVQVGENKTLFDITVNGVPEAGNYHA...IAR', SingleLetterAlphabet()), id='1ej8', name='1ej8', description='1ej8 1EJ8A 7A608DA80B61AE9E 140 XRAY 1.550 0.196 0.258 no Superoxide dismutase 1 copper chaperone <CCS1_YEAST(78-217)> [Saccharomyces cerevisiae]', dbxrefs=[]),\n",
       " '1eok': SeqRecord(seq=Seq('ATALAGSNGVCIAYYITDGRNPTFKLKDIPDKVDMVILFGLKYWSLQDTTKLPG...VKN', SingleLetterAlphabet()), id='1eok', name='1eok', description='1eok 1EOKA A4197FBBD43E5AEF 290 XRAY 1.800 0.172 0.203 no Endo-beta-N-acetylglucosaminidase F3 <EBA3_ELIME(40-329)> [Elizabethkingia meningoseptica]', dbxrefs=[]),\n",
       " '1epu': SeqRecord(seq=Seq('MALKTAVHEKIMNDVVLAVKKNAEWKVLIVDQLSMRMVSACCKMHEIMSEGITL...SNP', SingleLetterAlphabet()), id='1epu', name='1epu', description='1epu 1EPUA A5225F07F1F03ECE 591 XRAY 2.400 0.251 0.277 no Sec1-like protein <O62547_DORPE(1-591)> [Doryteuthis pealeii]', dbxrefs=[]),\n",
       " '1es5': SeqRecord(seq=Seq('VTKPTIAAVGGYAMNNGTGTTLYTKAADTRRSTGSTTKIMTAKVVLAQSNLNLD...FAL', SingleLetterAlphabet()), id='1es5', name='1es5', description='1es5 1ES5A 9EBB36554039779E 262 XRAY 1.400 0.212 0.245 no D-alanyl-D-alanine carboxypeptidase <DACX_STRSK(30-291)> [Streptomyces sp.]', dbxrefs=[]),\n",
       " '1es9': SeqRecord(seq=Seq('MSGDENPASKPTPVQDVQGDGKWMSLHHRFVADSKDKEPEVVFIGDSLVQLMHQ...PSP', SingleLetterAlphabet()), id='1es9', name='1es9', description='1es9 1ES9A 3D6355774AECE650 232 XRAY 1.300 0.192 0.217 no Platelet-activating factor acetylhydrolase IB subunit gamma <PA1B3_BOVIN(1-232)> [Bos taurus]', dbxrefs=[]),\n",
       " '1esc': SeqRecord(seq=Seq('APADPVPTVFFGDSYTANFGIAPVTNQDSERGWCFQAKENYPAVATRSLADKGI...LNR', SingleLetterAlphabet()), id='1esc', name='1esc', description='1esc 1ESCA 8EE72B95516BD32A 306 XRAY 2.100 0.166 NA no Esterase <ESTA_STRSC(40-345)> [Streptomyces scabiei]', dbxrefs=[]),\n",
       " '1euw': SeqRecord(seq=Seq('MMKKIDVKILDPRVGKEFPLPTYATSGSAGLDLRACLNDAVELAPGDTTLVPTG...GRQ', SingleLetterAlphabet()), id='1euw', name='1euw', description=\"1euw 1EUWA C527197DBC392B18 152 XRAY 1.050 0.141 0.164 no Deoxyuridine 5'-triphosphate nucleotidohydrolase <DUT_ECOLI(1-151)> [Escherichia coli]\", dbxrefs=[]),\n",
       " '1evs': SeqRecord(seq=Seq('AAIGSCSKEYRVLLGQLQKQTDLMQDTSRLLDPYIRIQGLDVPKLREHCRERPG...SKW', SingleLetterAlphabet()), id='1evs', name='1evs', description='1evs 1EVSA 04ECF00C864A9E00 187 XRAY 2.200 0.205 0.261 no Oncostatin-M <ONCM_HUMAN(26-212)> [Homo sapiens]', dbxrefs=[]),\n",
       " '1ew4': SeqRecord(seq=Seq('MNDSEFHRLADQLWLTIEERLDDWDGDSDIDCEINGGVLTITFENGSKIIINRQ...SFR', SingleLetterAlphabet()), id='1ew4', name='1ew4', description='1ew4 1EW4A 03EA6F330A48F711 106 XRAY 1.400 0.188 0.213 no Protein CyaY <CYAY_ECOLI(1-106)> [Escherichia coli]', dbxrefs=[]),\n",
       " '1ewf': SeqRecord(seq=Seq('VNPGVVVRISQKGLDYASQQGTAALQKELKRIKIPDYSDSFKIKHLGKGHYSFY...VYK', SingleLetterAlphabet()), id='1ewf', name='1ewf', description='1ewf 1EWFA 31AA80702914B1F9 456 XRAY 1.700 0.198 0.250 no Bactericidal permeability-increasing protein <BPI_HUMAN(32-487)> [Homo sapiens]', dbxrefs=[]),\n",
       " '1ezj': SeqRecord(seq=Seq('MENTSSMKEMATLLTSLGVIQSAQEFESSRDASYVFARRALKSANYAEMTFNVC...ITD', SingleLetterAlphabet()), id='1ezj', name='1ezj', description='1ezj 1EZJA BA13481A4588CDA1 115 XRAY 1.900 0.255 0.293 no Phosphoprotein <PHOSP_SENDH(320-433)> [Sendai virus]', dbxrefs=[]),\n",
       " '1f00': SeqRecord(seq=Seq('ASITEIKADKTTAVANGQDAITYTVKVMKGDKPVSNQEVTFTTTLGKLSNSTEK...CVK', SingleLetterAlphabet()), id='1f00', name='1f00', description='1f00 1F00I 35354A272996E1F1 282 XRAY 1.900 0.215 0.255 no Intimin <EAE_ECO27(658-939)> [Escherichia coli O127:H6]', dbxrefs=[]),\n",
       " '1f1e': SeqRecord(seq=Seq('MAVELPKAAIERIFRQGIGERRLSQDAKDTIYDFVPTMAEYVANAAKSVLDASG...GEL', SingleLetterAlphabet()), id='1f1e', name='1f1e', description='1f1e 1F1EA 9AF9E302CBB41C60 154 XRAY 1.370 0.166 0.206 no Histone fold protein <O93641_9EURY(1-154)> [Methanopyrus kandleri]', dbxrefs=[]),\n",
       " '1f32': SeqRecord(seq=Seq('QFLFSMSTGPFICTVKDNQVFVANLPWTMLEGDDIQVGKEFAARVEDCTNVKHD...TVQ', SingleLetterAlphabet()), id='1f32', name='1f32', description='1f32 1F32A 1159FE4130D2A091 149 XRAY 1.750 0.211 0.255 no Major pepsin inhibitor 3 <API3_ASCSU(21-169)> [Ascaris suum]', dbxrefs=[]),\n",
       " '1f5n': SeqRecord(seq=Seq('MASEIHMTGPMCLIENTNGRLMANPEALKILSAITQPMVVVAIVGLYRTGKSYL...TIS', SingleLetterAlphabet()), id='1f5n', name='1f5n', description='1f5n 1F5NA 7D8CC939FB71F120 592 XRAY 1.700 0.224 0.255 no Interferon-induced guanylate-binding protein 1 <GBP1_HUMAN(1-592)> [Homo sapiens]', dbxrefs=[]),\n",
       " '1f9v': SeqRecord(seq=Seq('MRGNIRVYCRIRPALKNLENSDTSLINVNEFDDNSGVQSMEVTKIQNTAQVHEF...SRK', SingleLetterAlphabet()), id='1f9v', name='1f9v', description='1f9v 1F9VA 1F5B5D4B34C5FAAF 347 XRAY 1.300 0.218 0.242 no Kinesin-like protein KAR3 <KAR3_YEAST(384-729)> [Saccharomyces cerevisiae]', dbxrefs=[]),\n",
       " '1fc6': SeqRecord(seq=Seq('MVTSEQLLFLEAWRAVDRAYVDKSFNGQSWFKLRETYLKKEPMDRRAQTYDAIR...LFG', SingleLetterAlphabet()), id='1fc6', name='1fc6', description='1fc6 1FC6A 8FB13034631C8356 388 XRAY 1.800 0.168 0.237 no C-terminal processing peptidase, chloroplastic <CTPA_ACUOB(78-464)> [Acutodesmus obliquus]', dbxrefs=[]),\n",
       " '1fcq': SeqRecord(seq=Seq('TPDNNKTVREFNVYWNVPTFMCHKYGLRFEEVSEKYGILQNWMDKFRGEEIAIL...DQV', SingleLetterAlphabet()), id='1fcq', name='1fcq', description='1fcq 1FCQA 084C33B523643A22 350 XRAY 1.600 0.192 0.227 no Hyaluronidase <HUGA_APIME(33-382)> [Apis mellifera]', dbxrefs=[]),\n",
       " '1fcy': SeqRecord(seq=Seq('ASPQLEELITKVSKAHQETFPSLCQLGKYTTNSSADHRVQLDLGLWDKFSELAT...MLE', SingleLetterAlphabet()), id='1fcy', name='1fcy', description='1fcy 1FCYA FA01711764E51949 236 XRAY 1.300 0.134 0.164 no Retinoic acid receptor gamma <RARG_HUMAN(183-417)> [Homo sapiens]', dbxrefs=[]),\n",
       " '1fg7': SeqRecord(seq=Seq('MSTVTITDLARENVRNLTPYQSARRLGGNGDVWLNANEYPTAVEFQLTQQTLNR...EQV', SingleLetterAlphabet()), id='1fg7', name='1fg7', description='1fg7 1FG7A 056CBB3CF894083F 356 XRAY 1.500 0.205 0.219 no Histidinol-phosphate aminotransferase <HIS8_ECOLI(1-356)> [Escherichia coli]', dbxrefs=[]),\n",
       " '1fkm': SeqRecord(seq=Seq('XNSIIQRISKFDNILKDKTIINQQDLRQISWNGIPKIHRPVVWKLLIGYLPVNT...HHH', SingleLetterAlphabet()), id='1fkm', name='1fkm', description='1fkm 1FKMA 98FC627C2917D45D 396 XRAY 1.900 0.199 0.225 no GTPase-activating protein GYP1 <GYP1_YEAST(248-637)> [Saccharomyces cerevisiae]', dbxrefs=[]),\n",
       " '1fo8': SeqRecord(seq=Seq('LAVIPILVIACDRSTVRRCLDKLLHYRPSAELFPIIVSQDCGHEETAQVIASYG...SWT', SingleLetterAlphabet()), id='1fo8', name='1fo8', description='1fo8 1FO8A 6966E3F0B4E7C1B1 343 XRAY 1.400 0.165 0.185 no Alpha-1,3-mannosyl-glycoprotein 2-beta-N-acetylglucosaminyltransferase <MGAT1_RABIT(106-447)> [Oryctolagus cuniculus]', dbxrefs=[]),\n",
       " '1fp2': SeqRecord(seq=Seq('MASSINGRKPSEIFKAQALLYKHIYAFIDSMSLKWAVEMNIPNIIQNHGKPISL...IYP', SingleLetterAlphabet()), id='1fp2', name='1fp2', description='1fp2 1FP2A 31B95228986C1296 352 XRAY 1.400 0.233 0.233 no Isoflavone-7-O-methyltransferase 8 <7OMT8_MEDSA(1-352)> [Medicago sativa]', dbxrefs=[]),\n",
       " '1fs7': SeqRecord(seq=Seq('SNINEREKERVALNKTAHSQGIEGKAMSEEWARYYPRQFDSWKKTKESDNITDM...TKK', SingleLetterAlphabet()), id='1fs7', name='1fs7', description='1fs7 1FS7A 03D496B1A421522A 485 XRAY 1.600 0.180 0.207 no Cytochrome c-552 <NRFA_WOLSU(23-507)> [Wolinella succinogenes]', dbxrefs=[]),\n",
       " '1ft5': SeqRecord(seq=Seq('ADAPFEGRKKCSSCHKAQAQSWKDTAHAKAMESLKPNVKKEAKQKAKLDPAKDY...KGK', SingleLetterAlphabet()), id='1ft5', name='1ft5', description='1ft5 1FT5A 476D716AB443FB75 211 XRAY 1.600 0.188 0.215 no Cytochrome c-554 <C554_NITEU(25-235)> [Nitrosomonas europaea]', dbxrefs=[]),\n",
       " '1fvi': SeqRecord(seq=Seq('AITKPLLAATLENIEDVQFPCLATPKIAGIRSVKQTQMLSRTFKPIRNSVMNRL...EDR', SingleLetterAlphabet()), id='1fvi', name='1fvi', description='1fvi 1FVIA 0E8CCCD0AB9ACB27 297 XRAY 2.000 0.190 0.270 no Putative uncharacterized protein C658R <A7RCB1_PBCVA(27-322)> [Paramecium bursaria Chlorella virus AR158]', dbxrefs=[]),\n",
       " '1fye': SeqRecord(seq=Seq('MELLLLSNSTLPGKAWLEHALPLIANQLNGRRSAVFIPFAGVTQTWDEYTDKTA...HRF', SingleLetterAlphabet()), id='1fye', name='1fye', description='1fye 1FYEA 41D40652C7D32220 229 XRAY 1.200 0.157 0.191 no Peptidase E <PEPE_SALTY(1-229)> [Salmonella typhimurium]', dbxrefs=[]),\n",
       " '1g12': SeqRecord(seq=Seq('TYNGCSSSEQSALAAAASAAQSYVAESLSYLQTHTAATPRYTTWFGSYISSRHS...AQS', SingleLetterAlphabet()), id='1g12', name='1g12', description='1g12 1G12A A372825B68EA55BB 167 XRAY 1.600 0.218 0.229 no Peptidyl-Lys metalloendopeptidase <PLMP_GRIFR(182-348)> [Grifola frondosa]', dbxrefs=[]),\n",
       " '1g2r': SeqRecord(seq=Seq('GSHMKTRKIPLRKSVVSNEVIDKRDLLRIVKNKEGQVFIDPTGKANGRGAYIKL...GLE', SingleLetterAlphabet()), id='1g2r', name='1g2r', description='1g2r 1G2RA 37E85D2E0C7C3CA2 100 XRAY 1.350 0.156 0.185 no HYPOTHETICAL CYTOSOLIC PROTEIN <A0A0H2UNW2_STRPN(1-97)> [Streptococcus pneumoniae]', dbxrefs=[]),\n",
       " '1g3p': SeqRecord(seq=Seq('AETVESCLAKSHTENSFTNVWKDDKTLDRYANYEGCLWNATGVVVCTGDETQCY...VNA', SingleLetterAlphabet()), id='1g3p', name='1g3p', description='1g3p 1G3PA 3351EAFD56745EF4 217 XRAY 1.460 0.187 0.225 no Attachment protein G3P <G3P_BPM13(19-235)> [Enterobacteria phage M13]', dbxrefs=[]),\n",
       " '1g5a': SeqRecord(seq=Seq('SPNSQYLKTRILDIYTPEQRAGIEKSEDWRQFSRRMDTHFPKLMNELDSVYGNN...EIA', SingleLetterAlphabet()), id='1g5a', name='1g5a', description='1g5a 1G5AA 7165749C60729AB0 628 XRAY 1.400 0.189 0.204 no Amylosucrase <AMYS_NEIPO(9-636)> [Neisseria polysaccharea]', dbxrefs=[]),\n",
       " '1g5t': SeqRecord(seq=Seq('MSDERYQQRQQKVKDRVDARVAQAQEERGIIIVFTGNGKGKTTAAFGTAARAVG...IDY', SingleLetterAlphabet()), id='1g5t', name='1g5t', description='1g5t 1G5TA AE02E11176513CC4 196 XRAY 1.800 0.192 0.267 no Cob(I)yrinic acid a,c-diamide adenosyltransferase <BTUR_SALTY(1-196)> [Salmonella typhimurium]', dbxrefs=[]),\n",
       " '1g66': SeqRecord(seq=Seq('SCPAIHVFGARETTASPGYGSSSTVVNGVLSAYPGSTAEAINYPACGGQSSCGG...KLG', SingleLetterAlphabet()), id='1g66', name='1g66', description='1g66 1G66A 318D93F054BF1048 207 XRAY 0.900 0.107 0.132 no Acetylxylan esterase 2 <AXE2_PENPU(28-234)> [Penicillium purpurogenum]', dbxrefs=[]),\n",
       " '1g6x': SeqRecord(seq=Seq('RPDFCLEPPYAGACRARIIRYFYNAKAGLCQTFVYGGCRAKRNNFKSAEDCLRTCGGA', SingleLetterAlphabet()), id='1g6x', name='1g6x', description='1g6x 1G6XA D66DE2DA19C2BCAD 58 XRAY 0.860 0.107 0.140 no Pancreatic trypsin inhibitor <BPT1_BOVIN(36-93)> [Bos taurus]', dbxrefs=[]),\n",
       " '1g8a': SeqRecord(seq=Seq('MVEVKKHKFPGVYTVIDDDGSERIATKNLVPGQRVYGERVIKWEGEEYRIWNPN...RKT', SingleLetterAlphabet()), id='1g8a', name='1g8a', description=\"1g8a 1G8AA 1B634D4DC15103E8 227 XRAY 1.400 0.203 0.218 no Fibrillarin-like rRNA/tRNA 2'-O-methyltransferase <FLPA_PYRHO(1-227)> [Pyrococcus horikoshii]\", dbxrefs=[]),\n",
       " '1g8p': SeqRecord(seq=Seq('MTTAVARLQPSASGAKTRPVFPFSAIVGQEDMKLALLLTAVDPGIGGVLVFGDR...TLP', SingleLetterAlphabet()), id='1g8p', name='1g8p', description='1g8p 1G8PA 5CBAA54A1F308568 350 XRAY 2.100 0.233 0.247 no Magnesium-chelatase 38 kDa subunit <BCHI_RHOCB(1-350)> [Rhodobacter capsulatus]', dbxrefs=[]),\n",
       " '1gak': SeqRecord(seq=Seq('FDDVVVSRQEQSYVQRGMVNFLDEEMHKLVKRFRDMRWNLGPGFVFLLKKVNRE...RRG', SingleLetterAlphabet()), id='1gak', name='1gak', description='1gak 1GAKA 0708BD48D944D190 141 XRAY 1.850 0.227 0.247 no Fertilization protein <Q25063_HALFU(18-158)> [Haliotis fulgens]', dbxrefs=[]),\n",
       " '1gci': SeqRecord(seq=Seq('AQSVPWGISRVQAPAAHNRGLTGSGVKVAVLDTGISTHPDLNIRGGASFVPGEP...ATR', SingleLetterAlphabet()), id='1gci', name='1gci', description='1gci 1GCIA 4D89F8778999BF8D 269 XRAY 0.780 0.101 0.103 no Subtilisin Savinase <SUBS_BACLE(1-269)> [Bacillus lentus]', dbxrefs=[]),\n",
       " '1gjw': SeqRecord(seq=Seq('MLLREINRYCKEKATGKRIYAVPKLWIPGFFKKFDEKSGRCFVDPYELGAEITD...VQE', SingleLetterAlphabet()), id='1gjw', name='1gjw', description='1gjw 1GJWA 9AC0D305603091A1 637 XRAY 2.100 0.197 0.252 no Maltodextrin glycosyltransferase <O33838_THEMT(1-637)> [Thermotoga maritima]', dbxrefs=[]),\n",
       " '1gkm': SeqRecord(seq=Seq('TELTLKPGTLTLAQLRAIHAAPVRLQLDASAAPAIDASVACVEQIIAEDRTAYG...PSL', SingleLetterAlphabet()), id='1gkm', name='1gkm', description='1gkm 1GKMA 32361C8BFD6B9D4E 509 XRAY 1.000 0.119 0.135 no Histidine ammonia-lyase <HUTH_PSEPU(2-510)> [Pseudomonas putida]', dbxrefs=[]),\n",
       " '1gmi': SeqRecord(seq=Seq('MVVFNGLLKIKICEAVSLKPTAWSLRDAVGPRPQTFLLDPYIALNVDDSRIGQT...SSG', SingleLetterAlphabet()), id='1gmi', name='1gmi', description='1gmi 1GMIA B963B4733E7BDDF8 136 XRAY 1.700 0.234 0.262 no Protein kinase C epsilon type <KPCE_RAT(1-136)> [Rattus norvegicus]', dbxrefs=[]),\n",
       " '1gmx': SeqRecord(seq=Seq('MDQFECINVADAHQKLQEKEAVLVDIRDPQSFAMGHAVQAFHLTNDTLGAFMRD...YGA', SingleLetterAlphabet()), id='1gmx', name='1gmx', description='1gmx 1GMXA 18D5B461C2A8EF19 108 XRAY 1.100 0.128 0.151 no Thiosulfate sulfurtransferase GlpE <GLPE_ECOLI(1-108)> [Escherichia coli]', dbxrefs=[]),\n",
       " '1gny': SeqRecord(seq=Seq('GNVVIEVDMANGWRGNASGSTSHSGITYSADGVTFAALGDGVGAVFDIARPTTL...QEA', SingleLetterAlphabet()), id='1gny', name='1gny', description='1gny 1GNYA 7EDF1CE7ACF67CA9 153 XRAY 1.630 0.152 0.177 no Endo-beta-1,4-xylanase Xyn10C <XY10C_CELJA(91-243)> [Cellvibrio japonicus]', dbxrefs=[]),\n",
       " '1gp0': SeqRecord(seq=Seq('MKSNEHDDCQVTNPSTGHLFDLSSLSGRAGFTAAYSEKGLVYMSICGENENCPP...QAT', SingleLetterAlphabet()), id='1gp0', name='1gp0', description='1gp0 1GP0A 037890EB1CEB56DD 143 XRAY 1.400 0.209 0.237 no Cation-independent mannose-6-phosphate receptor <MPRI_HUMAN(1508-1650)> [Homo sapiens]', dbxrefs=[]),\n",
       " '1gp6': SeqRecord(seq=Seq('MVAVERVESLAKSGIISIPKEYIRPKEELESINDVFLEEKKEDGPQVPTIDLKN...KND', SingleLetterAlphabet()), id='1gp6', name='1gp6', description='1gp6 1GP6A 1B74AE3A54056201 356 XRAY 1.750 0.194 0.222 no Leucoanthocyanidin dioxygenase <LDOX_ARATH(1-356)> [Arabidopsis thaliana]', dbxrefs=[]),\n",
       " '1gpj': SeqRecord(seq=Seq('MEDLVSVGITHKEAEVEELEKARFESDEAVRDIVESFGLSGSVLLQTSNRVEVY...LNG', SingleLetterAlphabet()), id='1gpj', name='1gpj', description='1gpj 1GPJA B41BD5A60B836CC1 404 XRAY 1.950 0.212 0.262 no Glutamyl-tRNA reductase <HEM1_METKA(1-404)> [Methanopyrus kandleri]', dbxrefs=[]),\n",
       " '1gpp': SeqRecord(seq=Seq('MHHHHHHGSACFAKGTNVLMADGSIECIENIEVGNKVMGKDGRPREVIKLPRGS...VVH', SingleLetterAlphabet()), id='1gpp', name='1gpp', description='1gpp 1GPPA C388615293BA4C5F 237 XRAY 1.350 0.153 0.189 no V-type proton ATPase catalytic subunit A <VATA_YEAST(283-466)> [Saccharomyces cerevisiae]', dbxrefs=[]),\n",
       " '1gpr': SeqRecord(seq=Seq('MIAEPLQNEIGEEVFVSPITGEIHPITDVPDQVFSGKMMGDGFAILPSEGIVVS...IEK', SingleLetterAlphabet()), id='1gpr', name='1gpr', description='1gpr 1GPRA 69144F51F73E612E 162 XRAY 1.900 0.156 NA no Protein-N(Pi)-phosphohistidine-sugar phosphotransferase <Q59250_BACIU(1-162)> [Bacillus subtilis]', dbxrefs=[]),\n",
       " '1gqe': SeqRecord(seq=Seq('MFEINPVNNRIQDLTERSDVLRGYLDYDAKKERLEEVNAELEQPDVWNEPERAQ...AGL', SingleLetterAlphabet()), id='1gqe', name='1gqe', description='1gqe 1GQEA 8999803A2815B297 365 XRAY 1.810 0.222 0.247 no Peptide chain release factor 2 <RF2_ECOLI(1-365)> [Escherichia coli]', dbxrefs=[]),\n",
       " '1gs5': SeqRecord(seq=Seq('MMNPLIIKLGGVLLDSEEALERLFSALVNYRESHQRPLVIVHGGGCVVDELMKG...ILA', SingleLetterAlphabet()), id='1gs5', name='1gs5', description='1gs5 1GS5A 8B916B8CBC143738 258 XRAY 1.500 0.209 0.213 no Acetylglutamate kinase <ARGB_ECOLI(1-258)> [Escherichia coli]', dbxrefs=[]),\n",
       " '1gs9': SeqRecord(seq=Seq('KVEQAVETEPEPELRQQTEWQSGQRWELALGRFWDYLRWVQTLSEQVQEELLSS...QAG', SingleLetterAlphabet()), id='1gs9', name='1gs9', description='1gs9 1GS9A 0F2D1A5E1CF679E2 165 XRAY 1.700 0.219 0.247 no Apolipoprotein E <APOE_HUMAN(19-183)> [Homo sapiens]', dbxrefs=[]),\n",
       " '1gsa': SeqRecord(seq=Seq('MIKLGIVMDPIANINIKKDSSFAMLLEAQRRGYELHYMEMGDLYLINGEARAHT...QQQ', SingleLetterAlphabet()), id='1gsa', name='1gsa', description='1gsa 1GSAA F2E67AB29DE113DD 316 XRAY 2.000 0.188 NA no Glutathione synthetase <GSHB_ECOLI(1-316)> [Escherichia coli]', dbxrefs=[]),\n",
       " '1gsm': SeqRecord(seq=Seq('QSLQVKPLQVEPPEPVVAVALGASRQLTCRLACADRGASVQWRGLDTSLGAVQS...EGR', SingleLetterAlphabet()), id='1gsm', name='1gsm', description='1gsm 1GSMA 08FFA6877AE512D4 210 XRAY 1.900 0.218 0.250 no Mucosal addressin cell adhesion molecule 1 <MADCA_HUMAN(19-224)> [Homo sapiens]', dbxrefs=[]),\n",
       " '1gu3': SeqRecord(seq=Seq('ASPIGEGTFDDGPEGWVAYGTDGPLDTSTGALCVAVPAGSAQYGVGVVLNGVAI...DSE', SingleLetterAlphabet()), id='1gu3', name='1gu3', description='1gu3 1GU3A E48F61616BF3DBC4 149 XRAY 2.300 0.217 0.257 no Endoglucanase C <GUNC_CELFA(33-181)> [Cellulomonas fimi]', dbxrefs=[]),\n",
       " '1gui': SeqRecord(seq=Seq('SINNGTFDEPIVNDQANNPDEWFIWQAGDYGISGARVSDYGVRDGYAYITIADP...SPQ', SingleLetterAlphabet()), id='1gui', name='1gui', description='1gui 1GUIA DDC09973EF41E931 155 XRAY 1.900 0.173 0.197 no Laminarinase <Q9WXN1_THEMA(488-642)> [Thermotoga maritima]', dbxrefs=[]),\n",
       " '1gv9': SeqRecord(seq=Seq('SQFVGSDGMGGDAAAPGAAGTQAELPHRRFEYKYSFKGPHLVQSDGTVPFWAHA...PPT', SingleLetterAlphabet()), id='1gv9', name='1gv9', description='1gv9 1GV9A 9A3FB5DA7531395B 260 XRAY 1.460 0.192 0.212 no Protein ERGIC-53 <LMAN1_RAT(25-284)> [Rattus norvegicus]', dbxrefs=[]),\n",
       " '1gvp': SeqRecord(seq=Seq('MIKVEIKPSQAQFTTRSGVSRQGKPYSLNEQLCYVDLGNEYPVLVKITLDEGQP...PAK', SingleLetterAlphabet()), id='1gvp', name='1gvp', description='1gvp 1GVPA 2FAD178DDC248CF0 87 XRAY 1.600 0.209 0.288 no DNA-Binding protein G5P <G5P_BPF1(1-87)> [Enterobacteria phage f1]', dbxrefs=[]),\n",
       " '1gwe': SeqRecord(seq=Seq('MEHQKTTPHATGSTRQNGAPAVSDRQSLTVGSEGPIVLHDTHLLETHQHFNRMN...ARI', SingleLetterAlphabet()), id='1gwe', name='1gwe', description='1gwe 1GWEA 8AA0ADEFC0E46A09 503 XRAY 0.880 0.089 0.096 no Catalase <CATA_MICLU(1-502)> [Micrococcus luteus]', dbxrefs=[]),\n",
       " '1gwm': SeqRecord(seq=Seq('MNVRATYTVIFKNASGLPNGYDNWGWGCTLSYYGGAMIINPQEGKYGAVSLKRN...HHH', SingleLetterAlphabet()), id='1gwm', name='1gwm', description='1gwm 1GWMA A7DB3CDA429866D4 153 XRAY 1.150 0.129 0.156 no Non-catalytic protein 1 <Q9C171_PIREQ(335-478)> [Piromyces equi]', dbxrefs=[]),\n",
       " '1h12': SeqRecord(seq=Seq('AFNNNPSSVGAYSSGTYRNLAQEMGKTNIQQKVNSTFDNMFGYNNTQQLYYPYT...TFN', SingleLetterAlphabet()), id='1h12', name='1h12', description='1h12 1H12A 670CFE291A6DD393 405 XRAY 1.200 0.108 0.130 no Endo-1,4-beta-xylanase <Q8RJN8_PSEHA(22-426)> [Pseudoalteromonas haloplanktis]', dbxrefs=[]),\n",
       " '1h30': SeqRecord(seq=Seq('APLAHCDGRGGLKLSQDMDTCEDILPCVPFSVAKSVKSLYLGRMFSGTPVIRLR...AAA', SingleLetterAlphabet()), id='1h30', name='1h30', description='1h30 1H30A E6846A08369561C6 422 XRAY 2.200 0.234 0.259 no Growth arrest-specific protein 6 <GAS6_HUMAN(261-721)> [Homo sapiens]', dbxrefs=[]),\n",
       " '1h4a': SeqRecord(seq=Seq('GKITLYEDRGFQGRHYECSSDHPNLQPYLSRCNSARVDSGCWMLYEQPNYSGLQ...DFS', SingleLetterAlphabet()), id='1h4a', name='1h4a', description='1h4a 1H4AX A1AF6A7D4D0794DF 173 XRAY 1.150 0.157 0.182 no Gamma-crystallin D <CRGD_HUMAN(2-174)> [Homo sapiens]', dbxrefs=[]),\n",
       " '1h6h': SeqRecord(seq=Seq('AVAQQLRAESDFEQLPDDVAISANIADIEEKRGFTSHFVFVIEVKTKGGSKYLI...QVP', SingleLetterAlphabet()), id='1h6h', name='1h6h', description='1h6h 1H6HA FE39279D414A2539 143 XRAY 1.700 0.196 0.232 no Neutrophil cytosol factor 4 <NCF4_HUMAN(2-144)> [Homo sapiens]', dbxrefs=[]),\n",
       " '1h72': SeqRecord(seq=Seq('MKVRVKAPCTSANLGVGFDVFGLCLKEPYDVIEVEAIDDKEIIIEVDDKNIPTD...EVV', SingleLetterAlphabet()), id='1h72', name='1h72', description='1h72 1H72C 49919E68F3834C78 296 XRAY 1.800 0.177 0.207 no Homoserine kinase <KHSE_METJA(1-296)> [Methanocaldococcus jannaschii]', dbxrefs=[]),\n",
       " '1h99': SeqRecord(seq=Seq('GAMEKFKTLLYDIPIECMEVSEEIISYAKLQLGKKLNDSIYVSLTDHINFAIQR...KQA', SingleLetterAlphabet()), id='1h99', name='1h99', description='1h99 1H99A 8A6B7247DFC612D9 224 XRAY 1.550 0.224 0.238 no Transcription antiterminator LicT <LICT_BACSU(57-277)> [Bacillus subtilis]', dbxrefs=[]),\n",
       " '1hdo': SeqRecord(seq=Seq('MAVKKIAIFGATGQTGLTTLAQAVQAGYEVTVLVRDSSRLPSEGPRPAHVVVGD...QYQ', SingleLetterAlphabet()), id='1hdo', name='1hdo', description='1hdo 1HDOA 3057E6D69A9F9F9F 206 XRAY 1.150 0.125 0.158 no Flavin reductase (NADPH) <BLVRB_HUMAN(1-206)> [Homo sapiens]', dbxrefs=[]),\n",
       " '1hh8': SeqRecord(seq=Seq('MSLVEAISLWNEGVLAADKKDWKGALDAFSAVQDPHSRICFNIGCMYTILKNMT...QDS', SingleLetterAlphabet()), id='1hh8', name='1hh8', description='1hh8 1HH8A 4387519822DBE090 213 XRAY 1.800 0.182 0.204 no Neutrophil cytosol factor 2 <NCF2_HUMAN(1-213)> [Homo sapiens]', dbxrefs=[]),\n",
       " '1hk8': SeqRecord(seq=Seq('MTIEKEIEGLIHKTNKDLLNENANKDSRVFPTQRDLMAGIVSKHIAKNMVPSFI...KHQ', SingleLetterAlphabet()), id='1hk8', name='1hk8', description='1hk8 1HK8A C5F4FC863126800B 605 XRAY 2.450 0.204 0.246 no Anaerobic ribonucleoside-triphosphate reductase <NRDD_BPT4(1-605)> [Enterobacteria phage T4]', dbxrefs=[]),\n",
       " '1ho8': SeqRecord(seq=Seq('GSMGATKILMDSTHFNEIRSIIRSRSVAWDALARSEELSEIDASTAKALESILV...TFK', SingleLetterAlphabet()), id='1ho8', name='1ho8', description='1ho8 1HO8A CC349D81E54A15C9 480 XRAY 2.950 0.223 0.312 no V-type proton ATPase subunit H <VATH_YEAST(1-478)> [Saccharomyces cerevisiae]', dbxrefs=[]),\n",
       " '1hp1': SeqRecord(seq=Seq('YEQDKTYKITVLHTNDHHGHFWRNEYGEYGLAAQKTLVDGIRKEVAAEGGSVLL...SWQ', SingleLetterAlphabet()), id='1hp1', name='1hp1', description='1hp1 1HP1A A20A8AC4D382D0A2 516 XRAY 1.700 0.176 0.199 no Protein UshA <USHA_ECOLI(26-550)> [Escherichia coli]', dbxrefs=[]),\n",
       " '1hq0': SeqRecord(seq=Seq('SIESTSKSNFQKLSRGNIDVLKGRGSISSTRQRAIYPYFEAANADEQQPLFFYI...KKF', SingleLetterAlphabet()), id='1hq0', name='1hq0', description='1hq0 1HQ0A 803ED1D281A79330 295 XRAY 1.830 0.193 0.214 no Cytotoxic necrotizing factor 1 <Q47106_ECOLX(720-1014)> [Escherichia coli]', dbxrefs=[]),\n",
       " '1huw': SeqRecord(seq=Seq('FPTIPLSRLADNAWLRADRLNQLAFDTYQEFEEAYIPKEQIHSFWWNPQTSLCP...CGF', SingleLetterAlphabet()), id='1huw', name='1huw', description='1huw 1HUWA 3AE391399491A696 191 XRAY 2.000 0.185 NA no Somatotropin <SOMA_HUMAN(27-217)> [Homo sapiens]', dbxrefs=[]),\n",
       " '1hw7': SeqRecord(seq=Seq('MIMPQHDQLHRYLFENFAVRGELVTVSETLQQILENHDYPQPVKNVLAELLVAT...SIL', SingleLetterAlphabet()), id='1hw7', name='1hw7', description='1hw7 1HW7A C6F310EAEB125F1C 255 XRAY 2.200 0.230 0.257 no 33 kDa chaperonin <HSLO_ECOLI(1-253)> [Escherichia coli]', dbxrefs=[]),\n",
       " '1hxi': SeqRecord(seq=Seq('QNNTDYPFEANNPYMYHENPMEEGLSMLKLANLAEAALAFEAVCQKEPEREEAW...EQL', SingleLetterAlphabet()), id='1hxi', name='1hxi', description='1hxi 1HXIA 2C9FC67DF89AE632 121 XRAY 1.600 0.191 0.223 no Peroxisome targeting signal 1 receptor PEX5 <Q9U7C3_9TRYP(333-453)> [Trypanosoma brucei]', dbxrefs=[]),\n",
       " '1hxn': SeqRecord(seq=Seq('HRNSTQHGHESTRCDPDLVLSAMVSDNHGATYVFSGSHYWRLDTNRDGWHSWPI...CTH', SingleLetterAlphabet()), id='1hxn', name='1hxn', description='1hxn 1HXNA EE463C3A33DE3DF8 219 XRAY 1.800 0.176 NA no Hemopexin <HEMO_RABIT(242-460)> [Oryctolagus cuniculus]', dbxrefs=[]),\n",
       " '1hz4': SeqRecord(seq=Seq('GHEIKDIREDTMHAEFNALRAQVAINDGNPDEAERLAKLALEELPPGWFYSRIV...HGA', SingleLetterAlphabet()), id='1hz4', name='1hz4', description='1hz4 1HZ4A 55D43C3D26282AA6 373 XRAY 1.450 0.189 0.207 no HTH-type transcriptional regulator MalT <MALT_ECOLI(437-806)> [Escherichia coli]', dbxrefs=[]),\n",
       " '1hzt': SeqRecord(seq=Seq('MQTEHVILLNAQGVPTGTLEKYAAHTADTRLHLAFSSWLFNAKGQLLVTRRALS...HHH', SingleLetterAlphabet()), id='1hzt', name='1hzt', description='1hzt 1HZTA 7227E45550F5746B 190 XRAY 1.450 0.192 0.224 no Isopentenyl-diphosphate Delta-isomerase <IDI_ECOLI(1-182)> [Escherichia coli]', dbxrefs=[]),\n",
       " '1i1w': SeqRecord(seq=Seq('EAAQSVDQLIKARGKVYFGVATDQNRLTTGKNAAIIQANFGQVTPENSMKWDAT...LQQ', SingleLetterAlphabet()), id='1i1w', name='1i1w', description='1i1w 1I1WA E0F9392209C366E5 303 XRAY 0.890 0.090 0.106 no Endo-1,4-beta-xylanase <XYNA_THEAU(27-329)> [Thermoascus aurantiacus]', dbxrefs=[]),\n",
       " '1i24': SeqRecord(seq=Seq('MRGSHHHHHHGSRVMVIGGDGYCGWATALHLSKKNYEVCIVDNLVRRLFDHQLG...MTT', SingleLetterAlphabet()), id='1i24', name='1i24', description='1i24 1I24A 464CEA887E2856AF 404 XRAY 1.200 0.192 0.198 no UDP-sulfoquinovose synthase, chloroplastic <SQD1_ARATH(86-477)> [Arabidopsis thaliana]', dbxrefs=[]),\n",
       " '1i27': SeqRecord(seq=Seq('GPLGSGDVQVTEDAVRRYLTRKPMTTKDLLKKFQTKKTGLSSEQTVNVLAQILK...LKE', SingleLetterAlphabet()), id='1i27', name='1i27', description='1i27 1I27A 1FB61232BAEE93FE 73 XRAY 1.020 0.127 0.146 no General transcription factor IIF subunit 1 <T2FA_HUMAN(449-517)> [Homo sapiens]', dbxrefs=[]),\n",
       " '1i2k': SeqRecord(seq=Seq('MFLINGHKQESLAVSDRATQFGDGCFTTARVIDGKVSLLSAHIQRLQDACQRLM...RPN', SingleLetterAlphabet()), id='1i2k', name='1i2k', description='1i2k 1I2KA 4BC186083F5E999E 269 XRAY 1.790 0.163 0.248 no Aminodeoxychorismate lyase <PABC_ECOLI(1-269)> [Escherichia coli]', dbxrefs=[]),\n",
       " '1i2t': SeqRecord(seq=Seq('HRQALGERLYPRVQAMQPAFASKITGMLLELSPAQLLLLLASEDSLRARVDEAM...AHG', SingleLetterAlphabet()), id='1i2t', name='1i2t', description='1i2t 1I2TA EFC9401AC1274C4A 61 XRAY 1.040 0.154 0.171 no E3 ubiquitin-protein ligase UBR5 <UBR5_HUMAN(2393-2453)> [Homo sapiens]', dbxrefs=[]),\n",
       " '1i4w': SeqRecord(seq=Seq('MGGSHHHHHHMASSVPIPGIKDISKLKFFYGFKYLWNPTVYNKIFDKLDLTKTY...HSG', SingleLetterAlphabet()), id='1i4w', name='1i4w', description='1i4w 1I4WA E55AD5576FC0215F 353 XRAY 2.600 0.191 0.274 no Mitochondrial transcription factor 1 <MTF1_YEAST(2-341)> [Saccharomyces cerevisiae]', dbxrefs=[]),\n",
       " '1i5p': SeqRecord(seq=Seq('MNNVLNSGRTTICDAYNVVAHDPFSFEHKSLDTIQKEWMEWKRTDHSLYVAPVV...PLY', SingleLetterAlphabet()), id='1i5p', name='1i5p', description='1i5p 1I5PA 15182F4C778E58A4 633 XRAY 2.200 0.183 0.231 no Pesticidal crystal protein Cry2Aa <CR2AA_BACTK(1-633)> [Bacillus thuringiensis]', dbxrefs=[]),\n",
       " '1i60': SeqRecord(seq=Seq('MKLCFNEATTLENSNLKLDLELCEKHGYDYIEIRTMDKLPEYLKDHSLDDLAEY...FSM', SingleLetterAlphabet()), id='1i60', name='1i60', description='1i60 1I60A 11D54EEBAF14710C 278 XRAY 1.600 0.214 0.228 no Inosose isomerase <IOLI_BACSU(1-278)> [Bacillus subtilis]', dbxrefs=[]),\n",
       " '1i71': SeqRecord(seq=Seq('DCYHGDGQSYRGSFSTTVTGRTCQSWSSMTPHWHQRTTEYYPNGGLTRNYCRNP...VME', SingleLetterAlphabet()), id='1i71', name='1i71', description='1i71 1I71A B0AF07695B165FC8 83 XRAY 1.450 0.173 0.200 no Apolipoprotein(a) <APOA_HUMAN(3781-3863)> [Homo sapiens]', dbxrefs=[]),\n",
       " '1i8a': SeqRecord(seq=Seq('MVATAKYGTPVIDGEIDEIWNTTEEIETKAVAMGSLDKNATAKVRVLWDENYLY...LIK', SingleLetterAlphabet()), id='1i8a', name='1i8a', description='1i8a 1I8AA D0E9221251D3BECD 189 XRAY 1.900 0.201 0.217 no Endo-1,4-beta-xylanase A <XYNA_THEMA(871-1059)> [Thermotoga maritima]', dbxrefs=[]),\n",
       " '1iap': SeqRecord(seq=Seq('QNSQFQSLEQVKRRPAHLMALLQHVALQFEPGPLLCCLHADMLGSLGPKEAKKA...MGN', SingleLetterAlphabet()), id='1iap', name='1iap', description='1iap 1IAPA 1FA017F70524358D 211 XRAY 1.900 0.240 0.275 no Rho guanine nucleotide exchange factor 1 <ARHG1_HUMAN(42-252)> [Homo sapiens]', dbxrefs=[]),\n",
       " '1id0': SeqRecord(seq=Seq('RELHPVAPLLDNLTSALNKVYQRKGVNISLDISPEISFVGEQNDFVEVMGNVLD...KDE', SingleLetterAlphabet()), id='1id0', name='1id0', description='1id0 1ID0A B6BA16997CB09F2D 152 XRAY 1.600 0.199 0.233 no Sensor protein PhoQ <PHOQ_ECOLI(335-486)> [Escherichia coli]', dbxrefs=[]),\n",
       " '1ifr': SeqRecord(seq=Seq('GSHRTSGRVAVEEVDEEGKFVRLRNKSNEDQSMGNWQIKRQNGDDPLLTYRFPP...VED', SingleLetterAlphabet()), id='1ifr', name='1ifr', description='1ifr 1IFRA A882BA50B532C631 121 XRAY 1.400 0.216 NA no Prelamin-A/C <LMNA_HUMAN(436-552)> [Homo sapiens]', dbxrefs=[]),\n",
       " '1ii5': SeqRecord(seq=Seq('GSAMALKVGVVGNPPFVFYGEGKNAAFTGISLDVWRAVAESQKWNSEYVRQNSI...ENQ', SingleLetterAlphabet()), id='1ii5', name='1ii5', description='1ii5 1II5A BD5764BAB93B8FD8 233 XRAY 1.600 0.245 0.263 no Slr1257 protein <P73797_SYNY3(69-385)> [Synechocystis sp.]', dbxrefs=[]),\n",
       " '1ij5': SeqRecord(seq=Seq('EIFSQELTQREANVKKVHENLEELQKKLDHTSFAHKEDRDRLEAQIAQKEQEQK...HDD', SingleLetterAlphabet()), id='1ij5', name='1ij5', description='1ij5 1IJ5A 5AED20E51E0D3CD8 323 XRAY 3.000 0.244 0.260 no Plasmodial-specific protein LAV1-2 <LAV1_PHYPO(33-355)> [Physarum polycephalum]', dbxrefs=[]),\n",
       " '1ikt': SeqRecord(seq=Seq('MEGGKLQSTFVFEEIGRRLKDIGPEVVKKVNAVFEWHITKGGNIGAKWTIDLKS...AKL', SingleLetterAlphabet()), id='1ikt', name='1ikt', description='1ikt 1IKTA E2EA8515FBA7A2DB 120 XRAY 1.750 0.192 0.214 no Peroxisomal multifunctional enzyme type 2 <DHB4_HUMAN(618-736)> [Homo sapiens]', dbxrefs=[]),\n",
       " '1in4': SeqRecord(seq=Seq('MSEFLTPERTVYDSGVQFLRPKSLDEFIGQENVKKKLSLALEAAKMRGEVLDHV...RLF', SingleLetterAlphabet()), id='1in4', name='1in4', description='1in4 1IN4A 6F4BBFBFA7B9C7A9 334 XRAY 1.600 0.236 0.253 no Holliday junction ATP-dependent DNA helicase RuvB <RUVB_THEMA(1-334)> [Thermotoga maritima]', dbxrefs=[]),\n",
       " '1io0': SeqRecord(seq=Seq('GLNSVIKPTKYKPVPDEEPNSTDVEETLKRIQNNDPDLEEVNLNNIMNIPVPTL...RRL', SingleLetterAlphabet()), id='1io0', name='1io0', description='1io0 1IO0A E45EC9948424386C 185 XRAY 1.450 0.203 0.220 no Tropomodulin (Fragment) <Q9DEA6_CHICK(146-330)> [Gallus gallus]', dbxrefs=[]),\n",
       " '1iom': SeqRecord(seq=Seq('MEVARGLEGVLFTESRMCYIDGQQGKLYYYGIPIQELAEKSSFEETTFLLLHGR...ARE', SingleLetterAlphabet()), id='1iom', name='1iom', description='1iom 1IOMA 1073CD931215F4C5 377 XRAY 1.500 0.172 0.185 no Citrate synthase <Q5SIM6_THET8(1-377)> [Thermus thermophilus]', dbxrefs=[]),\n",
       " '1iqz': SeqRecord(seq=Seq('PKYTIVDKETCIACGACGAAAPDIYDYDEDGIAYVTLDDNQGIVEVPDILIDDM...KFE', SingleLetterAlphabet()), id='1iqz', name='1iqz', description='1iqz 1IQZA C44C3D9B193A525C 81 XRAY 0.920 0.097 0.113 no Ferredoxin <FER_BACTH(1-81)> [Bacillus thermoproteolyticus]', dbxrefs=[]),\n",
       " '1is3': SeqRecord(seq=Seq('SDRAEVRNIPFKLGMYLTVGGVVNSNATRFSINVGESTDSIAMHMDHRFSYGAD...RLE', SingleLetterAlphabet()), id='1is3', name='1is3', description='1is3 1IS3A 12D43BB9BEE55323 135 XRAY 1.450 0.197 0.226 no Congerin-2 <LEG2_CONMY(2-136)> [Conger myriaster]', dbxrefs=[]),\n",
       " '1iuq': SeqRecord(seq=Seq('ASHSRKFLDVRSEEELLSCIKKETEAGKLPPNVAAGMEELYQNYRNAVIESGNP...QPW', SingleLetterAlphabet()), id='1iuq', name='1iuq', description='1iuq 1IUQA 987C734E9DA2445E 367 XRAY 1.550 0.202 0.219 no Glycerol-3-phosphate acyltransferase, chloroplastic <PLSB_CUCMO(32-396)> [Cucurbita moschata]', dbxrefs=[]),\n",
       " '1ixh': SeqRecord(seq=Seq('EASLTGAGATFPAPVYAKWADTYQKETGNKVNYQGIGSSGGVKQIIANTVDFGA...PLY', SingleLetterAlphabet()), id='1ixh', name='1ixh', description='1ixh 1IXHA BC93B3D80521A765 321 XRAY 0.980 0.117 0.141 no Phosphate-binding protein PstS <PSTS_ECOLI(26-346)> [Escherichia coli]', dbxrefs=[]),\n",
       " '1ixl': SeqRecord(seq=Seq('MIPVEQRTHKLTSRILVGKPILIKEGYAEVELETIDEMKVDEKGLVHGGFTFGL...LDN', SingleLetterAlphabet()), id='1ixl', name='1ixl', description='1ixl 1IXLA 4FD4A1E8220209F3 131 XRAY 1.940 0.199 0.239 no Putative uncharacterized protein PH1136 <O58863_PYRHO(1-131)> [Pyrococcus horikoshii]', dbxrefs=[]),\n",
       " '1izc': SeqRecord(seq=Seq('MAKSYSEQPELHAKAPYRSAMLTYPGNLRQALKDAMADPSKTLMGVAHGIPSTF...DKA', SingleLetterAlphabet()), id='1izc', name='1izc', description='1izc 1IZCA B5B7F88E5300E86C 339 XRAY 1.700 0.178 0.203 no Macrophomate synthase <Q9UVD4_9PEZI(1-339)> [Macrophoma commelinae]', dbxrefs=[]),\n",
       " '1izm': SeqRecord(seq=Seq('GSMLISHSDMNQQLKSAGIGFNATELHGFLSGLLCGGLKDQSWLPLLYQFSNDN...VLH', SingleLetterAlphabet()), id='1izm', name='1izm', description='1izm 1IZMA C5DCE6FE3045476D 184 XRAY 1.950 0.194 0.255 no UPF0149 protein HI_0817 <Y817_HAEIN(1-182)> [Haemophilus influenzae]', dbxrefs=[]),\n",
       " '1j0p': SeqRecord(seq=Seq('AAPKAPADGLKMDKTKQPVVFNHSTHKAVKCGDCHHPVNGKEDLQKCATAGCHD...CHS', SingleLetterAlphabet()), id='1j0p', name='1j0p', description='1j0p 1J0PA 6C41DFF892D06CC3 108 XRAY 0.910 0.108 0.136 no Cytochrome c3 <CYC3_DESVM(23-130)> [Desulfovibrio vulgaris]', dbxrefs=[]),\n",
       " '1j1t': SeqRecord(seq=Seq('DNSNGSTIPSSITSGSIFDLEGDNPNPLVDDSTLVFVPLEAQHITPNGNGWRHE...ETN', SingleLetterAlphabet()), id='1j1t', name='1j1t', description='1j1t 1J1TA F657E53D1B719FFA 233 XRAY 2.000 0.194 0.248 no Alginate lyase <P84143_ALTS2(1-233)> [Alteromonas sp.]', dbxrefs=[]),\n",
       " '1j24': SeqRecord(seq=Seq('MQEGVKVVVDSRELRSEVVKRLKLLGVKLEVKTLDVGDYIISEDVAIERKSAND...RIR', SingleLetterAlphabet()), id='1j24', name='1j24', description='1j24 1J24A 3BE50494172915F6 143 XRAY 1.780 0.215 0.246 no ATP-dependent RNA helicase, putative <Q8TZH8_PYRFU(548-689)> [Pyrococcus furiosus]', dbxrefs=[]),\n",
       " '1j27': SeqRecord(seq=Seq('MKAYLGLYTARLETPARSLKEKRALIKPALERLKARFPVSAARLYGLDAWGYEV...GLL', SingleLetterAlphabet()), id='1j27', name='1j27', description='1j27 1J27A E154DAC000FA76E4 102 XRAY 1.700 0.178 0.218 no Putative uncharacterized protein <Q84BR1_THETH(1-102)> [Thermus thermophilus]', dbxrefs=[]),\n",
       " '1j3a': SeqRecord(seq=Seq('MRIINADGLILGRLASRVAKMLLEGEEVVIVNAEKAVITGNREVIFSKYKQRTG...GKF', SingleLetterAlphabet()), id='1j3a', name='1j3a', description='1j3a 1J3AA 08AEE7B91507E21B 142 XRAY 1.600 0.209 0.228 no 50S ribosomal protein L13 <RL13_PYRHO(1-142)> [Pyrococcus horikoshii]', dbxrefs=[]),\n",
       " '1j5u': SeqRecord(seq=Seq('XGSDKIHHHHHHXRKPIEHTADIAYEISGNSYEELLEEARNILLEEEGIVLDTE...FDT', SingleLetterAlphabet()), id='1j5u', name='1j5u', description='1j5u 1J5UA 7969A96A1EDB39CB 136 XRAY 2.000 0.212 0.271 no Protein archease <ARCH_THEMA(1-124)> [Thermotoga maritima]', dbxrefs=[]),\n",
       " '1j5y': SeqRecord(seq=Seq('XGSDKIHHHHHHXHXKTVRQERLKSIVRILERSKEPVSGAQLAEELSVSRQVIV...EEG', SingleLetterAlphabet()), id='1j5y', name='1j5y', description='1j5y 1J5YA 08E03516B576DBC3 187 XRAY 2.300 0.190 0.234 no Probable transcription repressor NiaR <NIAR_THEMA(1-175)> [Thermotoga maritima]', dbxrefs=[]),\n",
       " '1j77': SeqRecord(seq=Seq('MSETENQALTFAKRLKADTTAVHDSVDNLVMSVQPFVSKENYIKFLKLQSVFHK...HRH', SingleLetterAlphabet()), id='1j77', name='1j77', description='1j77 1J77A 60511E3AE723E074 209 XRAY 1.500 0.229 0.260 no HemO <Q9RGD9_NEIME(22-230)> [Neisseria meningitidis]', dbxrefs=[]),\n",
       " '1j7x': SeqRecord(seq=Seq('DPSVTHVLHQLCDILANNYAFSERIPTLLQHLPNLDYSTVISEEDIAAKLNYEL...PLA', SingleLetterAlphabet()), id='1j7x', name='1j7x', description='1j7x 1J7XA 8EC12862DC3C921C 302 XRAY 1.800 0.207 0.220 no Retinol-binding protein 3 <RET3_XENLA(319-617)> [Xenopus laevis]', dbxrefs=[]),\n",
       " '1j8b': SeqRecord(seq=Seq('GSHMFGKGGLGGLMKQAQQMQEKMQKMQEEIAQLEVTGESGAGLVKITINGAHN...FPF', SingleLetterAlphabet()), id='1j8b', name='1j8b', description='1j8b 1J8BA 4E50F57254060D21 112 XRAY 1.750 0.180 0.263 no Nucleoid-associated protein HI_0442 <Y442_HAEIN(1-109)> [Haemophilus influenzae]', dbxrefs=[]),\n",
       " '1j98': SeqRecord(seq=Seq('MPSVESFELDHNAVVAPYVRHCGVHKVGTDGVVNKFDIRFCQPNKQAMKPDTIH...VFG', SingleLetterAlphabet()), id='1j98', name='1j98', description='1j98 1J98A DBC7DA2A88B92BFB 157 XRAY 1.200 0.127 0.146 no S-ribosylhomocysteine lyase <LUXS_BACSU(1-157)> [Bacillus subtilis]', dbxrefs=[]),\n",
       " '1jb3': SeqRecord(seq=Seq('CPERELQRREEEANVVLTGTVEEIMNVDPVHHTYSCKVRVWRYLKGKDIVTHEI...LLA', SingleLetterAlphabet()), id='1jb3', name='1jb3', description='1jb3 1JB3A FD44D1AE63ECF289 131 XRAY 1.600 0.198 0.243 no Agrin <AGRIN_CHICK(26-156)> [Gallus gallus]', dbxrefs=[]),\n",
       " '1jbe': SeqRecord(seq=Seq('ADKELKFLVVDDFSTMRRIVRNLLKELGFNNVEEAEDGVDALNKLQAGGYGFVI...LGM', SingleLetterAlphabet()), id='1jbe', name='1jbe', description='1jbe 1JBEA 626A677A73CD74FA 128 XRAY 1.080 0.105 0.152 no Chemotaxis protein CheY <CHEY_ECOLI(2-129)> [Escherichia coli]', dbxrefs=[])}"
      ]
     },
     "execution_count": 12,
     "metadata": {},
     "output_type": "execute_result"
    }
   ],
   "source": [
    "# # c_maps\n",
    "from Bio import SeqIO\n",
    "fasta_seq = SeqIO.to_dict (SeqIO.parse(path + \"wanted_aa.fasta\", \"fasta\"))\n",
    "fasta_seq\n",
    "# for seq_record in SeqIO.parse(path + \"amino_acids.fasta\", \"fasta\"):\n",
    "#     x = seq_record\n",
    "#     print((x))\n",
    "#     break\n",
    "# x = SeqIO.parse(path + \"amino_acids.fasta\", \"fasta\")\n",
    "\n",
    "# np.save(path + 'contact_map_matrices.npy', c_maps)\n",
    "# c_maps['1a1x.pdb'].shape"
   ]
  },
  {
   "cell_type": "code",
   "execution_count": 56,
   "metadata": {},
   "outputs": [
    {
     "data": {
      "text/plain": [
       "OneHotEncoder(categorical_features=None, categories=None,\n",
       "       dtype=<class 'numpy.float64'>, handle_unknown='error',\n",
       "       n_values=None, sparse=True)"
      ]
     },
     "execution_count": 56,
     "metadata": {},
     "output_type": "execute_result"
    }
   ],
   "source": [
    "# fasta_sequences = SeqIO.to_dict(SeqIO.parse(path + \"wanted_aa.fasta\", \"fasta\"))\n",
    "# print(fasta_sequences.keys())\n",
    "# c_maps2 = np.load(path + 'contact_map_matrices.npy')[()]\n",
    "# aa_1_hot = np.load(path + 'amino_acids_1_hot.npy')[()]\n",
    "# c_maps2#[()][\"1a1x.pdb\"]"
   ]
  },
  {
   "cell_type": "code",
   "execution_count": 244,
   "metadata": {
    "collapsed": true
   },
   "outputs": [],
   "source": [
    "from Bio.PDB.Polypeptide import PPBuilder \n",
    "ppb=PPBuilder() \n",
    "file_name = \"1i24.pdb\"\n",
    "file_id = file_name.split('.')[0]\n",
    "\"\"\"\n",
    "1efd.pdb missing\n",
    "REMARK 465     ALA N    31                                                      \n",
    "REMARK 465     GLY N   294                                                      \n",
    "REMARK 465     LYS N   295                                                      \n",
    "REMARK 465     ALA N   296\n",
    "\n",
    "\"\"\"\n",
    "# get_contact_map(\"1ae9.pdb\", path, 12.0)\n",
    "\n",
    "structure_id = file_name.split('.')[0]\n",
    "filename = path + \"pdb_files/\" + file_name\n",
    "structure = parser.get_structure(structure_id, filename)\n",
    "model = structure[0]\n",
    "chain = list(model)[0]\n",
    "residues = list (chain)"
   ]
  },
  {
   "cell_type": "code",
   "execution_count": 225,
   "metadata": {},
   "outputs": [
    {
     "name": "stderr",
     "output_type": "stream",
     "text": [
      "/Users/jinli/anaconda3/lib/python3.6/site-packages/Bio/PDB/Atom.py:189: PDBConstructionWarning: Used element 'C' for Atom (name=CA) with given element None\n",
      "  warnings.warn(msg, PDBConstructionWarning)\n"
     ]
    }
   ],
   "source": [
    "from Bio.PDB.Atom import Atom\n",
    "from Bio.PDB.Residue import Residue\n",
    "new_residue = Residue((' ', -1, ' '), \"GLY\", '    ')\n",
    "new_atom = Atom(\n",
    "    name=\"CA\",\n",
    "    coord=np.array([15, 15, 15]),\n",
    "    bfactor=0,\n",
    "    occupancy=0,\n",
    "    altloc=' ',\n",
    "    fullname=\" CA \",\n",
    "    serial_number=0\n",
    ")\n",
    "# new_atom.name\n",
    "new_residue.add(new_atom)\n",
    "chain.add(new_residue)"
   ]
  },
  {
   "cell_type": "code",
   "execution_count": 266,
   "metadata": {
    "collapsed": true
   },
   "outputs": [],
   "source": [
    "residues = list(chain)\n",
    "residues.sort()\n",
    "# residues"
   ]
  },
  {
   "cell_type": "code",
   "execution_count": 102,
   "metadata": {
    "collapsed": true
   },
   "outputs": [],
   "source": [
    "from Bio import Align\n",
    "aligner = Align.PairwiseAligner()\n",
    "aligner.mode = \"global\"\n",
    "pdb_seq = ppb.build_peptides(structure)[0].get_sequence()\n",
    "fasta_seq = fasta_sequences[file_id].seq"
   ]
  },
  {
   "cell_type": "code",
   "execution_count": 81,
   "metadata": {},
   "outputs": [
    {
     "data": {
      "text/plain": [
       "Seq('GSRVMVIGGDGYCGWATALHLSKKNYEVCIVDNLVRRLFDHQLGLESLTPIASI...SMT', ProteinAlphabet())"
      ]
     },
     "execution_count": 81,
     "metadata": {},
     "output_type": "execute_result"
    }
   ],
   "source": [
    "pdb_seq#.alphabet#()"
   ]
  },
  {
   "cell_type": "code",
   "execution_count": 267,
   "metadata": {
    "collapsed": true
   },
   "outputs": [],
   "source": [
    "# alignments = aligner.align(fasta_seq, pdb_seq)\n",
    "\n",
    "# for alignment in sorted(alignments):\n",
    "#      print(\"Score = %.1f:\" % alignment.score)\n",
    "#      print(alignment)\n",
    "    "
   ]
  },
  {
   "cell_type": "code",
   "execution_count": 121,
   "metadata": {
    "collapsed": true
   },
   "outputs": [],
   "source": [
    "# # fasta_seq#.seq\n",
    "# # list(model)[0]\n",
    "# # list(structure)#.header\n",
    "# # sorted (alignments)#.paths\n",
    "\n",
    "# from Bio import pairwise2\n",
    "# from Bio.pairwise2 import format_alignment\n",
    "\n",
    "# alignments = pairwise2.align.localxx(fasta_seq, pdb_seq)\n",
    "# for alignment in alignments:\n",
    "#     print(format_alignment(*alignment))"
   ]
  },
  {
   "cell_type": "code",
   "execution_count": 19,
   "metadata": {},
   "outputs": [
    {
     "data": {
      "text/plain": [
       "393"
      ]
     },
     "execution_count": 19,
     "metadata": {},
     "output_type": "execute_result"
    }
   ],
   "source": [
    "# model = structure[0]\n",
    "residues_a = list(model)[0]\n",
    "only_aa = gcm.get_only_residues( list(model)[0])\n",
    "# residues_b = list(model[\"B\"])\n",
    "# len (residues)\n",
    "# residues\n",
    "# gcm.get_only_residues(model[\"A\"])\n",
    "\n",
    "len (gcm.get_only_residues(list(model)[0])) #+  len (gcm.get_only_residues(model[\"B\"]))"
   ]
  },
  {
   "cell_type": "code",
   "execution_count": 40,
   "metadata": {},
   "outputs": [
    {
     "name": "stdout",
     "output_type": "stream",
     "text": [
      "NO CA\n"
     ]
    }
   ],
   "source": [
    "# len (list(model['A']))\n",
    "# list(model['A'])[378].hetfield\n",
    "\n",
    "# list(model)\n",
    "# list(model[\"A\"])\n",
    "for i, res in enumerate (only_aa):\n",
    "    try: \n",
    "#         print (res[\"CA\"])\n",
    "        res[\"CA\"]\n",
    "#         res[\"N\"]\n",
    "    except KeyError:\n",
    "        print(\"NO CA\")\n",
    "        res[\"N\"]\n",
    "    except KeyError:\n",
    "#         print(res['N'])\n",
    "        print (i)"
   ]
  }
 ],
 "metadata": {
  "kernelspec": {
   "display_name": "Python 3",
   "language": "python",
   "name": "python3"
  },
  "language_info": {
   "codemirror_mode": {
    "name": "ipython",
    "version": 3
   },
   "file_extension": ".py",
   "mimetype": "text/x-python",
   "name": "python",
   "nbconvert_exporter": "python",
   "pygments_lexer": "ipython3",
   "version": "3.6.3"
  },
  "toc": {
   "base_numbering": 1,
   "nav_menu": {},
   "number_sections": true,
   "sideBar": true,
   "skip_h1_title": false,
   "title_cell": "Table of Contents",
   "title_sidebar": "Contents",
   "toc_cell": false,
   "toc_position": {},
   "toc_section_display": true,
   "toc_window_display": false
  }
 },
 "nbformat": 4,
 "nbformat_minor": 2
}
